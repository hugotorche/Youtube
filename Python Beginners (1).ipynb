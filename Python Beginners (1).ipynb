{
 "cells": [
  {
   "cell_type": "markdown",
   "metadata": {},
   "source": [
    "<h3> Python Tutorial for Beginners 1: Install and Setup for Mac and Windows (15min from the Corey Schafer channel)</h3>"
   ]
  },
  {
   "cell_type": "markdown",
   "metadata": {},
   "source": [
    "1) Installing Python \n",
    "\n",
    "2) Setting Python through terminal \n",
    "\n",
    "3) Running simple commands through terminal \n",
    "\n",
    "4) Get started with better text editors: Sublime Text, Atom, PyCharm\n",
    "\n",
    "### <u>For the rest of the playlist I will use Sublime Text and copy the final code of each session on Jupyter</u>"
   ]
  },
  {
   "cell_type": "markdown",
   "metadata": {},
   "source": [
    "<h3> Python Tutorial for Beginners 2: Strings - Working with Textual Data (20min from the Corey Schafer channel)</h3>"
   ]
  },
  {
   "cell_type": "markdown",
   "metadata": {},
   "source": [
    "Final code:"
   ]
  },
  {
   "cell_type": "code",
   "execution_count": 10,
   "metadata": {},
   "outputs": [
    {
     "name": "stdout",
     "output_type": "stream",
     "text": [
      "Help on method_descriptor:\n",
      "\n",
      "upper(self, /)\n",
      "    Return a copy of the string converted to uppercase.\n",
      "\n",
      "None\n",
      "Hello, Mickael. Welcome!\n",
      "24\n",
      "Hello, JOHN. Welcome!\n",
      "21\n",
      "3\n",
      "2\n"
     ]
    }
   ],
   "source": [
    "greeting = 'Hello'\n",
    "name = 'Mickael'\n",
    "\n",
    "print(help(str.upper))\n",
    "\n",
    "message = '{}, {}. Welcome!'.format(greeting,name)\n",
    "\n",
    "print(message)\n",
    "print(len(message))\n",
    "\n",
    "name = name.replace('Mickael', 'John')\n",
    "message = f'{greeting}, {name.upper()}. Welcome!'\n",
    "\n",
    "print(message)\n",
    "print(len(message))\n",
    "\n",
    "print(message.count('e'))\n",
    "print(message.find('ll'))"
   ]
  },
  {
   "cell_type": "markdown",
   "metadata": {},
   "source": [
    "<h3> Python Tutorial for Beginners 3: Integers and Floats - Working with Numeric Data (10min from the Corey Schafer channel)</h3>"
   ]
  },
  {
   "cell_type": "markdown",
   "metadata": {},
   "source": [
    "Final code:"
   ]
  },
  {
   "cell_type": "code",
   "execution_count": 11,
   "metadata": {},
   "outputs": [
    {
     "name": "stdout",
     "output_type": "stream",
     "text": [
      "False\n",
      "6\n"
     ]
    }
   ],
   "source": [
    "# Arithmetic Operators:\n",
    "# Addition:       3 + 2\n",
    "# Subtraction:    3 - 2\n",
    "# Multiplication: 3 * 2\n",
    "# Division:       3 / 2\n",
    "# Floor Division: 3 // 2\n",
    "# Exponent:       3 ** 2\n",
    "# Modulus:        3 % 2\n",
    "\n",
    "\n",
    "# Comparisons:\n",
    "# Equal:            3 == 2\n",
    "# Not Equal:        3 != 2\n",
    "# Greater Than:     3 > 2\n",
    "# Less Than:        3 < 2\n",
    "# Greater or Equal: 3 >= 2\n",
    "# Less or Equal:    3 <= 2\n",
    "\n",
    "num_1 = '3.5'\n",
    "num_2 = '2'\n",
    "\n",
    "num_1 = float(num_1)\n",
    "num_2 = int(num_2)\n",
    "\n",
    "print(num_1 <= num_2)\n",
    "print(round(num_1 + num_2))"
   ]
  },
  {
   "cell_type": "markdown",
   "metadata": {},
   "source": [
    "<h3> Python Tutorial for Beginners 4: Lists, Tuples, and Sets (30min from the Corey Schafer channel)</h3>"
   ]
  },
  {
   "cell_type": "markdown",
   "metadata": {},
   "source": [
    "Final code (1):"
   ]
  },
  {
   "cell_type": "code",
   "execution_count": 38,
   "metadata": {},
   "outputs": [
    {
     "name": "stdout",
     "output_type": "stream",
     "text": [
      "['Sport', 'Physics', 'History', 'CompSci', 'Art']\n",
      "Education\n",
      "['Art', 'CompSci', 'History', 'Physics', 'Sport']\n",
      "4\n",
      "False\n",
      "Sport, Physics, History, CompSci, Art\n"
     ]
    }
   ],
   "source": [
    "courses = ['History', 'Math', 'Physics', 'CompSci']\n",
    "\n",
    "courses.append('Sport')\n",
    "courses.insert(0, 'Art')\n",
    "\n",
    "new_course = ['Education']\n",
    "\n",
    "courses.extend(new_course)\n",
    "courses.remove('Math')\n",
    "\n",
    "popped = courses.pop()\n",
    "\n",
    "courses.sort(reverse=True)\n",
    "\n",
    "sorted_courses = sorted(courses)\n",
    "\n",
    "course_str = ', '.join(courses)\n",
    "\n",
    "print(courses)\n",
    "print(popped)\n",
    "print(sorted_courses)\n",
    "print(courses.index('Art'))\n",
    "print('Education' in courses)\n",
    "print(course_str)"
   ]
  },
  {
   "cell_type": "markdown",
   "metadata": {},
   "source": [
    "Final code (2):"
   ]
  },
  {
   "cell_type": "code",
   "execution_count": 39,
   "metadata": {},
   "outputs": [
    {
     "name": "stdout",
     "output_type": "stream",
     "text": [
      "{'Physics', 'CompSci', 'Math', 'History'}\n",
      "{'History', 'Math'}\n",
      "('History', 'Math', 'Physics', 'CompSci')\n",
      "('History', 'Math', 'Physics', 'CompSci')\n"
     ]
    },
    {
     "ename": "TypeError",
     "evalue": "'tuple' object does not support item assignment",
     "output_type": "error",
     "traceback": [
      "\u001b[0;31m---------------------------------------------------------------------------\u001b[0m",
      "\u001b[0;31mTypeError\u001b[0m                                 Traceback (most recent call last)",
      "\u001b[0;32m<ipython-input-39-649b2dc5f950>\u001b[0m in \u001b[0;36m<module>\u001b[0;34m\u001b[0m\n\u001b[1;32m     11\u001b[0m \u001b[0mprint\u001b[0m\u001b[0;34m(\u001b[0m\u001b[0mtuple_2\u001b[0m\u001b[0;34m)\u001b[0m\u001b[0;34m\u001b[0m\u001b[0;34m\u001b[0m\u001b[0m\n\u001b[1;32m     12\u001b[0m \u001b[0;34m\u001b[0m\u001b[0m\n\u001b[0;32m---> 13\u001b[0;31m \u001b[0mtuple_1\u001b[0m\u001b[0;34m[\u001b[0m\u001b[0;36m0\u001b[0m\u001b[0;34m]\u001b[0m \u001b[0;34m=\u001b[0m \u001b[0;34m'Art'\u001b[0m\u001b[0;34m\u001b[0m\u001b[0;34m\u001b[0m\u001b[0m\n\u001b[0m\u001b[1;32m     14\u001b[0m \u001b[0;34m\u001b[0m\u001b[0m\n\u001b[1;32m     15\u001b[0m \u001b[0mprint\u001b[0m\u001b[0;34m(\u001b[0m\u001b[0mtuple_1\u001b[0m\u001b[0;34m)\u001b[0m\u001b[0;34m\u001b[0m\u001b[0;34m\u001b[0m\u001b[0m\n",
      "\u001b[0;31mTypeError\u001b[0m: 'tuple' object does not support item assignment"
     ]
    }
   ],
   "source": [
    "set_courses = {'History', 'Math', 'Physics', 'CompSci'}\n",
    "set_courses_bis = {'History', 'Math', 'Art', 'Design'}\n",
    "\n",
    "print(set_courses)\n",
    "print(set_courses.intersection(set_courses_bis))\n",
    "\n",
    "tuple_1 = ('History', 'Math', 'Physics', 'CompSci')\n",
    "tuple_2 = tuple_1\n",
    "\n",
    "print(tuple_1)\n",
    "print(tuple_2)\n",
    "\n",
    "tuple_1[0] = 'Art'\n",
    "\n",
    "print(tuple_1)\n",
    "print(tuple_2)"
   ]
  },
  {
   "cell_type": "markdown",
   "metadata": {},
   "source": [
    "<h3> Python Tutorial for Beginners 5: Dictionaries - Working with Key-Value Pairs (10min from the Corey Schafer channel)</h3>"
   ]
  },
  {
   "cell_type": "markdown",
   "metadata": {},
   "source": [
    "Final code:"
   ]
  },
  {
   "cell_type": "code",
   "execution_count": 1,
   "metadata": {},
   "outputs": [
    {
     "name": "stdout",
     "output_type": "stream",
     "text": [
      "Jane\n",
      "Not Found\n",
      "3\n",
      "dict_keys(['name', 'phone', 'city'])\n",
      "dict_values(['Jane', '555-5555', 'Atlanta'])\n",
      "name Jane\n",
      "phone 555-5555\n",
      "city Atlanta\n"
     ]
    }
   ],
   "source": [
    "student = {'name': 'John', 'age': 24,\n",
    "           'courses': ['Math', 'CompSci']}\n",
    "\n",
    "student.update({'name': 'Jane', 'age': 26, 'phone': '555-5555'})\n",
    "\n",
    "del student['age']\n",
    "\n",
    "courses = student.pop('courses')\n",
    "\n",
    "student['city'] = 'Atlanta'\n",
    "\n",
    "print(student['name'])\n",
    "print(student.get('college', 'Not Found'))\n",
    "\n",
    "print(len(student))\n",
    "print(student.keys())\n",
    "print(student.values())\n",
    "\n",
    "for key, value in student.items():\n",
    "    print(key, value)"
   ]
  },
  {
   "cell_type": "markdown",
   "metadata": {},
   "source": [
    "<h3> Python Tutorial for Beginners 6: Conditionals and Booleans - If, Else, and Elif Statements (15min from the Corey Schafer channel) </h3>"
   ]
  },
  {
   "cell_type": "markdown",
   "metadata": {},
   "source": [
    "Final code:"
   ]
  },
  {
   "cell_type": "code",
   "execution_count": 3,
   "metadata": {},
   "outputs": [
    {
     "name": "stdout",
     "output_type": "stream",
     "text": [
      "Language is JavaScript\n",
      "---------------------------------------\n",
      "Bad Creds\n",
      "---------------------------------------\n",
      "True\n",
      "False\n",
      "---------------------------------------\n",
      "Evaluated to False\n"
     ]
    }
   ],
   "source": [
    "# Comparisons:\n",
    "# Equal:            ==\n",
    "# Not Equal:        !=\n",
    "# Greater Than:     >\n",
    "# Less Than:        <\n",
    "# Greater or Equal: >=\n",
    "# Less or Equal:    <=\n",
    "# Object Identity:  is\n",
    "\n",
    "language = 'JavaScript'\n",
    "\n",
    "if language == 'Python':\n",
    "    print('Language is Python')\n",
    "elif language == 'Java':\n",
    "    print('Language is Java')\n",
    "elif language == 'JavaScript':\n",
    "    print('Language is JavaScript')\n",
    "else:\n",
    "    print('No match')\n",
    "\n",
    "print('---------------------------------------')\n",
    "\n",
    "# and\n",
    "# or\n",
    "# not\n",
    "\n",
    "user = 'Admin'\n",
    "logged_in = False\n",
    "if user == 'Admin' and logged_in:\n",
    "    print('Welcome')\n",
    "else:\n",
    "    print('Bad Creds')\n",
    "\n",
    "print('---------------------------------------')\n",
    "\n",
    "a = [1, 2, 3]\n",
    "b = [1, 2, 3]\n",
    "\n",
    "print(a == b)\n",
    "print(a is b)  # check the ids\n",
    "\n",
    "print('---------------------------------------')\n",
    "\n",
    "# False Values:\n",
    "# False\n",
    "# None\n",
    "# Zero of any numeric type\n",
    "# Any empty sequence. For example, '', (), [].\n",
    "# Any empty mapping. For example, {}.\n",
    "\n",
    "condition = 0\n",
    "\n",
    "if condition:\n",
    "    print('Evaluated to True')\n",
    "else:\n",
    "    print('Evaluated to False')"
   ]
  }
 ],
 "metadata": {
  "kernelspec": {
   "display_name": "Python 3",
   "language": "python",
   "name": "python3"
  },
  "language_info": {
   "codemirror_mode": {
    "name": "ipython",
    "version": 3
   },
   "file_extension": ".py",
   "mimetype": "text/x-python",
   "name": "python",
   "nbconvert_exporter": "python",
   "pygments_lexer": "ipython3",
   "version": "3.8.5"
  }
 },
 "nbformat": 4,
 "nbformat_minor": 4
}
