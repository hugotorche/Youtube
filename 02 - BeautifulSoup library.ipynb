{
 "cells": [
  {
   "cell_type": "markdown",
   "metadata": {},
   "source": [
    "<h3> Webscraping : BeautifulSoup tutorial (30min from freeCodeCamp)</h3>"
   ]
  },
  {
   "cell_type": "code",
   "execution_count": 214,
   "metadata": {},
   "outputs": [],
   "source": [
    "import requests\n",
    "from bs4 import BeautifulSoup"
   ]
  },
  {
   "cell_type": "code",
   "execution_count": 215,
   "metadata": {},
   "outputs": [],
   "source": [
    "result = requests.get(\"https://www.google.com/\")"
   ]
  },
  {
   "cell_type": "code",
   "execution_count": 216,
   "metadata": {},
   "outputs": [
    {
     "name": "stdout",
     "output_type": "stream",
     "text": [
      "200\n"
     ]
    }
   ],
   "source": [
    "print(result.status_code)"
   ]
  },
  {
   "cell_type": "code",
   "execution_count": 217,
   "metadata": {},
   "outputs": [
    {
     "name": "stdout",
     "output_type": "stream",
     "text": [
      "{'Date': 'Mon, 26 Apr 2021 13:19:28 GMT', 'Expires': '-1', 'Cache-Control': 'private, max-age=0', 'Content-Type': 'text/html; charset=ISO-8859-1', 'P3P': 'CP=\"This is not a P3P policy! See g.co/p3phelp for more info.\"', 'Content-Encoding': 'gzip', 'Server': 'gws', 'X-XSS-Protection': '0', 'X-Frame-Options': 'SAMEORIGIN', 'Set-Cookie': 'CONSENT=PENDING+672; expires=Fri, 01-Jan-2038 00:00:00 GMT; path=/; domain=.google.com', 'Alt-Svc': 'h3-29=\":443\"; ma=2592000,h3-T051=\":443\"; ma=2592000,h3-Q050=\":443\"; ma=2592000,h3-Q046=\":443\"; ma=2592000,h3-Q043=\":443\"; ma=2592000,quic=\":443\"; ma=2592000; v=\"46,43\"', 'Transfer-Encoding': 'chunked'}\n"
     ]
    }
   ],
   "source": [
    "print(result.headers)"
   ]
  },
  {
   "cell_type": "code",
   "execution_count": 218,
   "metadata": {
    "collapsed": true,
    "jupyter": {
     "outputs_hidden": true
    }
   },
   "outputs": [
    {
     "name": "stdout",
     "output_type": "stream",
     "text": [
      "b'<!doctype html><html itemscope=\"\" itemtype=\"http://schema.org/WebPage\" lang=\"fr\"><head><meta content=\"text/html; charset=UTF-8\" http-equiv=\"Content-Type\"><meta content=\"/images/branding/googleg/1x/googleg_standard_color_128dp.png\" itemprop=\"image\"><title>Google</title><script nonce=\"avk4eDTS3dc21Tc8deNXcw==\">(function(){window.google={kEI:\\'4L2GYKLoMOedlwT-6b-wBA\\',kEXPI:\\'0,1302536,56873,954,5104,207,4804,2316,383,246,5,1354,5250,6385,1116131,1233,1196543,506,28,16,328941,51223,16115,19398,9286,9188,8384,4859,1361,9290,3024,4744,12841,4020,978,13228,2054,1793,4192,6430,7432,7095,4517,2778,919,2277,8,4391,1277,1042,1170,530,149,1103,840,517,1466,56,158,4100,109,3405,606,2023,1777,520,1704,2567,326,1286,460,8327,3227,419,2426,7,12354,5096,599,6940,338,3747,1181,108,3407,908,2,3555,2398,7467,3277,3,576,1835,8,2542,2074,149,5990,7985,1,1,2,1253,275,2304,1236,5803,1791,2893,459,1555,4,11497,2110,1714,1297,1753,2658,491,3751,519,912,565,1119,30,3854,1762,1260,1253,3285,2214,2305,638,1494,5586,10535,665,2145,3622,2590,1863,1091,1140,17,2425,698,4,908,3,1893,4,1644,1,1042,2,3130,2382,3279,4875,1814,38,245,268,645,5991,1260,1194,2,10,2528,1760,401,31,2859,1652,829,2,1394,1525,18,796,2,465,844,702,5,164,2,488,1916,653,2548,2701,296,25,402,360,450,5,31,5,61,471,681,1023,2,2946,417,409,2,41,1,1,18,618,254,204,456,354,1,1,1,592,505,922,3,80,11,32,1682,330,286,1275,1264,66,282,547,13,1913,87,406,1576,3,1054,864,200,171,55,2,335,506,2,1,223,2,156,1719,51,430,341,711,3,335,526,54,210,27,16,7,6,37,242,1758,194,1421,988,274,2,188,339,697,5657395,3905,99,127,63,30,8797692,882,444,1,2,80,1,1796,1,9,2,2551,1,748,141,795,563,1,4265,1,1,2,1331,3299,843,1,2608,155,17,13,72,139,4,2,20,2,169,13,19,46,5,39,96,73,4,47,160,4,4,4,4,4,4,8,4,4,4,24,68,128,29,2,2,1,2,1,2,2,7,4,1,2,4,2,42,17,2,7,15,9,6,39,50,6,3,9,8,12,22,25,26,17,23955918,149,2773670,1236454,268,27382,2,830,2318\\',kBL:\\'TX1J\\'};google.sn=\\'webhp\\';google.kHL=\\'fr\\';})();(function(){\\nvar f,h=[];function k(a){for(var b;a&&(!a.getAttribute||!(b=a.getAttribute(\"eid\")));)a=a.parentNode;return b||f}function l(a){for(var b=null;a&&(!a.getAttribute||!(b=a.getAttribute(\"leid\")));)a=a.parentNode;return b}\\nfunction m(a,b,c,d,g){var e=\"\";c||-1!=b.search(\"&ei=\")||(e=\"&ei=\"+k(d),-1==b.search(\"&lei=\")&&(d=l(d))&&(e+=\"&lei=\"+d));d=\"\";!c&&window._cshid&&-1==b.search(\"&cshid=\")&&\"slh\"!=a&&(d=\"&cshid=\"+window._cshid);c=c||\"/\"+(g||\"gen_204\")+\"?atyp=i&ct=\"+a+\"&cad=\"+b+e+\"&zx=\"+Date.now()+d;/^http:/i.test(c)&&\"https:\"==window.location.protocol&&(google.ml&&google.ml(Error(\"a\"),!1,{src:c,glmm:1}),c=\"\");return c};f=google.kEI;google.getEI=k;google.getLEI=l;google.ml=function(){return null};google.log=function(a,b,c,d,g){if(c=m(a,b,c,d,g)){a=new Image;var e=h.length;h[e]=a;a.onerror=a.onload=a.onabort=function(){delete h[e]};a.src=c}};google.logUrl=m;}).call(this);(function(){google.y={};google.sy=[];google.x=function(a,b){if(a)var c=a.id;else{do c=Math.random();while(google.y[c])}google.y[c]=[a,b];return!1};google.sx=function(a){google.sy.push(a)};google.lm=[];google.plm=function(a){google.lm.push.apply(google.lm,a)};google.lq=[];google.load=function(a,b,c){google.lq.push([[a],b,c])};google.loadAll=function(a,b){google.lq.push([a,b])};google.bx=!1;google.lx=function(){};}).call(this);google.f={};(function(){\\ndocument.documentElement.addEventListener(\"submit\",function(b){var a;if(a=b.target){var c=a.getAttribute(\"data-submitfalse\");a=\"1\"==c||\"q\"==c&&!a.elements.q.value?!0:!1}else a=!1;a&&(b.preventDefault(),b.stopPropagation())},!0);document.documentElement.addEventListener(\"click\",function(b){var a;a:{for(a=b.target;a&&a!=document.documentElement;a=a.parentElement)if(\"A\"==a.tagName){a=\"1\"==a.getAttribute(\"data-nohref\");break a}a=!1}a&&b.preventDefault()},!0);}).call(this);</script><style>#gbar,#guser{font-size:13px;padding-top:1px !important;}#gbar{height:22px}#guser{padding-bottom:7px !important;text-align:right}.gbh,.gbd{border-top:1px solid #c9d7f1;font-size:1px}.gbh{height:0;position:absolute;top:24px;width:100%}@media all{.gb1{height:22px;margin-right:.5em;vertical-align:top}#gbar{float:left}}a.gb1,a.gb4{text-decoration:underline !important}a.gb1,a.gb4{color:#00c !important}.gbi .gb4{color:#dd8e27 !important}.gbf .gb4{color:#900 !important}\\n</style><style>body,td,a,p,.h{font-family:arial,sans-serif}body{margin:0;overflow-y:scroll}#gog{padding:3px 8px 0}td{line-height:.8em}.gac_m td{line-height:17px}form{margin-bottom:20px}.h{color:#1558d6}em{font-weight:bold;font-style:normal}.lst{height:25px;width:496px}.gsfi,.lst{font:18px arial,sans-serif}.gsfs{font:17px arial,sans-serif}.ds{display:inline-box;display:inline-block;margin:3px 0 4px;margin-left:4px}input{font-family:inherit}body{background:#fff;color:#000}a{color:#4b11a8;text-decoration:none}a:hover,a:active{text-decoration:underline}.fl a{color:#1558d6}a:visited{color:#4b11a8}.sblc{padding-top:5px}.sblc a{display:block;margin:2px 0;margin-left:13px;font-size:11px}.lsbb{background:#f8f9fa;border:solid 1px;border-color:#dadce0 #70757a #70757a #dadce0;height:30px}.lsbb{display:block}#WqQANb a{display:inline-block;margin:0 12px}.lsb{background:url(/images/nav_logo229.png) 0 -261px repeat-x;border:none;color:#000;cursor:pointer;height:30px;margin:0;outline:0;font:15px arial,sans-serif;vertical-align:top}.lsb:active{background:#dadce0}.lst:focus{outline:none}</style><script nonce=\"avk4eDTS3dc21Tc8deNXcw==\"></script></head><body bgcolor=\"#fff\"><script nonce=\"avk4eDTS3dc21Tc8deNXcw==\">(function(){var src=\\'/images/nav_logo229.png\\';var iesg=false;document.body.onload = function(){window.n && window.n();if (document.images){new Image().src=src;}\\nif (!iesg){document.f&&document.f.q.focus();document.gbqf&&document.gbqf.q.focus();}\\n}\\n})();</script><div id=\"mngb\"><div id=gbar><nobr><b class=gb1>Recherche</b> <a class=gb1 href=\"https://www.google.fr/imghp?hl=fr&tab=wi\">Images</a> <a class=gb1 href=\"https://maps.google.fr/maps?hl=fr&tab=wl\">Maps</a> <a class=gb1 href=\"https://play.google.com/?hl=fr&tab=w8\">Play</a> <a class=gb1 href=\"https://www.youtube.com/?gl=FR&tab=w1\">YouTube</a> <a class=gb1 href=\"https://news.google.com/?tab=wn\">Actualit\\xe9s</a> <a class=gb1 href=\"https://mail.google.com/mail/?tab=wm\">Gmail</a> <a class=gb1 href=\"https://drive.google.com/?tab=wo\">Drive</a> <a class=gb1 style=\"text-decoration:none\" href=\"https://www.google.fr/intl/fr/about/products?tab=wh\"><u>Plus</u> &raquo;</a></nobr></div><div id=guser width=100%><nobr><span id=gbn class=gbi></span><span id=gbf class=gbf></span><span id=gbe></span><a href=\"http://www.google.fr/history/optout?hl=fr\" class=gb4>Historique Web</a> | <a  href=\"/preferences?hl=fr\" class=gb4>Param\\xe8tres</a> | <a target=_top id=gb_70 href=\"https://accounts.google.com/ServiceLogin?hl=fr&passive=true&continue=https://www.google.com/&ec=GAZAAQ\" class=gb4>Connexion</a></nobr></div><div class=gbh style=left:0></div><div class=gbh style=right:0></div></div><center><br clear=\"all\" id=\"lgpd\"><div id=\"lga\"><img alt=\"Google\" height=\"92\" src=\"/images/branding/googlelogo/1x/googlelogo_white_background_color_272x92dp.png\" style=\"padding:28px 0 14px\" width=\"272\" id=\"hplogo\"><br><br></div><form action=\"/search\" name=\"f\"><table cellpadding=\"0\" cellspacing=\"0\"><tr valign=\"top\"><td width=\"25%\">&nbsp;</td><td align=\"center\" nowrap=\"\"><input name=\"ie\" value=\"ISO-8859-1\" type=\"hidden\"><input value=\"fr\" name=\"hl\" type=\"hidden\"><input name=\"source\" type=\"hidden\" value=\"hp\"><input name=\"biw\" type=\"hidden\"><input name=\"bih\" type=\"hidden\"><div class=\"ds\" style=\"height:32px;margin:4px 0\"><input class=\"lst\" style=\"margin:0;padding:5px 8px 0 6px;vertical-align:top;color:#000\" autocomplete=\"off\" value=\"\" title=\"Recherche Google\" maxlength=\"2048\" name=\"q\" size=\"57\"></div><br style=\"line-height:0\"><span class=\"ds\"><span class=\"lsbb\"><input class=\"lsb\" value=\"Recherche Google\" name=\"btnG\" type=\"submit\"></span></span><span class=\"ds\"><span class=\"lsbb\"><input class=\"lsb\" id=\"tsuid1\" value=\"J\\'ai de la chance\" name=\"btnI\" type=\"submit\"><script nonce=\"avk4eDTS3dc21Tc8deNXcw==\">(function(){var id=\\'tsuid1\\';document.getElementById(id).onclick = function(){if (this.form.q.value){this.checked = 1;if (this.form.iflsig)this.form.iflsig.disabled = false;}\\nelse top.location=\\'/doodles/\\';};})();</script><input value=\"AINFCbYAAAAAYIbL8MuZO5PfUEArUWZ_KutbGmtdDGZM\" name=\"iflsig\" type=\"hidden\"></span></span></td><td class=\"fl sblc\" align=\"left\" nowrap=\"\" width=\"25%\"><a href=\"/advanced_search?hl=fr&amp;authuser=0\">Recherche avanc\\xe9e</a></td></tr></table><input id=\"gbv\" name=\"gbv\" type=\"hidden\" value=\"1\"><script nonce=\"avk4eDTS3dc21Tc8deNXcw==\">(function(){var a,b=\"1\";if(document&&document.getElementById)if(\"undefined\"!=typeof XMLHttpRequest)b=\"2\";else if(\"undefined\"!=typeof ActiveXObject){var c,d,e=[\"MSXML2.XMLHTTP.6.0\",\"MSXML2.XMLHTTP.3.0\",\"MSXML2.XMLHTTP\",\"Microsoft.XMLHTTP\"];for(c=0;d=e[c++];)try{new ActiveXObject(d),b=\"2\"}catch(h){}}a=b;if(\"2\"==a&&-1==location.search.indexOf(\"&gbv=2\")){var f=google.gbvu,g=document.getElementById(\"gbv\");g&&(g.value=a);f&&window.setTimeout(function(){location.href=f},0)};}).call(this);</script></form><div id=\"gac_scont\"></div><div style=\"font-size:83%;min-height:3.5em\"><br></div><span id=\"footer\"><div style=\"font-size:10pt\"><div style=\"margin:19px auto;text-align:center\" id=\"WqQANb\"><a href=\"/intl/fr/ads/\">Solutions publicitaires</a><a href=\"/services/\">Solutions d\\'entreprise</a><a href=\"/intl/fr/about.html\">\\xc0 propos de Google</a><a href=\"https://www.google.com/setprefdomain?prefdom=FR&amp;prev=https://www.google.fr/&amp;sig=K_pWDQGatlPp3DK9r-k0WS6Ox59po%3D\">Google.fr</a></div></div><p style=\"font-size:8pt;color:#70757a\">&copy; 2021 - <a href=\"/intl/fr/policies/privacy/\">Confidentialit\\xe9</a> - <a href=\"/intl/fr/policies/terms/\">Conditions</a></p></span></center><script nonce=\"avk4eDTS3dc21Tc8deNXcw==\">(function(){window.google.cdo={height:0,width:0};(function(){\\nvar a=window.innerWidth,b=window.innerHeight;if(!a||!b){var c=window.document,d=\"CSS1Compat\"==c.compatMode?c.documentElement:c.body;a=d.clientWidth;b=d.clientHeight}a&&b&&(a!=google.cdo.width||b!=google.cdo.height)&&google.log(\"\",\"\",\"/client_204?&atyp=i&biw=\"+a+\"&bih=\"+b+\"&ei=\"+google.kEI);}).call(this);})();</script> <script nonce=\"avk4eDTS3dc21Tc8deNXcw==\">(function(){google.xjs={ck:\\'xjs.hp.v1cE8KxQzDU.L.X.O\\',cs:\\'ACT90oHfPMlP0PqA6Zs2UPf75fChU2vNVw\\',excm:[]};})();</script>  <script nonce=\"avk4eDTS3dc21Tc8deNXcw==\">(function(){var u=\\'/xjs/_/js/k\\\\x3dxjs.hp.en.hft5YiRvuOo.O/m\\\\x3dsb_he,d/am\\\\x3dAHgCHA/d\\\\x3d1/ed\\\\x3d1/rs\\\\x3dACT90oHoygcg7T8yDaxcTt9uG3qEdWg5dw\\';\\nvar d=this||self,e=/^[\\\\w+/_-]+[=]{0,2}$/,f=null,g=function(a){return(a=a.querySelector&&a.querySelector(\"script[nonce]\"))&&(a=a.nonce||a.getAttribute(\"nonce\"))&&e.test(a)?a:\"\"},h=function(a){return a};var l;var n=function(a,b){this.g=b===m?a:\"\"};n.prototype.toString=function(){return this.g+\"\"};var m={};function p(){var a=u;google.lx=function(){q(a);google.lx=function(){}};google.bx||google.lx()}\\nfunction q(a){var b=document;var c=\"SCRIPT\";\"application/xhtml+xml\"===b.contentType&&(c=c.toLowerCase());c=b.createElement(c);if(void 0===l){b=null;var k=d.trustedTypes;if(k&&k.createPolicy){try{b=k.createPolicy(\"goog#html\",{createHTML:h,createScript:h,createScriptURL:h})}catch(r){d.console&&d.console.error(r.message)}l=b}else l=b}a=(b=l)?b.createScriptURL(a):a;a=new n(a,m);c.src=a instanceof n&&a.constructor===n?a.g:\"type_error:TrustedResourceUrl\";(a=c.ownerDocument&&c.ownerDocument.defaultView)&&\\na!=d?a=g(a.document):(null===f&&(f=g(d.document)),a=f);a&&c.setAttribute(\"nonce\",a);google.timers&&google.timers.load&&google.tick&&google.tick(\"load\",\"xjsls\");document.body.appendChild(c);google.psa=!0};setTimeout(function(){p()},0);})();(function(){window.google.xjsu=\\'/xjs/_/js/k\\\\x3dxjs.hp.en.hft5YiRvuOo.O/m\\\\x3dsb_he,d/am\\\\x3dAHgCHA/d\\\\x3d1/ed\\\\x3d1/rs\\\\x3dACT90oHoygcg7T8yDaxcTt9uG3qEdWg5dw\\';})();function _DumpException(e){throw e;}\\nfunction _F_installCss(c){}\\n(function(){google.jl={blt:\\'none\\',dw:false,em:[],emtn:0,ine:false,lls:\\'default\\',pdt:0,snet:true,uwp:true};})();(function(){var pmc=\\'{\\\\x22d\\\\x22:{},\\\\x22sb_he\\\\x22:{\\\\x22agen\\\\x22:true,\\\\x22cgen\\\\x22:true,\\\\x22client\\\\x22:\\\\x22heirloom-hp\\\\x22,\\\\x22dh\\\\x22:true,\\\\x22dhqt\\\\x22:true,\\\\x22ds\\\\x22:\\\\x22\\\\x22,\\\\x22ffql\\\\x22:\\\\x22fr\\\\x22,\\\\x22fl\\\\x22:true,\\\\x22host\\\\x22:\\\\x22google.com\\\\x22,\\\\x22isbh\\\\x22:28,\\\\x22jsonp\\\\x22:true,\\\\x22lm\\\\x22:true,\\\\x22msgs\\\\x22:{\\\\x22cibl\\\\x22:\\\\x22Effacer la recherche\\\\x22,\\\\x22dym\\\\x22:\\\\x22Essayez avec cette orthographe :\\\\x22,\\\\x22lcky\\\\x22:\\\\x22J\\\\\\\\u0026#39;ai de la chance\\\\x22,\\\\x22lml\\\\x22:\\\\x22En savoir plus\\\\x22,\\\\x22oskt\\\\x22:\\\\x22Outils de saisie\\\\x22,\\\\x22psrc\\\\x22:\\\\x22Cette suggestion a bien \\xe9t\\xe9 supprim\\xe9e de votre \\\\\\\\u003Ca href\\\\x3d\\\\\\\\\\\\x22/history\\\\\\\\\\\\x22\\\\\\\\u003Ehistorique Web\\\\\\\\u003C/a\\\\\\\\u003E.\\\\x22,\\\\x22psrl\\\\x22:\\\\x22Supprimer\\\\x22,\\\\x22sbit\\\\x22:\\\\x22Recherche par image\\\\x22,\\\\x22srch\\\\x22:\\\\x22Recherche Google\\\\x22},\\\\x22nrft\\\\x22:false,\\\\x22ovr\\\\x22:{},\\\\x22pq\\\\x22:\\\\x22\\\\x22,\\\\x22refpd\\\\x22:true,\\\\x22rfs\\\\x22:[],\\\\x22sbas\\\\x22:\\\\x220 3px 8px 0 rgba(0,0,0,0.2),0 0 0 1px rgba(0,0,0,0.08)\\\\x22,\\\\x22sbpl\\\\x22:16,\\\\x22sbpr\\\\x22:16,\\\\x22scd\\\\x22:10,\\\\x22stok\\\\x22:\\\\x22uZD7Op0oqRs0IFqP11ChjKQSLgg\\\\x22,\\\\x22uhde\\\\x22:false}}\\';google.pmc=JSON.parse(pmc);})();</script>        </body></html>'\n"
     ]
    }
   ],
   "source": [
    "src = result.content\n",
    "print(src)"
   ]
  },
  {
   "cell_type": "code",
   "execution_count": 219,
   "metadata": {
    "collapsed": true,
    "jupyter": {
     "outputs_hidden": true
    }
   },
   "outputs": [
    {
     "name": "stdout",
     "output_type": "stream",
     "text": [
      "<!DOCTYPE html>\n",
      "<html itemscope=\"\" itemtype=\"http://schema.org/WebPage\" lang=\"fr\"><head><meta content=\"text/html; charset=utf-8\" http-equiv=\"Content-Type\"/><meta content=\"/images/branding/googleg/1x/googleg_standard_color_128dp.png\" itemprop=\"image\"/><title>Google</title><script nonce=\"avk4eDTS3dc21Tc8deNXcw==\">(function(){window.google={kEI:'4L2GYKLoMOedlwT-6b-wBA',kEXPI:'0,1302536,56873,954,5104,207,4804,2316,383,246,5,1354,5250,6385,1116131,1233,1196543,506,28,16,328941,51223,16115,19398,9286,9188,8384,4859,1361,9290,3024,4744,12841,4020,978,13228,2054,1793,4192,6430,7432,7095,4517,2778,919,2277,8,4391,1277,1042,1170,530,149,1103,840,517,1466,56,158,4100,109,3405,606,2023,1777,520,1704,2567,326,1286,460,8327,3227,419,2426,7,12354,5096,599,6940,338,3747,1181,108,3407,908,2,3555,2398,7467,3277,3,576,1835,8,2542,2074,149,5990,7985,1,1,2,1253,275,2304,1236,5803,1791,2893,459,1555,4,11497,2110,1714,1297,1753,2658,491,3751,519,912,565,1119,30,3854,1762,1260,1253,3285,2214,2305,638,1494,5586,10535,665,2145,3622,2590,1863,1091,1140,17,2425,698,4,908,3,1893,4,1644,1,1042,2,3130,2382,3279,4875,1814,38,245,268,645,5991,1260,1194,2,10,2528,1760,401,31,2859,1652,829,2,1394,1525,18,796,2,465,844,702,5,164,2,488,1916,653,2548,2701,296,25,402,360,450,5,31,5,61,471,681,1023,2,2946,417,409,2,41,1,1,18,618,254,204,456,354,1,1,1,592,505,922,3,80,11,32,1682,330,286,1275,1264,66,282,547,13,1913,87,406,1576,3,1054,864,200,171,55,2,335,506,2,1,223,2,156,1719,51,430,341,711,3,335,526,54,210,27,16,7,6,37,242,1758,194,1421,988,274,2,188,339,697,5657395,3905,99,127,63,30,8797692,882,444,1,2,80,1,1796,1,9,2,2551,1,748,141,795,563,1,4265,1,1,2,1331,3299,843,1,2608,155,17,13,72,139,4,2,20,2,169,13,19,46,5,39,96,73,4,47,160,4,4,4,4,4,4,8,4,4,4,24,68,128,29,2,2,1,2,1,2,2,7,4,1,2,4,2,42,17,2,7,15,9,6,39,50,6,3,9,8,12,22,25,26,17,23955918,149,2773670,1236454,268,27382,2,830,2318',kBL:'TX1J'};google.sn='webhp';google.kHL='fr';})();(function(){\n",
      "var f,h=[];function k(a){for(var b;a&&(!a.getAttribute||!(b=a.getAttribute(\"eid\")));)a=a.parentNode;return b||f}function l(a){for(var b=null;a&&(!a.getAttribute||!(b=a.getAttribute(\"leid\")));)a=a.parentNode;return b}\n",
      "function m(a,b,c,d,g){var e=\"\";c||-1!=b.search(\"&ei=\")||(e=\"&ei=\"+k(d),-1==b.search(\"&lei=\")&&(d=l(d))&&(e+=\"&lei=\"+d));d=\"\";!c&&window._cshid&&-1==b.search(\"&cshid=\")&&\"slh\"!=a&&(d=\"&cshid=\"+window._cshid);c=c||\"/\"+(g||\"gen_204\")+\"?atyp=i&ct=\"+a+\"&cad=\"+b+e+\"&zx=\"+Date.now()+d;/^http:/i.test(c)&&\"https:\"==window.location.protocol&&(google.ml&&google.ml(Error(\"a\"),!1,{src:c,glmm:1}),c=\"\");return c};f=google.kEI;google.getEI=k;google.getLEI=l;google.ml=function(){return null};google.log=function(a,b,c,d,g){if(c=m(a,b,c,d,g)){a=new Image;var e=h.length;h[e]=a;a.onerror=a.onload=a.onabort=function(){delete h[e]};a.src=c}};google.logUrl=m;}).call(this);(function(){google.y={};google.sy=[];google.x=function(a,b){if(a)var c=a.id;else{do c=Math.random();while(google.y[c])}google.y[c]=[a,b];return!1};google.sx=function(a){google.sy.push(a)};google.lm=[];google.plm=function(a){google.lm.push.apply(google.lm,a)};google.lq=[];google.load=function(a,b,c){google.lq.push([[a],b,c])};google.loadAll=function(a,b){google.lq.push([a,b])};google.bx=!1;google.lx=function(){};}).call(this);google.f={};(function(){\n",
      "document.documentElement.addEventListener(\"submit\",function(b){var a;if(a=b.target){var c=a.getAttribute(\"data-submitfalse\");a=\"1\"==c||\"q\"==c&&!a.elements.q.value?!0:!1}else a=!1;a&&(b.preventDefault(),b.stopPropagation())},!0);document.documentElement.addEventListener(\"click\",function(b){var a;a:{for(a=b.target;a&&a!=document.documentElement;a=a.parentElement)if(\"A\"==a.tagName){a=\"1\"==a.getAttribute(\"data-nohref\");break a}a=!1}a&&b.preventDefault()},!0);}).call(this);</script><style>#gbar,#guser{font-size:13px;padding-top:1px !important;}#gbar{height:22px}#guser{padding-bottom:7px !important;text-align:right}.gbh,.gbd{border-top:1px solid #c9d7f1;font-size:1px}.gbh{height:0;position:absolute;top:24px;width:100%}@media all{.gb1{height:22px;margin-right:.5em;vertical-align:top}#gbar{float:left}}a.gb1,a.gb4{text-decoration:underline !important}a.gb1,a.gb4{color:#00c !important}.gbi .gb4{color:#dd8e27 !important}.gbf .gb4{color:#900 !important}\n",
      "</style><style>body,td,a,p,.h{font-family:arial,sans-serif}body{margin:0;overflow-y:scroll}#gog{padding:3px 8px 0}td{line-height:.8em}.gac_m td{line-height:17px}form{margin-bottom:20px}.h{color:#1558d6}em{font-weight:bold;font-style:normal}.lst{height:25px;width:496px}.gsfi,.lst{font:18px arial,sans-serif}.gsfs{font:17px arial,sans-serif}.ds{display:inline-box;display:inline-block;margin:3px 0 4px;margin-left:4px}input{font-family:inherit}body{background:#fff;color:#000}a{color:#4b11a8;text-decoration:none}a:hover,a:active{text-decoration:underline}.fl a{color:#1558d6}a:visited{color:#4b11a8}.sblc{padding-top:5px}.sblc a{display:block;margin:2px 0;margin-left:13px;font-size:11px}.lsbb{background:#f8f9fa;border:solid 1px;border-color:#dadce0 #70757a #70757a #dadce0;height:30px}.lsbb{display:block}#WqQANb a{display:inline-block;margin:0 12px}.lsb{background:url(/images/nav_logo229.png) 0 -261px repeat-x;border:none;color:#000;cursor:pointer;height:30px;margin:0;outline:0;font:15px arial,sans-serif;vertical-align:top}.lsb:active{background:#dadce0}.lst:focus{outline:none}</style><script nonce=\"avk4eDTS3dc21Tc8deNXcw==\"></script></head><body bgcolor=\"#fff\"><script nonce=\"avk4eDTS3dc21Tc8deNXcw==\">(function(){var src='/images/nav_logo229.png';var iesg=false;document.body.onload = function(){window.n && window.n();if (document.images){new Image().src=src;}\n",
      "if (!iesg){document.f&&document.f.q.focus();document.gbqf&&document.gbqf.q.focus();}\n",
      "}\n",
      "})();</script><div id=\"mngb\"><div id=\"gbar\"><nobr><b class=\"gb1\">Recherche</b> <a class=\"gb1\" href=\"https://www.google.fr/imghp?hl=fr&amp;tab=wi\">Images</a> <a class=\"gb1\" href=\"https://maps.google.fr/maps?hl=fr&amp;tab=wl\">Maps</a> <a class=\"gb1\" href=\"https://play.google.com/?hl=fr&amp;tab=w8\">Play</a> <a class=\"gb1\" href=\"https://www.youtube.com/?gl=FR&amp;tab=w1\">YouTube</a> <a class=\"gb1\" href=\"https://news.google.com/?tab=wn\">Actualit�s</a> <a class=\"gb1\" href=\"https://mail.google.com/mail/?tab=wm\">Gmail</a> <a class=\"gb1\" href=\"https://drive.google.com/?tab=wo\">Drive</a> <a class=\"gb1\" href=\"https://www.google.fr/intl/fr/about/products?tab=wh\" style=\"text-decoration:none\"><u>Plus</u> »</a></nobr></div><div id=\"guser\" width=\"100%\"><nobr><span class=\"gbi\" id=\"gbn\"></span><span class=\"gbf\" id=\"gbf\"></span><span id=\"gbe\"></span><a class=\"gb4\" href=\"http://www.google.fr/history/optout?hl=fr\">Historique Web</a> | <a class=\"gb4\" href=\"/preferences?hl=fr\">Param�tres</a> | <a class=\"gb4\" href=\"https://accounts.google.com/ServiceLogin?hl=fr&amp;passive=true&amp;continue=https://www.google.com/&amp;ec=GAZAAQ\" id=\"gb_70\" target=\"_top\">Connexion</a></nobr></div><div class=\"gbh\" style=\"left:0\"></div><div class=\"gbh\" style=\"right:0\"></div></div><center><br clear=\"all\" id=\"lgpd\"/><div id=\"lga\"><img alt=\"Google\" height=\"92\" id=\"hplogo\" src=\"/images/branding/googlelogo/1x/googlelogo_white_background_color_272x92dp.png\" style=\"padding:28px 0 14px\" width=\"272\"/><br/><br/></div><form action=\"/search\" name=\"f\"><table cellpadding=\"0\" cellspacing=\"0\"><tbody><tr valign=\"top\"><td width=\"25%\"> </td><td align=\"center\" nowrap=\"\"><input name=\"ie\" type=\"hidden\" value=\"ISO-8859-1\"/><input name=\"hl\" type=\"hidden\" value=\"fr\"/><input name=\"source\" type=\"hidden\" value=\"hp\"/><input name=\"biw\" type=\"hidden\"/><input name=\"bih\" type=\"hidden\"/><div class=\"ds\" style=\"height:32px;margin:4px 0\"><input autocomplete=\"off\" class=\"lst\" maxlength=\"2048\" name=\"q\" size=\"57\" style=\"margin:0;padding:5px 8px 0 6px;vertical-align:top;color:#000\" title=\"Recherche Google\" value=\"\"/></div><br style=\"line-height:0\"/><span class=\"ds\"><span class=\"lsbb\"><input class=\"lsb\" name=\"btnG\" type=\"submit\" value=\"Recherche Google\"/></span></span><span class=\"ds\"><span class=\"lsbb\"><input class=\"lsb\" id=\"tsuid1\" name=\"btnI\" type=\"submit\" value=\"J'ai de la chance\"/><script nonce=\"avk4eDTS3dc21Tc8deNXcw==\">(function(){var id='tsuid1';document.getElementById(id).onclick = function(){if (this.form.q.value){this.checked = 1;if (this.form.iflsig)this.form.iflsig.disabled = false;}\n",
      "else top.location='/doodles/';};})();</script><input name=\"iflsig\" type=\"hidden\" value=\"AINFCbYAAAAAYIbL8MuZO5PfUEArUWZ_KutbGmtdDGZM\"/></span></span></td><td align=\"left\" class=\"fl sblc\" nowrap=\"\" width=\"25%\"><a href=\"/advanced_search?hl=fr&amp;authuser=0\">Recherche avanc�e</a></td></tr></tbody></table><input id=\"gbv\" name=\"gbv\" type=\"hidden\" value=\"1\"/><script nonce=\"avk4eDTS3dc21Tc8deNXcw==\">(function(){var a,b=\"1\";if(document&&document.getElementById)if(\"undefined\"!=typeof XMLHttpRequest)b=\"2\";else if(\"undefined\"!=typeof ActiveXObject){var c,d,e=[\"MSXML2.XMLHTTP.6.0\",\"MSXML2.XMLHTTP.3.0\",\"MSXML2.XMLHTTP\",\"Microsoft.XMLHTTP\"];for(c=0;d=e[c++];)try{new ActiveXObject(d),b=\"2\"}catch(h){}}a=b;if(\"2\"==a&&-1==location.search.indexOf(\"&gbv=2\")){var f=google.gbvu,g=document.getElementById(\"gbv\");g&&(g.value=a);f&&window.setTimeout(function(){location.href=f},0)};}).call(this);</script></form><div id=\"gac_scont\"></div><div style=\"font-size:83%;min-height:3.5em\"><br/></div><span id=\"footer\"><div style=\"font-size:10pt\"><div id=\"WqQANb\" style=\"margin:19px auto;text-align:center\"><a href=\"/intl/fr/ads/\">Solutions publicitaires</a><a href=\"/services/\">Solutions d'entreprise</a><a href=\"/intl/fr/about.html\">� propos de Google</a><a href=\"https://www.google.com/setprefdomain?prefdom=FR&amp;prev=https://www.google.fr/&amp;sig=K_pWDQGatlPp3DK9r-k0WS6Ox59po%3D\">Google.fr</a></div></div><p style=\"font-size:8pt;color:#70757a\">© 2021 - <a href=\"/intl/fr/policies/privacy/\">Confidentialit�</a> - <a href=\"/intl/fr/policies/terms/\">Conditions</a></p></span></center><script nonce=\"avk4eDTS3dc21Tc8deNXcw==\">(function(){window.google.cdo={height:0,width:0};(function(){\n",
      "var a=window.innerWidth,b=window.innerHeight;if(!a||!b){var c=window.document,d=\"CSS1Compat\"==c.compatMode?c.documentElement:c.body;a=d.clientWidth;b=d.clientHeight}a&&b&&(a!=google.cdo.width||b!=google.cdo.height)&&google.log(\"\",\"\",\"/client_204?&atyp=i&biw=\"+a+\"&bih=\"+b+\"&ei=\"+google.kEI);}).call(this);})();</script> <script nonce=\"avk4eDTS3dc21Tc8deNXcw==\">(function(){google.xjs={ck:'xjs.hp.v1cE8KxQzDU.L.X.O',cs:'ACT90oHfPMlP0PqA6Zs2UPf75fChU2vNVw',excm:[]};})();</script>  <script nonce=\"avk4eDTS3dc21Tc8deNXcw==\">(function(){var u='/xjs/_/js/k\\x3dxjs.hp.en.hft5YiRvuOo.O/m\\x3dsb_he,d/am\\x3dAHgCHA/d\\x3d1/ed\\x3d1/rs\\x3dACT90oHoygcg7T8yDaxcTt9uG3qEdWg5dw';\n",
      "var d=this||self,e=/^[\\w+/_-]+[=]{0,2}$/,f=null,g=function(a){return(a=a.querySelector&&a.querySelector(\"script[nonce]\"))&&(a=a.nonce||a.getAttribute(\"nonce\"))&&e.test(a)?a:\"\"},h=function(a){return a};var l;var n=function(a,b){this.g=b===m?a:\"\"};n.prototype.toString=function(){return this.g+\"\"};var m={};function p(){var a=u;google.lx=function(){q(a);google.lx=function(){}};google.bx||google.lx()}\n",
      "function q(a){var b=document;var c=\"SCRIPT\";\"application/xhtml+xml\"===b.contentType&&(c=c.toLowerCase());c=b.createElement(c);if(void 0===l){b=null;var k=d.trustedTypes;if(k&&k.createPolicy){try{b=k.createPolicy(\"goog#html\",{createHTML:h,createScript:h,createScriptURL:h})}catch(r){d.console&&d.console.error(r.message)}l=b}else l=b}a=(b=l)?b.createScriptURL(a):a;a=new n(a,m);c.src=a instanceof n&&a.constructor===n?a.g:\"type_error:TrustedResourceUrl\";(a=c.ownerDocument&&c.ownerDocument.defaultView)&&\n",
      "a!=d?a=g(a.document):(null===f&&(f=g(d.document)),a=f);a&&c.setAttribute(\"nonce\",a);google.timers&&google.timers.load&&google.tick&&google.tick(\"load\",\"xjsls\");document.body.appendChild(c);google.psa=!0};setTimeout(function(){p()},0);})();(function(){window.google.xjsu='/xjs/_/js/k\\x3dxjs.hp.en.hft5YiRvuOo.O/m\\x3dsb_he,d/am\\x3dAHgCHA/d\\x3d1/ed\\x3d1/rs\\x3dACT90oHoygcg7T8yDaxcTt9uG3qEdWg5dw';})();function _DumpException(e){throw e;}\n",
      "function _F_installCss(c){}\n",
      "(function(){google.jl={blt:'none',dw:false,em:[],emtn:0,ine:false,lls:'default',pdt:0,snet:true,uwp:true};})();(function(){var pmc='{\\x22d\\x22:{},\\x22sb_he\\x22:{\\x22agen\\x22:true,\\x22cgen\\x22:true,\\x22client\\x22:\\x22heirloom-hp\\x22,\\x22dh\\x22:true,\\x22dhqt\\x22:true,\\x22ds\\x22:\\x22\\x22,\\x22ffql\\x22:\\x22fr\\x22,\\x22fl\\x22:true,\\x22host\\x22:\\x22google.com\\x22,\\x22isbh\\x22:28,\\x22jsonp\\x22:true,\\x22lm\\x22:true,\\x22msgs\\x22:{\\x22cibl\\x22:\\x22Effacer la recherche\\x22,\\x22dym\\x22:\\x22Essayez avec cette orthographe :\\x22,\\x22lcky\\x22:\\x22J\\\\u0026#39;ai de la chance\\x22,\\x22lml\\x22:\\x22En savoir plus\\x22,\\x22oskt\\x22:\\x22Outils de saisie\\x22,\\x22psrc\\x22:\\x22Cette suggestion a bien �t� supprim�e de votre \\\\u003Ca href\\x3d\\\\\\x22/history\\\\\\x22\\\\u003Ehistorique Web\\\\u003C/a\\\\u003E.\\x22,\\x22psrl\\x22:\\x22Supprimer\\x22,\\x22sbit\\x22:\\x22Recherche par image\\x22,\\x22srch\\x22:\\x22Recherche Google\\x22},\\x22nrft\\x22:false,\\x22ovr\\x22:{},\\x22pq\\x22:\\x22\\x22,\\x22refpd\\x22:true,\\x22rfs\\x22:[],\\x22sbas\\x22:\\x220 3px 8px 0 rgba(0,0,0,0.2),0 0 0 1px rgba(0,0,0,0.08)\\x22,\\x22sbpl\\x22:16,\\x22sbpr\\x22:16,\\x22scd\\x22:10,\\x22stok\\x22:\\x22uZD7Op0oqRs0IFqP11ChjKQSLgg\\x22,\\x22uhde\\x22:false}}';google.pmc=JSON.parse(pmc);})();</script>        </body></html>\n"
     ]
    }
   ],
   "source": [
    "soup = BeautifulSoup(src,'html5lib') #or use lxml\n",
    "print(soup)"
   ]
  },
  {
   "cell_type": "code",
   "execution_count": 220,
   "metadata": {},
   "outputs": [
    {
     "name": "stdout",
     "output_type": "stream",
     "text": [
      "[<a class=\"gb1\" href=\"https://www.google.fr/imghp?hl=fr&amp;tab=wi\">Images</a>, <a class=\"gb1\" href=\"https://maps.google.fr/maps?hl=fr&amp;tab=wl\">Maps</a>, <a class=\"gb1\" href=\"https://play.google.com/?hl=fr&amp;tab=w8\">Play</a>, <a class=\"gb1\" href=\"https://www.youtube.com/?gl=FR&amp;tab=w1\">YouTube</a>, <a class=\"gb1\" href=\"https://news.google.com/?tab=wn\">Actualit�s</a>, <a class=\"gb1\" href=\"https://mail.google.com/mail/?tab=wm\">Gmail</a>, <a class=\"gb1\" href=\"https://drive.google.com/?tab=wo\">Drive</a>, <a class=\"gb1\" href=\"https://www.google.fr/intl/fr/about/products?tab=wh\" style=\"text-decoration:none\"><u>Plus</u> »</a>, <a class=\"gb4\" href=\"http://www.google.fr/history/optout?hl=fr\">Historique Web</a>, <a class=\"gb4\" href=\"/preferences?hl=fr\">Param�tres</a>, <a class=\"gb4\" href=\"https://accounts.google.com/ServiceLogin?hl=fr&amp;passive=true&amp;continue=https://www.google.com/&amp;ec=GAZAAQ\" id=\"gb_70\" target=\"_top\">Connexion</a>, <a href=\"/advanced_search?hl=fr&amp;authuser=0\">Recherche avanc�e</a>, <a href=\"/intl/fr/ads/\">Solutions publicitaires</a>, <a href=\"/services/\">Solutions d'entreprise</a>, <a href=\"/intl/fr/about.html\">� propos de Google</a>, <a href=\"https://www.google.com/setprefdomain?prefdom=FR&amp;prev=https://www.google.fr/&amp;sig=K_pWDQGatlPp3DK9r-k0WS6Ox59po%3D\">Google.fr</a>, <a href=\"/intl/fr/policies/privacy/\">Confidentialit�</a>, <a href=\"/intl/fr/policies/terms/\">Conditions</a>]\n"
     ]
    }
   ],
   "source": [
    "links = soup.find_all(\"a\")\n",
    "print(links)"
   ]
  },
  {
   "cell_type": "code",
   "execution_count": 221,
   "metadata": {},
   "outputs": [],
   "source": [
    "for link in links:\n",
    "    if \"About\" in link.text:\n",
    "        print(link)\n",
    "        print(link.attrs['href'])"
   ]
  },
  {
   "cell_type": "code",
   "execution_count": 222,
   "metadata": {},
   "outputs": [],
   "source": [
    "#whitehouse example\n",
    "\n",
    "result = requests.get(\"https://www.whitehouse.gov/briefings-statements/\")"
   ]
  },
  {
   "cell_type": "code",
   "execution_count": 223,
   "metadata": {},
   "outputs": [
    {
     "name": "stdout",
     "output_type": "stream",
     "text": [
      "200\n"
     ]
    }
   ],
   "source": [
    "print(result.status_code)"
   ]
  },
  {
   "cell_type": "code",
   "execution_count": 224,
   "metadata": {},
   "outputs": [
    {
     "name": "stdout",
     "output_type": "stream",
     "text": [
      "{'X-Build-Back-Better': 'https://usds.gov/', 'X-Frame-Options': 'DENY', 'Referrer-Policy': 'strict-origin-when-cross-origin', 'X-XSS-Protection': '1; mode=block', 'X-Content-Type-Options': 'nosniff', 'Content-Type': 'text/html; charset=UTF-8', 'Accept-Ranges': 'bytes', 'Vary': 'Accept-Encoding', 'Content-Encoding': 'gzip', 'X-Akamai-Transformed': '9 - 0 pmb=mRUM,1', 'Date': 'Mon, 26 Apr 2021 13:19:29 GMT', 'Content-Length': '25196', 'Connection': 'keep-alive', 'Server-Timing': 'cdn-cache; desc=HIT, edge; dur=1', 'Strict-Transport-Security': 'max-age=31536000 ; includeSubDomains ; preload'}\n"
     ]
    }
   ],
   "source": [
    "print(result.headers)"
   ]
  },
  {
   "cell_type": "code",
   "execution_count": 225,
   "metadata": {
    "collapsed": true,
    "jupyter": {
     "outputs_hidden": true
    }
   },
   "outputs": [
    {
     "name": "stdout",
     "output_type": "stream",
     "text": [
      "b'<!doctype html>\\n<html class=\"no-js alert__has-cookie\" lang=\"en-US\">\\n<head>\\n\\t<meta charset=\"utf-8\"><meta name=\"google\" value=\"notranslate\">\\n\\t<meta http-equiv=\"X-UA-Compatible\" content=\"IE=edge\"><script type=\"text/javascript\">(window.NREUM||(NREUM={})).loader_config={licenseKey:\"9360826e15\",applicationID:\"825650222\"};window.NREUM||(NREUM={}),__nr_require=function(e,t,n){function r(n){if(!t[n]){var i=t[n]={exports:{}};e[n][0].call(i.exports,function(t){var i=e[n][1][t];return r(i||t)},i,i.exports)}return t[n].exports}if(\"function\"==typeof __nr_require)return __nr_require;for(var i=0;i<n.length;i++)r(n[i]);return r}({1:[function(e,t,n){function r(){}function i(e,t,n){return function(){return o(e,[u.now()].concat(c(arguments)),t?null:this,n),t?void 0:this}}var o=e(\"handle\"),a=e(7),c=e(8),f=e(\"ee\").get(\"tracer\"),u=e(\"loader\"),s=NREUM;\"undefined\"==typeof window.newrelic&&(newrelic=s);var d=[\"setPageViewName\",\"setCustomAttribute\",\"setErrorHandler\",\"finished\",\"addToTrace\",\"inlineHit\",\"addRelease\"],p=\"api-\",l=p+\"ixn-\";a(d,function(e,t){s[t]=i(p+t,!0,\"api\")}),s.addPageAction=i(p+\"addPageAction\",!0),s.setCurrentRouteName=i(p+\"routeName\",!0),t.exports=newrelic,s.interaction=function(){return(new r).get()};var m=r.prototype={createTracer:function(e,t){var n={},r=this,i=\"function\"==typeof t;return o(l+\"tracer\",[u.now(),e,n],r),function(){if(f.emit((i?\"\":\"no-\")+\"fn-start\",[u.now(),r,i],n),i)try{return t.apply(this,arguments)}catch(e){throw f.emit(\"fn-err\",[arguments,this,e],n),e}finally{f.emit(\"fn-end\",[u.now()],n)}}}};a(\"actionText,setName,setAttribute,save,ignore,onEnd,getContext,end,get\".split(\",\"),function(e,t){m[t]=i(l+t)}),newrelic.noticeError=function(e,t){\"string\"==typeof e&&(e=new Error(e)),o(\"err\",[e,u.now(),!1,t])}},{}],2:[function(e,t,n){function r(){return c.exists&&performance.now?Math.round(performance.now()):(o=Math.max((new Date).getTime(),o))-a}function i(){return o}var o=(new Date).getTime(),a=o,c=e(9);t.exports=r,t.exports.offset=a,t.exports.getLastTimestamp=i},{}],3:[function(e,t,n){function r(e){return!(!e||!e.protocol||\"file:\"===e.protocol)}t.exports=r},{}],4:[function(e,t,n){function r(e,t){var n=e.getEntries();n.forEach(function(e){\"first-paint\"===e.name?d(\"timing\",[\"fp\",Math.floor(e.startTime)]):\"first-contentful-paint\"===e.name&&d(\"timing\",[\"fcp\",Math.floor(e.startTime)])})}function i(e,t){var n=e.getEntries();n.length>0&&d(\"lcp\",[n[n.length-1]])}function o(e){e.getEntries().forEach(function(e){e.hadRecentInput||d(\"cls\",[e])})}function a(e){if(e instanceof m&&!g){var t=Math.round(e.timeStamp),n={type:e.type};t<=p.now()?n.fid=p.now()-t:t>p.offset&&t<=Date.now()?(t-=p.offset,n.fid=p.now()-t):t=p.now(),g=!0,d(\"timing\",[\"fi\",t,n])}}function c(e){d(\"pageHide\",[p.now(),e])}if(!(\"init\"in NREUM&&\"page_view_timing\"in NREUM.init&&\"enabled\"in NREUM.init.page_view_timing&&NREUM.init.page_view_timing.enabled===!1)){var f,u,s,d=e(\"handle\"),p=e(\"loader\"),l=e(6),m=NREUM.o.EV;if(\"PerformanceObserver\"in window&&\"function\"==typeof window.PerformanceObserver){f=new PerformanceObserver(r);try{f.observe({entryTypes:[\"paint\"]})}catch(v){}u=new PerformanceObserver(i);try{u.observe({entryTypes:[\"largest-contentful-paint\"]})}catch(v){}s=new PerformanceObserver(o);try{s.observe({type:\"layout-shift\",buffered:!0})}catch(v){}}if(\"addEventListener\"in document){var g=!1,w=[\"click\",\"keydown\",\"mousedown\",\"pointerdown\",\"touchstart\"];w.forEach(function(e){document.addEventListener(e,a,!1)})}l(c)}},{}],5:[function(e,t,n){function r(e,t){if(!i)return!1;if(e!==i)return!1;if(!t)return!0;if(!o)return!1;for(var n=o.split(\".\"),r=t.split(\".\"),a=0;a<r.length;a++)if(r[a]!==n[a])return!1;return!0}var i=null,o=null,a=/Version\\\\/(\\\\S+)\\\\s+Safari/;if(navigator.userAgent){var c=navigator.userAgent,f=c.match(a);f&&c.indexOf(\"Chrome\")===-1&&c.indexOf(\"Chromium\")===-1&&(i=\"Safari\",o=f[1])}t.exports={agent:i,version:o,match:r}},{}],6:[function(e,t,n){function r(e){function t(){e(a&&document[a]?document[a]:document[i]?\"hidden\":\"visible\")}\"addEventListener\"in document&&o&&document.addEventListener(o,t,!1)}t.exports=r;var i,o,a;\"undefined\"!=typeof document.hidden?(i=\"hidden\",o=\"visibilitychange\",a=\"visibilityState\"):\"undefined\"!=typeof document.msHidden?(i=\"msHidden\",o=\"msvisibilitychange\"):\"undefined\"!=typeof document.webkitHidden&&(i=\"webkitHidden\",o=\"webkitvisibilitychange\",a=\"webkitVisibilityState\")},{}],7:[function(e,t,n){function r(e,t){var n=[],r=\"\",o=0;for(r in e)i.call(e,r)&&(n[o]=t(r,e[r]),o+=1);return n}var i=Object.prototype.hasOwnProperty;t.exports=r},{}],8:[function(e,t,n){function r(e,t,n){t||(t=0),\"undefined\"==typeof n&&(n=e?e.length:0);for(var r=-1,i=n-t||0,o=Array(i<0?0:i);++r<i;)o[r]=e[t+r];return o}t.exports=r},{}],9:[function(e,t,n){t.exports={exists:\"undefined\"!=typeof window.performance&&window.performance.timing&&\"undefined\"!=typeof window.performance.timing.navigationStart}},{}],ee:[function(e,t,n){function r(){}function i(e){function t(e){return e&&e instanceof r?e:e?u(e,f,a):a()}function n(n,r,i,o,a){if(a!==!1&&(a=!0),!l.aborted||o){e&&a&&e(n,r,i);for(var c=t(i),f=v(n),u=f.length,s=0;s<u;s++)f[s].apply(c,r);var p=d[h[n]];return p&&p.push([b,n,r,c]),c}}function o(e,t){y[e]=v(e).concat(t)}function m(e,t){var n=y[e];if(n)for(var r=0;r<n.length;r++)n[r]===t&&n.splice(r,1)}function v(e){return y[e]||[]}function g(e){return p[e]=p[e]||i(n)}function w(e,t){s(e,function(e,n){t=t||\"feature\",h[n]=t,t in d||(d[t]=[])})}var y={},h={},b={on:o,addEventListener:o,removeEventListener:m,emit:n,get:g,listeners:v,context:t,buffer:w,abort:c,aborted:!1};return b}function o(e){return u(e,f,a)}function a(){return new r}function c(){(d.api||d.feature)&&(l.aborted=!0,d=l.backlog={})}var f=\"nr@context\",u=e(\"gos\"),s=e(7),d={},p={},l=t.exports=i();t.exports.getOrSetContext=o,l.backlog=d},{}],gos:[function(e,t,n){function r(e,t,n){if(i.call(e,t))return e[t];var r=n();if(Object.defineProperty&&Object.keys)try{return Object.defineProperty(e,t,{value:r,writable:!0,enumerable:!1}),r}catch(o){}return e[t]=r,r}var i=Object.prototype.hasOwnProperty;t.exports=r},{}],handle:[function(e,t,n){function r(e,t,n,r){i.buffer([e],r),i.emit(e,t,n)}var i=e(\"ee\").get(\"handle\");t.exports=r,r.ee=i},{}],id:[function(e,t,n){function r(e){var t=typeof e;return!e||\"object\"!==t&&\"function\"!==t?-1:e===window?0:a(e,o,function(){return i++})}var i=1,o=\"nr@id\",a=e(\"gos\");t.exports=r},{}],loader:[function(e,t,n){function r(){if(!E++){var e=x.info=NREUM.info,t=l.getElementsByTagName(\"script\")[0];if(setTimeout(u.abort,3e4),!(e&&e.licenseKey&&e.applicationID&&t))return u.abort();f(h,function(t,n){e[t]||(e[t]=n)});var n=a();c(\"mark\",[\"onload\",n+x.offset],null,\"api\"),c(\"timing\",[\"load\",n]);var r=l.createElement(\"script\");r.src=\"https://\"+e.agent,t.parentNode.insertBefore(r,t)}}function i(){\"complete\"===l.readyState&&o()}function o(){c(\"mark\",[\"domContent\",a()+x.offset],null,\"api\")}var a=e(2),c=e(\"handle\"),f=e(7),u=e(\"ee\"),s=e(5),d=e(3),p=window,l=p.document,m=\"addEventListener\",v=\"attachEvent\",g=p.XMLHttpRequest,w=g&&g.prototype;if(d(p.location)){NREUM.o={ST:setTimeout,SI:p.setImmediate,CT:clearTimeout,XHR:g,REQ:p.Request,EV:p.Event,PR:p.Promise,MO:p.MutationObserver};var y=\"\"+location,h={beacon:\"bam.nr-data.net\",errorBeacon:\"bam.nr-data.net\",agent:\"js-agent.newrelic.com/nr-1208.min.js\"},b=g&&w&&w[m]&&!/CriOS/.test(navigator.userAgent),x=t.exports={offset:a.getLastTimestamp(),now:a,origin:y,features:{},xhrWrappable:b,userAgent:s};e(1),e(4),l[m]?(l[m](\"DOMContentLoaded\",o,!1),p[m](\"load\",r,!1)):(l[v](\"onreadystatechange\",i),p[v](\"onload\",r)),c(\"mark\",[\"firstbyte\",a.getLastTimestamp()],null,\"api\");var E=0}},{}],\"wrap-function\":[function(e,t,n){function r(e,t){function n(t,n,r,f,u){function nrWrapper(){var o,a,s,p;try{a=this,o=d(arguments),s=\"function\"==typeof r?r(o,a):r||{}}catch(l){i([l,\"\",[o,a,f],s],e)}c(n+\"start\",[o,a,f],s,u);try{return p=t.apply(a,o)}catch(m){throw c(n+\"err\",[o,a,m],s,u),m}finally{c(n+\"end\",[o,a,p],s,u)}}return a(t)?t:(n||(n=\"\"),nrWrapper[p]=t,o(t,nrWrapper,e),nrWrapper)}function r(e,t,r,i,o){r||(r=\"\");var c,f,u,s=\"-\"===r.charAt(0);for(u=0;u<t.length;u++)f=t[u],c=e[f],a(c)||(e[f]=n(c,s?f+r:r,i,f,o))}function c(n,r,o,a){if(!m||t){var c=m;m=!0;try{e.emit(n,r,o,t,a)}catch(f){i([f,n,r,o],e)}m=c}}return e||(e=s),n.inPlace=r,n.flag=p,n}function i(e,t){t||(t=s);try{t.emit(\"internal-error\",e)}catch(n){}}function o(e,t,n){if(Object.defineProperty&&Object.keys)try{var r=Object.keys(e);return r.forEach(function(n){Object.defineProperty(t,n,{get:function(){return e[n]},set:function(t){return e[n]=t,t}})}),t}catch(o){i([o],n)}for(var a in e)l.call(e,a)&&(t[a]=e[a]);return t}function a(e){return!(e&&e instanceof Function&&e.apply&&!e[p])}function c(e,t){var n=t(e);return n[p]=e,o(e,n,s),n}function f(e,t,n){var r=e[t];e[t]=c(r,n)}function u(){for(var e=arguments.length,t=new Array(e),n=0;n<e;++n)t[n]=arguments[n];return t}var s=e(\"ee\"),d=e(8),p=\"nr@original\",l=Object.prototype.hasOwnProperty,m=!1;t.exports=r,t.exports.wrapFunction=c,t.exports.wrapInPlace=f,t.exports.argsToArray=u},{}]},{},[\"loader\"]);</script>\\n\\t<meta name=\"viewport\" content=\"width=device-width, initial-scale=1\">\\n\\t<link rel=\"profile\" href=\"https://gmpg.org/xfn/11\">\\n\\t\\n\\t<!-- If you\\'re reading this, we need your help building back better. https://usds.gov/ -->\\n<meta name=\\'robots\\' content=\\'max-image-preview:large\\' />\\n\\n\\t<title>Briefing Room | The White House</title>\\n\\t<meta name=\"robots\" content=\"index, follow, max-snippet:-1, max-image-preview:large, max-video-preview:-1\" />\\n\\t<link rel=\"canonical\" href=\"https://www.whitehouse.gov/briefing-room/\" />\\n\\t<link rel=\"next\" href=\"https://www.whitehouse.gov/briefing-room/page/2/\" />\\n\\t<meta property=\"og:locale\" content=\"en_US\" />\\n\\t<meta property=\"og:type\" content=\"article\" />\\n\\t<meta property=\"og:title\" content=\"Briefing Room | The White House\" />\\n\\t<meta property=\"og:url\" content=\"https://www.whitehouse.gov/briefing-room/\" />\\n\\t<meta property=\"og:site_name\" content=\"The White House\" />\\n\\t<meta property=\"og:image\" content=\"https://www.whitehouse.gov/wp-content/uploads/2021/01/wh_social-share-1100x740.png\" />\\n\\t<meta property=\"og:image:width\" content=\"1100\" />\\n\\t<meta property=\"og:image:height\" content=\"740\" />\\n\\t<meta name=\"twitter:card\" content=\"summary_large_image\" />\\n\\t<meta name=\"twitter:site\" content=\"@whitehouse\" />\\n\\t<script type=\"application/ld+json\">{\"@context\":\"https://schema.org\",\"@graph\":[{\"@type\":\"Organization\",\"@id\":\"https://www.whitehouse.gov/#organization\",\"name\":\"The White House\",\"url\":\"https://www.whitehouse.gov/\",\"sameAs\":[\"https://www.facebook.com/WhiteHouse/\",\"https://www.instagram.com/whitehouse/\",\"https://www.youtube.com/whitehouse\",\"https://twitter.com/whitehouse\"],\"logo\":{\"@type\":\"ImageObject\",\"@id\":\"https://www.whitehouse.gov/#logo\",\"inLanguage\":\"en-US\",\"url\":\"https://www.whitehouse.gov/wp-content/uploads/2021/01/cropped-cropped-wh_favicon.png\",\"width\":512,\"height\":512,\"caption\":\"The White House\"},\"image\":{\"@id\":\"https://www.whitehouse.gov/#logo\"}},{\"@type\":\"WebSite\",\"@id\":\"https://www.whitehouse.gov/#website\",\"url\":\"https://www.whitehouse.gov/\",\"name\":\"The White House\",\"description\":\"\",\"publisher\":{\"@id\":\"https://www.whitehouse.gov/#organization\"},\"potentialAction\":[{\"@type\":\"SearchAction\",\"target\":\"https://www.whitehouse.gov/?s={search_term_string}\",\"query-input\":\"required name=search_term_string\"}],\"inLanguage\":\"en-US\"},{\"@type\":[\"WebPage\",\"CollectionPage\"],\"@id\":\"https://www.whitehouse.gov/briefing-room/#webpage\",\"url\":\"https://www.whitehouse.gov/briefing-room/\",\"name\":\"Briefing Room | The White House\",\"isPartOf\":{\"@id\":\"https://www.whitehouse.gov/#website\"},\"datePublished\":\"2021-01-10T17:37:53+00:00\",\"dateModified\":\"2021-01-16T06:13:35+00:00\",\"inLanguage\":\"en-US\",\"potentialAction\":[{\"@type\":\"ReadAction\",\"target\":[\"https://www.whitehouse.gov/briefing-room/\"]}]}]}</script>\\n\\n\\n\\t<link rel=\"preload\" href=\"https://www.whitehouse.gov/wp-content/themes/whitehouse/assets/fonts/Decimal-Book.woff2\" as=\"font\" type=\"font/woff2\" crossorigin=\"anonymous\">\\n\\t<link rel=\"preload\" href=\"https://www.whitehouse.gov/wp-content/themes/whitehouse/assets/fonts/Decimal-Semibold.woff2\" as=\"font\" type=\"font/woff2\" crossorigin=\"anonymous\">\\n\\t<link rel=\"preload\" href=\"https://www.whitehouse.gov/wp-content/themes/whitehouse/assets/fonts/Decimal-Medium_Web.woff2\" as=\"font\" type=\"font/woff2\" crossorigin=\"anonymous\">\\n\\t<link rel=\"preload\" href=\"https://www.whitehouse.gov/wp-content/themes/whitehouse/assets/fonts/Decimal-Bold.woff2\" as=\"font\" type=\"font/woff2\" crossorigin=\"anonymous\">\\n\\t<link rel=\"preload\" href=\"https://www.whitehouse.gov/wp-content/themes/whitehouse/assets/fonts/MercuryTextG2-Semibold-Pro_Web.woff2\" as=\"font\" type=\"font/woff2\" crossorigin=\"anonymous\">\\n\\t<link rel=\"preload\" href=\"https://www.whitehouse.gov/wp-content/themes/whitehouse/assets/fonts/MercurySSm-Book-Pro_Web.woff2\" as=\"font\" type=\"font/woff2\" crossorigin=\"anonymous\">\\n\\t<link rel=\"preload\" href=\"https://www.whitehouse.gov/wp-content/themes/whitehouse/assets/fonts/MercurySSm-Bold-Pro_Web.woff2\" as=\"font\" type=\"font/woff2\" crossorigin=\"anonymous\">\\n<link rel=\\'stylesheet\\' id=\\'wp-block-library-css\\'  href=\\'https://www.whitehouse.gov/wp-includes/css/dist/block-library/style.min.css?ver=5.7.1\\' type=\\'text/css\\' media=\\'all\\' />\\n<link rel=\\'stylesheet\\' id=\\'theme_css-css\\'  href=\\'https://www.whitehouse.gov/wp-content/themes/whitehouse/assets/css/style.min.css?ver=b8e2738.1619032045\\' type=\\'text/css\\' media=\\'all\\' />\\n<link rel=\"preconnect\" href=\"https://s.go-mpulse.net\">\\n<link rel=\"alternate\" hreflang=\"es-US\" href=\"https://www.whitehouse.gov/es/prensa/\"><link rel=\"alternate\" hreflang=\"en-US\" href=\"https://www.whitehouse.gov/briefing-room/\"><link rel=\"apple-touch-icon\" sizes=\"180x180\" href=\"/apple-touch-icon.png\">\\n<link rel=\"mask-icon\" href=\"/safari-pinned-tab.svg\" color=\"#5bbad5\">\\n<meta name=\"apple-mobile-web-app-title\" content=\"The White House\">\\n<meta name=\"application-name\" content=\"The White House\">\\n\\t\\t<style type=\"text/css\" id=\"wp-custom-css\">\\n\\t\\t\\t.body-content .font-signature table td {font-family:MercurySSm-Book-Pro_Web,serif !important; font-size:16px;}\\t\\t</style>\\n\\t\\t<script>/*bundle-header.js*/(function(){var e=document.documentElement,n=e.style;e.className=e.className.replace(\"no-js\",\"js\");var t=function(){return n.setProperty(\"--vh\",\"\".concat(.01*window.innerHeight,\"px\"))};t(),window.setVHUnit=t,window.llItems=[]})()</script>\\n\\n\\t<!-- We participate in the US government\\'s analytics program. See the data at analytics.usa.gov. -->\\n\\t<script async src=\"https://dap.digitalgov.gov/Universal-Federated-Analytics-Min.js?agency=EOP\" id=\"_fed_an_ua_tag\"></script>\\n\\t<script async src=\"https://www.googletagmanager.com/gtag/js?id=UA-12099831-10\"></script>\\n\\t<script>\\n\\twindow.dataLayer = window.dataLayer || [];\\n\\tfunction gtag(){dataLayer.push(arguments);}\\n\\tgtag(\\'js\\', new Date());\\n\\tgtag(\\'config\\', \\'UA-12099831-10\\');\\n\\twindow.gtag_id = \\'UA-12099831-10\\';\\n\\t</script>\\n\\n                          <script>!function(a){var e=\"https://s.go-mpulse.net/boomerang/\",t=\"addEventListener\";if(\"False\"==\"True\")a.BOOMR_config=a.BOOMR_config||{},a.BOOMR_config.PageParams=a.BOOMR_config.PageParams||{},a.BOOMR_config.PageParams.pci=!0,e=\"https://s2.go-mpulse.net/boomerang/\";if(window.BOOMR_API_key=\"2HLG7-AJR3H-5NUAK-82W8H-ZYXA7\",function(){function n(e){a.BOOMR_onload=e&&e.timeStamp||(new Date).getTime()}if(!a.BOOMR||!a.BOOMR.version&&!a.BOOMR.snippetExecuted){a.BOOMR=a.BOOMR||{},a.BOOMR.snippetExecuted=!0;var i,_,o,r=document.createElement(\"iframe\");if(a[t])a[t](\"load\",n,!1);else if(a.attachEvent)a.attachEvent(\"onload\",n);r.src=\"javascript:void(0)\",r.title=\"\",r.role=\"presentation\",(r.frameElement||r).style.cssText=\"width:0;height:0;border:0;display:none;\",o=document.getElementsByTagName(\"script\")[0],o.parentNode.insertBefore(r,o);try{_=r.contentWindow.document}catch(O){i=document.domain,r.src=\"javascript:var d=document.open();d.domain=\\'\"+i+\"\\';void(0);\",_=r.contentWindow.document}_.open()._l=function(){var a=this.createElement(\"script\");if(i)this.domain=i;a.id=\"boomr-if-as\",a.src=e+\"2HLG7-AJR3H-5NUAK-82W8H-ZYXA7\",BOOMR_lstart=(new Date).getTime(),this.body.appendChild(a)},_.write(\"<bo\"+\\'dy onload=\"document._l();\">\\'),_.close()}}(),\"\".length>0)if(a&&\"performance\"in a&&a.performance&&\"function\"==typeof a.performance.setResourceTimingBufferSize)a.performance.setResourceTimingBufferSize();!function(){if(BOOMR=a.BOOMR||{},BOOMR.plugins=BOOMR.plugins||{},!BOOMR.plugins.AK){var e=\"\"==\"true\"?1:0,t=\"\",n=\"ewvnouyx3h4doyegxxqq-f-111f89294-clientnsv4-s.akamaihd.net\",i={\"ak.v\":\"31\",\"ak.cp\":\"1136160\",\"ak.ai\":parseInt(\"689495\",10),\"ak.ol\":\"0\",\"ak.cr\":54,\"ak.ipv\":4,\"ak.proto\":\"http/1.1\",\"ak.rid\":\"20dcf28a\",\"ak.r\":20559,\"ak.a2\":e,\"ak.m\":\"dscb\",\"ak.n\":\"essl\",\"ak.bpcip\":\"37.170.215.0\",\"ak.cport\":57762,\"ak.gh\":\"23.200.87.111\",\"ak.quicv\":\"\",\"ak.tlsv\":\"tls1.3\",\"ak.0rtt\":\"\",\"ak.csrc\":\"-\",\"ak.acc\":\"bbr\",\"ak.t\":\"1619443169\",\"ak.ak\":\"hOBiQwZUYzCg5VSAfCLimQ==mdQatNQ4WYUvYMe/Ug1aPyTBBJ2Qqu+z9vDiFmFXY4CzzO3H5snTOVrbNA5NIN3I5szWBln505BRSjLprvJfb58JFbvmPKwmrov+lYzz+nJYRcX2c6CYHzbPZxi6p6Iaj1He3PbIQCpKMH+BiHnrWh8oDTWztSnFnqJfwAR5+yecBvc0rX3mBJiyIVhqWCpYuJ5yDaDjN/ZEl5ML/sL4REJ7A0Qf/K09z7jlISm97bg1HM/X1iSxgalh81wu5F3V5k3ZccHrEkJcKc8l7U6WZZn7XuwOEqU0wzOdXQjgCrefayUngHpWtHw2+Gm2wToeEA0GZvMvsi3JePjI1fo6f8dhLy84gfxWX6DMy3l0ImcIXqRUHmgSQs9zqNUSob6GHFhlKVtUGiFiu8cz5uC8uFePExoFV8rfTnmdofvEjmk=\",\"ak.pv\":\"3\",\"ak.dpoabenc\":\"\"};if(\"\"!==t)i[\"ak.ruds\"]=t;var _={i:!1,av:function(e){var t=\"http.initiator\";if(e&&(!e[t]||\"spa_hard\"===e[t]))i[\"ak.feo\"]=void 0!==a.aFeoApplied?1:0,BOOMR.addVar(i)},rv:function(){var a=[\"ak.bpcip\",\"ak.cport\",\"ak.cr\",\"ak.csrc\",\"ak.gh\",\"ak.ipv\",\"ak.m\",\"ak.n\",\"ak.ol\",\"ak.proto\",\"ak.quicv\",\"ak.tlsv\",\"ak.0rtt\",\"ak.r\",\"ak.acc\",\"ak.t\"];BOOMR.removeVar(a)}};BOOMR.plugins.AK={akVars:i,akDNSPreFetchDomain:n,init:function(){if(!_.i){var a=BOOMR.subscribe;a(\"before_beacon\",_.av,null,null),a(\"onbeacon\",_.rv,null,null),_.i=!0}return this},is_complete:function(){return!0}}}}()}(window);</script></head>\\n\\n<body class=\"blog wp-embed-responsive no-con no-font\"><script>\\nif ((document.cookie.match(\\'(^|; )contrast-cookie=([^;]*)\\') || 0)[2] === \\'true\\') {\\n\\tdocument.body.className = document.body.className.replace(\\' no-con\\', \\'\\');\\n\\tdocument.body.className += \\' accessibility__contrast\\';\\n}\\nif ((document.cookie.match(\\'(^|; )font-size-cookie=([^;]*)\\') || 0)[2] === \\'true\\') {\\n\\tdocument.body.className = document.body.className.replace(\\' no-font\\', \\'\\');\\n\\tdocument.body.className += \\' accessibility__fontsize\\';\\n}\\n</script>\\n\\n\\t<a class=\"skip-link screen-reader-text\" href=\"#content\">Skip to content</a>\\n\\n\\t\\n<div class=\"acctoggle\" role=\"toolbar\" aria-label=\"High Contrast and Font Size Options\">\\n\\t<noscript>\\n\\t\\t<span class=\"sr-only\">You have JavaScript disabled. Please enable JavaScript to use this feature.</span>\\n\\t</noscript>\\n\\t<div class=\"acctoggle__ctrl\">\\n\\t\\t<div class=\"tool\">\\n\\t\\t\\t<span>Toggle High Contrast</span>\\n\\t\\t</div>\\n\\t\\t<button class=\"acctoggle__contrast\">\\n\\t\\t\\t\\n<svg xmlns=\"http://www.w3.org/2000/svg\" viewBox=\"0 0 28.7 28.7\" role=\"img\" aria-labelledby=\"high-contrast-svg-title\">\\n\\t<title id=\"high-contrast-svg-title\">\\n\\t\\tToggle High Contrast\\t</title>\\n\\t<path d=\"M14.3 0C6.5 0 0 6.5 0 14.3c0 7.9 6.5 14.3 14.3 14.3 7.9 0 14.3-6.5 14.3-14.3C28.7 6.5 22.2 0 14.3 0zm0 3.6c6 0 10.8 4.8 10.8 10.8 0 6-4.8 10.8-10.8 10.8V3.6z\"/>\\n</svg>\\n\\t\\t</button>\\n\\t</div>\\n\\t<div class=\"acctoggle__ctrl\">\\n\\t\\t<div class=\"tool\">\\n\\t\\t\\t<span>Toggle Large Font Size</span>\\n\\t\\t</div>\\n\\t\\t<button class=\"acctoggle__fontsize\">\\n\\t\\t\\t\\n<svg viewBox=\"0 0 24 19\" fill=\"none\" xmlns=\"http://www.w3.org/2000/svg\" role=\"img\" aria-labelledby=\"large-font-svg-title\">\\n<title id=\"large-font-svg-title\">\\n\\tToggle Large Font Size</title>\\n<path d=\"M10.667 2.637v15.825H8V2.637H0V0h18.667v2.637h-8zM24 9.231h-9.333v2.637H18v6.594h2.667v-6.594H24V9.231z\" fill=\"currentColor\"/>\\n</svg>\\n\\t\\t</button>\\n\\t</div>\\n</div>\\n<div class=\"alert-bar\"></div>\\n<script>\\n(function(opts){!function(e){\"function\"==typeof define&&define.amd?define(\"bundleActionnetworkLabels\",e):e()}((function(){\"use strict\";opts||(opts={liveNow:\"Live Now\",route:\"/live.json\",link:\"/live/\"});var e=function(e){var t=document.createElement(\"div\");t.className=\"alert-bar has-link ready-to-alert alert-bar--is-simple alert-bar--is-live\",t.innerHTML=\\'\\\\n <div class=\"container-fluid\">\\\\n <a class=\"alert-bar__simple__link\" href=\"\\'.concat(opts.link,\\'\">\\\\n <span class=\"screen-reader-text\">\\').concat(opts.liveNow?opts.liveNow:\"Live Now\",\": \").concat(e.title,\\'</span>\\\\n </a>\\\\n <p><span aria-hidden=\"true\">\\').concat(opts.liveNow?opts.liveNow:\"Live Now\",\": \").concat(e.title,\"</span></p>\\\\n </div>\\\\n \");var n=document.querySelector(\".alert-bar\");if(n)n.parentNode.replaceChild(t,n);else{var o=document.querySelector(\"#page\");o?o.parentNode.insertBefore(t,o):document.body.insertBefore(t,document.body.firstChild)}},t=function(t){var n=new XMLHttpRequest;n.open(\"GET\",opts.route),n.setRequestHeader(\"Accept\",\"application/json\"),t&&n.setRequestHeader(\"If-Modified-Since\",new Date(t).toGMTString()),n.onload=function(){var t;try{t=JSON.parse(n.responseText)}catch(e){return}e(t),sessionStorage.setItem(\"live\",n.responseText)},n.send()};if(sessionStorage.liveTimestamp&&sessionStorage.live){try{var n=JSON.parse(sessionStorage.live);e(n)}catch(e){}if(sessionStorage.liveTimestamp){var o=Number(sessionStorage.liveTimestamp);Date.now()-o>6e4&&t(o)}}else t()}));})({\"liveNow\":\"Live Now\",\"link\":\"https:\\\\/\\\\/www.whitehouse.gov\\\\/live\\\\/\",\"route\":\"https:\\\\/\\\\/www.whitehouse.gov\\\\/live.json\"} );\\n</script>\\n<div id=\"page\" class=\"site-wrap\">\\n\\n\\t<header id=\"masthead\" data-js-social-hide class=\"site-header sticky-header cond-inner\">\\n<div class=\"site-header__inner\">\\n\\t<div class=\"container-fluid\">\\n\\n\\t\\t<div class=\"row site-header__row justify-content-between align-items-stretch\">\\n\\t\\t\\t<div class=\"site-header__item site-header__main-logo\">\\n\\t\\t\\t\\t<a class=\"site-header__item_inner\" href=\"https://www.whitehouse.gov/\" rel=\"home\">\\n\\t\\t\\t\\t\\t<div class=\"desktop__logo\">\\n\\t\\t\\t\\t\\t\\t<span>The White House</span>\\n\\t\\t\\t\\t\\t</div>\\n\\t\\t\\t\\t\\t<div class=\"mobile__logo\">\\n\\t\\t\\t\\t\\t\\t<span class=\"screen-reader-text\">The White House</span>\\n\\t\\t\\t\\t\\t\\t\\n<svg version=\"1.1\" id=\"wh-gov-6086b7c8c91c3\" xmlns=\"http://www.w3.org/2000/svg\" xmlns:xlink=\"http://www.w3.org/1999/xlink\" x=\"0px\" y=\"0px\"\\n\\t viewBox=\"0 0 1231 180\" style=\"enable-background:new 0 0 1231 180;\" xml:space=\"preserve\">\\n<g>\\n\\t<g class=\"st0\">\\n\\t\\t<path d=\"M200.9,126h1.5l30-102.8l-18.7-9V4.5h60.7v9.7l-21.7,10.5L200.9,177h-22.5l-39-113.3H138L94.5,177H72L23.2,21.8L0,14.3\\n\\t\\t\\tV4.5h86.2v9l-20.2,6l30,107.3h0.7l33.7-90l-6-15.8l-18-7.5v-9h80.2v9l-20.2,6.8L200.9,126z\"/>\\n\\t\\t<path d=\"M446.1,21l-22.5-6V4.5h88.5V15l-25.5,6v138.8l25.5,6v9.8h-88.5v-9.8l22.5-6V96h-72v63.8l22.5,6v9.8h-88.5v-9.8l25.5-6V21\\n\\t\\t\\tl-25.5-6V4.5h89.2V15l-22.5,6v57.8h72V21H446.1z\"/>\\n\\t\\t<path d=\"M577.3,180c-9.7,0-17.2-7.5-17.2-17.2c0-9,7.5-17.2,17.2-17.2c9.7,0,17.2,7.5,17.2,17.2C594.5,171.7,587,180,577.3,180z\"\\n\\t\\t\\t/>\\n\\t\\t<path d=\"M770.7,57.8c-16.5-31.5-32.2-45-56.2-45c-27.7,0-51.7,24.8-51.7,74.2c0,51,24.7,77.2,60.7,77.2c13.5,0,22.5-3.8,32.2-9\\n\\t\\t\\tv-43.5l-25.5-6V96h74.2v9.8l-22.5,6v66l-8.2,1.5l-13.5-13.5c-13.5,8.2-27,13.5-47.2,13.5c-46.5,0-83.2-33-83.2-86.2\\n\\t\\t\\tc0-51.8,38.2-92.2,89.2-92.2c16.5,0,30,3.8,40.5,9l8.2-9.8h9l1.5,57L770.7,57.8z\"/>\\n\\t\\t<path d=\"M931.9,179.3c-54,0-83.2-41.2-83.2-89.3c0-48,33-89.2,84.7-89.2c54,0,83.2,41.2,83.2,89.2\\n\\t\\t\\tC1016.6,138.8,982.9,179.3,931.9,179.3z M929.7,12c-24.7,0-49.5,18-49.5,78c0,60,28.5,78,55.5,78c24.7,0,49.5-24.8,49.5-78\\n\\t\\t\\tC985.2,36.8,956.7,12,929.7,12z\"/>\\n\\t\\t<path d=\"M1146.3,177h-13.5l-60.7-155.3l-24.7-6.8V4.5h81v9.7l-26.2,6l45,121.5l45-119.3l-20.2-7.5V4.5h59.2v9.7l-22.5,7.5\\n\\t\\t\\tL1146.3,177z\"/>\\n\\t</g>\\n</g>\\n</svg>\\n\\t\\t\\t\\t\\t</div>\\n\\t\\t\\t\\t</a>\\n\\t\\t\\t</div><!-- main-logo -->\\n\\t\\t\\t<div class=\"center-logo\">\\n\\t\\t\\t\\t<a class=\"\" href=\"https://www.whitehouse.gov/\" rel=\"home\">\\n\\t\\t\\t\\t\\t<span class=\"screen-reader-text\">The White House</span>\\n\\t\\t\\t\\t\\t<svg id=\"wh-oval-6086b7c8c920b\" version=\"1.1\" id=\"Layer_1\" xmlns=\"http://www.w3.org/2000/svg\" xmlns:xlink=\"http://www.w3.org/1999/xlink\" x=\"0px\" y=\"0px\"\\n\\t viewBox=\"0 0 343 243\" style=\"enable-background:new 0 0 343 243;\" xml:space=\"preserve\">\\n<style type=\"text/css\">\\n\\t#wh-oval-6086b7c8c920b .st0{fill:#0A2458;}\\n\\t#wh-oval-6086b7c8c920b .st1{fill-rule:evenodd;clip-rule:evenodd;fill:#FFFFFF;}\\n\\t#wh-oval-6086b7c8c920b .st2{opacity:0.5;fill:#FFFFFF;}\\n\\t#wh-oval-6086b7c8c920b .st3{fill:#FFFFFF;}\\n</style>\\n<g>\\n\\t<ellipse class=\"st0\" cx=\"171.5\" cy=\"121.5\" rx=\"168.6\" ry=\"118.7\"/>\\n\\t<path class=\"st1\" d=\"M171.5,229.5c87.3,0,158-48.4,158-108s-70.7-108-158-108s-158,48.4-158,108S84.2,229.5,171.5,229.5z\\n\\t\\t M290.8,209c-31.1,21.3-73.3,34-119.3,34s-88.2-12.7-119.3-34C21.1,187.8,0,157.1,0,121.5S21.1,55.2,52.2,34\\n\\t\\tC83.3,12.7,125.5,0,171.5,0s88.2,12.7,119.3,34c31,21.2,52.2,51.9,52.2,87.5S321.8,187.8,290.8,209z\"/>\\n</g>\\n<g>\\n\\t<g>\\n\\t\\t<rect x=\"168.3\" y=\"134.4\" class=\"st2\" width=\"2.7\" height=\"8.5\"/>\\n\\t\\t<rect x=\"168.3\" y=\"143.9\" class=\"st2\" width=\"2.7\" height=\"8.5\"/>\\n\\t\\t<rect x=\"172\" y=\"143.9\" class=\"st2\" width=\"2.7\" height=\"8.5\"/>\\n\\t\\t<rect x=\"172\" y=\"134.4\" class=\"st2\" width=\"2.7\" height=\"8.4\"/>\\n\\t\\t<path class=\"st2\" d=\"M212.5,92.7h-81.9c-0.6,0-1.1,0.5-1.1,1.1v66c0,0.6,0.5,1.1,1.1,1.1h81.8c0.7,0,1.2-0.5,1.2-1.2v-66\\n\\t\\t\\tC213.6,93.2,213.1,92.7,212.5,92.7z M191.8,118.7c0-0.2,0.1-0.2,0.2-0.3c0.2-0.2,0.4-0.7,0.4-1.2v-7.2c0-0.4-0.2-0.8-0.4-1.2\\n\\t\\t\\tc-0.1-0.1-0.2-0.2-0.2-0.3v-1.4c0-0.2,0.2-0.3,0.3-0.3h9.1c0.2,0,0.3,0.2,0.3,0.3v1.4c0,0.2-0.1,0.2-0.2,0.3\\n\\t\\t\\tc-0.2,0.3-0.4,0.7-0.4,1.2v7.1c0,0.4,0.2,0.8,0.4,1.2c0.1,0.1,0.2,0.2,0.2,0.3v3.2c0,0.2-0.2,0.3-0.3,0.3h-9.1\\n\\t\\t\\tc-0.2,0-0.3-0.2-0.3-0.3V118.7z M166.6,118.7c0-0.2,0.1-0.2,0.2-0.3c0.2-0.2,0.4-0.7,0.4-1.2v-7.1c0-0.4-0.2-0.8-0.4-1.2\\n\\t\\t\\tc-0.1-0.1-0.2-0.2-0.2-0.3v-1.4c0-0.2,0.2-0.3,0.3-0.3h9.1c0.2,0,0.3,0.2,0.3,0.3v1.4c0,0.2-0.1,0.2-0.2,0.3\\n\\t\\t\\tc-0.2,0.2-0.4,0.7-0.4,1.2v7.2c0,0.4,0.2,0.8,0.4,1.2c0.1,0.1,0.2,0.2,0.2,0.3v3.2c0,0.2-0.2,0.3-0.3,0.3h-9.1\\n\\t\\t\\tc-0.2,0-0.3-0.2-0.3-0.3V118.7z M141.5,118.7c0-0.2,0.1-0.2,0.2-0.3c0.2-0.2,0.4-0.7,0.4-1.2v-7.1c0-0.4-0.2-0.8-0.4-1.2\\n\\t\\t\\tc-0.1-0.1-0.2-0.2-0.2-0.3v-1.4c0-0.2,0.2-0.3,0.3-0.3h9.1c0.2,0,0.3,0.2,0.3,0.3v1.4c0,0.2-0.1,0.2-0.2,0.3\\n\\t\\t\\tc-0.2,0.2-0.4,0.7-0.4,1.2v7.2c0,0.4,0.2,0.8,0.4,1.2c0.1,0.1,0.2,0.2,0.2,0.3v3.2c0,0.2-0.2,0.3-0.3,0.3h-9.1\\n\\t\\t\\tc-0.2,0-0.3-0.2-0.3-0.3V118.7z M151.3,131.9c0,0.2-0.1,0.2-0.2,0.3c-0.2,0.2-0.4,0.7-0.4,1.2v8.7c0,0.4,0.2,0.8,0.4,1.2\\n\\t\\t\\tc0.1,0.1,0.2,0.2,0.2,0.3v3.2c0,0.2-0.2,0.3-0.3,0.3h-9.1c-0.2,0-0.3-0.2-0.3-0.3v-3.2c0-0.2,0.1-0.2,0.2-0.3\\n\\t\\t\\tc0.2-0.2,0.4-0.7,0.4-1.2v-8.7c0-0.4-0.2-0.8-0.4-1.2c-0.1-0.1-0.2-0.2-0.2-0.3v-1.4c0-0.2,0.2-0.3,0.3-0.3h9.1\\n\\t\\t\\tc0.2,0,0.3,0.2,0.3,0.3V131.9z M151.8,127.9c-0.1,0.2-0.2,0.2-0.2,0.2h-10c-0.2,0-0.3-0.1-0.4-0.2c-0.1-0.2-0.1-0.4,0.1-0.5\\n\\t\\t\\tc1.5-1.2,3.3-1.9,5.2-1.9c1.9,0,3.7,0.7,5.2,1.9C151.8,127.5,151.9,127.7,151.8,127.9z M176.3,154.1c-3.2,0-6.4,0-9.6,0\\n\\t\\t\\tc-0.2,0-0.5-0.2-0.5-0.5c0-6.9,0-13.7,0-20.7c0.1-6.9,10.4-6.9,10.5,0c0,6.9,0,13.7,0.1,20.7C176.8,153.9,176.5,154.1,176.3,154.1\\n\\t\\t\\tz M201.5,131.9c0,0.2-0.1,0.2-0.2,0.3c-0.2,0.2-0.4,0.7-0.4,1.2v8.7c0,0.4,0.2,0.8,0.4,1.2c0.1,0.1,0.2,0.2,0.2,0.3v3.2\\n\\t\\t\\tc0,0.2-0.2,0.3-0.3,0.3h-9.1c-0.2,0-0.3-0.2-0.3-0.3v-3.2c0-0.2,0.1-0.2,0.2-0.3c0.2-0.2,0.4-0.7,0.4-1.2v-8.7\\n\\t\\t\\tc0-0.4-0.2-0.8-0.4-1.2c-0.1-0.1-0.2-0.2-0.2-0.3v-1.4c0-0.2,0.2-0.3,0.3-0.3h9.1c0.2,0,0.3,0.2,0.3,0.3V131.9z M202,127.9\\n\\t\\t\\tc-0.1,0.2-0.2,0.2-0.2,0.2h-10c-0.2,0-0.3-0.1-0.4-0.2c-0.1-0.2-0.1-0.4,0.1-0.5c1.5-1.2,3.3-1.9,5.2-1.9c1.9,0,3.7,0.7,5.2,1.9\\n\\t\\t\\tC202,127.5,202.1,127.7,202,127.9z\"/>\\n\\t</g>\\n\\t<path class=\"st3\" d=\"M192.6,72.3l2.4,1h20.3l0.8-1.1c0.2-0.2,0-0.4-0.2-0.4h-23.2C192.4,71.8,192.3,72.3,192.6,72.3z\"/>\\n\\t<path class=\"st3\" d=\"M222.2,79.1v3.1c0,0.2,0.2,0.4,0.3,0.4h7.2c0.2,0,0.3-0.2,0.4-0.4v-3.1l1.2-1.7c0.2-0.2,0-0.6-0.2-0.6h-10\\n\\t\\tc-0.3,0-0.5,0.3-0.2,0.6L222.2,79.1z\"/>\\n\\t<path class=\"st3\" d=\"M215.1,166.4h-40h-7.3h-39.9c-0.2,0-0.5,0.2-0.5,0.5v3.7c0,0.2,0.2,0.5,0.5,0.5h40h7.3h40\\n\\t\\tc0.2,0,0.5-0.2,0.5-0.5v-3.7C215.6,166.6,215.4,166.4,215.1,166.4z\"/>\\n\\t<path class=\"st3\" d=\"M197.3,74.3l17.5,6.8c0.2,0.1,0.4-0.1,0.4-0.2v-2.1c0-0.1,0-0.1-0.1-0.2l-0.3-0.5c0-0.1-0.1-0.1-0.1-0.2v-3.7\\n\\t\\tL197.3,74.3L197.3,74.3z\"/>\\n\\t<path class=\"st3\" d=\"M127.7,73.3H148l2.4-1c0.2-0.1,0.2-0.5-0.1-0.5h-23.2c-0.2,0-0.3,0.2-0.2,0.4L127.7,73.3z\"/>\\n\\t<path class=\"st3\" d=\"M112.8,79.1v3.1c0,0.2,0.2,0.4,0.4,0.4h7.2c0.2,0,0.3-0.2,0.3-0.4v-3.1l1.2-1.7c0.2-0.2,0-0.6-0.2-0.6h-10\\n\\t\\tc-0.3,0-0.5,0.3-0.2,0.6L112.8,79.1z\"/>\\n\\t<path class=\"st3\" d=\"M293.8,153.5h-79.4c-0.2-0.7-0.5-1.3-0.7-2h-7.8c-0.2,0-0.4,0.2-0.5,0.4c-0.2,0.6-0.4,1.2-0.7,1.8\\n\\t\\tc-0.2,0.6-0.6,1.2-1,1.7v3.2h-14.1v-3.2c-0.7-1.2-1.2-2.3-1.6-3.6c-0.1-0.2-0.2-0.4-0.5-0.4H180c-0.2,0-0.4,0.2-0.5,0.4\\n\\t\\tc-0.3,1.2-0.8,2.4-1.6,3.6v3.2h-5h-2.7h-5v-3.2c-0.7-1.1-1.2-2.3-1.6-3.6c-0.1-0.2-0.2-0.4-0.5-0.4h-7.5c-0.2,0-0.4,0.2-0.5,0.4\\n\\t\\tc-0.3,1.2-0.9,2.4-1.6,3.6v3.2h-14.1v-3.2c-0.3-0.6-0.7-1.2-1-1.7c-0.2-0.6-0.5-1.2-0.7-1.8c-0.1-0.2-0.2-0.4-0.5-0.4h-7.8\\n\\t\\tc-0.2,0.7-0.4,1.3-0.7,2H49.2c-0.4,0-0.7,0.3-0.7,0.7v6.8c0,0.4,0.3,0.7,0.7,0.7h78.2v2.6c0,0.4,0.3,0.7,0.7,0.7h42.1h2.7H215\\n\\t\\tc0.4,0,0.7-0.3,0.7-0.7v-2.6h78.2c0.4,0,0.7-0.3,0.7-0.7v-6.8C294.5,153.9,294.2,153.5,293.8,153.5z\"/>\\n\\t<path class=\"st3\" d=\"M128.2,78.3l-0.3,0.5c0,0.1-0.1,0.1-0.1,0.2v2.1c0,0.2,0.2,0.3,0.4,0.2l17.5-6.8h-17.4L128.2,78.3\\n\\t\\tC128.3,78.2,128.3,78.2,128.2,78.3z\"/>\\n\\t<path class=\"st3\" d=\"M187.5,107.8c0-0.2,0-0.5,0-0.7c0-3.7,0-7.1,0-7.1c0.2-1.2,0.5-2.3,1-3.5H179c0.5,1.1,0.8,2.2,1,3.5V119v3.8\\n\\t\\tv26.5v0.1c0,0.4,0.3,0.7,0.7,0.7h6.2c0.4,0,0.7-0.3,0.7-0.7c0,0,0-26.1,0-40.4C187.5,108.6,187.5,108.2,187.5,107.8z\"/>\\n\\t<path class=\"st3\" d=\"M163.1,105.6c0.2-6.7,0.5-7.8,1-9h-9.6c0.5,1.1,0.8,2.2,1,3.5c0,0,0,1.1,0,3c0,14.2,0,46.4,0,46.4\\n\\t\\tc0,0.4,0.3,0.7,0.7,0.7h6.2c0.4,0,0.7-0.3,0.7-0.7v-0.1v-27v-3.3L163.1,105.6L163.1,105.6z\"/>\\n\\t<path class=\"st3\" d=\"M56.4,87.7c0-0.3,0.3-0.7,0.7-0.7h11.6c0.4,0,0.7,0.2,0.7,0.7v2.9c0,0.3-0.3,0.7-0.7,0.7H57.1\\n\\t\\tc-0.4,0-0.7-0.2-0.7-0.7V87.7z M75.2,87.7c0-0.3,0.3-0.7,0.7-0.7h11.6c0.4,0,0.7,0.2,0.7,0.7v2.9c0,0.3-0.3,0.7-0.7,0.7H75.8\\n\\t\\tc-0.4,0-0.7-0.2-0.7-0.7L75.2,87.7L75.2,87.7z M93.9,87.7c0-0.3,0.3-0.7,0.7-0.7h11.6c0.4,0,0.7,0.2,0.7,0.7v2.9\\n\\t\\tc0,0.3-0.3,0.7-0.7,0.7H94.6c-0.4,0-0.7-0.2-0.7-0.7V87.7z M112.6,87.7c0-0.3,0.3-0.7,0.7-0.7h13.5c0.4,0,0.7,0.2,0.7,0.7v1.9h87.8\\n\\t\\tv-1.8c0-0.3,0.3-0.7,0.7-0.7h13.5c0.4,0,0.7,0.2,0.7,0.7v2.9c0,0.3-0.3,0.7-0.7,0.7H113.3c-0.4,0-0.7-0.2-0.7-0.7V87.7z M135,83.7\\n\\t\\tl36.5-14.7L208,83.7h-6.1l-15.2-6.1l-15.2-6.1l-15.2,6.1L141,83.7H135z M236.1,87.7c0-0.3,0.3-0.7,0.7-0.7h11.6\\n\\t\\tc0.4,0,0.7,0.2,0.7,0.7v2.9c0,0.3-0.3,0.7-0.7,0.7h-11.6c-0.4,0-0.7-0.2-0.7-0.7V87.7z M254.8,87.7c0-0.3,0.3-0.7,0.7-0.7h11.6\\n\\t\\tc0.4,0,0.7,0.2,0.7,0.7v2.9c0,0.3-0.3,0.7-0.7,0.7h-11.6c-0.4,0-0.7-0.2-0.7-0.7V87.7z M273.6,87.7c0-0.3,0.3-0.7,0.7-0.7h11.6\\n\\t\\tc0.4,0,0.7,0.2,0.7,0.7v2.9c0,0.3-0.3,0.7-0.7,0.7h-11.6c-0.4,0-0.7-0.2-0.7-0.7V87.7z M218.5,127.6l5.2-2.2c0.1,0,0.1,0,0.2,0\\n\\t\\ts0.1,0,0.2,0l5.2,2.2c0.2,0.1,0.2,0.2,0.2,0.4c0,0.2-0.2,0.2-0.3,0.2h-10.5c-0.2,0-0.3-0.1-0.3-0.2\\n\\t\\tC218.2,127.8,218.3,127.6,218.5,127.6z M219,118.7c0-0.1,0.1-0.2,0.2-0.3c0.2-0.3,0.4-0.7,0.4-1.2v-7.2c0-0.5-0.2-0.9-0.4-1.2\\n\\t\\tc-0.1-0.1-0.2-0.2-0.2-0.3v-1.4c0-0.2,0.2-0.3,0.3-0.3h9.1c0.2,0,0.3,0.2,0.3,0.3v1.4c0,0.1-0.1,0.2-0.2,0.3\\n\\t\\tc-0.2,0.3-0.4,0.7-0.4,1.2v7.1c0,0.5,0.2,0.9,0.4,1.2c0.1,0.1,0.2,0.2,0.2,0.3v3.2c0,0.2-0.2,0.3-0.3,0.3h-9.1\\n\\t\\tc-0.2,0-0.3-0.2-0.3-0.3V118.7z M237.3,127.4c0.2-0.2,0.3-0.2,0.5-0.4c1.4-1,3-1.5,4.7-1.5c1.9,0,3.7,0.7,5.2,1.9l0.1,0.1\\n\\t\\tc0.1,0.1,0.1,0.2,0.1,0.3s-0.1,0.2-0.2,0.2c0,0,0,0-0.1,0c0,0,0,0-0.1,0h-0.1h-10c-0.1,0-0.2-0.1-0.2-0.1c-0.1-0.1-0.1-0.1-0.1-0.2\\n\\t\\tC237.2,127.7,237.2,127.5,237.3,127.4z M237.7,118.7c0-0.1,0.1-0.2,0.2-0.3c0.2-0.3,0.4-0.7,0.4-1.2v-7.2c0-0.5-0.2-0.9-0.4-1.2\\n\\t\\tc-0.1-0.1-0.2-0.2-0.2-0.3v-1.4c0-0.2,0.2-0.3,0.3-0.3h9.1c0.2,0,0.3,0.2,0.3,0.3v1.4c0,0.1-0.1,0.2-0.2,0.3\\n\\t\\tc-0.2,0.3-0.4,0.7-0.4,1.2v7.1c0,0.5,0.2,0.9,0.4,1.2c0.1,0.1,0.2,0.2,0.2,0.3v3.2c0,0.2-0.2,0.3-0.3,0.3H238\\n\\t\\tc-0.2,0-0.3-0.2-0.3-0.3V118.7z M255.9,127.6l5.3-2.2c0.1,0,0.1,0,0.2,0h0.1c0,0,0,0,0.1,0l5.2,2.2c0.1,0,0.1,0.1,0.2,0.1\\n\\t\\tc0.1,0.1,0.1,0.2,0.1,0.2c0,0.1-0.1,0.2-0.2,0.2c-0.1,0-0.1,0.1-0.2,0.1h-10.5c-0.1,0-0.2,0-0.2-0.1c-0.1,0-0.1-0.1-0.2-0.2V128\\n\\t\\tC255.7,127.9,255.7,127.7,255.9,127.6z M256.5,118.7c0-0.1,0.1-0.2,0.2-0.3c0.2-0.3,0.4-0.7,0.4-1.2v-7.2c0-0.5-0.2-0.9-0.4-1.2\\n\\t\\tc-0.1-0.1-0.2-0.2-0.2-0.3v-1.4c0-0.2,0.2-0.3,0.3-0.3h9.1c0.2,0,0.3,0.2,0.3,0.3v1.4c0,0.1-0.1,0.2-0.2,0.3\\n\\t\\tc-0.2,0.3-0.4,0.7-0.4,1.2v7.1c0,0.5,0.2,0.9,0.4,1.2c0.1,0.1,0.2,0.2,0.2,0.3v3.2c0,0.2-0.2,0.3-0.3,0.3h-9.1\\n\\t\\tc-0.2,0-0.3-0.2-0.3-0.3V118.7z M274.8,127.4c0.2-0.2,0.3-0.2,0.5-0.4c1.4-1,3-1.5,4.7-1.5c1.9,0,3.7,0.7,5.2,1.9l0.1,0.1\\n\\t\\tc0.1,0.1,0.1,0.2,0.1,0.3s-0.1,0.2-0.2,0.2c0,0,0,0-0.1,0c0,0,0,0-0.1,0H285h-10c-0.1,0-0.2-0.1-0.2-0.1c-0.1-0.1-0.1-0.1-0.1-0.2\\n\\t\\tC274.6,127.7,274.7,127.5,274.8,127.4z M275.2,118.7c0-0.1,0.1-0.2,0.2-0.3c0.2-0.3,0.4-0.7,0.4-1.2v-7.2c0-0.5-0.2-0.9-0.4-1.2\\n\\t\\tc-0.1-0.1-0.2-0.2-0.2-0.3v-1.4c0-0.2,0.2-0.3,0.3-0.3h9.1c0.2,0,0.3,0.2,0.3,0.3v1.4c0,0.1-0.1,0.2-0.2,0.3\\n\\t\\tc-0.2,0.3-0.4,0.7-0.4,1.2v7.1c0,0.5,0.2,0.9,0.4,1.2c0.1,0.1,0.2,0.2,0.2,0.3v3.2c0,0.2-0.2,0.3-0.3,0.3h-9.1\\n\\t\\tc-0.2,0-0.3-0.2-0.3-0.3V118.7z M284.9,131.9c0,0.1-0.1,0.2-0.2,0.3c-0.2,0.3-0.4,0.7-0.4,1.2v8.7c0,0.5,0.2,0.9,0.4,1.2\\n\\t\\tc0.1,0.1,0.2,0.2,0.2,0.3v3.2c0,0.2-0.2,0.3-0.3,0.3h-9.1c-0.2,0-0.3-0.2-0.3-0.3v-3.2c0-0.1,0.1-0.2,0.2-0.3\\n\\t\\tc0.2-0.3,0.4-0.7,0.4-1.2v-8.7c0-0.5-0.2-0.9-0.4-1.2c-0.1-0.1-0.2-0.2-0.2-0.3v-1.4c0-0.2,0.2-0.3,0.3-0.3h9.1\\n\\t\\tc0.2,0,0.3,0.2,0.3,0.3V131.9z M266.2,131.9c0,0.1-0.1,0.2-0.2,0.3c-0.2,0.3-0.4,0.7-0.4,1.2v8.7c0,0.5,0.2,0.9,0.4,1.2\\n\\t\\tc0.1,0.1,0.2,0.2,0.2,0.3v3.2c0,0.2-0.2,0.3-0.3,0.3h-9.1c-0.2,0-0.3-0.2-0.3-0.3v-3.2c0-0.1,0.1-0.2,0.2-0.3\\n\\t\\tc0.2-0.3,0.4-0.7,0.4-1.2v-8.7c0-0.5-0.2-0.9-0.4-1.2c-0.1-0.1-0.2-0.2-0.2-0.3v-1.4c0-0.2,0.2-0.3,0.3-0.3h9.1\\n\\t\\tc0.2,0,0.3,0.2,0.3,0.3V131.9z M247.4,131.9c0,0.1-0.1,0.2-0.2,0.3c-0.2,0.3-0.4,0.7-0.4,1.2v8.7c0,0.5,0.2,0.9,0.4,1.2\\n\\t\\tc0.1,0.1,0.2,0.2,0.2,0.3v3.2c0,0.2-0.2,0.3-0.3,0.3H238c-0.2,0-0.3-0.2-0.3-0.3v-3.2c0-0.1,0.1-0.2,0.2-0.3\\n\\t\\tc0.2-0.3,0.4-0.7,0.4-1.2v-8.7c0-0.5-0.2-0.9-0.4-1.2c-0.1-0.1-0.2-0.2-0.2-0.3v-1.4c0-0.2,0.2-0.3,0.3-0.3h9.1\\n\\t\\tc0.2,0,0.3,0.2,0.3,0.3V131.9z M228.7,131.9c0,0.1-0.1,0.2-0.2,0.3c-0.2,0.3-0.4,0.7-0.4,1.2v8.7c0,0.5,0.2,0.9,0.4,1.2\\n\\t\\tc0.1,0.1,0.2,0.2,0.2,0.3v3.2c0,0.2-0.2,0.3-0.3,0.3h-9.1c-0.2,0-0.3-0.2-0.3-0.3v-3.2c0-0.1,0.1-0.2,0.2-0.3\\n\\t\\tc0.2-0.3,0.4-0.7,0.4-1.2v-8.7c0-0.5-0.2-0.9-0.4-1.2c-0.1-0.1-0.2-0.2-0.2-0.3v-1.4c0-0.2,0.2-0.3,0.3-0.3h9.1\\n\\t\\tc0.2,0,0.3,0.2,0.3,0.3V131.9z M124.4,128.3h-10.5c-0.2,0-0.3-0.1-0.3-0.2c0-0.2,0.1-0.3,0.2-0.4l5.2-2.2c0.1,0,0.1,0,0.2,0\\n\\t\\tc0.1,0,0.1,0,0.2,0l5.2,2.2c0.2,0.1,0.2,0.2,0.2,0.4C124.7,128.2,124.6,128.3,124.4,128.3z M124,131.9c0,0.1-0.1,0.2-0.2,0.3\\n\\t\\tc-0.2,0.3-0.4,0.7-0.4,1.2v8.7c0,0.5,0.2,0.9,0.4,1.2c0.1,0.1,0.2,0.2,0.2,0.3v3.2c0,0.2-0.2,0.3-0.3,0.3h-9.1\\n\\t\\tc-0.2,0-0.3-0.2-0.3-0.3v-3.2c0-0.1,0.1-0.2,0.2-0.3c0.2-0.3,0.4-0.7,0.4-1.2v-8.7c0-0.5-0.2-0.9-0.4-1.2c-0.1-0.1-0.2-0.2-0.2-0.3\\n\\t\\tv-1.4c0-0.2,0.2-0.3,0.3-0.3h9.1c0.2,0,0.3,0.2,0.3,0.3V131.9z M105.8,127.9c0,0.1-0.1,0.1-0.1,0.2l-0.1,0.1\\n\\t\\tc-0.1,0-0.1,0.1-0.2,0.1h-10c-0.1,0-0.1,0-0.2-0.1c-0.2-0.1-0.2-0.2-0.2-0.2s0-0.2,0-0.3c0,0,0-0.1,0.1-0.1c0,0,0-0.1,0.1-0.1\\n\\t\\tc0.3-0.3,0.7-0.6,1.2-0.8c0,0,0.1,0,0.1-0.1c1.2-0.7,2.6-1.1,4-1.1c1.9,0,3.7,0.7,5.2,1.9C105.8,127.5,105.9,127.7,105.8,127.9z\\n\\t\\t M105.3,131.9c0,0.1-0.1,0.2-0.2,0.3c-0.2,0.3-0.4,0.7-0.4,1.2v8.7c0,0.5,0.2,0.9,0.4,1.2c0.1,0.1,0.2,0.2,0.2,0.3v3.2\\n\\t\\tc0,0.2-0.2,0.3-0.3,0.3h-9.1c-0.2,0-0.3-0.2-0.3-0.3v-3.2c0-0.1,0.1-0.2,0.2-0.3c0.2-0.3,0.4-0.7,0.4-1.2v-8.7\\n\\t\\tc0-0.5-0.2-0.9-0.4-1.2c-0.1-0.1-0.2-0.2-0.2-0.3v-1.4c0-0.2,0.2-0.3,0.3-0.3h9.1c0.2,0,0.3,0.2,0.3,0.3V131.9z M87.1,128.2\\n\\t\\tc-0.1,0-0.1,0.1-0.2,0.1H76.4c-0.1,0-0.1,0-0.2,0s-0.2-0.1-0.2-0.2V128c0-0.2,0.1-0.3,0.2-0.4l5.2-2.2c0,0,0,0,0.1,0h0.1\\n\\t\\tc0.1,0,0.1,0,0.2,0l5.2,2.2c0.2,0.1,0.2,0.2,0.2,0.4C87.2,128.1,87.2,128.2,87.1,128.2z M86.6,131.9c0,0.1-0.1,0.2-0.2,0.3\\n\\t\\tc-0.2,0.3-0.4,0.7-0.4,1.2v8.7c0,0.5,0.2,0.9,0.4,1.2c0.1,0.1,0.2,0.2,0.2,0.3v3.2c0,0.2-0.2,0.3-0.3,0.3h-9.1\\n\\t\\tc-0.2,0-0.3-0.2-0.3-0.3v-3.2c0-0.1,0.1-0.2,0.2-0.3c0.2-0.3,0.4-0.7,0.4-1.2v-8.7c0-0.5-0.2-0.9-0.4-1.2c-0.1-0.1-0.2-0.2-0.2-0.3\\n\\t\\tv-1.4c0-0.2,0.2-0.3,0.3-0.3h9.1c0.2,0,0.3,0.2,0.3,0.3V131.9z M68.4,127.9c0,0.1-0.1,0.2-0.2,0.2c-0.1,0-0.1,0.1-0.2,0.1H58\\n\\t\\tc0,0,0,0-0.1,0h-0.1c-0.1-0.1-0.2-0.2-0.2-0.2c-0.1-0.2,0-0.3,0.1-0.4c0,0,0,0,0.1-0.1c0.2-0.1,0.2-0.2,0.4-0.3\\n\\t\\tc0.1-0.1,0.2-0.1,0.2-0.2c0.2-0.1,0.2-0.2,0.4-0.2c0.1-0.1,0.2-0.2,0.4-0.2c1.2-0.6,2.4-0.9,3.7-0.9c1.9,0,3.7,0.7,5.2,1.9\\n\\t\\tC68.4,127.5,68.4,127.7,68.4,127.9z M67.8,131.9c0,0.1-0.1,0.2-0.2,0.3c-0.2,0.3-0.4,0.7-0.4,1.2v8.7c0,0.5,0.2,0.9,0.4,1.2\\n\\t\\tc0.1,0.1,0.2,0.2,0.2,0.3v3.2c0,0.2-0.2,0.3-0.3,0.3h-9.1c-0.2,0-0.3-0.2-0.3-0.3v-3.2c0-0.1,0.1-0.2,0.2-0.3\\n\\t\\tc0.2-0.3,0.4-0.7,0.4-1.2v-8.7c0-0.5-0.2-0.9-0.4-1.2c-0.1-0.1-0.2-0.2-0.2-0.3v-1.4c0-0.2,0.2-0.3,0.3-0.3h9.1\\n\\t\\tc0.2,0,0.3,0.2,0.3,0.3V131.9z M58.1,118.7c0-0.1,0.1-0.2,0.2-0.3c0.2-0.3,0.4-0.7,0.4-1.2v-7.1c0-0.5-0.2-0.9-0.4-1.2\\n\\t\\tc-0.1-0.1-0.2-0.2-0.2-0.3v-1.5c0-0.2,0.2-0.3,0.3-0.3h9.1c0.2,0,0.3,0.2,0.3,0.3v1.4c0,0.1-0.1,0.2-0.2,0.3\\n\\t\\tc-0.2,0.3-0.4,0.7-0.4,1.2v7.2c0,0.5,0.2,0.9,0.4,1.2c0.1,0.1,0.2,0.2,0.2,0.3v3.2c0,0.2-0.2,0.3-0.3,0.3h-9.1\\n\\t\\tc-0.2,0-0.3-0.2-0.3-0.3L58.1,118.7L58.1,118.7z M76.8,118.7c0-0.1,0.1-0.2,0.2-0.3c0.2-0.3,0.4-0.7,0.4-1.2v-7.1\\n\\t\\tc0-0.5-0.2-0.9-0.4-1.2c-0.1-0.1-0.2-0.2-0.2-0.3v-1.5c0-0.2,0.2-0.3,0.3-0.3h9.1c0.2,0,0.3,0.2,0.3,0.3v1.4c0,0.1-0.1,0.2-0.2,0.3\\n\\t\\tc-0.2,0.3-0.4,0.7-0.4,1.2v7.2c0,0.5,0.2,0.9,0.4,1.2c0.1,0.1,0.2,0.2,0.2,0.3v3.2c0,0.2-0.2,0.3-0.3,0.3h-9.1\\n\\t\\tc-0.2,0-0.3-0.2-0.3-0.3V118.7z M95.6,118.7c0-0.1,0.1-0.2,0.2-0.3c0.2-0.3,0.4-0.7,0.4-1.2v-7.1c0-0.5-0.2-0.9-0.4-1.2\\n\\t\\tc-0.1-0.1-0.2-0.2-0.2-0.3v-1.5c0-0.2,0.2-0.3,0.3-0.3h9.1c0.2,0,0.3,0.2,0.3,0.3v1.4c0,0.1-0.1,0.2-0.2,0.3\\n\\t\\tc-0.2,0.3-0.4,0.7-0.4,1.2v7.2c0,0.5,0.2,0.9,0.4,1.2c0.1,0.1,0.2,0.2,0.2,0.3v3.2c0,0.2-0.2,0.3-0.3,0.3h-9.1\\n\\t\\tc-0.2,0-0.3-0.2-0.3-0.3V118.7z M114.3,118.7c0-0.1,0.1-0.2,0.2-0.3c0.2-0.3,0.4-0.7,0.4-1.2v-7.1c0-0.5-0.2-0.9-0.4-1.2\\n\\t\\tc-0.1-0.1-0.2-0.2-0.2-0.3v-1.5c0-0.2,0.2-0.3,0.3-0.3h9.1c0.2,0,0.3,0.2,0.3,0.3v1.4c0,0.1-0.1,0.2-0.2,0.3\\n\\t\\tc-0.2,0.3-0.4,0.7-0.4,1.2v7.2c0,0.5,0.2,0.9,0.4,1.2c0.1,0.1,0.2,0.2,0.2,0.3v3.2c0,0.2-0.2,0.3-0.3,0.3h-9.1\\n\\t\\tc-0.2,0-0.3-0.2-0.3-0.3V118.7z M49.2,85.9h2.1c0,0,0.1,0,0.1,0.1v8.5c0,0.2,0.2,0.3,0.4,0.3h76.1c0.3,0.6,0.7,1.2,0.9,1.8\\n\\t\\tc-4.8,0-79.5,0-79.5,0c-0.2,0-0.5,0.2-0.5,0.5v2.4c0,0.3,0.2,0.5,0.5,0.5h80.3c0,0,0,0.7,0,2.2H51.6c-0.2,0-0.2,0.1-0.2,0.2v47.7\\n\\t\\tc0.2,0,85.2,0,85.2,0c0.4,0,0.7-0.3,0.7-0.7v-0.1c0-0.4,0.1-48.9,0.1-48.9c0-0.3,0-0.4,0-0.4c0.1-0.9,0.3-1.8,0.6-2.7\\n\\t\\tc0.3-0.9,0.7-1.7,1.2-2.6h29.8h5.2h29.8c0.5,0.8,0.9,1.7,1.2,2.6s0.5,1.7,0.6,2.7c0,0,0,0.2,0,0.4c0,0,0.1,48.5,0.1,48.9v0.1\\n\\t\\tc0,0.4,0.3,0.7,0.7,0.7l83.1-0.1h0.2h1.6c0.2,0,0.2-0.1,0.2-0.2v-47.4c0-0.2-0.1-0.2-0.2-0.2h-78.1c0-1.3,0-2.1,0-2.2h80.3\\n\\t\\tc0.3,0,0.5-0.2,0.5-0.5v-2.4c0-0.2-0.2-0.5-0.5-0.5c0,0-74.7,0-79.5,0c0.2-0.6,0.6-1.2,0.9-1.8h76.2c0.2,0,0.4-0.1,0.4-0.3V86\\n\\t\\tc0,0,0-0.1,0.1-0.1h2.1c0.3,0,0.5-0.2,0.5-0.5v-1.1c0-0.3-0.2-0.5-0.5-0.5H218c-0.3,0-0.7-0.1-1-0.2l-44.7-18.1v-2.9v-0.9\\n\\t\\tc0.9-0.2,2.2-0.5,3.2-0.2c5.1,1.7,6.2,1.1,6.2,1c-0.9-1.2-0.6-3.9-0.6-3.9c0.3-2.4,0.2-2.9,0.2-3c-0.2,0.1-1.6,0.9-5-0.2\\n\\t\\tc-1.8-0.6-3.2-0.7-4-0.8c0-0.5-0.4-0.8-0.9-0.8c-0.4,0.1-0.7,0.4-0.7,0.9v10.7l-44.7,18.1c-0.3,0.2-0.7,0.2-1,0.2H49.2\\n\\t\\tc-0.3,0-0.5,0.2-0.5,0.5v1.1C48.7,85.7,48.9,85.9,49.2,85.9z\"/>\\n\\t<polygon class=\"st3\" points=\"198.6,96.5 171.5,126.9 144.4,96.5 144.4,96.5 144,96.7 171.2,127.3 171.2,127.2 171.7,127.2\\n\\t\\t171.8,127.3 198.9,96.8 198.9,96.7 \\t\"/>\\n\\t<path class=\"st3\" d=\"M172.3,125.7h-1.7c-0.4,0-0.6,0.3-0.6,0.6v4.8c0,0.4,0.3,0.6,0.6,0.6h1.7c0.4,0,0.6-0.3,0.6-0.6v-4.8\\n\\t\\tC172.9,125.9,172.7,125.7,172.3,125.7z\"/>\\n</g>\\n</svg>\\n\\t\\t\\t\\t</a>\\n\\t\\t\\t</div>\\n\\t\\t\\t\\t\\t\\t<div class=\"site-header__menu-wrap\">\\n\\t\\t\\t\\t<nav\\n\\t\\t\\t\\tclass=\"col primary-menu  over-four-items over-fourty-characters over-fifty-characters\"\\n\\t\\t\\t\\tdata-itemcount=\"5\"\\n\\t\\t\\t\\tdata-textlength=\"53\" aria-label=\"Primary Navigation\"\\n\\t\\t\\t\\t>\\n\\n\\t\\t\\t\\t\\t<ul class=\"mobile-home-link\">\\n\\t\\t\\t\\t\\t\\t<li class=\"navlink\">\\n\\t\\t\\t\\t\\t\\t\\t<a aria-current=\"page\" href=\"https://www.whitehouse.gov\">\\n\\t\\t\\t\\t\\t\\t\\t\\tHome\\t\\t\\t\\t\\t\\t\\t</a>\\n\\t\\t\\t\\t\\t\\t</li>\\n\\t\\t\\t\\t\\t</ul>\\n\\n\\t\\t\\t\\t\\t<ul id=\"primary-navigation\" class=\"row menu site-header__item_inner\"><li id=\"menu-item-61\" class=\"menu-item menu-item-type-post_type menu-item-object-page menu-item-61 navlink top-level-menu-item\"><a href=\"https://www.whitehouse.gov/administration/\">Administration</a></li>\\n<li id=\"menu-item-64\" class=\"menu-item menu-item-type-post_type menu-item-object-page menu-item-64 navlink top-level-menu-item\"><a href=\"https://www.whitehouse.gov/priorities/\">Priorities</a></li>\\n<li id=\"menu-item-2221\" class=\"menu-item menu-item-type-post_type menu-item-object-page menu-item-2221 navlink top-level-menu-item\"><a href=\"https://www.whitehouse.gov/priorities/covid-19/\">COVID-19</a></li>\\n<li id=\"menu-item-2787\" class=\"menu-item menu-item-type-post_type menu-item-object-page current-menu-item page_item page-item-55 current_page_item current_page_parent menu-item-2787 navlink top-level-menu-item\"><a href=\"https://www.whitehouse.gov/briefing-room/\" aria-current=\"page\">Briefing Room</a></li>\\n<li id=\"menu-item-199\" class=\"site-id-2 mlp-language-nav-item menu-item menu-item-type-mlp_language menu-item-object-mlp_language menu-item-199 navlink top-level-menu-item\"><a rel=\"alternate\" href=\"https://www.whitehouse.gov/es/prensa/\" lang=\"es-US\">Espa\\xc3\\xb1ol</a></li>\\n</ul>\\t\\t\\t\\t</nav>\\n\\n\\t\\t\\t\\t<div class=\"site-header__menu-wrap__footer\">\\n\\t\\t\\t\\t\\t\\t\\t\\t\\t<div class=\"site-header__menu-wrap__footer__social\">\\n\\t\\t\\t\\t\\t\\t<nav class=\"col-xs-12 col-md-6\" aria-label=\"Social Navigation\">\\n\\t\\t\\t\\t\\t\\t<ul id=\"social-navigation-footer\" class=\"social-simple\"><li id=\"menu-item-87\" class=\"menu-item menu-item-type-custom menu-item-object-custom menu-item-87 col-auto top-level-menu-item\"><a target=\"_blank\" rel=\"noopener noreferrer\" href=\"https://www.instagram.com/whitehouse/\" class=\"external-link\"><svg aria-hidden=\"true\" tabindex=\"-1\" viewBox=\"0 0 21 20\" xmlns=\"http://www.w3.org/2000/svg\"><path d=\"M6.928 6.27c.974-.974 2.148-1.461 3.523-1.461s2.535.487 3.48 1.46c.975.946 1.462 2.106 1.462 3.481s-.487 2.55-1.461 3.523c-.946.946-2.106 1.418-3.48 1.418-1.376 0-2.55-.472-3.524-1.418C5.982 12.3 5.51 11.125 5.51 9.75s.472-2.535 1.418-3.48zm1.246 5.757c.63.63 1.39.946 2.277.946.888 0 1.647-.315 2.277-.946.63-.63.946-1.389.946-2.277 0-.888-.315-1.647-.945-2.277a3.104 3.104 0 00-2.278-.946c-.888 0-1.647.315-2.277.946-.63.63-.945 1.389-.945 2.277 0 .888.315 1.647.945 2.277zM16.38 3.82c.229.2.344.459.344.774s-.115.587-.344.816a.981.981 0 01-.774.344c-.315 0-.587-.115-.816-.344a1.115 1.115 0 01-.344-.816.98.98 0 01.344-.774c.23-.229.501-.343.816-.343.316 0 .573.114.774.343zm3.652 1.977c.029.773.043 2.091.043 3.953 0 1.862-.014 3.18-.043 3.953-.086 1.748-.616 3.108-1.59 4.082-.945.945-2.291 1.447-4.039 1.504-.773.057-2.09.086-3.953.086-1.862 0-3.18-.029-3.953-.086-1.747-.086-3.094-.602-4.039-1.547a4.148 4.148 0 01-.902-1.203 7.057 7.057 0 01-.516-1.332 7.744 7.744 0 01-.129-1.504C.855 12.93.826 11.612.826 9.75c0-1.862.029-3.194.086-3.996.086-1.719.602-3.05 1.547-3.996C3.404.784 4.751.254 6.499.168 7.27.139 8.588.125 10.45.125s3.18.014 3.953.043c1.748.086 3.094.616 4.04 1.59.973.945 1.503 2.291 1.59 4.039zm-2.062 9.625c.086-.23.157-.516.215-.86.057-.372.1-.802.128-1.289.03-.515.043-.93.043-1.246v-1.332-.945-.945-1.332c0-.315-.014-.716-.043-1.203a12.168 12.168 0 00-.128-1.29 4.652 4.652 0 00-.215-.902c-.344-.888-.96-1.504-1.848-1.848a4.654 4.654 0 00-.902-.214c-.344-.058-.774-.1-1.29-.13a21.227 21.227 0 00-1.202-.042H8.174c-.315 0-.73.014-1.246.043-.487.028-.917.071-1.29.129a4.68 4.68 0 00-.859.214c-.888.344-1.504.96-1.847 1.848-.086.23-.158.53-.215.902-.057.344-.1.774-.13 1.29a21.23 21.23 0 00-.042 1.203v5.155c.029.43.057.803.086 1.118a11.384 11.384 0 00.3 1.676c.373.888.989 1.504 1.848 1.848.23.085.516.157.86.214.372.058.802.1 1.289.13.515.028.916.042 1.203.042h4.597c.316 0 .717-.014 1.204-.043.515-.028.945-.071 1.289-.129a4.65 4.65 0 00.902-.215c.888-.372 1.504-.988 1.848-1.847z\"/></svg><span class=\"screen-reader-text\">Instagram<span class=\"screen-reader-text\">Opens in a new window</span></span></a></li>\\n<li id=\"menu-item-88\" class=\"menu-item menu-item-type-custom menu-item-object-custom menu-item-88 col-auto top-level-menu-item\"><a target=\"_blank\" rel=\"noopener noreferrer\" href=\"https://www.facebook.com/WhiteHouse/\" class=\"external-link\"><svg aria-hidden=\"true\" tabindex=\"-1\" viewBox=\"0 0 11 19\" xmlns=\"http://www.w3.org/2000/svg\"><path d=\"M9.722 10.375H7.086v7.875H3.57v-7.875H.722v-3.27H3.57v-2.46c0-.938.176-1.735.527-2.391A3.454 3.454 0 015.574.777C6.23.426 6.98.25 7.824.25c.375 0 .773.023 1.195.07.422.024.75.059.985.106l.351.035v2.777H8.95c-.656 0-1.137.176-1.441.528-.282.328-.422.738-.422 1.23v2.11h3.129l-.493 3.269z\"/></svg><span class=\"screen-reader-text\">Facebook<span class=\"screen-reader-text\">Opens in a new window</span></span></a></li>\\n<li id=\"menu-item-89\" class=\"menu-item menu-item-type-custom menu-item-object-custom menu-item-89 col-auto top-level-menu-item\"><a target=\"_blank\" rel=\"noopener noreferrer\" href=\"https://twitter.com/whitehouse\" class=\"external-link\"><svg aria-hidden=\"true\" tabindex=\"-1\" viewBox=\"0 0 1792 1792\" xmlns=\"http://www.w3.org/2000/svg\"><path d=\"M1684 408q-67 98-162 167 1 14 1 42 0 130-38 259.5T1369.5 1125 1185 1335.5t-258 146-323 54.5q-271 0-496-145 35 4 78 4 225 0 401-138-105-2-188-64.5T285 1033q33 5 61 5 43 0 85-11-112-23-185.5-111.5T172 710v-4q68 38 146 41-66-44-105-115t-39-154q0-88 44-163 121 149 294.5 238.5T884 653q-8-38-8-74 0-134 94.5-228.5T1199 256q140 0 236 102 109-21 205-78-37 115-142 178 93-10 186-50z\"/></svg><span class=\"screen-reader-text\">Twitter<span class=\"screen-reader-text\">Opens in a new window</span></span></a></li>\\n<li id=\"menu-item-90\" class=\"menu-item menu-item-type-custom menu-item-object-custom menu-item-90 col-auto top-level-menu-item\"><a target=\"_blank\" rel=\"noopener noreferrer\" href=\"https://www.youtube.com/user/whitehouse\" class=\"external-link\"><svg aria-hidden=\"true\" tabindex=\"-1\" viewBox=\"0 0 18 12\" fill=\"none\" xmlns=\"http://www.w3.org/2000/svg\"><path d=\"M17.156 1.906a2.126 2.126 0 00-1.5-1.531C14.312 0 9 0 9 0S3.656 0 2.312.375a2.126 2.126 0 00-1.5 1.531C.438 3.22.438 6.031.438 6.031s0 2.782.376 4.125c.187.75.78 1.313 1.5 1.5C3.655 12 9 12 9 12s5.313 0 6.656-.344a2.084 2.084 0 001.5-1.5c.375-1.344.375-4.125.375-4.125s0-2.812-.375-4.125zM7.25 8.563V3.5l4.438 2.531L7.25 8.563z\"/></svg><span class=\"screen-reader-text\">YouTube<span class=\"screen-reader-text\">Opens in a new window</span></span></a></li>\\n</ul>\\t\\t\\t\\t\\t\\t</nav><!-- social -->\\n\\t\\t\\t\\t\\t</div>\\n\\t\\t\\t\\t\\t\\t\\t\\t\\t\\t\\t\\t\\t<nav class=\"site-header__menu-wrap__footer__menu\">\\n\\t\\t\\t\\t\\t<ul id=\"header-secondary\" class=\"row menu\"><li id=\"menu-item-109\" class=\"menu-item menu-item-type-post_type menu-item-object-page menu-item-109 small-text top-level-menu-item\"><a href=\"https://www.whitehouse.gov/contact/\">Contact Us</a></li>\\n<li id=\"menu-item-1791\" class=\"menu-item menu-item-type-post_type menu-item-object-page menu-item-1791 small-text top-level-menu-item\"><a href=\"https://www.whitehouse.gov/privacy/\">Privacy Policy</a></li>\\n<li id=\"menu-item-699\" class=\"menu-item menu-item-type-post_type menu-item-object-page menu-item-699 small-text top-level-menu-item\"><a href=\"https://www.whitehouse.gov/copyright/\">Copyright Policy</a></li>\\n<li id=\"menu-item-107\" class=\"menu-item menu-item-type-post_type menu-item-object-page menu-item-107 small-text top-level-menu-item\"><a href=\"https://www.whitehouse.gov/accessibility/\">Accessibility Statement</a></li>\\n<li id=\"menu-item-7953\" class=\"menu-item menu-item-type-post_type menu-item-object-page menu-item-7953 small-text top-level-menu-item\"><a href=\"https://www.whitehouse.gov/disclosures/financial-disclosures/\">Financial Disclosures</a></li>\\n</ul>\\t\\t\\t\\t\\t</nav>\\n\\t\\t\\t\\t\\t\\t\\t\\t</div>\\n\\n\\t\\t\\t</div><!-- site-header-menu-wrap -->\\n\\t\\t\\t\\n\\t\\t\\t<div class=\"mobile-menu-toggle\">\\n\\t\\t\\t\\t<button class=\"mobile-menu-toggle__control js-mobile-menu-control js-open-main-menu\" aria-labelledby=\"mm-label\">\\n\\n\\t\\t\\t\\t\\t<div class=\"hamburger-control__wrapper\">\\n\\n\\t\\t\\t\\t\\t\\t<span class=\"hamburger-control__top\" aria-hidden=\"true\">\\n\\t\\t\\t\\t\\t\\t\\t<span class=\"hamburger-control__top__inner\"></span>\\n\\t\\t\\t\\t\\t\\t</span>\\n\\n\\t\\t\\t\\t\\t\\t<span id=\"mm-label\" class=\"hamburger-control__title\">\\n\\t\\t\\t\\t\\t\\t\\t<span class=\"menu-text\">Menu</span>\\n\\t\\t\\t\\t\\t\\t\\t<span class=\"close-text\">Close</span>\\n\\t\\t\\t\\t\\t\\t</span>\\n\\n\\t\\t\\t\\t\\t\\t<span class=\"hamburger-control\" aria-hidden=\"true\">\\n\\t\\t\\t\\t\\t\\t\\t<span class=\"hamburger-control__inner\"></span>\\n\\t\\t\\t\\t\\t\\t</span>\\n\\n\\t\\t\\t\\t\\t</div>\\n\\n\\t\\t\\t\\t</button>\\n\\t\\t\\t</div><!-- mobile menu toggle -->\\n\\t\\t\\t<form data-searchform role=\"search\" method=\"get\" class=\"search-form\" action=\"https://www.whitehouse.gov/\">\\n\\t<label for=\"search-field-id-6086b7c8cf3a8\"><span class=\"screen-reader-text\">To search this site, enter a search term</span></label>\\n\\t<button class=\"search-close-icon\" aria-label=\"Close\" aria-hidden=\"true\">\\n\\t\\t<svg width=\"13\" height=\"13\" viewBox=\"0 0 13 13\" fill=\"none\" xmlns=\"http://www.w3.org/2000/svg\">\\n<rect x=\"1.26074\" width=\"16.2296\" height=\"1\" transform=\"rotate(45 1.26074 0)\" fill=\"black\"/>\\n<rect x=\"0.737305\" y=\"11.5178\" width=\"16.2296\" height=\"1\" transform=\"rotate(-45 0.737305 11.5178)\" fill=\"black\"/>\\n</svg>\\n\\t</button>\\n\\t<button class=\"search-icon\" aria-label=\"Search\"><svg width=\"34\" height=\"34\" viewBox=\"0 0 34 34\" fill=\"none\" xmlns=\"http://www.w3.org/2000/svg\">\\n<circle cx=\"17\" cy=\"17\" r=\"17\" fill=\"black\"/>\\n<path d=\"M15.7545 21.3039C16.9965 21.305 18.2026 20.8872 19.1779 20.118L22.8589 23.8L23.8002 22.8584L20.1192 19.1764C20.8936 18.1878 21.3101 16.9659 21.3006 15.71C21.2911 14.4542 20.8563 13.2386 20.067 12.2619C19.2778 11.2852 18.1808 10.605 16.9552 10.3324C15.7296 10.0598 14.4479 10.2109 13.3192 10.761C12.1906 11.3112 11.2817 12.2278 10.7411 13.3613C10.2005 14.4948 10.06 15.7782 10.3427 17.0018C10.6253 18.2255 11.3144 19.3171 12.2973 20.0985C13.2802 20.8798 14.499 21.3048 15.7545 21.3039ZM15.7545 11.5325C16.5888 11.5325 17.4043 11.7799 18.098 12.2436C18.7917 12.7072 19.3324 13.3662 19.6516 14.1372C19.9709 14.9082 20.0544 15.7566 19.8917 16.5751C19.7289 17.3936 19.3272 18.1454 18.7372 18.7356C18.1473 19.3257 17.3957 19.7275 16.5774 19.8903C15.7592 20.0531 14.911 19.9696 14.1402 19.6502C13.3695 19.3309 12.7107 18.79 12.2472 18.0961C11.7837 17.4023 11.5363 16.5865 11.5363 15.7519C11.5363 14.6329 11.9807 13.5596 12.7718 12.7683C13.5628 11.977 14.6357 11.5325 15.7545 11.5325Z\" fill=\"white\"/>\\n</svg>\\n</button>\\n\\t<input class=\"search-field\" id=\"search-field-id-6086b7c8cf3a8\" type=\"text\" name=\"s\" aria-required=\"false\"  name=\"s\" autocomplete=\"off\" autocorrect=\"off\" autocapitalize=\"off\" spellcheck=\"false\" required placeholder=\"Search&hellip;\" />\\n\\t<button class=\"search-submit\" aria-hidden=\"true\"><svg width=\"63\" height=\"68\" viewBox=\"0 0 63 68\" fill=\"none\" xmlns=\"http://www.w3.org/2000/svg\">\\n<path d=\"M0.00171813 0L63 33.7444C63 33.7444 0.660551 67.4376 0.00520349 67.9931L0.00171813 68C-0.0014293 68 -0.000243773 67.9977 0.00520349 67.9931L17.0642 34L0.00171813 0Z\" fill=\"currentColor\"/>\\n</svg>\\n<span class=\"screen-reader-text\">Search</span></button>\\n</form>\\n\\t\\t\\t</div>\\n\\t</div>\\n</div>\\n\\n\\n<div class=\"mobile-overlay mobile-nav-overlay\" role=\"dialog\" aria-modal=\"true\" aria-hidden=\"true\" aria-labelledby=\"dialog2Title\">\\n\\t<div class=\"screen-reader-text\">\\n\\t\\t<h2 id=\"dialog2Title\">Mobile Menu Overlay</h2>\\n\\t</div>\\n\\t<div class=\"overlay-header\">\\n\\t\\t<div class=\"overlay-logo\">\\n\\t\\t\\t<a href=\"https://www.whitehouse.gov/\" rel=\"home\">\\n\\t\\t\\t\\t\\n<svg id=\"wh-oval-nofill-6086b7c8cf475\" version=\"1.1\" id=\"Layer_1\" xmlns=\"http://www.w3.org/2000/svg\" xmlns:xlink=\"http://www.w3.org/1999/xlink\" x=\"0px\" y=\"0px\"\\n\\t viewBox=\"0 0 343 243\" style=\"enable-background:new 0 0 343 243;\" xml:space=\"preserve\">\\n<style type=\"text/css\">\\n\\t#wh-oval-nofill-6086b7c8cf475 .st0{fill-rule:evenodd;clip-rule:evenodd;fill:#0A2458;}\\n\\t#wh-oval-nofill-6086b7c8cf475 .st1{opacity:0.5;fill:#0A2458;}\\n\\t#wh-oval-nofill-6086b7c8cf475 .st2{fill:#0A2458;}\\n</style>\\n<path class=\"st0\" d=\"M171.5,229.5c87.3,0,158-48.4,158-108s-70.7-108-158-108s-158,48.4-158,108S84.2,229.5,171.5,229.5z M290.8,209\\n\\tc-31.1,21.3-73.3,34-119.3,34s-88.2-12.7-119.3-34C21.1,187.8,0,157.1,0,121.5S21.1,55.2,52.2,34C83.3,12.7,125.5,0,171.5,0\\n\\ts88.2,12.7,119.3,34c31,21.2,52.2,51.9,52.2,87.5S321.8,187.8,290.8,209z\"/>\\n<g>\\n\\t<g>\\n\\t\\t<rect x=\"168.3\" y=\"134.4\" class=\"st1\" width=\"2.7\" height=\"8.5\"/>\\n\\t\\t<rect x=\"168.3\" y=\"143.9\" class=\"st1\" width=\"2.7\" height=\"8.5\"/>\\n\\t\\t<rect x=\"172\" y=\"143.9\" class=\"st1\" width=\"2.7\" height=\"8.5\"/>\\n\\t\\t<rect x=\"172\" y=\"134.4\" class=\"st1\" width=\"2.7\" height=\"8.4\"/>\\n\\t\\t<path class=\"st1\" d=\"M212.5,92.7h-81.9c-0.6,0-1.1,0.5-1.1,1.1v66c0,0.6,0.5,1.1,1.1,1.1h81.8c0.7,0,1.2-0.5,1.2-1.2v-66\\n\\t\\t\\tC213.6,93.2,213.1,92.7,212.5,92.7z M191.8,118.7c0-0.2,0.1-0.2,0.2-0.3c0.2-0.2,0.4-0.7,0.4-1.2v-7.2c0-0.4-0.2-0.8-0.4-1.2\\n\\t\\t\\tc-0.1-0.1-0.2-0.2-0.2-0.3v-1.4c0-0.2,0.2-0.3,0.3-0.3h9.1c0.2,0,0.3,0.2,0.3,0.3v1.4c0,0.2-0.1,0.2-0.2,0.3\\n\\t\\t\\tc-0.2,0.3-0.4,0.7-0.4,1.2v7.1c0,0.4,0.2,0.8,0.4,1.2c0.1,0.1,0.2,0.2,0.2,0.3v3.2c0,0.2-0.2,0.3-0.3,0.3h-9.1\\n\\t\\t\\tc-0.2,0-0.3-0.2-0.3-0.3V118.7z M166.6,118.7c0-0.2,0.1-0.2,0.2-0.3c0.2-0.2,0.4-0.7,0.4-1.2v-7.1c0-0.4-0.2-0.8-0.4-1.2\\n\\t\\t\\tc-0.1-0.1-0.2-0.2-0.2-0.3v-1.4c0-0.2,0.2-0.3,0.3-0.3h9.1c0.2,0,0.3,0.2,0.3,0.3v1.4c0,0.2-0.1,0.2-0.2,0.3\\n\\t\\t\\tc-0.2,0.2-0.4,0.7-0.4,1.2v7.2c0,0.4,0.2,0.8,0.4,1.2c0.1,0.1,0.2,0.2,0.2,0.3v3.2c0,0.2-0.2,0.3-0.3,0.3h-9.1\\n\\t\\t\\tc-0.2,0-0.3-0.2-0.3-0.3V118.7z M141.5,118.7c0-0.2,0.1-0.2,0.2-0.3c0.2-0.2,0.4-0.7,0.4-1.2v-7.1c0-0.4-0.2-0.8-0.4-1.2\\n\\t\\t\\tc-0.1-0.1-0.2-0.2-0.2-0.3v-1.4c0-0.2,0.2-0.3,0.3-0.3h9.1c0.2,0,0.3,0.2,0.3,0.3v1.4c0,0.2-0.1,0.2-0.2,0.3\\n\\t\\t\\tc-0.2,0.2-0.4,0.7-0.4,1.2v7.2c0,0.4,0.2,0.8,0.4,1.2c0.1,0.1,0.2,0.2,0.2,0.3v3.2c0,0.2-0.2,0.3-0.3,0.3h-9.1\\n\\t\\t\\tc-0.2,0-0.3-0.2-0.3-0.3V118.7z M151.3,131.9c0,0.2-0.1,0.2-0.2,0.3c-0.2,0.2-0.4,0.7-0.4,1.2v8.7c0,0.4,0.2,0.8,0.4,1.2\\n\\t\\t\\tc0.1,0.1,0.2,0.2,0.2,0.3v3.2c0,0.2-0.2,0.3-0.3,0.3h-9.1c-0.2,0-0.3-0.2-0.3-0.3v-3.2c0-0.2,0.1-0.2,0.2-0.3\\n\\t\\t\\tc0.2-0.2,0.4-0.7,0.4-1.2v-8.7c0-0.4-0.2-0.8-0.4-1.2c-0.1-0.1-0.2-0.2-0.2-0.3v-1.4c0-0.2,0.2-0.3,0.3-0.3h9.1\\n\\t\\t\\tc0.2,0,0.3,0.2,0.3,0.3V131.9z M151.8,127.9c-0.1,0.2-0.2,0.2-0.2,0.2h-10c-0.2,0-0.3-0.1-0.4-0.2c-0.1-0.2-0.1-0.4,0.1-0.5\\n\\t\\t\\tc1.5-1.2,3.3-1.9,5.2-1.9c1.9,0,3.7,0.7,5.2,1.9C151.8,127.5,151.9,127.7,151.8,127.9z M176.3,154.1c-3.2,0-6.4,0-9.6,0\\n\\t\\t\\tc-0.2,0-0.5-0.2-0.5-0.5c0-6.9,0-13.7,0-20.7c0.1-6.9,10.4-6.9,10.5,0c0,6.9,0,13.7,0.1,20.7C176.8,153.9,176.5,154.1,176.3,154.1\\n\\t\\t\\tz M201.5,131.9c0,0.2-0.1,0.2-0.2,0.3c-0.2,0.2-0.4,0.7-0.4,1.2v8.7c0,0.4,0.2,0.8,0.4,1.2c0.1,0.1,0.2,0.2,0.2,0.3v3.2\\n\\t\\t\\tc0,0.2-0.2,0.3-0.3,0.3h-9.1c-0.2,0-0.3-0.2-0.3-0.3v-3.2c0-0.2,0.1-0.2,0.2-0.3c0.2-0.2,0.4-0.7,0.4-1.2v-8.7\\n\\t\\t\\tc0-0.4-0.2-0.8-0.4-1.2c-0.1-0.1-0.2-0.2-0.2-0.3v-1.4c0-0.2,0.2-0.3,0.3-0.3h9.1c0.2,0,0.3,0.2,0.3,0.3V131.9z M202,127.9\\n\\t\\t\\tc-0.1,0.2-0.2,0.2-0.2,0.2h-10c-0.2,0-0.3-0.1-0.4-0.2c-0.1-0.2-0.1-0.4,0.1-0.5c1.5-1.2,3.3-1.9,5.2-1.9c1.9,0,3.7,0.7,5.2,1.9\\n\\t\\t\\tC202,127.5,202.1,127.7,202,127.9z\"/>\\n\\t</g>\\n\\t<path class=\"st2\" d=\"M192.6,72.3l2.4,1h20.3l0.8-1.1c0.2-0.2,0-0.4-0.2-0.4h-23.2C192.4,71.8,192.3,72.3,192.6,72.3z\"/>\\n\\t<path class=\"st2\" d=\"M222.2,79.1v3.1c0,0.2,0.2,0.4,0.3,0.4h7.2c0.2,0,0.3-0.2,0.4-0.4v-3.1l1.2-1.7c0.2-0.2,0-0.6-0.2-0.6h-10\\n\\t\\tc-0.3,0-0.5,0.3-0.2,0.6L222.2,79.1z\"/>\\n\\t<path class=\"st2\" d=\"M215.1,166.4h-40h-7.3h-39.9c-0.2,0-0.5,0.2-0.5,0.5v3.7c0,0.2,0.2,0.5,0.5,0.5h40h7.3h40\\n\\t\\tc0.2,0,0.5-0.2,0.5-0.5v-3.7C215.6,166.6,215.4,166.4,215.1,166.4z\"/>\\n\\t<path class=\"st2\" d=\"M197.3,74.3l17.5,6.8c0.2,0.1,0.4-0.1,0.4-0.2v-2.1c0-0.1,0-0.1-0.1-0.2l-0.3-0.5c0-0.1-0.1-0.1-0.1-0.2v-3.7\\n\\t\\tL197.3,74.3L197.3,74.3z\"/>\\n\\t<path class=\"st2\" d=\"M127.7,73.3H148l2.4-1c0.2-0.1,0.2-0.5-0.1-0.5h-23.2c-0.2,0-0.3,0.2-0.2,0.4L127.7,73.3z\"/>\\n\\t<path class=\"st2\" d=\"M112.8,79.1v3.1c0,0.2,0.2,0.4,0.4,0.4h7.2c0.2,0,0.3-0.2,0.3-0.4v-3.1l1.2-1.7c0.2-0.2,0-0.6-0.2-0.6h-10\\n\\t\\tc-0.3,0-0.5,0.3-0.2,0.6L112.8,79.1z\"/>\\n\\t<path class=\"st2\" d=\"M293.8,153.5h-79.4c-0.2-0.7-0.5-1.3-0.7-2h-7.8c-0.2,0-0.4,0.2-0.5,0.4c-0.2,0.6-0.4,1.2-0.7,1.8\\n\\t\\tc-0.2,0.6-0.6,1.2-1,1.7v3.2h-14.1v-3.2c-0.7-1.2-1.2-2.3-1.6-3.6c-0.1-0.2-0.2-0.4-0.5-0.4H180c-0.2,0-0.4,0.2-0.5,0.4\\n\\t\\tc-0.3,1.2-0.8,2.4-1.6,3.6v3.2h-5h-2.7h-5v-3.2c-0.7-1.1-1.2-2.3-1.6-3.6c-0.1-0.2-0.2-0.4-0.5-0.4h-7.5c-0.2,0-0.4,0.2-0.5,0.4\\n\\t\\tc-0.3,1.2-0.9,2.4-1.6,3.6v3.2h-14.1v-3.2c-0.3-0.6-0.7-1.2-1-1.7c-0.2-0.6-0.5-1.2-0.7-1.8c-0.1-0.2-0.2-0.4-0.5-0.4h-7.8\\n\\t\\tc-0.2,0.7-0.4,1.3-0.7,2H49.2c-0.4,0-0.7,0.3-0.7,0.7v6.8c0,0.4,0.3,0.7,0.7,0.7h78.2v2.6c0,0.4,0.3,0.7,0.7,0.7h42.1h2.7H215\\n\\t\\tc0.4,0,0.7-0.3,0.7-0.7v-2.6h78.2c0.4,0,0.7-0.3,0.7-0.7v-6.8C294.5,153.9,294.2,153.5,293.8,153.5z\"/>\\n\\t<path class=\"st2\" d=\"M128.2,78.3l-0.3,0.5c0,0.1-0.1,0.1-0.1,0.2v2.1c0,0.2,0.2,0.3,0.4,0.2l17.5-6.8h-17.4L128.2,78.3\\n\\t\\tC128.3,78.2,128.3,78.2,128.2,78.3z\"/>\\n\\t<path class=\"st2\" d=\"M187.5,107.8c0-0.2,0-0.5,0-0.7c0-3.7,0-7.1,0-7.1c0.2-1.2,0.5-2.3,1-3.5H179c0.5,1.1,0.8,2.2,1,3.5V119v3.8\\n\\t\\tv26.5v0.1c0,0.4,0.3,0.7,0.7,0.7h6.2c0.4,0,0.7-0.3,0.7-0.7c0,0,0-26.1,0-40.4C187.5,108.6,187.5,108.2,187.5,107.8z\"/>\\n\\t<path class=\"st2\" d=\"M163.1,105.6c0.2-6.7,0.5-7.8,1-9h-9.6c0.5,1.1,0.8,2.2,1,3.5c0,0,0,1.1,0,3c0,14.2,0,46.4,0,46.4\\n\\t\\tc0,0.4,0.3,0.7,0.7,0.7h6.2c0.4,0,0.7-0.3,0.7-0.7v-0.1v-27v-3.3L163.1,105.6L163.1,105.6z\"/>\\n\\t<path class=\"st2\" d=\"M56.4,87.7c0-0.3,0.3-0.7,0.7-0.7h11.6c0.4,0,0.7,0.2,0.7,0.7v2.9c0,0.3-0.3,0.7-0.7,0.7H57.1\\n\\t\\tc-0.4,0-0.7-0.2-0.7-0.7V87.7z M75.2,87.7c0-0.3,0.3-0.7,0.7-0.7h11.6c0.4,0,0.7,0.2,0.7,0.7v2.9c0,0.3-0.3,0.7-0.7,0.7H75.8\\n\\t\\tc-0.4,0-0.7-0.2-0.7-0.7L75.2,87.7L75.2,87.7z M93.9,87.7c0-0.3,0.3-0.7,0.7-0.7h11.6c0.4,0,0.7,0.2,0.7,0.7v2.9\\n\\t\\tc0,0.3-0.3,0.7-0.7,0.7H94.6c-0.4,0-0.7-0.2-0.7-0.7V87.7z M112.6,87.7c0-0.3,0.3-0.7,0.7-0.7h13.5c0.4,0,0.7,0.2,0.7,0.7v1.9h87.8\\n\\t\\tv-1.8c0-0.3,0.3-0.7,0.7-0.7h13.5c0.4,0,0.7,0.2,0.7,0.7v2.9c0,0.3-0.3,0.7-0.7,0.7H113.3c-0.4,0-0.7-0.2-0.7-0.7V87.7z M135,83.7\\n\\t\\tl36.5-14.7L208,83.7h-6.1l-15.2-6.1l-15.2-6.1l-15.2,6.1L141,83.7H135z M236.1,87.7c0-0.3,0.3-0.7,0.7-0.7h11.6\\n\\t\\tc0.4,0,0.7,0.2,0.7,0.7v2.9c0,0.3-0.3,0.7-0.7,0.7h-11.6c-0.4,0-0.7-0.2-0.7-0.7V87.7z M254.8,87.7c0-0.3,0.3-0.7,0.7-0.7h11.6\\n\\t\\tc0.4,0,0.7,0.2,0.7,0.7v2.9c0,0.3-0.3,0.7-0.7,0.7h-11.6c-0.4,0-0.7-0.2-0.7-0.7V87.7z M273.6,87.7c0-0.3,0.3-0.7,0.7-0.7h11.6\\n\\t\\tc0.4,0,0.7,0.2,0.7,0.7v2.9c0,0.3-0.3,0.7-0.7,0.7h-11.6c-0.4,0-0.7-0.2-0.7-0.7V87.7z M218.5,127.6l5.2-2.2c0.1,0,0.1,0,0.2,0\\n\\t\\ts0.1,0,0.2,0l5.2,2.2c0.2,0.1,0.2,0.2,0.2,0.4c0,0.2-0.2,0.2-0.3,0.2h-10.5c-0.2,0-0.3-0.1-0.3-0.2\\n\\t\\tC218.2,127.8,218.3,127.6,218.5,127.6z M219,118.7c0-0.1,0.1-0.2,0.2-0.3c0.2-0.3,0.4-0.7,0.4-1.2v-7.2c0-0.5-0.2-0.9-0.4-1.2\\n\\t\\tc-0.1-0.1-0.2-0.2-0.2-0.3v-1.4c0-0.2,0.2-0.3,0.3-0.3h9.1c0.2,0,0.3,0.2,0.3,0.3v1.4c0,0.1-0.1,0.2-0.2,0.3\\n\\t\\tc-0.2,0.3-0.4,0.7-0.4,1.2v7.1c0,0.5,0.2,0.9,0.4,1.2c0.1,0.1,0.2,0.2,0.2,0.3v3.2c0,0.2-0.2,0.3-0.3,0.3h-9.1\\n\\t\\tc-0.2,0-0.3-0.2-0.3-0.3V118.7z M237.3,127.4c0.2-0.2,0.3-0.2,0.5-0.4c1.4-1,3-1.5,4.7-1.5c1.9,0,3.7,0.7,5.2,1.9l0.1,0.1\\n\\t\\tc0.1,0.1,0.1,0.2,0.1,0.3s-0.1,0.2-0.2,0.2c0,0,0,0-0.1,0c0,0,0,0-0.1,0h-0.1h-10c-0.1,0-0.2-0.1-0.2-0.1c-0.1-0.1-0.1-0.1-0.1-0.2\\n\\t\\tC237.2,127.7,237.2,127.5,237.3,127.4z M237.7,118.7c0-0.1,0.1-0.2,0.2-0.3c0.2-0.3,0.4-0.7,0.4-1.2v-7.2c0-0.5-0.2-0.9-0.4-1.2\\n\\t\\tc-0.1-0.1-0.2-0.2-0.2-0.3v-1.4c0-0.2,0.2-0.3,0.3-0.3h9.1c0.2,0,0.3,0.2,0.3,0.3v1.4c0,0.1-0.1,0.2-0.2,0.3\\n\\t\\tc-0.2,0.3-0.4,0.7-0.4,1.2v7.1c0,0.5,0.2,0.9,0.4,1.2c0.1,0.1,0.2,0.2,0.2,0.3v3.2c0,0.2-0.2,0.3-0.3,0.3H238\\n\\t\\tc-0.2,0-0.3-0.2-0.3-0.3V118.7z M255.9,127.6l5.3-2.2c0.1,0,0.1,0,0.2,0h0.1c0,0,0,0,0.1,0l5.2,2.2c0.1,0,0.1,0.1,0.2,0.1\\n\\t\\tc0.1,0.1,0.1,0.2,0.1,0.2c0,0.1-0.1,0.2-0.2,0.2c-0.1,0-0.1,0.1-0.2,0.1h-10.5c-0.1,0-0.2,0-0.2-0.1c-0.1,0-0.1-0.1-0.2-0.2V128\\n\\t\\tC255.7,127.9,255.7,127.7,255.9,127.6z M256.5,118.7c0-0.1,0.1-0.2,0.2-0.3c0.2-0.3,0.4-0.7,0.4-1.2v-7.2c0-0.5-0.2-0.9-0.4-1.2\\n\\t\\tc-0.1-0.1-0.2-0.2-0.2-0.3v-1.4c0-0.2,0.2-0.3,0.3-0.3h9.1c0.2,0,0.3,0.2,0.3,0.3v1.4c0,0.1-0.1,0.2-0.2,0.3\\n\\t\\tc-0.2,0.3-0.4,0.7-0.4,1.2v7.1c0,0.5,0.2,0.9,0.4,1.2c0.1,0.1,0.2,0.2,0.2,0.3v3.2c0,0.2-0.2,0.3-0.3,0.3h-9.1\\n\\t\\tc-0.2,0-0.3-0.2-0.3-0.3V118.7z M274.8,127.4c0.2-0.2,0.3-0.2,0.5-0.4c1.4-1,3-1.5,4.7-1.5c1.9,0,3.7,0.7,5.2,1.9l0.1,0.1\\n\\t\\tc0.1,0.1,0.1,0.2,0.1,0.3s-0.1,0.2-0.2,0.2c0,0,0,0-0.1,0c0,0,0,0-0.1,0H285h-10c-0.1,0-0.2-0.1-0.2-0.1c-0.1-0.1-0.1-0.1-0.1-0.2\\n\\t\\tC274.6,127.7,274.7,127.5,274.8,127.4z M275.2,118.7c0-0.1,0.1-0.2,0.2-0.3c0.2-0.3,0.4-0.7,0.4-1.2v-7.2c0-0.5-0.2-0.9-0.4-1.2\\n\\t\\tc-0.1-0.1-0.2-0.2-0.2-0.3v-1.4c0-0.2,0.2-0.3,0.3-0.3h9.1c0.2,0,0.3,0.2,0.3,0.3v1.4c0,0.1-0.1,0.2-0.2,0.3\\n\\t\\tc-0.2,0.3-0.4,0.7-0.4,1.2v7.1c0,0.5,0.2,0.9,0.4,1.2c0.1,0.1,0.2,0.2,0.2,0.3v3.2c0,0.2-0.2,0.3-0.3,0.3h-9.1\\n\\t\\tc-0.2,0-0.3-0.2-0.3-0.3V118.7z M284.9,131.9c0,0.1-0.1,0.2-0.2,0.3c-0.2,0.3-0.4,0.7-0.4,1.2v8.7c0,0.5,0.2,0.9,0.4,1.2\\n\\t\\tc0.1,0.1,0.2,0.2,0.2,0.3v3.2c0,0.2-0.2,0.3-0.3,0.3h-9.1c-0.2,0-0.3-0.2-0.3-0.3v-3.2c0-0.1,0.1-0.2,0.2-0.3\\n\\t\\tc0.2-0.3,0.4-0.7,0.4-1.2v-8.7c0-0.5-0.2-0.9-0.4-1.2c-0.1-0.1-0.2-0.2-0.2-0.3v-1.4c0-0.2,0.2-0.3,0.3-0.3h9.1\\n\\t\\tc0.2,0,0.3,0.2,0.3,0.3V131.9z M266.2,131.9c0,0.1-0.1,0.2-0.2,0.3c-0.2,0.3-0.4,0.7-0.4,1.2v8.7c0,0.5,0.2,0.9,0.4,1.2\\n\\t\\tc0.1,0.1,0.2,0.2,0.2,0.3v3.2c0,0.2-0.2,0.3-0.3,0.3h-9.1c-0.2,0-0.3-0.2-0.3-0.3v-3.2c0-0.1,0.1-0.2,0.2-0.3\\n\\t\\tc0.2-0.3,0.4-0.7,0.4-1.2v-8.7c0-0.5-0.2-0.9-0.4-1.2c-0.1-0.1-0.2-0.2-0.2-0.3v-1.4c0-0.2,0.2-0.3,0.3-0.3h9.1\\n\\t\\tc0.2,0,0.3,0.2,0.3,0.3V131.9z M247.4,131.9c0,0.1-0.1,0.2-0.2,0.3c-0.2,0.3-0.4,0.7-0.4,1.2v8.7c0,0.5,0.2,0.9,0.4,1.2\\n\\t\\tc0.1,0.1,0.2,0.2,0.2,0.3v3.2c0,0.2-0.2,0.3-0.3,0.3H238c-0.2,0-0.3-0.2-0.3-0.3v-3.2c0-0.1,0.1-0.2,0.2-0.3\\n\\t\\tc0.2-0.3,0.4-0.7,0.4-1.2v-8.7c0-0.5-0.2-0.9-0.4-1.2c-0.1-0.1-0.2-0.2-0.2-0.3v-1.4c0-0.2,0.2-0.3,0.3-0.3h9.1\\n\\t\\tc0.2,0,0.3,0.2,0.3,0.3V131.9z M228.7,131.9c0,0.1-0.1,0.2-0.2,0.3c-0.2,0.3-0.4,0.7-0.4,1.2v8.7c0,0.5,0.2,0.9,0.4,1.2\\n\\t\\tc0.1,0.1,0.2,0.2,0.2,0.3v3.2c0,0.2-0.2,0.3-0.3,0.3h-9.1c-0.2,0-0.3-0.2-0.3-0.3v-3.2c0-0.1,0.1-0.2,0.2-0.3\\n\\t\\tc0.2-0.3,0.4-0.7,0.4-1.2v-8.7c0-0.5-0.2-0.9-0.4-1.2c-0.1-0.1-0.2-0.2-0.2-0.3v-1.4c0-0.2,0.2-0.3,0.3-0.3h9.1\\n\\t\\tc0.2,0,0.3,0.2,0.3,0.3V131.9z M124.4,128.3h-10.5c-0.2,0-0.3-0.1-0.3-0.2c0-0.2,0.1-0.3,0.2-0.4l5.2-2.2c0.1,0,0.1,0,0.2,0\\n\\t\\tc0.1,0,0.1,0,0.2,0l5.2,2.2c0.2,0.1,0.2,0.2,0.2,0.4C124.7,128.2,124.6,128.3,124.4,128.3z M124,131.9c0,0.1-0.1,0.2-0.2,0.3\\n\\t\\tc-0.2,0.3-0.4,0.7-0.4,1.2v8.7c0,0.5,0.2,0.9,0.4,1.2c0.1,0.1,0.2,0.2,0.2,0.3v3.2c0,0.2-0.2,0.3-0.3,0.3h-9.1\\n\\t\\tc-0.2,0-0.3-0.2-0.3-0.3v-3.2c0-0.1,0.1-0.2,0.2-0.3c0.2-0.3,0.4-0.7,0.4-1.2v-8.7c0-0.5-0.2-0.9-0.4-1.2c-0.1-0.1-0.2-0.2-0.2-0.3\\n\\t\\tv-1.4c0-0.2,0.2-0.3,0.3-0.3h9.1c0.2,0,0.3,0.2,0.3,0.3V131.9z M105.8,127.9c0,0.1-0.1,0.1-0.1,0.2l-0.1,0.1\\n\\t\\tc-0.1,0-0.1,0.1-0.2,0.1h-10c-0.1,0-0.1,0-0.2-0.1c-0.2-0.1-0.2-0.2-0.2-0.2s0-0.2,0-0.3c0,0,0-0.1,0.1-0.1c0,0,0-0.1,0.1-0.1\\n\\t\\tc0.3-0.3,0.7-0.6,1.2-0.8c0,0,0.1,0,0.1-0.1c1.2-0.7,2.6-1.1,4-1.1c1.9,0,3.7,0.7,5.2,1.9C105.8,127.5,105.9,127.7,105.8,127.9z\\n\\t\\t M105.3,131.9c0,0.1-0.1,0.2-0.2,0.3c-0.2,0.3-0.4,0.7-0.4,1.2v8.7c0,0.5,0.2,0.9,0.4,1.2c0.1,0.1,0.2,0.2,0.2,0.3v3.2\\n\\t\\tc0,0.2-0.2,0.3-0.3,0.3h-9.1c-0.2,0-0.3-0.2-0.3-0.3v-3.2c0-0.1,0.1-0.2,0.2-0.3c0.2-0.3,0.4-0.7,0.4-1.2v-8.7\\n\\t\\tc0-0.5-0.2-0.9-0.4-1.2c-0.1-0.1-0.2-0.2-0.2-0.3v-1.4c0-0.2,0.2-0.3,0.3-0.3h9.1c0.2,0,0.3,0.2,0.3,0.3V131.9z M87.1,128.2\\n\\t\\tc-0.1,0-0.1,0.1-0.2,0.1H76.4c-0.1,0-0.1,0-0.2,0s-0.2-0.1-0.2-0.2V128c0-0.2,0.1-0.3,0.2-0.4l5.2-2.2c0,0,0,0,0.1,0h0.1\\n\\t\\tc0.1,0,0.1,0,0.2,0l5.2,2.2c0.2,0.1,0.2,0.2,0.2,0.4C87.2,128.1,87.2,128.2,87.1,128.2z M86.6,131.9c0,0.1-0.1,0.2-0.2,0.3\\n\\t\\tc-0.2,0.3-0.4,0.7-0.4,1.2v8.7c0,0.5,0.2,0.9,0.4,1.2c0.1,0.1,0.2,0.2,0.2,0.3v3.2c0,0.2-0.2,0.3-0.3,0.3h-9.1\\n\\t\\tc-0.2,0-0.3-0.2-0.3-0.3v-3.2c0-0.1,0.1-0.2,0.2-0.3c0.2-0.3,0.4-0.7,0.4-1.2v-8.7c0-0.5-0.2-0.9-0.4-1.2c-0.1-0.1-0.2-0.2-0.2-0.3\\n\\t\\tv-1.4c0-0.2,0.2-0.3,0.3-0.3h9.1c0.2,0,0.3,0.2,0.3,0.3V131.9z M68.4,127.9c0,0.1-0.1,0.2-0.2,0.2c-0.1,0-0.1,0.1-0.2,0.1H58\\n\\t\\tc0,0,0,0-0.1,0h-0.1c-0.1-0.1-0.2-0.2-0.2-0.2c-0.1-0.2,0-0.3,0.1-0.4c0,0,0,0,0.1-0.1c0.2-0.1,0.2-0.2,0.4-0.3\\n\\t\\tc0.1-0.1,0.2-0.1,0.2-0.2c0.2-0.1,0.2-0.2,0.4-0.2c0.1-0.1,0.2-0.2,0.4-0.2c1.2-0.6,2.4-0.9,3.7-0.9c1.9,0,3.7,0.7,5.2,1.9\\n\\t\\tC68.4,127.5,68.4,127.7,68.4,127.9z M67.8,131.9c0,0.1-0.1,0.2-0.2,0.3c-0.2,0.3-0.4,0.7-0.4,1.2v8.7c0,0.5,0.2,0.9,0.4,1.2\\n\\t\\tc0.1,0.1,0.2,0.2,0.2,0.3v3.2c0,0.2-0.2,0.3-0.3,0.3h-9.1c-0.2,0-0.3-0.2-0.3-0.3v-3.2c0-0.1,0.1-0.2,0.2-0.3\\n\\t\\tc0.2-0.3,0.4-0.7,0.4-1.2v-8.7c0-0.5-0.2-0.9-0.4-1.2c-0.1-0.1-0.2-0.2-0.2-0.3v-1.4c0-0.2,0.2-0.3,0.3-0.3h9.1\\n\\t\\tc0.2,0,0.3,0.2,0.3,0.3V131.9z M58.1,118.7c0-0.1,0.1-0.2,0.2-0.3c0.2-0.3,0.4-0.7,0.4-1.2v-7.1c0-0.5-0.2-0.9-0.4-1.2\\n\\t\\tc-0.1-0.1-0.2-0.2-0.2-0.3v-1.5c0-0.2,0.2-0.3,0.3-0.3h9.1c0.2,0,0.3,0.2,0.3,0.3v1.4c0,0.1-0.1,0.2-0.2,0.3\\n\\t\\tc-0.2,0.3-0.4,0.7-0.4,1.2v7.2c0,0.5,0.2,0.9,0.4,1.2c0.1,0.1,0.2,0.2,0.2,0.3v3.2c0,0.2-0.2,0.3-0.3,0.3h-9.1\\n\\t\\tc-0.2,0-0.3-0.2-0.3-0.3L58.1,118.7L58.1,118.7z M76.8,118.7c0-0.1,0.1-0.2,0.2-0.3c0.2-0.3,0.4-0.7,0.4-1.2v-7.1\\n\\t\\tc0-0.5-0.2-0.9-0.4-1.2c-0.1-0.1-0.2-0.2-0.2-0.3v-1.5c0-0.2,0.2-0.3,0.3-0.3h9.1c0.2,0,0.3,0.2,0.3,0.3v1.4c0,0.1-0.1,0.2-0.2,0.3\\n\\t\\tc-0.2,0.3-0.4,0.7-0.4,1.2v7.2c0,0.5,0.2,0.9,0.4,1.2c0.1,0.1,0.2,0.2,0.2,0.3v3.2c0,0.2-0.2,0.3-0.3,0.3h-9.1\\n\\t\\tc-0.2,0-0.3-0.2-0.3-0.3V118.7z M95.6,118.7c0-0.1,0.1-0.2,0.2-0.3c0.2-0.3,0.4-0.7,0.4-1.2v-7.1c0-0.5-0.2-0.9-0.4-1.2\\n\\t\\tc-0.1-0.1-0.2-0.2-0.2-0.3v-1.5c0-0.2,0.2-0.3,0.3-0.3h9.1c0.2,0,0.3,0.2,0.3,0.3v1.4c0,0.1-0.1,0.2-0.2,0.3\\n\\t\\tc-0.2,0.3-0.4,0.7-0.4,1.2v7.2c0,0.5,0.2,0.9,0.4,1.2c0.1,0.1,0.2,0.2,0.2,0.3v3.2c0,0.2-0.2,0.3-0.3,0.3h-9.1\\n\\t\\tc-0.2,0-0.3-0.2-0.3-0.3V118.7z M114.3,118.7c0-0.1,0.1-0.2,0.2-0.3c0.2-0.3,0.4-0.7,0.4-1.2v-7.1c0-0.5-0.2-0.9-0.4-1.2\\n\\t\\tc-0.1-0.1-0.2-0.2-0.2-0.3v-1.5c0-0.2,0.2-0.3,0.3-0.3h9.1c0.2,0,0.3,0.2,0.3,0.3v1.4c0,0.1-0.1,0.2-0.2,0.3\\n\\t\\tc-0.2,0.3-0.4,0.7-0.4,1.2v7.2c0,0.5,0.2,0.9,0.4,1.2c0.1,0.1,0.2,0.2,0.2,0.3v3.2c0,0.2-0.2,0.3-0.3,0.3h-9.1\\n\\t\\tc-0.2,0-0.3-0.2-0.3-0.3V118.7z M49.2,85.9h2.1c0,0,0.1,0,0.1,0.1v8.5c0,0.2,0.2,0.3,0.4,0.3h76.1c0.3,0.6,0.7,1.2,0.9,1.8\\n\\t\\tc-4.8,0-79.5,0-79.5,0c-0.2,0-0.5,0.2-0.5,0.5v2.4c0,0.3,0.2,0.5,0.5,0.5h80.3c0,0,0,0.7,0,2.2H51.6c-0.2,0-0.2,0.1-0.2,0.2v47.7\\n\\t\\tc0.2,0,85.2,0,85.2,0c0.4,0,0.7-0.3,0.7-0.7v-0.1c0-0.4,0.1-48.9,0.1-48.9c0-0.3,0-0.4,0-0.4c0.1-0.9,0.3-1.8,0.6-2.7\\n\\t\\tc0.3-0.9,0.7-1.7,1.2-2.6h29.8h5.2h29.8c0.5,0.8,0.9,1.7,1.2,2.6s0.5,1.7,0.6,2.7c0,0,0,0.2,0,0.4c0,0,0.1,48.5,0.1,48.9v0.1\\n\\t\\tc0,0.4,0.3,0.7,0.7,0.7l83.1-0.1h0.2h1.6c0.2,0,0.2-0.1,0.2-0.2v-47.4c0-0.2-0.1-0.2-0.2-0.2h-78.1c0-1.3,0-2.1,0-2.2h80.3\\n\\t\\tc0.3,0,0.5-0.2,0.5-0.5v-2.4c0-0.2-0.2-0.5-0.5-0.5c0,0-74.7,0-79.5,0c0.2-0.6,0.6-1.2,0.9-1.8h76.2c0.2,0,0.4-0.1,0.4-0.3V86\\n\\t\\tc0,0,0-0.1,0.1-0.1h2.1c0.3,0,0.5-0.2,0.5-0.5v-1.1c0-0.3-0.2-0.5-0.5-0.5H218c-0.3,0-0.7-0.1-1-0.2l-44.7-18.1v-2.9v-0.9\\n\\t\\tc0.9-0.2,2.2-0.5,3.2-0.2c5.1,1.7,6.2,1.1,6.2,1c-0.9-1.2-0.6-3.9-0.6-3.9c0.3-2.4,0.2-2.9,0.2-3c-0.2,0.1-1.6,0.9-5-0.2\\n\\t\\tc-1.8-0.6-3.2-0.7-4-0.8c0-0.5-0.4-0.8-0.9-0.8c-0.4,0.1-0.7,0.4-0.7,0.9v10.7l-44.7,18.1c-0.3,0.2-0.7,0.2-1,0.2H49.2\\n\\t\\tc-0.3,0-0.5,0.2-0.5,0.5v1.1C48.7,85.7,48.9,85.9,49.2,85.9z\"/>\\n\\t<polygon class=\"st2\" points=\"198.6,96.5 171.5,126.9 144.4,96.5 144.4,96.5 144,96.7 171.2,127.3 171.2,127.2 171.7,127.2\\n\\t\\t171.8,127.3 198.9,96.8 198.9,96.7 \\t\"/>\\n\\t<path class=\"st2\" d=\"M172.3,125.7h-1.7c-0.4,0-0.6,0.3-0.6,0.6v4.8c0,0.4,0.3,0.6,0.6,0.6h1.7c0.4,0,0.6-0.3,0.6-0.6v-4.8\\n\\t\\tC172.9,125.9,172.7,125.7,172.3,125.7z\"/>\\n</g>\\n</svg>\\n\\t\\t\\t</a>\\n\\t\\t</div>\\n\\t</div>\\n\\t<div class=\"mobile-overlay__inner\">\\n\\t\\t<div class=\"container\">\\n\\t\\t\\t<div class=\"row\">\\n\\t\\t\\t\\t<div class=\"mobile-nav-menus\">\\n\\t\\t\\t\\t\\t<div class=\"menu-left\">\\n\\n\\t\\t\\t\\t\\t\\t\\t\\t\\t\\t\\t\\t<nav class=\"primary-mobile-menu\" aria-label=\"Primary Navigation\" role=\"navigation\">\\n\\t\\t\\t\\t\\t\\t\\t<ul id=\"menu-primary-expanded-navigation\" class=\"menu primary-menu\"><li id=\"menu-item-69\" class=\"menu-item menu-item-type-post_type menu-item-object-page menu-item-has-children menu-item-69 top-level-menu-item\"><a href=\"https://www.whitehouse.gov/administration/\">Administration</a><button class=\"dropdown-trigger\" aria-expanded=\"false\">\\n<svg width=\"63\" height=\"68\" viewBox=\"0 0 63 68\" fill=\"none\" xmlns=\"http://www.w3.org/2000/svg\"><path d=\"M0.00171813 0L63 33.7444C63 33.7444 0.660551 67.4376 0.00520349 67.9931L0.00171813 68C-0.0014293 68 -0.000243773 67.9977 0.00520349 67.9931L17.0642 34L0.00171813 0Z\" fill=\"black\"/></svg>\\n<span class=\"screen-reader-text\">Show submenu for &#8220;Administration&#8221;\\xe2\\x80\\x9d</span>\\n</button>\\n<ul class=\"sub-menu\">\\n\\t<li id=\"menu-item-802\" class=\"menu-item menu-item-type-post_type menu-item-object-page menu-item-802\"><a href=\"https://www.whitehouse.gov/administration/president-biden/\">President Joe Biden</a></li>\\n\\t<li id=\"menu-item-803\" class=\"menu-item menu-item-type-post_type menu-item-object-page menu-item-803\"><a href=\"https://www.whitehouse.gov/administration/vice-president-harris/\">Vice President Kamala Harris</a></li>\\n\\t<li id=\"menu-item-804\" class=\"menu-item menu-item-type-post_type menu-item-object-page menu-item-804\"><a href=\"https://www.whitehouse.gov/administration/dr-jill-biden/\">First Lady Dr. Jill Biden</a></li>\\n\\t<li id=\"menu-item-805\" class=\"menu-item menu-item-type-post_type menu-item-object-page menu-item-805\"><a href=\"https://www.whitehouse.gov/administration/douglas-emhoff/\">Second Gentleman Douglas Emhoff</a></li>\\n\\t<li id=\"menu-item-806\" class=\"menu-item menu-item-type-post_type menu-item-object-page menu-item-806\"><a href=\"https://www.whitehouse.gov/administration/cabinet/\">The Cabinet</a></li>\\n</ul>\\n</li>\\n<li id=\"menu-item-68\" class=\"menu-item menu-item-type-post_type menu-item-object-page menu-item-has-children menu-item-68 top-level-menu-item\"><a href=\"https://www.whitehouse.gov/administration/executive-office-of-the-president/\">Executive Offices</a><button class=\"dropdown-trigger\" aria-expanded=\"false\">\\n<svg width=\"63\" height=\"68\" viewBox=\"0 0 63 68\" fill=\"none\" xmlns=\"http://www.w3.org/2000/svg\"><path d=\"M0.00171813 0L63 33.7444C63 33.7444 0.660551 67.4376 0.00520349 67.9931L0.00171813 68C-0.0014293 68 -0.000243773 67.9977 0.00520349 67.9931L17.0642 34L0.00171813 0Z\" fill=\"black\"/></svg>\\n<span class=\"screen-reader-text\">Show submenu for &#8220;Executive Offices&#8221;\\xe2\\x80\\x9d</span>\\n</button>\\n<ul class=\"sub-menu\">\\n\\t<li id=\"menu-item-793\" class=\"menu-item menu-item-type-post_type menu-item-object-page menu-item-793\"><a href=\"https://www.whitehouse.gov/cea/\">Council of Economic Advisers</a></li>\\n\\t<li id=\"menu-item-794\" class=\"menu-item menu-item-type-post_type menu-item-object-page menu-item-794\"><a href=\"https://www.whitehouse.gov/ceq/\">Council on Environmental Quality</a></li>\\n\\t<li id=\"menu-item-795\" class=\"menu-item menu-item-type-post_type menu-item-object-page menu-item-795\"><a href=\"https://www.whitehouse.gov/dpc/\">Domestic Policy Council</a></li>\\n\\t<li id=\"menu-item-796\" class=\"menu-item menu-item-type-post_type menu-item-object-page menu-item-796\"><a href=\"https://www.whitehouse.gov/nec/\">National Economic Council</a></li>\\n\\t<li id=\"menu-item-797\" class=\"menu-item menu-item-type-post_type menu-item-object-page menu-item-797\"><a href=\"https://www.whitehouse.gov/nsc/\">National Security Council</a></li>\\n\\t<li id=\"menu-item-798\" class=\"menu-item menu-item-type-post_type menu-item-object-page menu-item-798\"><a href=\"https://www.whitehouse.gov/iga/\">Office of Intergovernmental Affairs</a></li>\\n\\t<li id=\"menu-item-799\" class=\"menu-item menu-item-type-post_type menu-item-object-page menu-item-799\"><a href=\"https://www.whitehouse.gov/omb/\">Office of Management and Budget</a></li>\\n\\t<li id=\"menu-item-119\" class=\"menu-item menu-item-type-post_type menu-item-object-page menu-item-119\"><a href=\"https://www.whitehouse.gov/ondcp/\">Office of National Drug Control Policy</a></li>\\n\\t<li id=\"menu-item-800\" class=\"menu-item menu-item-type-post_type menu-item-object-page menu-item-800\"><a href=\"https://www.whitehouse.gov/ope/\">Office of Public Engagement</a></li>\\n\\t<li id=\"menu-item-801\" class=\"menu-item menu-item-type-post_type menu-item-object-page menu-item-801\"><a href=\"https://www.whitehouse.gov/ostp/\">Office of Science and Technology Policy</a></li>\\n</ul>\\n</li>\\n<li id=\"menu-item-65\" class=\"menu-item menu-item-type-post_type menu-item-object-page menu-item-65 top-level-menu-item\"><a href=\"https://www.whitehouse.gov/priorities/\">Priorities</a></li>\\n</ul>\\n\\n<ul class=\\'menu primary-menu\\'>\\n<li id=\"menu-item-2783\" class=\"menu-item menu-item-type-post_type menu-item-object-page current-menu-item page_item page-item-55 current_page_item current_page_parent menu-item-2783 top-level-menu-item\"><a href=\"https://www.whitehouse.gov/briefing-room/\" aria-current=\"page\">Briefing Room</a></li>\\n<li id=\"menu-item-42\" class=\"menu-item menu-item-type-post_type menu-item-object-page menu-item-has-children menu-item-42 top-level-menu-item\"><a href=\"https://www.whitehouse.gov/about-the-white-house/\">The White House</a><button class=\"dropdown-trigger\" aria-expanded=\"false\">\\n<svg width=\"63\" height=\"68\" viewBox=\"0 0 63 68\" fill=\"none\" xmlns=\"http://www.w3.org/2000/svg\"><path d=\"M0.00171813 0L63 33.7444C63 33.7444 0.660551 67.4376 0.00520349 67.9931L0.00171813 68C-0.0014293 68 -0.000243773 67.9977 0.00520349 67.9931L17.0642 34L0.00171813 0Z\" fill=\"black\"/></svg>\\n<span class=\"screen-reader-text\">Show submenu for &#8220;The White House&#8221;\\xe2\\x80\\x9d</span>\\n</button>\\n<ul class=\"sub-menu\">\\n\\t<li id=\"menu-item-45\" class=\"menu-item menu-item-type-post_type menu-item-object-page menu-item-45\"><a href=\"https://www.whitehouse.gov/about-the-white-house/presidents/\">Presidents</a></li>\\n\\t<li id=\"menu-item-812\" class=\"menu-item menu-item-type-post_type menu-item-object-page menu-item-812\"><a href=\"https://www.whitehouse.gov/about-the-white-house/first-families/\">First Families</a></li>\\n\\t<li id=\"menu-item-44\" class=\"menu-item menu-item-type-post_type menu-item-object-page menu-item-44\"><a href=\"https://www.whitehouse.gov/about-the-white-house/the-grounds/\">The Grounds</a></li>\\n\\t<li id=\"menu-item-43\" class=\"menu-item menu-item-type-post_type menu-item-object-page menu-item-43\"><a href=\"https://www.whitehouse.gov/about-the-white-house/our-government/\">Our Government</a></li>\\n</ul>\\n</li>\\n<li id=\"menu-item-72\" class=\"menu-item menu-item-type-post_type menu-item-object-page menu-item-has-children menu-item-72 top-level-menu-item\"><a href=\"https://www.whitehouse.gov/get-involved/\">Get Involved</a><button class=\"dropdown-trigger\" aria-expanded=\"false\">\\n<svg width=\"63\" height=\"68\" viewBox=\"0 0 63 68\" fill=\"none\" xmlns=\"http://www.w3.org/2000/svg\"><path d=\"M0.00171813 0L63 33.7444C63 33.7444 0.660551 67.4376 0.00520349 67.9931L0.00171813 68C-0.0014293 68 -0.000243773 67.9977 0.00520349 67.9931L17.0642 34L0.00171813 0Z\" fill=\"black\"/></svg>\\n<span class=\"screen-reader-text\">Show submenu for &#8220;Get Involved&#8221;\\xe2\\x80\\x9d</span>\\n</button>\\n<ul class=\"sub-menu\">\\n\\t<li id=\"menu-item-86\" class=\"menu-item menu-item-type-post_type menu-item-object-page menu-item-86\"><a href=\"https://www.whitehouse.gov/get-involved/write-or-call/\">Write or Call The White House</a></li>\\n\\t<li id=\"menu-item-813\" class=\"menu-item menu-item-type-post_type menu-item-object-page menu-item-813\"><a href=\"https://www.whitehouse.gov/get-involved/join-us/\">Join Us</a></li>\\n\\t<li id=\"menu-item-814\" class=\"menu-item menu-item-type-post_type menu-item-object-page menu-item-814\"><a href=\"https://www.whitehouse.gov/get-involved/fellows/\">White House Fellows</a></li>\\n</ul>\\n</li>\\n</ul>\\n\\n<ul class=\\'menu primary-menu\\'>\\n<li id=\"menu-item-1799\" class=\"site-id-2 mlp-language-nav-item menu-item menu-item-type-mlp_language menu-item-object-mlp_language menu-item-1799 top-level-menu-item\"><a rel=\"alternate\" href=\"https://www.whitehouse.gov/es/prensa/\" lang=\"es-US\">Espa\\xc3\\xb1ol</a></li>\\n</ul>\\t\\t\\t\\t\\t\\t\\t</nav><!-- .main-mobile-menu -->\\n\\t\\t\\t\\t\\t\\t\\t\\t\\t\\t\\t</div>\\n\\t\\t\\t\\t\\t<div class=\"menu-right\">\\n\\t\\t\\t\\t\\t\\t\\t\\t\\t\\t\\t\\t\\t<nav class=\"secondary-mobile-menu\" aria-label=\"Secondary Navigation\" role=\"navigation\">\\n\\t\\t\\t\\t\\t\\t\\t<ul id=\"secondary-navigation-overlay\" class=\"menu secondary-menu\"><li class=\"menu-item menu-item-type-post_type menu-item-object-page menu-item-109 top-level-menu-item\"><a href=\"https://www.whitehouse.gov/contact/\">Contact Us</a></li>\\n<li class=\"menu-item menu-item-type-post_type menu-item-object-page menu-item-1791 top-level-menu-item\"><a href=\"https://www.whitehouse.gov/privacy/\">Privacy Policy</a></li>\\n<li class=\"menu-item menu-item-type-post_type menu-item-object-page menu-item-699 top-level-menu-item\"><a href=\"https://www.whitehouse.gov/copyright/\">Copyright Policy</a></li>\\n<li class=\"menu-item menu-item-type-post_type menu-item-object-page menu-item-107 top-level-menu-item\"><a href=\"https://www.whitehouse.gov/accessibility/\">Accessibility Statement</a></li>\\n<li class=\"menu-item menu-item-type-post_type menu-item-object-page menu-item-7953 top-level-menu-item\"><a href=\"https://www.whitehouse.gov/disclosures/financial-disclosures/\">Financial Disclosures</a></li>\\n</ul>\\t\\t\\t\\t\\t\\t\\t</nav><!-- .secondary -->\\n\\t\\t\\t\\t\\t\\t\\t\\t\\t\\t\\t\\t\\t\\t\\t\\t\\t\\t\\t<div class=\"site-header__menu-wrap__footer__social\">\\n\\t\\t\\t\\t\\t\\t\\t\\t<nav class=\"col-xs-12\" aria-label=\"Social Navigation\">\\n\\t\\t\\t\\t\\t\\t\\t\\t\\t<ul id=\"social-navigation\" class=\"social-simple\"><li class=\"menu-item menu-item-type-custom menu-item-object-custom menu-item-87 col-auto top-level-menu-item\"><a target=\"_blank\" rel=\"noopener noreferrer\" href=\"https://www.instagram.com/whitehouse/\" class=\"external-link\"><svg aria-hidden=\"true\" tabindex=\"-1\" viewBox=\"0 0 21 20\" xmlns=\"http://www.w3.org/2000/svg\"><path d=\"M6.928 6.27c.974-.974 2.148-1.461 3.523-1.461s2.535.487 3.48 1.46c.975.946 1.462 2.106 1.462 3.481s-.487 2.55-1.461 3.523c-.946.946-2.106 1.418-3.48 1.418-1.376 0-2.55-.472-3.524-1.418C5.982 12.3 5.51 11.125 5.51 9.75s.472-2.535 1.418-3.48zm1.246 5.757c.63.63 1.39.946 2.277.946.888 0 1.647-.315 2.277-.946.63-.63.946-1.389.946-2.277 0-.888-.315-1.647-.945-2.277a3.104 3.104 0 00-2.278-.946c-.888 0-1.647.315-2.277.946-.63.63-.945 1.389-.945 2.277 0 .888.315 1.647.945 2.277zM16.38 3.82c.229.2.344.459.344.774s-.115.587-.344.816a.981.981 0 01-.774.344c-.315 0-.587-.115-.816-.344a1.115 1.115 0 01-.344-.816.98.98 0 01.344-.774c.23-.229.501-.343.816-.343.316 0 .573.114.774.343zm3.652 1.977c.029.773.043 2.091.043 3.953 0 1.862-.014 3.18-.043 3.953-.086 1.748-.616 3.108-1.59 4.082-.945.945-2.291 1.447-4.039 1.504-.773.057-2.09.086-3.953.086-1.862 0-3.18-.029-3.953-.086-1.747-.086-3.094-.602-4.039-1.547a4.148 4.148 0 01-.902-1.203 7.057 7.057 0 01-.516-1.332 7.744 7.744 0 01-.129-1.504C.855 12.93.826 11.612.826 9.75c0-1.862.029-3.194.086-3.996.086-1.719.602-3.05 1.547-3.996C3.404.784 4.751.254 6.499.168 7.27.139 8.588.125 10.45.125s3.18.014 3.953.043c1.748.086 3.094.616 4.04 1.59.973.945 1.503 2.291 1.59 4.039zm-2.062 9.625c.086-.23.157-.516.215-.86.057-.372.1-.802.128-1.289.03-.515.043-.93.043-1.246v-1.332-.945-.945-1.332c0-.315-.014-.716-.043-1.203a12.168 12.168 0 00-.128-1.29 4.652 4.652 0 00-.215-.902c-.344-.888-.96-1.504-1.848-1.848a4.654 4.654 0 00-.902-.214c-.344-.058-.774-.1-1.29-.13a21.227 21.227 0 00-1.202-.042H8.174c-.315 0-.73.014-1.246.043-.487.028-.917.071-1.29.129a4.68 4.68 0 00-.859.214c-.888.344-1.504.96-1.847 1.848-.086.23-.158.53-.215.902-.057.344-.1.774-.13 1.29a21.23 21.23 0 00-.042 1.203v5.155c.029.43.057.803.086 1.118a11.384 11.384 0 00.3 1.676c.373.888.989 1.504 1.848 1.848.23.085.516.157.86.214.372.058.802.1 1.289.13.515.028.916.042 1.203.042h4.597c.316 0 .717-.014 1.204-.043.515-.028.945-.071 1.289-.129a4.65 4.65 0 00.902-.215c.888-.372 1.504-.988 1.848-1.847z\"/></svg><span class=\"screen-reader-text\">Instagram<span class=\"screen-reader-text\">Opens in a new window</span></span></a></li>\\n<li class=\"menu-item menu-item-type-custom menu-item-object-custom menu-item-88 col-auto top-level-menu-item\"><a target=\"_blank\" rel=\"noopener noreferrer\" href=\"https://www.facebook.com/WhiteHouse/\" class=\"external-link\"><svg aria-hidden=\"true\" tabindex=\"-1\" viewBox=\"0 0 11 19\" xmlns=\"http://www.w3.org/2000/svg\"><path d=\"M9.722 10.375H7.086v7.875H3.57v-7.875H.722v-3.27H3.57v-2.46c0-.938.176-1.735.527-2.391A3.454 3.454 0 015.574.777C6.23.426 6.98.25 7.824.25c.375 0 .773.023 1.195.07.422.024.75.059.985.106l.351.035v2.777H8.95c-.656 0-1.137.176-1.441.528-.282.328-.422.738-.422 1.23v2.11h3.129l-.493 3.269z\"/></svg><span class=\"screen-reader-text\">Facebook<span class=\"screen-reader-text\">Opens in a new window</span></span></a></li>\\n<li class=\"menu-item menu-item-type-custom menu-item-object-custom menu-item-89 col-auto top-level-menu-item\"><a target=\"_blank\" rel=\"noopener noreferrer\" href=\"https://twitter.com/whitehouse\" class=\"external-link\"><svg aria-hidden=\"true\" tabindex=\"-1\" viewBox=\"0 0 1792 1792\" xmlns=\"http://www.w3.org/2000/svg\"><path d=\"M1684 408q-67 98-162 167 1 14 1 42 0 130-38 259.5T1369.5 1125 1185 1335.5t-258 146-323 54.5q-271 0-496-145 35 4 78 4 225 0 401-138-105-2-188-64.5T285 1033q33 5 61 5 43 0 85-11-112-23-185.5-111.5T172 710v-4q68 38 146 41-66-44-105-115t-39-154q0-88 44-163 121 149 294.5 238.5T884 653q-8-38-8-74 0-134 94.5-228.5T1199 256q140 0 236 102 109-21 205-78-37 115-142 178 93-10 186-50z\"/></svg><span class=\"screen-reader-text\">Twitter<span class=\"screen-reader-text\">Opens in a new window</span></span></a></li>\\n<li class=\"menu-item menu-item-type-custom menu-item-object-custom menu-item-90 col-auto top-level-menu-item\"><a target=\"_blank\" rel=\"noopener noreferrer\" href=\"https://www.youtube.com/user/whitehouse\" class=\"external-link\"><svg aria-hidden=\"true\" tabindex=\"-1\" viewBox=\"0 0 18 12\" fill=\"none\" xmlns=\"http://www.w3.org/2000/svg\"><path d=\"M17.156 1.906a2.126 2.126 0 00-1.5-1.531C14.312 0 9 0 9 0S3.656 0 2.312.375a2.126 2.126 0 00-1.5 1.531C.438 3.22.438 6.031.438 6.031s0 2.782.376 4.125c.187.75.78 1.313 1.5 1.5C3.655 12 9 12 9 12s5.313 0 6.656-.344a2.084 2.084 0 001.5-1.5c.375-1.344.375-4.125.375-4.125s0-2.812-.375-4.125zM7.25 8.563V3.5l4.438 2.531L7.25 8.563z\"/></svg><span class=\"screen-reader-text\">YouTube<span class=\"screen-reader-text\">Opens in a new window</span></span></a></li>\\n</ul>\\t\\t\\t\\t\\t\\t\\t\\t</nav><!-- social -->\\n\\t\\t\\t\\t\\t\\t\\t</div>\\n\\t\\t\\t\\t\\t\\t\\t\\t\\t\\t\\t\\t<div class=\"address\">\\n\\t\\t\\t\\t\\t\\t\\t<p>\\n\\t\\t\\t\\t\\t\\t\\t\\t<strong>The White House</strong><br>\\n\\t\\t\\t\\t\\t\\t\\t\\t1600 Pennsylvania Ave NW<br>\\n\\t\\t\\t\\t\\t\\t\\t\\tWashington, DC 20500\\n\\t\\t\\t\\t\\t\\t\\t</p>\\n\\t\\t\\t\\t\\t\\t</div>\\n\\t\\t\\t\\t\\t</div>\\n\\t\\t\\t\\t</div><!-- .mobile-nav-menus -->\\n\\t\\t\\t</div><!-- .row -->\\n\\t\\t</div><!-- .container -->\\n\\t</div><!-- .main-mobile-menu-inner -->\\n\\t<img class=\"svgloader\" src=\"https://www.whitehouse.gov/wp-content/themes/whitehouse/assets/img/wh-outline.svg\" onload=\"var c=this;!window.fetch?window.llItems.push(c):fetch(c.currentSrc||c.src).then(function(x){return x.text();}).then(function(svgText){c.outerHTML = svgText;});\" /></div><!-- .menuOverlay -->\\n\\n</header>\\n\\t<main id=\"content\" class=\"site-main\">\\n\\n\\n<section class=\"topper social-hide topper-primary topper--no-deck is-style-noimage\" >\\n\\t\\t<form data-searchform role=\"search\" method=\"get\" class=\"search-form\" action=\"https://www.whitehouse.gov/\">\\n\\t<label for=\"search-field-id-6086b7c8db194\"><span class=\"screen-reader-text\">To search this site, enter a search term</span></label>\\n\\t<button class=\"search-close-icon\" aria-label=\"Close\" aria-hidden=\"true\">\\n\\t\\t<svg width=\"13\" height=\"13\" viewBox=\"0 0 13 13\" fill=\"none\" xmlns=\"http://www.w3.org/2000/svg\">\\n<rect x=\"1.26074\" width=\"16.2296\" height=\"1\" transform=\"rotate(45 1.26074 0)\" fill=\"black\"/>\\n<rect x=\"0.737305\" y=\"11.5178\" width=\"16.2296\" height=\"1\" transform=\"rotate(-45 0.737305 11.5178)\" fill=\"black\"/>\\n</svg>\\n\\t</button>\\n\\t<button class=\"search-icon\" aria-label=\"Search\"><svg width=\"34\" height=\"34\" viewBox=\"0 0 34 34\" fill=\"none\" xmlns=\"http://www.w3.org/2000/svg\">\\n<circle cx=\"17\" cy=\"17\" r=\"17\" fill=\"black\"/>\\n<path d=\"M15.7545 21.3039C16.9965 21.305 18.2026 20.8872 19.1779 20.118L22.8589 23.8L23.8002 22.8584L20.1192 19.1764C20.8936 18.1878 21.3101 16.9659 21.3006 15.71C21.2911 14.4542 20.8563 13.2386 20.067 12.2619C19.2778 11.2852 18.1808 10.605 16.9552 10.3324C15.7296 10.0598 14.4479 10.2109 13.3192 10.761C12.1906 11.3112 11.2817 12.2278 10.7411 13.3613C10.2005 14.4948 10.06 15.7782 10.3427 17.0018C10.6253 18.2255 11.3144 19.3171 12.2973 20.0985C13.2802 20.8798 14.499 21.3048 15.7545 21.3039ZM15.7545 11.5325C16.5888 11.5325 17.4043 11.7799 18.098 12.2436C18.7917 12.7072 19.3324 13.3662 19.6516 14.1372C19.9709 14.9082 20.0544 15.7566 19.8917 16.5751C19.7289 17.3936 19.3272 18.1454 18.7372 18.7356C18.1473 19.3257 17.3957 19.7275 16.5774 19.8903C15.7592 20.0531 14.911 19.9696 14.1402 19.6502C13.3695 19.3309 12.7107 18.79 12.2472 18.0961C11.7837 17.4023 11.5363 16.5865 11.5363 15.7519C11.5363 14.6329 11.9807 13.5596 12.7718 12.7683C13.5628 11.977 14.6357 11.5325 15.7545 11.5325Z\" fill=\"white\"/>\\n</svg>\\n</button>\\n\\t<input class=\"search-field\" id=\"search-field-id-6086b7c8db194\" type=\"text\" name=\"s\" aria-required=\"false\"  name=\"s\" autocomplete=\"off\" autocorrect=\"off\" autocapitalize=\"off\" spellcheck=\"false\" required placeholder=\"Search&hellip;\" />\\n\\t<button class=\"search-submit\" aria-hidden=\"true\"><svg width=\"63\" height=\"68\" viewBox=\"0 0 63 68\" fill=\"none\" xmlns=\"http://www.w3.org/2000/svg\">\\n<path d=\"M0.00171813 0L63 33.7444C63 33.7444 0.660551 67.4376 0.00520349 67.9931L0.00171813 68C-0.0014293 68 -0.000243773 67.9977 0.00520349 67.9931L17.0642 34L0.00171813 0Z\" fill=\"currentColor\"/>\\n</svg>\\n<span class=\"screen-reader-text\">Search</span></button>\\n</form>\\n\\t<div class=\"container\">\\n\\t\\t<div class=\"row justify-content-center\">\\n\\t\\t\\t\\n\\t\\t\\t<div class=\"col-md-10 col-lg-8 col-xl-6 col\">\\n\\n\\t\\t\\t\\t\\n\\t\\t\\t\\t\\t\\t\\t\\t\\t\\t\\t\\t\\t\\t\\t\\t\\t<h1 class=\"page-title topper__title large\" data-beat=\"1\" data-beat-topper=\"1\">\\n\\t\\t\\t\\t\\t\\tBriefing Room\\t\\t\\t\\t\\t\\t</h1>\\n\\t\\t\\t\\t\\t\\n\\t\\t\\t\\t\\t\\n\\t\\t\\t\\t\\t\\n\\n\\t\\t\\t\\t\\n\\t\\t\\t</div>\\n\\t\\t\\t\\t\\t</div>\\n\\t</div>\\n</section>\\n\\n<section class=\"post-15443 post type-post status-publish hentry category-statements-releases\">\\n\\t<div class=\"news-index\">\\n\\t\\t<div class=\"container\">\\n\\t\\t\\t<div class=\"row justify-content-center articles-and-side-nav\">\\n\\t\\t\\t\\t<div class=\"side-nav col col-xs-12 offset-lg-1 col-lg-2\">\\n\\t<div class=\"mobile-select\">\\n\\t\\t<p class=\"ui-label-base\">Navigate this Section</p>\\n\\t\\t<div class=\"select-wrapper\">\\n\\t\\t\\t<svg width=\"63\" height=\"68\" viewBox=\"0 0 63 68\" fill=\"none\" xmlns=\"http://www.w3.org/2000/svg\">\\n<path d=\"M0.00171813 0L63 33.7444C63 33.7444 0.660551 67.4376 0.00520349 67.9931L0.00171813 68C-0.0014293 68 -0.000243773 67.9977 0.00520349 67.9931L17.0642 34L0.00171813 0Z\" fill=\"currentColor\"/>\\n</svg>\\n\\t\\t\\t<select name=\"side-nav-select\" id=\"side-nav-select\">\\n\\t\\t\\t\\t<option value=\"\">Select</option>\\n\\t\\t\\t\\t\\t\\t\\t\\t\\t<option value=\"https://www.whitehouse.gov/briefing-room/\">\\n\\t\\t\\t\\t\\t\\tView All\\t\\t\\t\\t\\t</option>\\n\\t\\t\\t\\t\\t\\t\\t\\t\\t<option value=\"https://www.whitehouse.gov/briefing-room/blog/\">\\n\\t\\t\\t\\t\\t\\tBlog\\t\\t\\t\\t\\t</option>\\n\\t\\t\\t\\t\\t\\t\\t\\t\\t<option value=\"https://www.whitehouse.gov/briefing-room/legislation/\">\\n\\t\\t\\t\\t\\t\\tLegislation\\t\\t\\t\\t\\t</option>\\n\\t\\t\\t\\t\\t\\t\\t\\t\\t<option value=\"https://www.whitehouse.gov/briefing-room/presidential-actions/\">\\n\\t\\t\\t\\t\\t\\tPresidential Actions\\t\\t\\t\\t\\t</option>\\n\\t\\t\\t\\t\\t\\t\\t\\t\\t<option value=\"https://www.whitehouse.gov/briefing-room/press-briefings/\">\\n\\t\\t\\t\\t\\t\\tPress Briefings\\t\\t\\t\\t\\t</option>\\n\\t\\t\\t\\t\\t\\t\\t\\t\\t<option value=\"https://www.whitehouse.gov/briefing-room/speeches-remarks/\">\\n\\t\\t\\t\\t\\t\\tSpeeches and Remarks\\t\\t\\t\\t\\t</option>\\n\\t\\t\\t\\t\\t\\t\\t\\t\\t<option value=\"https://www.whitehouse.gov/briefing-room/statements-releases/\">\\n\\t\\t\\t\\t\\t\\tStatements and Releases\\t\\t\\t\\t\\t</option>\\n\\t\\t\\t\\t\\t\\t\\t</select>\\n\\t\\t</div>\\n\\t</div><!-- .mobile-select -->\\n\\n\\t<nav class=\"side-nav-menu\" aria-label=\"Side Navigation\" role=\"navigation\">\\n\\t\\t<ul>\\n\\t\\t\\t<li>\\n\\t\\t\\t\\t\\t\\t\\t\\t\\t<span class=\"h6\">Filter by:</span>\\n\\t\\t\\t\\t\\n\\t\\t\\t\\t<ul class=\"sub-menu\">\\n\\t\\t\\t\\t\\t\\t\\t\\t\\t\\t\\t<li>\\n\\t\\t\\t\\t\\t\\t\\t\\t\\t\\t\\t\\t\\t\\t<span class=\"caption-text\">View All</span>\\n\\t\\t\\t\\t\\t\\t\\t\\t\\t\\t\\t\\t\\t</li>\\n\\t\\t\\t\\t\\t\\t\\t\\t\\t\\t\\t<li>\\n\\t\\t\\t\\t\\t\\t\\t\\t\\t\\t\\t\\t\\t\\t<a class=\"caption-text\" href=\"https://www.whitehouse.gov/briefing-room/blog/\">\\n\\t\\t\\t\\t\\t\\t\\t\\tBlog\\t\\t\\t\\t\\t\\t\\t</a>\\n\\t\\t\\t\\t\\t\\t\\t\\t\\t\\t\\t\\t\\t</li>\\n\\t\\t\\t\\t\\t\\t\\t\\t\\t\\t\\t<li>\\n\\t\\t\\t\\t\\t\\t\\t\\t\\t\\t\\t\\t\\t\\t<a class=\"caption-text\" href=\"https://www.whitehouse.gov/briefing-room/legislation/\">\\n\\t\\t\\t\\t\\t\\t\\t\\tLegislation\\t\\t\\t\\t\\t\\t\\t</a>\\n\\t\\t\\t\\t\\t\\t\\t\\t\\t\\t\\t\\t\\t</li>\\n\\t\\t\\t\\t\\t\\t\\t\\t\\t\\t\\t<li>\\n\\t\\t\\t\\t\\t\\t\\t\\t\\t\\t\\t\\t\\t\\t<a class=\"caption-text\" href=\"https://www.whitehouse.gov/briefing-room/presidential-actions/\">\\n\\t\\t\\t\\t\\t\\t\\t\\tPresidential Actions\\t\\t\\t\\t\\t\\t\\t</a>\\n\\t\\t\\t\\t\\t\\t\\t\\t\\t\\t\\t\\t\\t</li>\\n\\t\\t\\t\\t\\t\\t\\t\\t\\t\\t\\t<li>\\n\\t\\t\\t\\t\\t\\t\\t\\t\\t\\t\\t\\t\\t\\t<a class=\"caption-text\" href=\"https://www.whitehouse.gov/briefing-room/press-briefings/\">\\n\\t\\t\\t\\t\\t\\t\\t\\tPress Briefings\\t\\t\\t\\t\\t\\t\\t</a>\\n\\t\\t\\t\\t\\t\\t\\t\\t\\t\\t\\t\\t\\t</li>\\n\\t\\t\\t\\t\\t\\t\\t\\t\\t\\t\\t<li>\\n\\t\\t\\t\\t\\t\\t\\t\\t\\t\\t\\t\\t\\t\\t<a class=\"caption-text\" href=\"https://www.whitehouse.gov/briefing-room/speeches-remarks/\">\\n\\t\\t\\t\\t\\t\\t\\t\\tSpeeches and Remarks\\t\\t\\t\\t\\t\\t\\t</a>\\n\\t\\t\\t\\t\\t\\t\\t\\t\\t\\t\\t\\t\\t</li>\\n\\t\\t\\t\\t\\t\\t\\t\\t\\t\\t\\t<li>\\n\\t\\t\\t\\t\\t\\t\\t\\t\\t\\t\\t\\t\\t\\t<a class=\"caption-text\" href=\"https://www.whitehouse.gov/briefing-room/statements-releases/\">\\n\\t\\t\\t\\t\\t\\t\\t\\tStatements and Releases\\t\\t\\t\\t\\t\\t\\t</a>\\n\\t\\t\\t\\t\\t\\t\\t\\t\\t\\t\\t\\t\\t</li>\\n\\t\\t\\t\\t\\t\\t\\t\\t\\t</ul>\\n\\t\\t\\t</li>\\n\\t\\t</ul>\\n\\t</nav><!-- end .side-nav-menu -->\\n</div><!-- end .side-nav -->\\n\\t\\t\\t\\t<div class=\"article-wrapper col col-xs-12 col-md-8 col-lg-6 offset-lg-3\" data-animate-children=\".news-item\">\\n\\t\\t\\t\\t\\t\\n\\t<article class=\"news-item qpost-15443\">\\n\\t\\t\\n\\t\\t<h2 class=\"news-item__title-container\">\\n\\t\\t\\t<a class=\"news-item__title acctext--con\" href=\"https://www.whitehouse.gov/briefing-room/statements-releases/2021/04/25/statement-by-nsc-spokesperson-emily-horne-on-national-security-advisor-jake-sullivans-call-with-national-security-advisor-ajit-doval-of-india/\">\\n\\t\\t\\t\\tStatement by NSC Spokesperson Emily Horne on National Security Advisor Jake Sullivan\\xe2\\x80\\x99s Call with National Security Advisor Ajit Doval <span class=\"dewidow\">of India</span>\\t\\t\\t</a>\\n\\t\\t</h2>\\n\\t\\t<div class=\"news-item__meta shared-meta\">\\n\\t\\t\\t<time class=\"posted-on entry-date published updated\">April 25, 2021</time>\\t\\t\\t<span class=\"separator\">&#8226;</span>\\n\\t\\t\\t<span class=\"tax-links cat-links\"><a href=\"https://www.whitehouse.gov/briefing-room/statements-releases/\" rel=\"category tag\">Statements and Releases</a></span>\\t\\t</div>\\n\\n\\t\\t\\t</article>\\n\\n\\n\\t\\n\\t<article class=\"news-item qpost-15437\">\\n\\t\\t\\n\\t\\t<h2 class=\"news-item__title-container\">\\n\\t\\t\\t<a class=\"news-item__title acctext--con\" href=\"https://www.whitehouse.gov/briefing-room/statements-releases/2021/04/25/statement-by-national-security-advisor-jake-sullivan-on-the-fire-at-ibn-al-khatib-hospital-in-baghdad/\">\\n\\t\\t\\t\\tStatement by National Security Advisor Jake Sullivan on the Fire at Ibn al-Khatib Hospital <span class=\"dewidow\">in Baghdad</span>\\t\\t\\t</a>\\n\\t\\t</h2>\\n\\t\\t<div class=\"news-item__meta shared-meta\">\\n\\t\\t\\t<time class=\"posted-on entry-date published updated\">April 25, 2021</time>\\t\\t\\t<span class=\"separator\">&#8226;</span>\\n\\t\\t\\t<span class=\"tax-links cat-links\"><a href=\"https://www.whitehouse.gov/briefing-room/statements-releases/\" rel=\"category tag\">Statements and Releases</a></span>\\t\\t</div>\\n\\n\\t\\t\\t</article>\\n\\n\\n\\t\\n\\t<article class=\"news-item qpost-15427\">\\n\\t\\t\\n\\t\\t<h2 class=\"news-item__title-container\">\\n\\t\\t\\t<a class=\"news-item__title acctext--con\" href=\"https://www.whitehouse.gov/briefing-room/statements-releases/2021/04/24/statement-by-president-joe-biden-on-armenian-remembrance-day/\">\\n\\t\\t\\t\\tStatement by President Joe Biden on Armenian <span class=\"dewidow\">Remembrance Day</span>\\t\\t\\t</a>\\n\\t\\t</h2>\\n\\t\\t<div class=\"news-item__meta shared-meta\">\\n\\t\\t\\t<time class=\"posted-on entry-date published updated\">April 24, 2021</time>\\t\\t\\t<span class=\"separator\">&#8226;</span>\\n\\t\\t\\t<span class=\"tax-links cat-links\"><a href=\"https://www.whitehouse.gov/briefing-room/statements-releases/\" rel=\"category tag\">Statements and Releases</a></span>\\t\\t</div>\\n\\n\\t\\t\\t</article>\\n\\n\\n\\t\\n\\t<article class=\"news-item qpost-15421\">\\n\\t\\t\\n\\t\\t<h2 class=\"news-item__title-container\">\\n\\t\\t\\t<a class=\"news-item__title acctext--con\" href=\"https://www.whitehouse.gov/briefing-room/speeches-remarks/2021/04/23/press-briefing-by-press-secretary-jen-psaki-and-secretary-of-the-interior-deb-haaland-april-23-2021/\">\\n\\t\\t\\t\\tPress Briefing by Press Secretary Jen Psaki and Secretary of the Interior Deb Haaland, April <span class=\"dewidow\">23, 2021</span>\\t\\t\\t</a>\\n\\t\\t</h2>\\n\\t\\t<div class=\"news-item__meta shared-meta\">\\n\\t\\t\\t<time class=\"posted-on entry-date published updated\">April 23, 2021</time>\\t\\t\\t<span class=\"separator\">&#8226;</span>\\n\\t\\t\\t<span class=\"tax-links cat-links\"><a href=\"https://www.whitehouse.gov/briefing-room/speeches-remarks/\" rel=\"category tag\">Speeches and Remarks</a></span>\\t\\t</div>\\n\\n\\t\\t\\t</article>\\n\\n\\n\\t\\n\\t<article class=\"news-item qpost-15415\">\\n\\t\\t\\n\\t\\t<h2 class=\"news-item__title-container\">\\n\\t\\t\\t<a class=\"news-item__title acctext--con\" href=\"https://www.whitehouse.gov/briefing-room/statements-releases/2021/04/23/readout-of-the-biden-harris-administrations-first-meeting-of-the-white-house-council-on-native-american-affairs/\">\\n\\t\\t\\t\\tReadout of the Biden-Harris Administration\\xe2\\x80\\x99s First Meeting of the White House Council on Native <span class=\"dewidow\">American Affairs</span>\\t\\t\\t</a>\\n\\t\\t</h2>\\n\\t\\t<div class=\"news-item__meta shared-meta\">\\n\\t\\t\\t<time class=\"posted-on entry-date published updated\">April 23, 2021</time>\\t\\t\\t<span class=\"separator\">&#8226;</span>\\n\\t\\t\\t<span class=\"tax-links cat-links\"><a href=\"https://www.whitehouse.gov/briefing-room/statements-releases/\" rel=\"category tag\">Statements and Releases</a></span>\\t\\t</div>\\n\\n\\t\\t\\t</article>\\n\\n\\n\\t\\n\\t<article class=\"news-item qpost-15409\">\\n\\t\\t\\n\\t\\t<h2 class=\"news-item__title-container\">\\n\\t\\t\\t<a class=\"news-item__title acctext--con\" href=\"https://www.whitehouse.gov/briefing-room/statements-releases/2021/04/23/president-joseph-r-biden-jr-approves-kentucky-disaster-declaration-2/\">\\n\\t\\t\\t\\tPresident Joseph R. Biden, Jr. Approves Kentucky <span class=\"dewidow\">Disaster Declaration</span>\\t\\t\\t</a>\\n\\t\\t</h2>\\n\\t\\t<div class=\"news-item__meta shared-meta\">\\n\\t\\t\\t<time class=\"posted-on entry-date published updated\">April 23, 2021</time>\\t\\t\\t<span class=\"separator\">&#8226;</span>\\n\\t\\t\\t<span class=\"tax-links cat-links\"><a href=\"https://www.whitehouse.gov/briefing-room/statements-releases/\" rel=\"category tag\">Statements and Releases</a></span>\\t\\t</div>\\n\\n\\t\\t\\t</article>\\n\\n\\n\\t\\n\\t<article class=\"news-item qpost-15399\">\\n\\t\\t\\n\\t\\t<h2 class=\"news-item__title-container\">\\n\\t\\t\\t<a class=\"news-item__title acctext--con\" href=\"https://www.whitehouse.gov/briefing-room/legislation/2021/04/23/bills-signed-s-164-s-415-s-422-s-578/\">\\n\\t\\t\\t\\tBills Signed: S. 164, S. 415, S. 422, <span class=\"dewidow\">S. 578</span>\\t\\t\\t</a>\\n\\t\\t</h2>\\n\\t\\t<div class=\"news-item__meta shared-meta\">\\n\\t\\t\\t<time class=\"posted-on entry-date published updated\">April 23, 2021</time>\\t\\t\\t<span class=\"separator\">&#8226;</span>\\n\\t\\t\\t<span class=\"tax-links cat-links\"><a href=\"https://www.whitehouse.gov/briefing-room/legislation/\" rel=\"category tag\">Legislation</a></span>\\t\\t</div>\\n\\n\\t\\t\\t</article>\\n\\n\\n\\t\\n\\t<article class=\"news-item qpost-15389\">\\n\\t\\t\\n\\t\\t<h2 class=\"news-item__title-container\">\\n\\t\\t\\t<a class=\"news-item__title acctext--con\" href=\"https://www.whitehouse.gov/briefing-room/presidential-actions/2021/04/23/a-proclamation-on-world-intellectual-property-day-2021/\">\\n\\t\\t\\t\\tA Proclamation on World Intellectual Property <span class=\"dewidow\">Day, 2021</span>\\t\\t\\t</a>\\n\\t\\t</h2>\\n\\t\\t<div class=\"news-item__meta shared-meta\">\\n\\t\\t\\t<time class=\"posted-on entry-date published updated\">April 23, 2021</time>\\t\\t\\t<span class=\"separator\">&#8226;</span>\\n\\t\\t\\t<span class=\"tax-links cat-links\"><a href=\"https://www.whitehouse.gov/briefing-room/presidential-actions/\" rel=\"category tag\">Presidential Actions</a></span>\\t\\t</div>\\n\\n\\t\\t\\t</article>\\n\\n\\n\\t\\n\\t<article class=\"news-item qpost-15371\">\\n\\t\\t\\n\\t\\t<h2 class=\"news-item__title-container\">\\n\\t\\t\\t<a class=\"news-item__title acctext--con\" href=\"https://www.whitehouse.gov/briefing-room/statements-releases/2021/04/23/president-biden-announces-key-administration-nominations-in-national-security/\">\\n\\t\\t\\t\\tPresident Biden Announces Key Administration Nominations in <span class=\"dewidow\">National Security</span>\\t\\t\\t</a>\\n\\t\\t</h2>\\n\\t\\t<div class=\"news-item__meta shared-meta\">\\n\\t\\t\\t<time class=\"posted-on entry-date published updated\">April 23, 2021</time>\\t\\t\\t<span class=\"separator\">&#8226;</span>\\n\\t\\t\\t<span class=\"tax-links cat-links\"><a href=\"https://www.whitehouse.gov/briefing-room/statements-releases/\" rel=\"category tag\">Statements and Releases</a></span>\\t\\t</div>\\n\\n\\t\\t\\t</article>\\n\\n\\n\\t\\n\\t<article class=\"news-item qpost-15375\">\\n\\t\\t\\n\\t\\t<h2 class=\"news-item__title-container\">\\n\\t\\t\\t<a class=\"news-item__title acctext--con\" href=\"https://www.whitehouse.gov/briefing-room/statements-releases/2021/04/23/president-biden-announces-six-key-administration-nominations/\">\\n\\t\\t\\t\\tPresident Biden Announces Six Key <span class=\"dewidow\">Administration Nominations</span>\\t\\t\\t</a>\\n\\t\\t</h2>\\n\\t\\t<div class=\"news-item__meta shared-meta\">\\n\\t\\t\\t<time class=\"posted-on entry-date published updated\">April 23, 2021</time>\\t\\t\\t<span class=\"separator\">&#8226;</span>\\n\\t\\t\\t<span class=\"tax-links cat-links\"><a href=\"https://www.whitehouse.gov/briefing-room/statements-releases/\" rel=\"category tag\">Statements and Releases</a></span>\\t\\t</div>\\n\\n\\t\\t\\t</article>\\n\\n\\n\\t\\t\\t\\t\\t</div>\\n\\t\\t\\t</div>\\n\\n\\t\\t\\t<div class=\"row justify-content-center\">\\n\\t\\t\\t\\t<ul class=\\'page-numbers\\'>\\n\\t<li><span class=\"page-numbers current\"><span class=\"screen-reader-text\">Page </span>1</span></li>\\n\\t<li><a class=\"page-numbers\" href=\"https://www.whitehouse.gov/briefing-room/page/2/\"><span class=\"screen-reader-text\">Page </span>2</a></li>\\n\\t<li><a class=\"page-numbers\" href=\"https://www.whitehouse.gov/briefing-room/page/3/\"><span class=\"screen-reader-text\">Page </span>3</a></li>\\n\\t<li><a class=\"page-numbers\" href=\"https://www.whitehouse.gov/briefing-room/page/4/\"><span class=\"screen-reader-text\">Page </span>4</a></li>\\n\\t<li><span class=\"page-numbers dots\">&hellip;</span></li>\\n\\t<li><a class=\"page-numbers\" href=\"https://www.whitehouse.gov/briefing-room/page/72/\"><span class=\"screen-reader-text\">Page </span>72</a></li>\\n</ul>\\n\\t\\t\\t</div>\\n\\t\\t</div><!-- container -->\\n\\t</div>\\n</section>\\n\\n\\n<section class=\"bottomcta\">\\n\\t<div class=\"container\">\\n\\t\\t<div class=\"row\">\\n\\t\\t\\t<div class=\"bottomcta-wrapper\">\\n\\t\\t\\t\\t<div class=\"bottom-cta-logo\">\\n\\t\\t\\t\\t\\t<img class=\"svgloader\" src=\"https://www.whitehouse.gov/wp-content/themes/whitehouse/assets/img/bottomcta-logo.svg\" onload=\"var c=this;!window.fetch?window.llItems.push(c):fetch(c.currentSrc||c.src).then(function(x){return x.text();}).then(function(svgText){c.outerHTML = svgText;});\" />\\t\\t\\t\\t</div>\\n\\t\\t\\t\\t<div class=\"col-xs-2 col-md-8 bottomcta__form\">\\n\\t\\t\\t\\t\\t<div class=\"bottomcta__form__inner\">\\n\\t\\t\\t\\t\\t\\t<div class=\"bottomcta__form__inner__wrapper\">\\n\\t\\t\\t\\t\\t\\t\\t<div id=\"mc_embed_signup\">\\n\\t<h2 class=\"h4alt form-headline\">Stay Connected</h2>\\n\\t<form action=\"https://forms.whitehouse.gov/newsletters/subscribe46\" method=\"POST\" id=\"mc_embed_signup_form\" name=\"mc-embed-signup-form\" target=\"_blank\">\\n\\t\\t<fieldset>\\n\\t\\t\\t<div class=\"mc-field-group email\">\\n\\t\\t\\t\\t<label for=\"mce-EMAIL\">Email Address<span class=\"asterisk\">*</span></label>\\n\\t\\t\\t\\t<input type=\"email\" value=\"\" name=\"EMAIL\" placeholder=\"example@website.com\" required class=\"required email\" id=\"mce-EMAIL\">\\n\\t\\t\\t</div>\\n\\t\\t\\t<div class=\"mc-field-group zip\">\\n\\t\\t\\t\\t<label for=\"mce-ZIPCODE\">ZIP Code</label>\\n\\t\\t\\t\\t<input type=\"text\" value=\"\" name=\"ZIPCODE\" placeholder=\"ZIP Code\" class=\"\" required id=\"mce-ZIPCODE\">\\n\\t\\t\\t</div>\\n\\t\\t\\t<!-- real people should not fill this in and expect good things - do not remove this or risk form bot signups-->\\n\\t\\t\\t<div style=\"position: absolute; left: -5000px;\" aria-hidden=\"true\"><input type=\"text\" name=\"b_4da4828d48b4efa4fc1138955_8cafb01033\" tabindex=\"-1\" value=\"\"></div>\\n\\t\\t\\t<div style=\"display: none\">\\n\\t\\t\\t\\t<input name=\"SIGNUP\" type=\"hidden\" value=\"\">\\n\\t\\t\\t\\t<input name=\"SIGNUP_SRC\" type=\"hidden\" value=\"\">\\n\\t\\t\\t\\t<input name=\"LANGUAGE\" type=\"hidden\" value=\"en\">\\n\\t\\t\\t</div>\\n\\t\\t\\t<div class=\"clear submit-wrapper\"><input type=\"submit\" value=\"Sign Up\" name=\"subscribe\" id=\"mc-embedded-subscribe\" class=\"button\"></div>\\n\\t\\t</fieldset>\\n\\t\\t<div class=\"success-message deck--md\">\\n\\t\\t\\t<p>We\\'ll be in touch with the latest information on how President Biden and his administration are working for the American people, as well as ways you can get involved and help our country build back better.</p>\\n\\t\\t</div>\\n\\t</form>\\n</div>\\n\\n\\t\\t\\t\\t\\t\\t</div>\\n\\t\\t\\t\\t\\t</div>\\n\\t\\t\\t\\t</div>\\n\\t\\t\\t</div>\\n\\t\\t</div>\\n\\t</div>\\n</section>\\n\\n\\n\\t\\t</main><!-- .site-main -->\\n\\n\\t<footer id=\"colophon\" data-js-social-hide class=\"social-hide site-footer body-copy\">\\n\\t\\t<div class=\"seal-icon-wrapper\">\\n\\t\\t\\t<img class=\"svgloader\" src=\"https://www.whitehouse.gov/wp-content/themes/whitehouse/assets/img/footer-seal.svg\" onload=\"var c=this;!window.fetch?window.llItems.push(c):fetch(c.currentSrc||c.src).then(function(x){return x.text();}).then(function(svgText){c.outerHTML = svgText;});\" />\\t\\t</div>\\n\\t\\t<div class=\"container\">\\n\\t\\t\\t<div class=\"row\">\\n\\t\\t\\t\\t<div class=\"footer-wrapper\">\\n\\t\\t\\t\\t\\t\\t\\t\\t\\t\\t<section id=\"primary-footer-menu-section\" class=\"justify-content-center footer-navigation-section primary-footer-navigation\">\\n\\t\\t\\t\\t\\t\\t<nav class=\"primary col col-xs-12 col-md-12 col-lg-10\" aria-label=\"Primary Footer Navigation\">\\n\\t\\t\\t\\t\\t\\t\\t<ul id=\"primary-navigation-footer\" class=\"menu\"><li id=\"menu-item-91\" class=\"menu-item menu-item-type-custom menu-item-object-custom menu-item-home menu-item-91 col navlink top-level-menu-item\"><a href=\"https://www.whitehouse.gov/\">Home</a></li>\\n<li id=\"menu-item-98\" class=\"menu-item menu-item-type-post_type menu-item-object-page menu-item-98 col navlink top-level-menu-item\"><a href=\"https://www.whitehouse.gov/administration/\">The Administration</a></li>\\n<li id=\"menu-item-2215\" class=\"menu-item menu-item-type-post_type menu-item-object-page menu-item-2215 col navlink top-level-menu-item\"><a href=\"https://www.whitehouse.gov/administration/executive-office-of-the-president/\">Executive Offices</a></li>\\n<li id=\"menu-item-93\" class=\"menu-item menu-item-type-post_type menu-item-object-page menu-item-93 col navlink top-level-menu-item\"><a href=\"https://www.whitehouse.gov/priorities/\">Priorities</a></li>\\n<li id=\"menu-item-2785\" class=\"menu-item menu-item-type-post_type menu-item-object-page current-menu-item page_item page-item-55 current_page_item current_page_parent menu-item-2785 col navlink top-level-menu-item\"><a href=\"https://www.whitehouse.gov/briefing-room/\" aria-current=\"page\">Briefing Room</a></li>\\n<li id=\"menu-item-92\" class=\"menu-item menu-item-type-post_type menu-item-object-page menu-item-92 col navlink top-level-menu-item\"><a href=\"https://www.whitehouse.gov/about-the-white-house/\">The White House</a></li>\\n<li id=\"menu-item-96\" class=\"menu-item menu-item-type-post_type menu-item-object-page menu-item-96 col navlink top-level-menu-item\"><a href=\"https://www.whitehouse.gov/get-involved/\">Get Involved</a></li>\\n<li id=\"menu-item-1801\" class=\"site-id-2 mlp-language-nav-item menu-item menu-item-type-mlp_language menu-item-object-mlp_language menu-item-1801 col navlink top-level-menu-item\"><a rel=\"alternate\" href=\"https://www.whitehouse.gov/es/prensa/\" lang=\"es-US\">Espa\\xc3\\xb1ol</a></li>\\n</ul>\\t\\t\\t\\t\\t\\t</nav><!-- .primary -->\\n\\t\\t\\t\\t\\t</section><!-- #primary-footer-menu-section -->\\n\\t\\t\\t\\t\\t\\t\\n\\t\\t\\t\\t\\t<div class=\"footer-right\">\\n\\t\\t\\t\\t\\t\\t\\t\\t\\t\\t\\t\\t<section class=\"justify-content-center footer-navigation-section secondary-footer-navigation\">\\n\\t\\t\\t\\t\\t\\t\\t<nav class=\"footer-secondary col-xs-12 col-md-12 col-lg-10\" aria-label=\"Secondary Footer Navigation\">\\n\\t\\t\\t\\t\\t\\t\\t\\t<ul id=\"footer-secondary\" class=\"menu\"><li class=\"menu-item menu-item-type-post_type menu-item-object-page menu-item-109 col small-text top-level-menu-item\"><a href=\"https://www.whitehouse.gov/contact/\">Contact Us</a></li>\\n<li class=\"menu-item menu-item-type-post_type menu-item-object-page menu-item-1791 col small-text top-level-menu-item\"><a href=\"https://www.whitehouse.gov/privacy/\">Privacy Policy</a></li>\\n<li class=\"menu-item menu-item-type-post_type menu-item-object-page menu-item-699 col small-text top-level-menu-item\"><a href=\"https://www.whitehouse.gov/copyright/\">Copyright Policy</a></li>\\n<li class=\"menu-item menu-item-type-post_type menu-item-object-page menu-item-107 col small-text top-level-menu-item\"><a href=\"https://www.whitehouse.gov/accessibility/\">Accessibility Statement</a></li>\\n<li class=\"menu-item menu-item-type-post_type menu-item-object-page menu-item-7953 col small-text top-level-menu-item\"><a href=\"https://www.whitehouse.gov/disclosures/financial-disclosures/\">Financial Disclosures</a></li>\\n</ul>\\t\\t\\t\\t\\t\\t\\t</nav><!-- .footer-secondary -->\\n\\t\\t\\t\\t\\t\\t</section>\\n\\t\\t\\t\\t\\t\\t\\t\\n\\t\\t\\t\\t\\t\\t<div class=\"social-and-address\">\\n\\t\\t\\t\\t\\t\\t\\t\\t\\t\\t\\t\\t\\t\\t\\t<div class=\"footer__social\">\\n\\t\\t\\t\\t\\t\\t\\t\\t\\t<nav class=\"col-xs-12\" aria-label=\"Social Navigation\">\\n\\t\\t\\t\\t\\t\\t\\t\\t\\t\\t<ul id=\"footer-social-navigation\" class=\"social-simple\"><li class=\"menu-item menu-item-type-custom menu-item-object-custom menu-item-87 col-auto top-level-menu-item\"><a target=\"_blank\" rel=\"noopener noreferrer\" href=\"https://www.instagram.com/whitehouse/\" class=\"external-link\"><svg aria-hidden=\"true\" tabindex=\"-1\" viewBox=\"0 0 21 20\" xmlns=\"http://www.w3.org/2000/svg\"><path d=\"M6.928 6.27c.974-.974 2.148-1.461 3.523-1.461s2.535.487 3.48 1.46c.975.946 1.462 2.106 1.462 3.481s-.487 2.55-1.461 3.523c-.946.946-2.106 1.418-3.48 1.418-1.376 0-2.55-.472-3.524-1.418C5.982 12.3 5.51 11.125 5.51 9.75s.472-2.535 1.418-3.48zm1.246 5.757c.63.63 1.39.946 2.277.946.888 0 1.647-.315 2.277-.946.63-.63.946-1.389.946-2.277 0-.888-.315-1.647-.945-2.277a3.104 3.104 0 00-2.278-.946c-.888 0-1.647.315-2.277.946-.63.63-.945 1.389-.945 2.277 0 .888.315 1.647.945 2.277zM16.38 3.82c.229.2.344.459.344.774s-.115.587-.344.816a.981.981 0 01-.774.344c-.315 0-.587-.115-.816-.344a1.115 1.115 0 01-.344-.816.98.98 0 01.344-.774c.23-.229.501-.343.816-.343.316 0 .573.114.774.343zm3.652 1.977c.029.773.043 2.091.043 3.953 0 1.862-.014 3.18-.043 3.953-.086 1.748-.616 3.108-1.59 4.082-.945.945-2.291 1.447-4.039 1.504-.773.057-2.09.086-3.953.086-1.862 0-3.18-.029-3.953-.086-1.747-.086-3.094-.602-4.039-1.547a4.148 4.148 0 01-.902-1.203 7.057 7.057 0 01-.516-1.332 7.744 7.744 0 01-.129-1.504C.855 12.93.826 11.612.826 9.75c0-1.862.029-3.194.086-3.996.086-1.719.602-3.05 1.547-3.996C3.404.784 4.751.254 6.499.168 7.27.139 8.588.125 10.45.125s3.18.014 3.953.043c1.748.086 3.094.616 4.04 1.59.973.945 1.503 2.291 1.59 4.039zm-2.062 9.625c.086-.23.157-.516.215-.86.057-.372.1-.802.128-1.289.03-.515.043-.93.043-1.246v-1.332-.945-.945-1.332c0-.315-.014-.716-.043-1.203a12.168 12.168 0 00-.128-1.29 4.652 4.652 0 00-.215-.902c-.344-.888-.96-1.504-1.848-1.848a4.654 4.654 0 00-.902-.214c-.344-.058-.774-.1-1.29-.13a21.227 21.227 0 00-1.202-.042H8.174c-.315 0-.73.014-1.246.043-.487.028-.917.071-1.29.129a4.68 4.68 0 00-.859.214c-.888.344-1.504.96-1.847 1.848-.086.23-.158.53-.215.902-.057.344-.1.774-.13 1.29a21.23 21.23 0 00-.042 1.203v5.155c.029.43.057.803.086 1.118a11.384 11.384 0 00.3 1.676c.373.888.989 1.504 1.848 1.848.23.085.516.157.86.214.372.058.802.1 1.289.13.515.028.916.042 1.203.042h4.597c.316 0 .717-.014 1.204-.043.515-.028.945-.071 1.289-.129a4.65 4.65 0 00.902-.215c.888-.372 1.504-.988 1.848-1.847z\"/></svg><span class=\"screen-reader-text\">Instagram<span class=\"screen-reader-text\">Opens in a new window</span></span></a></li>\\n<li class=\"menu-item menu-item-type-custom menu-item-object-custom menu-item-88 col-auto top-level-menu-item\"><a target=\"_blank\" rel=\"noopener noreferrer\" href=\"https://www.facebook.com/WhiteHouse/\" class=\"external-link\"><svg aria-hidden=\"true\" tabindex=\"-1\" viewBox=\"0 0 11 19\" xmlns=\"http://www.w3.org/2000/svg\"><path d=\"M9.722 10.375H7.086v7.875H3.57v-7.875H.722v-3.27H3.57v-2.46c0-.938.176-1.735.527-2.391A3.454 3.454 0 015.574.777C6.23.426 6.98.25 7.824.25c.375 0 .773.023 1.195.07.422.024.75.059.985.106l.351.035v2.777H8.95c-.656 0-1.137.176-1.441.528-.282.328-.422.738-.422 1.23v2.11h3.129l-.493 3.269z\"/></svg><span class=\"screen-reader-text\">Facebook<span class=\"screen-reader-text\">Opens in a new window</span></span></a></li>\\n<li class=\"menu-item menu-item-type-custom menu-item-object-custom menu-item-89 col-auto top-level-menu-item\"><a target=\"_blank\" rel=\"noopener noreferrer\" href=\"https://twitter.com/whitehouse\" class=\"external-link\"><svg aria-hidden=\"true\" tabindex=\"-1\" viewBox=\"0 0 1792 1792\" xmlns=\"http://www.w3.org/2000/svg\"><path d=\"M1684 408q-67 98-162 167 1 14 1 42 0 130-38 259.5T1369.5 1125 1185 1335.5t-258 146-323 54.5q-271 0-496-145 35 4 78 4 225 0 401-138-105-2-188-64.5T285 1033q33 5 61 5 43 0 85-11-112-23-185.5-111.5T172 710v-4q68 38 146 41-66-44-105-115t-39-154q0-88 44-163 121 149 294.5 238.5T884 653q-8-38-8-74 0-134 94.5-228.5T1199 256q140 0 236 102 109-21 205-78-37 115-142 178 93-10 186-50z\"/></svg><span class=\"screen-reader-text\">Twitter<span class=\"screen-reader-text\">Opens in a new window</span></span></a></li>\\n<li class=\"menu-item menu-item-type-custom menu-item-object-custom menu-item-90 col-auto top-level-menu-item\"><a target=\"_blank\" rel=\"noopener noreferrer\" href=\"https://www.youtube.com/user/whitehouse\" class=\"external-link\"><svg aria-hidden=\"true\" tabindex=\"-1\" viewBox=\"0 0 18 12\" fill=\"none\" xmlns=\"http://www.w3.org/2000/svg\"><path d=\"M17.156 1.906a2.126 2.126 0 00-1.5-1.531C14.312 0 9 0 9 0S3.656 0 2.312.375a2.126 2.126 0 00-1.5 1.531C.438 3.22.438 6.031.438 6.031s0 2.782.376 4.125c.187.75.78 1.313 1.5 1.5C3.655 12 9 12 9 12s5.313 0 6.656-.344a2.084 2.084 0 001.5-1.5c.375-1.344.375-4.125.375-4.125s0-2.812-.375-4.125zM7.25 8.563V3.5l4.438 2.531L7.25 8.563z\"/></svg><span class=\"screen-reader-text\">YouTube<span class=\"screen-reader-text\">Opens in a new window</span></span></a></li>\\n</ul>\\t\\t\\t\\t\\t\\t\\t\\t\\t</nav><!-- social -->\\n\\t\\t\\t\\t\\t\\t\\t\\t</div><!-- .footer__social -->\\n\\t\\t\\t\\t\\t\\t\\t\\t\\t\\t\\t\\t\\t\\t<p class=\"address\">\\n\\t\\t\\t\\t\\t\\t\\t\\t<strong>The White House</strong><br>\\n\\t\\t\\t\\t\\t\\t\\t\\t1600 Pennsylvania Ave NW<br>\\n\\t\\t\\t\\t\\t\\t\\t\\tWashington, DC 20500\\n\\t\\t\\t\\t\\t\\t\\t</p><!-- .address -->\\n\\t\\t\\t\\t\\t\\t\\t<a class=\"wh-logo-link\" href=\"https://www.whitehouse.gov/\" rel=\"home\"><span class=\"screen-reader-text\">WH.gov</span>\\n<svg version=\"1.1\" id=\"wh-gov-6086b7c8e8da6\" xmlns=\"http://www.w3.org/2000/svg\" xmlns:xlink=\"http://www.w3.org/1999/xlink\" x=\"0px\" y=\"0px\"\\n\\t viewBox=\"0 0 1231 180\" style=\"enable-background:new 0 0 1231 180;\" xml:space=\"preserve\">\\n<g>\\n\\t<g class=\"st0\">\\n\\t\\t<path d=\"M200.9,126h1.5l30-102.8l-18.7-9V4.5h60.7v9.7l-21.7,10.5L200.9,177h-22.5l-39-113.3H138L94.5,177H72L23.2,21.8L0,14.3\\n\\t\\t\\tV4.5h86.2v9l-20.2,6l30,107.3h0.7l33.7-90l-6-15.8l-18-7.5v-9h80.2v9l-20.2,6.8L200.9,126z\"/>\\n\\t\\t<path d=\"M446.1,21l-22.5-6V4.5h88.5V15l-25.5,6v138.8l25.5,6v9.8h-88.5v-9.8l22.5-6V96h-72v63.8l22.5,6v9.8h-88.5v-9.8l25.5-6V21\\n\\t\\t\\tl-25.5-6V4.5h89.2V15l-22.5,6v57.8h72V21H446.1z\"/>\\n\\t\\t<path d=\"M577.3,180c-9.7,0-17.2-7.5-17.2-17.2c0-9,7.5-17.2,17.2-17.2c9.7,0,17.2,7.5,17.2,17.2C594.5,171.7,587,180,577.3,180z\"\\n\\t\\t\\t/>\\n\\t\\t<path d=\"M770.7,57.8c-16.5-31.5-32.2-45-56.2-45c-27.7,0-51.7,24.8-51.7,74.2c0,51,24.7,77.2,60.7,77.2c13.5,0,22.5-3.8,32.2-9\\n\\t\\t\\tv-43.5l-25.5-6V96h74.2v9.8l-22.5,6v66l-8.2,1.5l-13.5-13.5c-13.5,8.2-27,13.5-47.2,13.5c-46.5,0-83.2-33-83.2-86.2\\n\\t\\t\\tc0-51.8,38.2-92.2,89.2-92.2c16.5,0,30,3.8,40.5,9l8.2-9.8h9l1.5,57L770.7,57.8z\"/>\\n\\t\\t<path d=\"M931.9,179.3c-54,0-83.2-41.2-83.2-89.3c0-48,33-89.2,84.7-89.2c54,0,83.2,41.2,83.2,89.2\\n\\t\\t\\tC1016.6,138.8,982.9,179.3,931.9,179.3z M929.7,12c-24.7,0-49.5,18-49.5,78c0,60,28.5,78,55.5,78c24.7,0,49.5-24.8,49.5-78\\n\\t\\t\\tC985.2,36.8,956.7,12,929.7,12z\"/>\\n\\t\\t<path d=\"M1146.3,177h-13.5l-60.7-155.3l-24.7-6.8V4.5h81v9.7l-26.2,6l45,121.5l45-119.3l-20.2-7.5V4.5h59.2v9.7l-22.5,7.5\\n\\t\\t\\tL1146.3,177z\"/>\\n\\t</g>\\n</g>\\n</svg>\\n</a>\\n\\t\\t\\t\\t\\t\\t</div>\\n\\t\\t\\t\\t\\t</div><!-- .footer-right -->\\n\\t\\t\\t\\t</div><!-- .footer-wrapper -->\\n\\t\\t\\t</div><!-- .row -->\\n\\t\\t</div><!-- .container -->\\n\\t</footer><!-- #colophon -->\\n</div><!-- #page -->\\n\\n<div class=\"scroll-to-top\">\\n\\t<a class=\"scroll-read-more\" href=\"#content\">\\n\\t\\t<div class=\"scroll-to-top__inner\">\\n\\t\\t\\t\\t<span class=\"screen-reader-text\">Scroll to Top</span>\\n\\t\\t\\t\\t<svg class=\"arrow-right-svg\" viewBox=\"0 0 28 12\" fill=\"none\" xmlns=\"http://www.w3.org/2000/svg\" role=\"presentation\" focusable=\"false\" aria-hidden=\"true\">\\n<path d=\"M28 5.6L14 0L16.4606 5.00606H0V6.27879H16.4606L14 11.2849C13.9152 11.2849 28 5.6 28 5.6Z\" fill=\"currentColor\"/>\\n</svg>\\n\\t\\t</div>\\n\\t<span class=\"small-text scroll-to-top__dirtext\">Top</span>\\n\\t</a>\\n</div>\\n<script type=\\'text/javascript\\' defer src=\\'https://www.whitehouse.gov/wp-content/themes/whitehouse/assets/js/vendors.min.js?ver=b8e2738.1619032045\\' id=\\'vendors_js_defer-js\\'></script>\\n<script type=\\'text/javascript\\' id=\\'theme_js_defer-js-extra\\'>\\n/* <![CDATA[ */\\nvar emailSignupL10n = {\"fakeOrInvalid\":\"This email address looks fake or invalid. Please enter a real email address.\",\"tooManySignups\":\"Email address has too many recent signup requests.\",\"defaultError\":\"There was an error processing your email.\"};\\n/* ]]> */\\n</script>\\n<script type=\\'text/javascript\\' defer src=\\'https://www.whitehouse.gov/wp-content/themes/whitehouse/assets/js/master.min.js?ver=b8e2738.1619032045\\' id=\\'theme_js_defer-js\\'></script>\\n<script type=\"text/javascript\">window.NREUM||(NREUM={});NREUM.info={\"beacon\":\"bam-cell.nr-data.net\",\"licenseKey\":\"9360826e15\",\"applicationID\":\"825650222,484304241,484396381\",\"transactionName\":\"MVNbZhQFXEAEVBBfWQgZbEAPS1tdAVIcGEYORg==\",\"queueTime\":0,\"applicationTime\":396,\"atts\":\"HRRMEFwfTx9HVkYMTRtL\",\"errorBeacon\":\"bam-cell.nr-data.net\",\"agent\":\"\"}</script></body>\\n</html>\\n'\n"
     ]
    }
   ],
   "source": [
    "src = result.content\n",
    "print(src)"
   ]
  },
  {
   "cell_type": "code",
   "execution_count": 226,
   "metadata": {
    "collapsed": true,
    "jupyter": {
     "outputs_hidden": true
    }
   },
   "outputs": [
    {
     "name": "stdout",
     "output_type": "stream",
     "text": [
      "<!DOCTYPE html>\n",
      "<html class=\"no-js alert__has-cookie\" lang=\"en-US\">\n",
      "<head>\n",
      "<meta charset=\"utf-8\"/><meta name=\"google\" value=\"notranslate\"/>\n",
      "<meta content=\"IE=edge\" http-equiv=\"X-UA-Compatible\"/><script type=\"text/javascript\">(window.NREUM||(NREUM={})).loader_config={licenseKey:\"9360826e15\",applicationID:\"825650222\"};window.NREUM||(NREUM={}),__nr_require=function(e,t,n){function r(n){if(!t[n]){var i=t[n]={exports:{}};e[n][0].call(i.exports,function(t){var i=e[n][1][t];return r(i||t)},i,i.exports)}return t[n].exports}if(\"function\"==typeof __nr_require)return __nr_require;for(var i=0;i<n.length;i++)r(n[i]);return r}({1:[function(e,t,n){function r(){}function i(e,t,n){return function(){return o(e,[u.now()].concat(c(arguments)),t?null:this,n),t?void 0:this}}var o=e(\"handle\"),a=e(7),c=e(8),f=e(\"ee\").get(\"tracer\"),u=e(\"loader\"),s=NREUM;\"undefined\"==typeof window.newrelic&&(newrelic=s);var d=[\"setPageViewName\",\"setCustomAttribute\",\"setErrorHandler\",\"finished\",\"addToTrace\",\"inlineHit\",\"addRelease\"],p=\"api-\",l=p+\"ixn-\";a(d,function(e,t){s[t]=i(p+t,!0,\"api\")}),s.addPageAction=i(p+\"addPageAction\",!0),s.setCurrentRouteName=i(p+\"routeName\",!0),t.exports=newrelic,s.interaction=function(){return(new r).get()};var m=r.prototype={createTracer:function(e,t){var n={},r=this,i=\"function\"==typeof t;return o(l+\"tracer\",[u.now(),e,n],r),function(){if(f.emit((i?\"\":\"no-\")+\"fn-start\",[u.now(),r,i],n),i)try{return t.apply(this,arguments)}catch(e){throw f.emit(\"fn-err\",[arguments,this,e],n),e}finally{f.emit(\"fn-end\",[u.now()],n)}}}};a(\"actionText,setName,setAttribute,save,ignore,onEnd,getContext,end,get\".split(\",\"),function(e,t){m[t]=i(l+t)}),newrelic.noticeError=function(e,t){\"string\"==typeof e&&(e=new Error(e)),o(\"err\",[e,u.now(),!1,t])}},{}],2:[function(e,t,n){function r(){return c.exists&&performance.now?Math.round(performance.now()):(o=Math.max((new Date).getTime(),o))-a}function i(){return o}var o=(new Date).getTime(),a=o,c=e(9);t.exports=r,t.exports.offset=a,t.exports.getLastTimestamp=i},{}],3:[function(e,t,n){function r(e){return!(!e||!e.protocol||\"file:\"===e.protocol)}t.exports=r},{}],4:[function(e,t,n){function r(e,t){var n=e.getEntries();n.forEach(function(e){\"first-paint\"===e.name?d(\"timing\",[\"fp\",Math.floor(e.startTime)]):\"first-contentful-paint\"===e.name&&d(\"timing\",[\"fcp\",Math.floor(e.startTime)])})}function i(e,t){var n=e.getEntries();n.length>0&&d(\"lcp\",[n[n.length-1]])}function o(e){e.getEntries().forEach(function(e){e.hadRecentInput||d(\"cls\",[e])})}function a(e){if(e instanceof m&&!g){var t=Math.round(e.timeStamp),n={type:e.type};t<=p.now()?n.fid=p.now()-t:t>p.offset&&t<=Date.now()?(t-=p.offset,n.fid=p.now()-t):t=p.now(),g=!0,d(\"timing\",[\"fi\",t,n])}}function c(e){d(\"pageHide\",[p.now(),e])}if(!(\"init\"in NREUM&&\"page_view_timing\"in NREUM.init&&\"enabled\"in NREUM.init.page_view_timing&&NREUM.init.page_view_timing.enabled===!1)){var f,u,s,d=e(\"handle\"),p=e(\"loader\"),l=e(6),m=NREUM.o.EV;if(\"PerformanceObserver\"in window&&\"function\"==typeof window.PerformanceObserver){f=new PerformanceObserver(r);try{f.observe({entryTypes:[\"paint\"]})}catch(v){}u=new PerformanceObserver(i);try{u.observe({entryTypes:[\"largest-contentful-paint\"]})}catch(v){}s=new PerformanceObserver(o);try{s.observe({type:\"layout-shift\",buffered:!0})}catch(v){}}if(\"addEventListener\"in document){var g=!1,w=[\"click\",\"keydown\",\"mousedown\",\"pointerdown\",\"touchstart\"];w.forEach(function(e){document.addEventListener(e,a,!1)})}l(c)}},{}],5:[function(e,t,n){function r(e,t){if(!i)return!1;if(e!==i)return!1;if(!t)return!0;if(!o)return!1;for(var n=o.split(\".\"),r=t.split(\".\"),a=0;a<r.length;a++)if(r[a]!==n[a])return!1;return!0}var i=null,o=null,a=/Version\\/(\\S+)\\s+Safari/;if(navigator.userAgent){var c=navigator.userAgent,f=c.match(a);f&&c.indexOf(\"Chrome\")===-1&&c.indexOf(\"Chromium\")===-1&&(i=\"Safari\",o=f[1])}t.exports={agent:i,version:o,match:r}},{}],6:[function(e,t,n){function r(e){function t(){e(a&&document[a]?document[a]:document[i]?\"hidden\":\"visible\")}\"addEventListener\"in document&&o&&document.addEventListener(o,t,!1)}t.exports=r;var i,o,a;\"undefined\"!=typeof document.hidden?(i=\"hidden\",o=\"visibilitychange\",a=\"visibilityState\"):\"undefined\"!=typeof document.msHidden?(i=\"msHidden\",o=\"msvisibilitychange\"):\"undefined\"!=typeof document.webkitHidden&&(i=\"webkitHidden\",o=\"webkitvisibilitychange\",a=\"webkitVisibilityState\")},{}],7:[function(e,t,n){function r(e,t){var n=[],r=\"\",o=0;for(r in e)i.call(e,r)&&(n[o]=t(r,e[r]),o+=1);return n}var i=Object.prototype.hasOwnProperty;t.exports=r},{}],8:[function(e,t,n){function r(e,t,n){t||(t=0),\"undefined\"==typeof n&&(n=e?e.length:0);for(var r=-1,i=n-t||0,o=Array(i<0?0:i);++r<i;)o[r]=e[t+r];return o}t.exports=r},{}],9:[function(e,t,n){t.exports={exists:\"undefined\"!=typeof window.performance&&window.performance.timing&&\"undefined\"!=typeof window.performance.timing.navigationStart}},{}],ee:[function(e,t,n){function r(){}function i(e){function t(e){return e&&e instanceof r?e:e?u(e,f,a):a()}function n(n,r,i,o,a){if(a!==!1&&(a=!0),!l.aborted||o){e&&a&&e(n,r,i);for(var c=t(i),f=v(n),u=f.length,s=0;s<u;s++)f[s].apply(c,r);var p=d[h[n]];return p&&p.push([b,n,r,c]),c}}function o(e,t){y[e]=v(e).concat(t)}function m(e,t){var n=y[e];if(n)for(var r=0;r<n.length;r++)n[r]===t&&n.splice(r,1)}function v(e){return y[e]||[]}function g(e){return p[e]=p[e]||i(n)}function w(e,t){s(e,function(e,n){t=t||\"feature\",h[n]=t,t in d||(d[t]=[])})}var y={},h={},b={on:o,addEventListener:o,removeEventListener:m,emit:n,get:g,listeners:v,context:t,buffer:w,abort:c,aborted:!1};return b}function o(e){return u(e,f,a)}function a(){return new r}function c(){(d.api||d.feature)&&(l.aborted=!0,d=l.backlog={})}var f=\"nr@context\",u=e(\"gos\"),s=e(7),d={},p={},l=t.exports=i();t.exports.getOrSetContext=o,l.backlog=d},{}],gos:[function(e,t,n){function r(e,t,n){if(i.call(e,t))return e[t];var r=n();if(Object.defineProperty&&Object.keys)try{return Object.defineProperty(e,t,{value:r,writable:!0,enumerable:!1}),r}catch(o){}return e[t]=r,r}var i=Object.prototype.hasOwnProperty;t.exports=r},{}],handle:[function(e,t,n){function r(e,t,n,r){i.buffer([e],r),i.emit(e,t,n)}var i=e(\"ee\").get(\"handle\");t.exports=r,r.ee=i},{}],id:[function(e,t,n){function r(e){var t=typeof e;return!e||\"object\"!==t&&\"function\"!==t?-1:e===window?0:a(e,o,function(){return i++})}var i=1,o=\"nr@id\",a=e(\"gos\");t.exports=r},{}],loader:[function(e,t,n){function r(){if(!E++){var e=x.info=NREUM.info,t=l.getElementsByTagName(\"script\")[0];if(setTimeout(u.abort,3e4),!(e&&e.licenseKey&&e.applicationID&&t))return u.abort();f(h,function(t,n){e[t]||(e[t]=n)});var n=a();c(\"mark\",[\"onload\",n+x.offset],null,\"api\"),c(\"timing\",[\"load\",n]);var r=l.createElement(\"script\");r.src=\"https://\"+e.agent,t.parentNode.insertBefore(r,t)}}function i(){\"complete\"===l.readyState&&o()}function o(){c(\"mark\",[\"domContent\",a()+x.offset],null,\"api\")}var a=e(2),c=e(\"handle\"),f=e(7),u=e(\"ee\"),s=e(5),d=e(3),p=window,l=p.document,m=\"addEventListener\",v=\"attachEvent\",g=p.XMLHttpRequest,w=g&&g.prototype;if(d(p.location)){NREUM.o={ST:setTimeout,SI:p.setImmediate,CT:clearTimeout,XHR:g,REQ:p.Request,EV:p.Event,PR:p.Promise,MO:p.MutationObserver};var y=\"\"+location,h={beacon:\"bam.nr-data.net\",errorBeacon:\"bam.nr-data.net\",agent:\"js-agent.newrelic.com/nr-1208.min.js\"},b=g&&w&&w[m]&&!/CriOS/.test(navigator.userAgent),x=t.exports={offset:a.getLastTimestamp(),now:a,origin:y,features:{},xhrWrappable:b,userAgent:s};e(1),e(4),l[m]?(l[m](\"DOMContentLoaded\",o,!1),p[m](\"load\",r,!1)):(l[v](\"onreadystatechange\",i),p[v](\"onload\",r)),c(\"mark\",[\"firstbyte\",a.getLastTimestamp()],null,\"api\");var E=0}},{}],\"wrap-function\":[function(e,t,n){function r(e,t){function n(t,n,r,f,u){function nrWrapper(){var o,a,s,p;try{a=this,o=d(arguments),s=\"function\"==typeof r?r(o,a):r||{}}catch(l){i([l,\"\",[o,a,f],s],e)}c(n+\"start\",[o,a,f],s,u);try{return p=t.apply(a,o)}catch(m){throw c(n+\"err\",[o,a,m],s,u),m}finally{c(n+\"end\",[o,a,p],s,u)}}return a(t)?t:(n||(n=\"\"),nrWrapper[p]=t,o(t,nrWrapper,e),nrWrapper)}function r(e,t,r,i,o){r||(r=\"\");var c,f,u,s=\"-\"===r.charAt(0);for(u=0;u<t.length;u++)f=t[u],c=e[f],a(c)||(e[f]=n(c,s?f+r:r,i,f,o))}function c(n,r,o,a){if(!m||t){var c=m;m=!0;try{e.emit(n,r,o,t,a)}catch(f){i([f,n,r,o],e)}m=c}}return e||(e=s),n.inPlace=r,n.flag=p,n}function i(e,t){t||(t=s);try{t.emit(\"internal-error\",e)}catch(n){}}function o(e,t,n){if(Object.defineProperty&&Object.keys)try{var r=Object.keys(e);return r.forEach(function(n){Object.defineProperty(t,n,{get:function(){return e[n]},set:function(t){return e[n]=t,t}})}),t}catch(o){i([o],n)}for(var a in e)l.call(e,a)&&(t[a]=e[a]);return t}function a(e){return!(e&&e instanceof Function&&e.apply&&!e[p])}function c(e,t){var n=t(e);return n[p]=e,o(e,n,s),n}function f(e,t,n){var r=e[t];e[t]=c(r,n)}function u(){for(var e=arguments.length,t=new Array(e),n=0;n<e;++n)t[n]=arguments[n];return t}var s=e(\"ee\"),d=e(8),p=\"nr@original\",l=Object.prototype.hasOwnProperty,m=!1;t.exports=r,t.exports.wrapFunction=c,t.exports.wrapInPlace=f,t.exports.argsToArray=u},{}]},{},[\"loader\"]);</script>\n",
      "<meta content=\"width=device-width, initial-scale=1\" name=\"viewport\"/>\n",
      "<link href=\"https://gmpg.org/xfn/11\" rel=\"profile\"/>\n",
      "<!-- If you're reading this, we need your help building back better. https://usds.gov/ -->\n",
      "<meta content=\"max-image-preview:large\" name=\"robots\"/>\n",
      "<title>Briefing Room | The White House</title>\n",
      "<meta content=\"index, follow, max-snippet:-1, max-image-preview:large, max-video-preview:-1\" name=\"robots\"/>\n",
      "<link href=\"https://www.whitehouse.gov/briefing-room/\" rel=\"canonical\"/>\n",
      "<link href=\"https://www.whitehouse.gov/briefing-room/page/2/\" rel=\"next\"/>\n",
      "<meta content=\"en_US\" property=\"og:locale\"/>\n",
      "<meta content=\"article\" property=\"og:type\"/>\n",
      "<meta content=\"Briefing Room | The White House\" property=\"og:title\"/>\n",
      "<meta content=\"https://www.whitehouse.gov/briefing-room/\" property=\"og:url\"/>\n",
      "<meta content=\"The White House\" property=\"og:site_name\"/>\n",
      "<meta content=\"https://www.whitehouse.gov/wp-content/uploads/2021/01/wh_social-share-1100x740.png\" property=\"og:image\"/>\n",
      "<meta content=\"1100\" property=\"og:image:width\"/>\n",
      "<meta content=\"740\" property=\"og:image:height\"/>\n",
      "<meta content=\"summary_large_image\" name=\"twitter:card\"/>\n",
      "<meta content=\"@whitehouse\" name=\"twitter:site\"/>\n",
      "<script type=\"application/ld+json\">{\"@context\":\"https://schema.org\",\"@graph\":[{\"@type\":\"Organization\",\"@id\":\"https://www.whitehouse.gov/#organization\",\"name\":\"The White House\",\"url\":\"https://www.whitehouse.gov/\",\"sameAs\":[\"https://www.facebook.com/WhiteHouse/\",\"https://www.instagram.com/whitehouse/\",\"https://www.youtube.com/whitehouse\",\"https://twitter.com/whitehouse\"],\"logo\":{\"@type\":\"ImageObject\",\"@id\":\"https://www.whitehouse.gov/#logo\",\"inLanguage\":\"en-US\",\"url\":\"https://www.whitehouse.gov/wp-content/uploads/2021/01/cropped-cropped-wh_favicon.png\",\"width\":512,\"height\":512,\"caption\":\"The White House\"},\"image\":{\"@id\":\"https://www.whitehouse.gov/#logo\"}},{\"@type\":\"WebSite\",\"@id\":\"https://www.whitehouse.gov/#website\",\"url\":\"https://www.whitehouse.gov/\",\"name\":\"The White House\",\"description\":\"\",\"publisher\":{\"@id\":\"https://www.whitehouse.gov/#organization\"},\"potentialAction\":[{\"@type\":\"SearchAction\",\"target\":\"https://www.whitehouse.gov/?s={search_term_string}\",\"query-input\":\"required name=search_term_string\"}],\"inLanguage\":\"en-US\"},{\"@type\":[\"WebPage\",\"CollectionPage\"],\"@id\":\"https://www.whitehouse.gov/briefing-room/#webpage\",\"url\":\"https://www.whitehouse.gov/briefing-room/\",\"name\":\"Briefing Room | The White House\",\"isPartOf\":{\"@id\":\"https://www.whitehouse.gov/#website\"},\"datePublished\":\"2021-01-10T17:37:53+00:00\",\"dateModified\":\"2021-01-16T06:13:35+00:00\",\"inLanguage\":\"en-US\",\"potentialAction\":[{\"@type\":\"ReadAction\",\"target\":[\"https://www.whitehouse.gov/briefing-room/\"]}]}]}</script>\n",
      "<link as=\"font\" crossorigin=\"anonymous\" href=\"https://www.whitehouse.gov/wp-content/themes/whitehouse/assets/fonts/Decimal-Book.woff2\" rel=\"preload\" type=\"font/woff2\"/>\n",
      "<link as=\"font\" crossorigin=\"anonymous\" href=\"https://www.whitehouse.gov/wp-content/themes/whitehouse/assets/fonts/Decimal-Semibold.woff2\" rel=\"preload\" type=\"font/woff2\"/>\n",
      "<link as=\"font\" crossorigin=\"anonymous\" href=\"https://www.whitehouse.gov/wp-content/themes/whitehouse/assets/fonts/Decimal-Medium_Web.woff2\" rel=\"preload\" type=\"font/woff2\"/>\n",
      "<link as=\"font\" crossorigin=\"anonymous\" href=\"https://www.whitehouse.gov/wp-content/themes/whitehouse/assets/fonts/Decimal-Bold.woff2\" rel=\"preload\" type=\"font/woff2\"/>\n",
      "<link as=\"font\" crossorigin=\"anonymous\" href=\"https://www.whitehouse.gov/wp-content/themes/whitehouse/assets/fonts/MercuryTextG2-Semibold-Pro_Web.woff2\" rel=\"preload\" type=\"font/woff2\"/>\n",
      "<link as=\"font\" crossorigin=\"anonymous\" href=\"https://www.whitehouse.gov/wp-content/themes/whitehouse/assets/fonts/MercurySSm-Book-Pro_Web.woff2\" rel=\"preload\" type=\"font/woff2\"/>\n",
      "<link as=\"font\" crossorigin=\"anonymous\" href=\"https://www.whitehouse.gov/wp-content/themes/whitehouse/assets/fonts/MercurySSm-Bold-Pro_Web.woff2\" rel=\"preload\" type=\"font/woff2\"/>\n",
      "<link href=\"https://www.whitehouse.gov/wp-includes/css/dist/block-library/style.min.css?ver=5.7.1\" id=\"wp-block-library-css\" media=\"all\" rel=\"stylesheet\" type=\"text/css\"/>\n",
      "<link href=\"https://www.whitehouse.gov/wp-content/themes/whitehouse/assets/css/style.min.css?ver=b8e2738.1619032045\" id=\"theme_css-css\" media=\"all\" rel=\"stylesheet\" type=\"text/css\"/>\n",
      "<link href=\"https://s.go-mpulse.net\" rel=\"preconnect\"/>\n",
      "<link href=\"https://www.whitehouse.gov/es/prensa/\" hreflang=\"es-US\" rel=\"alternate\"/><link href=\"https://www.whitehouse.gov/briefing-room/\" hreflang=\"en-US\" rel=\"alternate\"/><link href=\"/apple-touch-icon.png\" rel=\"apple-touch-icon\" sizes=\"180x180\"/>\n",
      "<link color=\"#5bbad5\" href=\"/safari-pinned-tab.svg\" rel=\"mask-icon\"/>\n",
      "<meta content=\"The White House\" name=\"apple-mobile-web-app-title\"/>\n",
      "<meta content=\"The White House\" name=\"application-name\"/>\n",
      "<style id=\"wp-custom-css\" type=\"text/css\">\n",
      "\t\t\t.body-content .font-signature table td {font-family:MercurySSm-Book-Pro_Web,serif !important; font-size:16px;}\t\t</style>\n",
      "<script>/*bundle-header.js*/(function(){var e=document.documentElement,n=e.style;e.className=e.className.replace(\"no-js\",\"js\");var t=function(){return n.setProperty(\"--vh\",\"\".concat(.01*window.innerHeight,\"px\"))};t(),window.setVHUnit=t,window.llItems=[]})()</script>\n",
      "<!-- We participate in the US government's analytics program. See the data at analytics.usa.gov. -->\n",
      "<script async=\"\" id=\"_fed_an_ua_tag\" src=\"https://dap.digitalgov.gov/Universal-Federated-Analytics-Min.js?agency=EOP\"></script>\n",
      "<script async=\"\" src=\"https://www.googletagmanager.com/gtag/js?id=UA-12099831-10\"></script>\n",
      "<script>\n",
      "\twindow.dataLayer = window.dataLayer || [];\n",
      "\tfunction gtag(){dataLayer.push(arguments);}\n",
      "\tgtag('js', new Date());\n",
      "\tgtag('config', 'UA-12099831-10');\n",
      "\twindow.gtag_id = 'UA-12099831-10';\n",
      "\t</script>\n",
      "<script>!function(a){var e=\"https://s.go-mpulse.net/boomerang/\",t=\"addEventListener\";if(\"False\"==\"True\")a.BOOMR_config=a.BOOMR_config||{},a.BOOMR_config.PageParams=a.BOOMR_config.PageParams||{},a.BOOMR_config.PageParams.pci=!0,e=\"https://s2.go-mpulse.net/boomerang/\";if(window.BOOMR_API_key=\"2HLG7-AJR3H-5NUAK-82W8H-ZYXA7\",function(){function n(e){a.BOOMR_onload=e&&e.timeStamp||(new Date).getTime()}if(!a.BOOMR||!a.BOOMR.version&&!a.BOOMR.snippetExecuted){a.BOOMR=a.BOOMR||{},a.BOOMR.snippetExecuted=!0;var i,_,o,r=document.createElement(\"iframe\");if(a[t])a[t](\"load\",n,!1);else if(a.attachEvent)a.attachEvent(\"onload\",n);r.src=\"javascript:void(0)\",r.title=\"\",r.role=\"presentation\",(r.frameElement||r).style.cssText=\"width:0;height:0;border:0;display:none;\",o=document.getElementsByTagName(\"script\")[0],o.parentNode.insertBefore(r,o);try{_=r.contentWindow.document}catch(O){i=document.domain,r.src=\"javascript:var d=document.open();d.domain='\"+i+\"';void(0);\",_=r.contentWindow.document}_.open()._l=function(){var a=this.createElement(\"script\");if(i)this.domain=i;a.id=\"boomr-if-as\",a.src=e+\"2HLG7-AJR3H-5NUAK-82W8H-ZYXA7\",BOOMR_lstart=(new Date).getTime(),this.body.appendChild(a)},_.write(\"<bo\"+'dy onload=\"document._l();\">'),_.close()}}(),\"\".length>0)if(a&&\"performance\"in a&&a.performance&&\"function\"==typeof a.performance.setResourceTimingBufferSize)a.performance.setResourceTimingBufferSize();!function(){if(BOOMR=a.BOOMR||{},BOOMR.plugins=BOOMR.plugins||{},!BOOMR.plugins.AK){var e=\"\"==\"true\"?1:0,t=\"\",n=\"ewvnouyx3h4doyegxxqq-f-111f89294-clientnsv4-s.akamaihd.net\",i={\"ak.v\":\"31\",\"ak.cp\":\"1136160\",\"ak.ai\":parseInt(\"689495\",10),\"ak.ol\":\"0\",\"ak.cr\":54,\"ak.ipv\":4,\"ak.proto\":\"http/1.1\",\"ak.rid\":\"20dcf28a\",\"ak.r\":20559,\"ak.a2\":e,\"ak.m\":\"dscb\",\"ak.n\":\"essl\",\"ak.bpcip\":\"37.170.215.0\",\"ak.cport\":57762,\"ak.gh\":\"23.200.87.111\",\"ak.quicv\":\"\",\"ak.tlsv\":\"tls1.3\",\"ak.0rtt\":\"\",\"ak.csrc\":\"-\",\"ak.acc\":\"bbr\",\"ak.t\":\"1619443169\",\"ak.ak\":\"hOBiQwZUYzCg5VSAfCLimQ==mdQatNQ4WYUvYMe/Ug1aPyTBBJ2Qqu+z9vDiFmFXY4CzzO3H5snTOVrbNA5NIN3I5szWBln505BRSjLprvJfb58JFbvmPKwmrov+lYzz+nJYRcX2c6CYHzbPZxi6p6Iaj1He3PbIQCpKMH+BiHnrWh8oDTWztSnFnqJfwAR5+yecBvc0rX3mBJiyIVhqWCpYuJ5yDaDjN/ZEl5ML/sL4REJ7A0Qf/K09z7jlISm97bg1HM/X1iSxgalh81wu5F3V5k3ZccHrEkJcKc8l7U6WZZn7XuwOEqU0wzOdXQjgCrefayUngHpWtHw2+Gm2wToeEA0GZvMvsi3JePjI1fo6f8dhLy84gfxWX6DMy3l0ImcIXqRUHmgSQs9zqNUSob6GHFhlKVtUGiFiu8cz5uC8uFePExoFV8rfTnmdofvEjmk=\",\"ak.pv\":\"3\",\"ak.dpoabenc\":\"\"};if(\"\"!==t)i[\"ak.ruds\"]=t;var _={i:!1,av:function(e){var t=\"http.initiator\";if(e&&(!e[t]||\"spa_hard\"===e[t]))i[\"ak.feo\"]=void 0!==a.aFeoApplied?1:0,BOOMR.addVar(i)},rv:function(){var a=[\"ak.bpcip\",\"ak.cport\",\"ak.cr\",\"ak.csrc\",\"ak.gh\",\"ak.ipv\",\"ak.m\",\"ak.n\",\"ak.ol\",\"ak.proto\",\"ak.quicv\",\"ak.tlsv\",\"ak.0rtt\",\"ak.r\",\"ak.acc\",\"ak.t\"];BOOMR.removeVar(a)}};BOOMR.plugins.AK={akVars:i,akDNSPreFetchDomain:n,init:function(){if(!_.i){var a=BOOMR.subscribe;a(\"before_beacon\",_.av,null,null),a(\"onbeacon\",_.rv,null,null),_.i=!0}return this},is_complete:function(){return!0}}}}()}(window);</script></head>\n",
      "<body class=\"blog wp-embed-responsive no-con no-font\"><script>\n",
      "if ((document.cookie.match('(^|; )contrast-cookie=([^;]*)') || 0)[2] === 'true') {\n",
      "\tdocument.body.className = document.body.className.replace(' no-con', '');\n",
      "\tdocument.body.className += ' accessibility__contrast';\n",
      "}\n",
      "if ((document.cookie.match('(^|; )font-size-cookie=([^;]*)') || 0)[2] === 'true') {\n",
      "\tdocument.body.className = document.body.className.replace(' no-font', '');\n",
      "\tdocument.body.className += ' accessibility__fontsize';\n",
      "}\n",
      "</script>\n",
      "<a class=\"skip-link screen-reader-text\" href=\"#content\">Skip to content</a>\n",
      "<div aria-label=\"High Contrast and Font Size Options\" class=\"acctoggle\" role=\"toolbar\">\n",
      "<noscript>\n",
      "<span class=\"sr-only\">You have JavaScript disabled. Please enable JavaScript to use this feature.</span>\n",
      "</noscript>\n",
      "<div class=\"acctoggle__ctrl\">\n",
      "<div class=\"tool\">\n",
      "<span>Toggle High Contrast</span>\n",
      "</div>\n",
      "<button class=\"acctoggle__contrast\">\n",
      "<svg aria-labelledby=\"high-contrast-svg-title\" role=\"img\" viewbox=\"0 0 28.7 28.7\" xmlns=\"http://www.w3.org/2000/svg\">\n",
      "<title id=\"high-contrast-svg-title\">\n",
      "\t\tToggle High Contrast\t</title>\n",
      "<path d=\"M14.3 0C6.5 0 0 6.5 0 14.3c0 7.9 6.5 14.3 14.3 14.3 7.9 0 14.3-6.5 14.3-14.3C28.7 6.5 22.2 0 14.3 0zm0 3.6c6 0 10.8 4.8 10.8 10.8 0 6-4.8 10.8-10.8 10.8V3.6z\"></path>\n",
      "</svg>\n",
      "</button>\n",
      "</div>\n",
      "<div class=\"acctoggle__ctrl\">\n",
      "<div class=\"tool\">\n",
      "<span>Toggle Large Font Size</span>\n",
      "</div>\n",
      "<button class=\"acctoggle__fontsize\">\n",
      "<svg aria-labelledby=\"large-font-svg-title\" fill=\"none\" role=\"img\" viewbox=\"0 0 24 19\" xmlns=\"http://www.w3.org/2000/svg\">\n",
      "<title id=\"large-font-svg-title\">\n",
      "\tToggle Large Font Size</title>\n",
      "<path d=\"M10.667 2.637v15.825H8V2.637H0V0h18.667v2.637h-8zM24 9.231h-9.333v2.637H18v6.594h2.667v-6.594H24V9.231z\" fill=\"currentColor\"></path>\n",
      "</svg>\n",
      "</button>\n",
      "</div>\n",
      "</div>\n",
      "<div class=\"alert-bar\"></div>\n",
      "<script>\n",
      "(function(opts){!function(e){\"function\"==typeof define&&define.amd?define(\"bundleActionnetworkLabels\",e):e()}((function(){\"use strict\";opts||(opts={liveNow:\"Live Now\",route:\"/live.json\",link:\"/live/\"});var e=function(e){var t=document.createElement(\"div\");t.className=\"alert-bar has-link ready-to-alert alert-bar--is-simple alert-bar--is-live\",t.innerHTML='\\n <div class=\"container-fluid\">\\n <a class=\"alert-bar__simple__link\" href=\"'.concat(opts.link,'\">\\n <span class=\"screen-reader-text\">').concat(opts.liveNow?opts.liveNow:\"Live Now\",\": \").concat(e.title,'</span>\\n </a>\\n <p><span aria-hidden=\"true\">').concat(opts.liveNow?opts.liveNow:\"Live Now\",\": \").concat(e.title,\"</span></p>\\n </div>\\n \");var n=document.querySelector(\".alert-bar\");if(n)n.parentNode.replaceChild(t,n);else{var o=document.querySelector(\"#page\");o?o.parentNode.insertBefore(t,o):document.body.insertBefore(t,document.body.firstChild)}},t=function(t){var n=new XMLHttpRequest;n.open(\"GET\",opts.route),n.setRequestHeader(\"Accept\",\"application/json\"),t&&n.setRequestHeader(\"If-Modified-Since\",new Date(t).toGMTString()),n.onload=function(){var t;try{t=JSON.parse(n.responseText)}catch(e){return}e(t),sessionStorage.setItem(\"live\",n.responseText)},n.send()};if(sessionStorage.liveTimestamp&&sessionStorage.live){try{var n=JSON.parse(sessionStorage.live);e(n)}catch(e){}if(sessionStorage.liveTimestamp){var o=Number(sessionStorage.liveTimestamp);Date.now()-o>6e4&&t(o)}}else t()}));})({\"liveNow\":\"Live Now\",\"link\":\"https:\\/\\/www.whitehouse.gov\\/live\\/\",\"route\":\"https:\\/\\/www.whitehouse.gov\\/live.json\"} );\n",
      "</script>\n",
      "<div class=\"site-wrap\" id=\"page\">\n",
      "<header class=\"site-header sticky-header cond-inner\" data-js-social-hide=\"\" id=\"masthead\">\n",
      "<div class=\"site-header__inner\">\n",
      "<div class=\"container-fluid\">\n",
      "<div class=\"row site-header__row justify-content-between align-items-stretch\">\n",
      "<div class=\"site-header__item site-header__main-logo\">\n",
      "<a class=\"site-header__item_inner\" href=\"https://www.whitehouse.gov/\" rel=\"home\">\n",
      "<div class=\"desktop__logo\">\n",
      "<span>The White House</span>\n",
      "</div>\n",
      "<div class=\"mobile__logo\">\n",
      "<span class=\"screen-reader-text\">The White House</span>\n",
      "<svg id=\"wh-gov-6086b7c8c91c3\" style=\"enable-background:new 0 0 1231 180;\" version=\"1.1\" viewbox=\"0 0 1231 180\" x=\"0px\" xml:space=\"preserve\" xmlns=\"http://www.w3.org/2000/svg\" xmlns:xlink=\"http://www.w3.org/1999/xlink\" y=\"0px\">\n",
      "<g>\n",
      "<g class=\"st0\">\n",
      "<path d=\"M200.9,126h1.5l30-102.8l-18.7-9V4.5h60.7v9.7l-21.7,10.5L200.9,177h-22.5l-39-113.3H138L94.5,177H72L23.2,21.8L0,14.3\n",
      "\t\t\tV4.5h86.2v9l-20.2,6l30,107.3h0.7l33.7-90l-6-15.8l-18-7.5v-9h80.2v9l-20.2,6.8L200.9,126z\"></path>\n",
      "<path d=\"M446.1,21l-22.5-6V4.5h88.5V15l-25.5,6v138.8l25.5,6v9.8h-88.5v-9.8l22.5-6V96h-72v63.8l22.5,6v9.8h-88.5v-9.8l25.5-6V21\n",
      "\t\t\tl-25.5-6V4.5h89.2V15l-22.5,6v57.8h72V21H446.1z\"></path>\n",
      "<path d=\"M577.3,180c-9.7,0-17.2-7.5-17.2-17.2c0-9,7.5-17.2,17.2-17.2c9.7,0,17.2,7.5,17.2,17.2C594.5,171.7,587,180,577.3,180z\"></path>\n",
      "<path d=\"M770.7,57.8c-16.5-31.5-32.2-45-56.2-45c-27.7,0-51.7,24.8-51.7,74.2c0,51,24.7,77.2,60.7,77.2c13.5,0,22.5-3.8,32.2-9\n",
      "\t\t\tv-43.5l-25.5-6V96h74.2v9.8l-22.5,6v66l-8.2,1.5l-13.5-13.5c-13.5,8.2-27,13.5-47.2,13.5c-46.5,0-83.2-33-83.2-86.2\n",
      "\t\t\tc0-51.8,38.2-92.2,89.2-92.2c16.5,0,30,3.8,40.5,9l8.2-9.8h9l1.5,57L770.7,57.8z\"></path>\n",
      "<path d=\"M931.9,179.3c-54,0-83.2-41.2-83.2-89.3c0-48,33-89.2,84.7-89.2c54,0,83.2,41.2,83.2,89.2\n",
      "\t\t\tC1016.6,138.8,982.9,179.3,931.9,179.3z M929.7,12c-24.7,0-49.5,18-49.5,78c0,60,28.5,78,55.5,78c24.7,0,49.5-24.8,49.5-78\n",
      "\t\t\tC985.2,36.8,956.7,12,929.7,12z\"></path>\n",
      "<path d=\"M1146.3,177h-13.5l-60.7-155.3l-24.7-6.8V4.5h81v9.7l-26.2,6l45,121.5l45-119.3l-20.2-7.5V4.5h59.2v9.7l-22.5,7.5\n",
      "\t\t\tL1146.3,177z\"></path>\n",
      "</g>\n",
      "</g>\n",
      "</svg>\n",
      "</div>\n",
      "</a>\n",
      "</div><!-- main-logo -->\n",
      "<div class=\"center-logo\">\n",
      "<a class=\"\" href=\"https://www.whitehouse.gov/\" rel=\"home\">\n",
      "<span class=\"screen-reader-text\">The White House</span>\n",
      "<svg id=\"wh-oval-6086b7c8c920b\" style=\"enable-background:new 0 0 343 243;\" version=\"1.1\" viewbox=\"0 0 343 243\" x=\"0px\" xml:space=\"preserve\" xmlns=\"http://www.w3.org/2000/svg\" xmlns:xlink=\"http://www.w3.org/1999/xlink\" y=\"0px\">\n",
      "<style type=\"text/css\">\n",
      "\t#wh-oval-6086b7c8c920b .st0{fill:#0A2458;}\n",
      "\t#wh-oval-6086b7c8c920b .st1{fill-rule:evenodd;clip-rule:evenodd;fill:#FFFFFF;}\n",
      "\t#wh-oval-6086b7c8c920b .st2{opacity:0.5;fill:#FFFFFF;}\n",
      "\t#wh-oval-6086b7c8c920b .st3{fill:#FFFFFF;}\n",
      "</style>\n",
      "<g>\n",
      "<ellipse class=\"st0\" cx=\"171.5\" cy=\"121.5\" rx=\"168.6\" ry=\"118.7\"></ellipse>\n",
      "<path class=\"st1\" d=\"M171.5,229.5c87.3,0,158-48.4,158-108s-70.7-108-158-108s-158,48.4-158,108S84.2,229.5,171.5,229.5z\n",
      "\t\t M290.8,209c-31.1,21.3-73.3,34-119.3,34s-88.2-12.7-119.3-34C21.1,187.8,0,157.1,0,121.5S21.1,55.2,52.2,34\n",
      "\t\tC83.3,12.7,125.5,0,171.5,0s88.2,12.7,119.3,34c31,21.2,52.2,51.9,52.2,87.5S321.8,187.8,290.8,209z\"></path>\n",
      "</g>\n",
      "<g>\n",
      "<g>\n",
      "<rect class=\"st2\" height=\"8.5\" width=\"2.7\" x=\"168.3\" y=\"134.4\"></rect>\n",
      "<rect class=\"st2\" height=\"8.5\" width=\"2.7\" x=\"168.3\" y=\"143.9\"></rect>\n",
      "<rect class=\"st2\" height=\"8.5\" width=\"2.7\" x=\"172\" y=\"143.9\"></rect>\n",
      "<rect class=\"st2\" height=\"8.4\" width=\"2.7\" x=\"172\" y=\"134.4\"></rect>\n",
      "<path class=\"st2\" d=\"M212.5,92.7h-81.9c-0.6,0-1.1,0.5-1.1,1.1v66c0,0.6,0.5,1.1,1.1,1.1h81.8c0.7,0,1.2-0.5,1.2-1.2v-66\n",
      "\t\t\tC213.6,93.2,213.1,92.7,212.5,92.7z M191.8,118.7c0-0.2,0.1-0.2,0.2-0.3c0.2-0.2,0.4-0.7,0.4-1.2v-7.2c0-0.4-0.2-0.8-0.4-1.2\n",
      "\t\t\tc-0.1-0.1-0.2-0.2-0.2-0.3v-1.4c0-0.2,0.2-0.3,0.3-0.3h9.1c0.2,0,0.3,0.2,0.3,0.3v1.4c0,0.2-0.1,0.2-0.2,0.3\n",
      "\t\t\tc-0.2,0.3-0.4,0.7-0.4,1.2v7.1c0,0.4,0.2,0.8,0.4,1.2c0.1,0.1,0.2,0.2,0.2,0.3v3.2c0,0.2-0.2,0.3-0.3,0.3h-9.1\n",
      "\t\t\tc-0.2,0-0.3-0.2-0.3-0.3V118.7z M166.6,118.7c0-0.2,0.1-0.2,0.2-0.3c0.2-0.2,0.4-0.7,0.4-1.2v-7.1c0-0.4-0.2-0.8-0.4-1.2\n",
      "\t\t\tc-0.1-0.1-0.2-0.2-0.2-0.3v-1.4c0-0.2,0.2-0.3,0.3-0.3h9.1c0.2,0,0.3,0.2,0.3,0.3v1.4c0,0.2-0.1,0.2-0.2,0.3\n",
      "\t\t\tc-0.2,0.2-0.4,0.7-0.4,1.2v7.2c0,0.4,0.2,0.8,0.4,1.2c0.1,0.1,0.2,0.2,0.2,0.3v3.2c0,0.2-0.2,0.3-0.3,0.3h-9.1\n",
      "\t\t\tc-0.2,0-0.3-0.2-0.3-0.3V118.7z M141.5,118.7c0-0.2,0.1-0.2,0.2-0.3c0.2-0.2,0.4-0.7,0.4-1.2v-7.1c0-0.4-0.2-0.8-0.4-1.2\n",
      "\t\t\tc-0.1-0.1-0.2-0.2-0.2-0.3v-1.4c0-0.2,0.2-0.3,0.3-0.3h9.1c0.2,0,0.3,0.2,0.3,0.3v1.4c0,0.2-0.1,0.2-0.2,0.3\n",
      "\t\t\tc-0.2,0.2-0.4,0.7-0.4,1.2v7.2c0,0.4,0.2,0.8,0.4,1.2c0.1,0.1,0.2,0.2,0.2,0.3v3.2c0,0.2-0.2,0.3-0.3,0.3h-9.1\n",
      "\t\t\tc-0.2,0-0.3-0.2-0.3-0.3V118.7z M151.3,131.9c0,0.2-0.1,0.2-0.2,0.3c-0.2,0.2-0.4,0.7-0.4,1.2v8.7c0,0.4,0.2,0.8,0.4,1.2\n",
      "\t\t\tc0.1,0.1,0.2,0.2,0.2,0.3v3.2c0,0.2-0.2,0.3-0.3,0.3h-9.1c-0.2,0-0.3-0.2-0.3-0.3v-3.2c0-0.2,0.1-0.2,0.2-0.3\n",
      "\t\t\tc0.2-0.2,0.4-0.7,0.4-1.2v-8.7c0-0.4-0.2-0.8-0.4-1.2c-0.1-0.1-0.2-0.2-0.2-0.3v-1.4c0-0.2,0.2-0.3,0.3-0.3h9.1\n",
      "\t\t\tc0.2,0,0.3,0.2,0.3,0.3V131.9z M151.8,127.9c-0.1,0.2-0.2,0.2-0.2,0.2h-10c-0.2,0-0.3-0.1-0.4-0.2c-0.1-0.2-0.1-0.4,0.1-0.5\n",
      "\t\t\tc1.5-1.2,3.3-1.9,5.2-1.9c1.9,0,3.7,0.7,5.2,1.9C151.8,127.5,151.9,127.7,151.8,127.9z M176.3,154.1c-3.2,0-6.4,0-9.6,0\n",
      "\t\t\tc-0.2,0-0.5-0.2-0.5-0.5c0-6.9,0-13.7,0-20.7c0.1-6.9,10.4-6.9,10.5,0c0,6.9,0,13.7,0.1,20.7C176.8,153.9,176.5,154.1,176.3,154.1\n",
      "\t\t\tz M201.5,131.9c0,0.2-0.1,0.2-0.2,0.3c-0.2,0.2-0.4,0.7-0.4,1.2v8.7c0,0.4,0.2,0.8,0.4,1.2c0.1,0.1,0.2,0.2,0.2,0.3v3.2\n",
      "\t\t\tc0,0.2-0.2,0.3-0.3,0.3h-9.1c-0.2,0-0.3-0.2-0.3-0.3v-3.2c0-0.2,0.1-0.2,0.2-0.3c0.2-0.2,0.4-0.7,0.4-1.2v-8.7\n",
      "\t\t\tc0-0.4-0.2-0.8-0.4-1.2c-0.1-0.1-0.2-0.2-0.2-0.3v-1.4c0-0.2,0.2-0.3,0.3-0.3h9.1c0.2,0,0.3,0.2,0.3,0.3V131.9z M202,127.9\n",
      "\t\t\tc-0.1,0.2-0.2,0.2-0.2,0.2h-10c-0.2,0-0.3-0.1-0.4-0.2c-0.1-0.2-0.1-0.4,0.1-0.5c1.5-1.2,3.3-1.9,5.2-1.9c1.9,0,3.7,0.7,5.2,1.9\n",
      "\t\t\tC202,127.5,202.1,127.7,202,127.9z\"></path>\n",
      "</g>\n",
      "<path class=\"st3\" d=\"M192.6,72.3l2.4,1h20.3l0.8-1.1c0.2-0.2,0-0.4-0.2-0.4h-23.2C192.4,71.8,192.3,72.3,192.6,72.3z\"></path>\n",
      "<path class=\"st3\" d=\"M222.2,79.1v3.1c0,0.2,0.2,0.4,0.3,0.4h7.2c0.2,0,0.3-0.2,0.4-0.4v-3.1l1.2-1.7c0.2-0.2,0-0.6-0.2-0.6h-10\n",
      "\t\tc-0.3,0-0.5,0.3-0.2,0.6L222.2,79.1z\"></path>\n",
      "<path class=\"st3\" d=\"M215.1,166.4h-40h-7.3h-39.9c-0.2,0-0.5,0.2-0.5,0.5v3.7c0,0.2,0.2,0.5,0.5,0.5h40h7.3h40\n",
      "\t\tc0.2,0,0.5-0.2,0.5-0.5v-3.7C215.6,166.6,215.4,166.4,215.1,166.4z\"></path>\n",
      "<path class=\"st3\" d=\"M197.3,74.3l17.5,6.8c0.2,0.1,0.4-0.1,0.4-0.2v-2.1c0-0.1,0-0.1-0.1-0.2l-0.3-0.5c0-0.1-0.1-0.1-0.1-0.2v-3.7\n",
      "\t\tL197.3,74.3L197.3,74.3z\"></path>\n",
      "<path class=\"st3\" d=\"M127.7,73.3H148l2.4-1c0.2-0.1,0.2-0.5-0.1-0.5h-23.2c-0.2,0-0.3,0.2-0.2,0.4L127.7,73.3z\"></path>\n",
      "<path class=\"st3\" d=\"M112.8,79.1v3.1c0,0.2,0.2,0.4,0.4,0.4h7.2c0.2,0,0.3-0.2,0.3-0.4v-3.1l1.2-1.7c0.2-0.2,0-0.6-0.2-0.6h-10\n",
      "\t\tc-0.3,0-0.5,0.3-0.2,0.6L112.8,79.1z\"></path>\n",
      "<path class=\"st3\" d=\"M293.8,153.5h-79.4c-0.2-0.7-0.5-1.3-0.7-2h-7.8c-0.2,0-0.4,0.2-0.5,0.4c-0.2,0.6-0.4,1.2-0.7,1.8\n",
      "\t\tc-0.2,0.6-0.6,1.2-1,1.7v3.2h-14.1v-3.2c-0.7-1.2-1.2-2.3-1.6-3.6c-0.1-0.2-0.2-0.4-0.5-0.4H180c-0.2,0-0.4,0.2-0.5,0.4\n",
      "\t\tc-0.3,1.2-0.8,2.4-1.6,3.6v3.2h-5h-2.7h-5v-3.2c-0.7-1.1-1.2-2.3-1.6-3.6c-0.1-0.2-0.2-0.4-0.5-0.4h-7.5c-0.2,0-0.4,0.2-0.5,0.4\n",
      "\t\tc-0.3,1.2-0.9,2.4-1.6,3.6v3.2h-14.1v-3.2c-0.3-0.6-0.7-1.2-1-1.7c-0.2-0.6-0.5-1.2-0.7-1.8c-0.1-0.2-0.2-0.4-0.5-0.4h-7.8\n",
      "\t\tc-0.2,0.7-0.4,1.3-0.7,2H49.2c-0.4,0-0.7,0.3-0.7,0.7v6.8c0,0.4,0.3,0.7,0.7,0.7h78.2v2.6c0,0.4,0.3,0.7,0.7,0.7h42.1h2.7H215\n",
      "\t\tc0.4,0,0.7-0.3,0.7-0.7v-2.6h78.2c0.4,0,0.7-0.3,0.7-0.7v-6.8C294.5,153.9,294.2,153.5,293.8,153.5z\"></path>\n",
      "<path class=\"st3\" d=\"M128.2,78.3l-0.3,0.5c0,0.1-0.1,0.1-0.1,0.2v2.1c0,0.2,0.2,0.3,0.4,0.2l17.5-6.8h-17.4L128.2,78.3\n",
      "\t\tC128.3,78.2,128.3,78.2,128.2,78.3z\"></path>\n",
      "<path class=\"st3\" d=\"M187.5,107.8c0-0.2,0-0.5,0-0.7c0-3.7,0-7.1,0-7.1c0.2-1.2,0.5-2.3,1-3.5H179c0.5,1.1,0.8,2.2,1,3.5V119v3.8\n",
      "\t\tv26.5v0.1c0,0.4,0.3,0.7,0.7,0.7h6.2c0.4,0,0.7-0.3,0.7-0.7c0,0,0-26.1,0-40.4C187.5,108.6,187.5,108.2,187.5,107.8z\"></path>\n",
      "<path class=\"st3\" d=\"M163.1,105.6c0.2-6.7,0.5-7.8,1-9h-9.6c0.5,1.1,0.8,2.2,1,3.5c0,0,0,1.1,0,3c0,14.2,0,46.4,0,46.4\n",
      "\t\tc0,0.4,0.3,0.7,0.7,0.7h6.2c0.4,0,0.7-0.3,0.7-0.7v-0.1v-27v-3.3L163.1,105.6L163.1,105.6z\"></path>\n",
      "<path class=\"st3\" d=\"M56.4,87.7c0-0.3,0.3-0.7,0.7-0.7h11.6c0.4,0,0.7,0.2,0.7,0.7v2.9c0,0.3-0.3,0.7-0.7,0.7H57.1\n",
      "\t\tc-0.4,0-0.7-0.2-0.7-0.7V87.7z M75.2,87.7c0-0.3,0.3-0.7,0.7-0.7h11.6c0.4,0,0.7,0.2,0.7,0.7v2.9c0,0.3-0.3,0.7-0.7,0.7H75.8\n",
      "\t\tc-0.4,0-0.7-0.2-0.7-0.7L75.2,87.7L75.2,87.7z M93.9,87.7c0-0.3,0.3-0.7,0.7-0.7h11.6c0.4,0,0.7,0.2,0.7,0.7v2.9\n",
      "\t\tc0,0.3-0.3,0.7-0.7,0.7H94.6c-0.4,0-0.7-0.2-0.7-0.7V87.7z M112.6,87.7c0-0.3,0.3-0.7,0.7-0.7h13.5c0.4,0,0.7,0.2,0.7,0.7v1.9h87.8\n",
      "\t\tv-1.8c0-0.3,0.3-0.7,0.7-0.7h13.5c0.4,0,0.7,0.2,0.7,0.7v2.9c0,0.3-0.3,0.7-0.7,0.7H113.3c-0.4,0-0.7-0.2-0.7-0.7V87.7z M135,83.7\n",
      "\t\tl36.5-14.7L208,83.7h-6.1l-15.2-6.1l-15.2-6.1l-15.2,6.1L141,83.7H135z M236.1,87.7c0-0.3,0.3-0.7,0.7-0.7h11.6\n",
      "\t\tc0.4,0,0.7,0.2,0.7,0.7v2.9c0,0.3-0.3,0.7-0.7,0.7h-11.6c-0.4,0-0.7-0.2-0.7-0.7V87.7z M254.8,87.7c0-0.3,0.3-0.7,0.7-0.7h11.6\n",
      "\t\tc0.4,0,0.7,0.2,0.7,0.7v2.9c0,0.3-0.3,0.7-0.7,0.7h-11.6c-0.4,0-0.7-0.2-0.7-0.7V87.7z M273.6,87.7c0-0.3,0.3-0.7,0.7-0.7h11.6\n",
      "\t\tc0.4,0,0.7,0.2,0.7,0.7v2.9c0,0.3-0.3,0.7-0.7,0.7h-11.6c-0.4,0-0.7-0.2-0.7-0.7V87.7z M218.5,127.6l5.2-2.2c0.1,0,0.1,0,0.2,0\n",
      "\t\ts0.1,0,0.2,0l5.2,2.2c0.2,0.1,0.2,0.2,0.2,0.4c0,0.2-0.2,0.2-0.3,0.2h-10.5c-0.2,0-0.3-0.1-0.3-0.2\n",
      "\t\tC218.2,127.8,218.3,127.6,218.5,127.6z M219,118.7c0-0.1,0.1-0.2,0.2-0.3c0.2-0.3,0.4-0.7,0.4-1.2v-7.2c0-0.5-0.2-0.9-0.4-1.2\n",
      "\t\tc-0.1-0.1-0.2-0.2-0.2-0.3v-1.4c0-0.2,0.2-0.3,0.3-0.3h9.1c0.2,0,0.3,0.2,0.3,0.3v1.4c0,0.1-0.1,0.2-0.2,0.3\n",
      "\t\tc-0.2,0.3-0.4,0.7-0.4,1.2v7.1c0,0.5,0.2,0.9,0.4,1.2c0.1,0.1,0.2,0.2,0.2,0.3v3.2c0,0.2-0.2,0.3-0.3,0.3h-9.1\n",
      "\t\tc-0.2,0-0.3-0.2-0.3-0.3V118.7z M237.3,127.4c0.2-0.2,0.3-0.2,0.5-0.4c1.4-1,3-1.5,4.7-1.5c1.9,0,3.7,0.7,5.2,1.9l0.1,0.1\n",
      "\t\tc0.1,0.1,0.1,0.2,0.1,0.3s-0.1,0.2-0.2,0.2c0,0,0,0-0.1,0c0,0,0,0-0.1,0h-0.1h-10c-0.1,0-0.2-0.1-0.2-0.1c-0.1-0.1-0.1-0.1-0.1-0.2\n",
      "\t\tC237.2,127.7,237.2,127.5,237.3,127.4z M237.7,118.7c0-0.1,0.1-0.2,0.2-0.3c0.2-0.3,0.4-0.7,0.4-1.2v-7.2c0-0.5-0.2-0.9-0.4-1.2\n",
      "\t\tc-0.1-0.1-0.2-0.2-0.2-0.3v-1.4c0-0.2,0.2-0.3,0.3-0.3h9.1c0.2,0,0.3,0.2,0.3,0.3v1.4c0,0.1-0.1,0.2-0.2,0.3\n",
      "\t\tc-0.2,0.3-0.4,0.7-0.4,1.2v7.1c0,0.5,0.2,0.9,0.4,1.2c0.1,0.1,0.2,0.2,0.2,0.3v3.2c0,0.2-0.2,0.3-0.3,0.3H238\n",
      "\t\tc-0.2,0-0.3-0.2-0.3-0.3V118.7z M255.9,127.6l5.3-2.2c0.1,0,0.1,0,0.2,0h0.1c0,0,0,0,0.1,0l5.2,2.2c0.1,0,0.1,0.1,0.2,0.1\n",
      "\t\tc0.1,0.1,0.1,0.2,0.1,0.2c0,0.1-0.1,0.2-0.2,0.2c-0.1,0-0.1,0.1-0.2,0.1h-10.5c-0.1,0-0.2,0-0.2-0.1c-0.1,0-0.1-0.1-0.2-0.2V128\n",
      "\t\tC255.7,127.9,255.7,127.7,255.9,127.6z M256.5,118.7c0-0.1,0.1-0.2,0.2-0.3c0.2-0.3,0.4-0.7,0.4-1.2v-7.2c0-0.5-0.2-0.9-0.4-1.2\n",
      "\t\tc-0.1-0.1-0.2-0.2-0.2-0.3v-1.4c0-0.2,0.2-0.3,0.3-0.3h9.1c0.2,0,0.3,0.2,0.3,0.3v1.4c0,0.1-0.1,0.2-0.2,0.3\n",
      "\t\tc-0.2,0.3-0.4,0.7-0.4,1.2v7.1c0,0.5,0.2,0.9,0.4,1.2c0.1,0.1,0.2,0.2,0.2,0.3v3.2c0,0.2-0.2,0.3-0.3,0.3h-9.1\n",
      "\t\tc-0.2,0-0.3-0.2-0.3-0.3V118.7z M274.8,127.4c0.2-0.2,0.3-0.2,0.5-0.4c1.4-1,3-1.5,4.7-1.5c1.9,0,3.7,0.7,5.2,1.9l0.1,0.1\n",
      "\t\tc0.1,0.1,0.1,0.2,0.1,0.3s-0.1,0.2-0.2,0.2c0,0,0,0-0.1,0c0,0,0,0-0.1,0H285h-10c-0.1,0-0.2-0.1-0.2-0.1c-0.1-0.1-0.1-0.1-0.1-0.2\n",
      "\t\tC274.6,127.7,274.7,127.5,274.8,127.4z M275.2,118.7c0-0.1,0.1-0.2,0.2-0.3c0.2-0.3,0.4-0.7,0.4-1.2v-7.2c0-0.5-0.2-0.9-0.4-1.2\n",
      "\t\tc-0.1-0.1-0.2-0.2-0.2-0.3v-1.4c0-0.2,0.2-0.3,0.3-0.3h9.1c0.2,0,0.3,0.2,0.3,0.3v1.4c0,0.1-0.1,0.2-0.2,0.3\n",
      "\t\tc-0.2,0.3-0.4,0.7-0.4,1.2v7.1c0,0.5,0.2,0.9,0.4,1.2c0.1,0.1,0.2,0.2,0.2,0.3v3.2c0,0.2-0.2,0.3-0.3,0.3h-9.1\n",
      "\t\tc-0.2,0-0.3-0.2-0.3-0.3V118.7z M284.9,131.9c0,0.1-0.1,0.2-0.2,0.3c-0.2,0.3-0.4,0.7-0.4,1.2v8.7c0,0.5,0.2,0.9,0.4,1.2\n",
      "\t\tc0.1,0.1,0.2,0.2,0.2,0.3v3.2c0,0.2-0.2,0.3-0.3,0.3h-9.1c-0.2,0-0.3-0.2-0.3-0.3v-3.2c0-0.1,0.1-0.2,0.2-0.3\n",
      "\t\tc0.2-0.3,0.4-0.7,0.4-1.2v-8.7c0-0.5-0.2-0.9-0.4-1.2c-0.1-0.1-0.2-0.2-0.2-0.3v-1.4c0-0.2,0.2-0.3,0.3-0.3h9.1\n",
      "\t\tc0.2,0,0.3,0.2,0.3,0.3V131.9z M266.2,131.9c0,0.1-0.1,0.2-0.2,0.3c-0.2,0.3-0.4,0.7-0.4,1.2v8.7c0,0.5,0.2,0.9,0.4,1.2\n",
      "\t\tc0.1,0.1,0.2,0.2,0.2,0.3v3.2c0,0.2-0.2,0.3-0.3,0.3h-9.1c-0.2,0-0.3-0.2-0.3-0.3v-3.2c0-0.1,0.1-0.2,0.2-0.3\n",
      "\t\tc0.2-0.3,0.4-0.7,0.4-1.2v-8.7c0-0.5-0.2-0.9-0.4-1.2c-0.1-0.1-0.2-0.2-0.2-0.3v-1.4c0-0.2,0.2-0.3,0.3-0.3h9.1\n",
      "\t\tc0.2,0,0.3,0.2,0.3,0.3V131.9z M247.4,131.9c0,0.1-0.1,0.2-0.2,0.3c-0.2,0.3-0.4,0.7-0.4,1.2v8.7c0,0.5,0.2,0.9,0.4,1.2\n",
      "\t\tc0.1,0.1,0.2,0.2,0.2,0.3v3.2c0,0.2-0.2,0.3-0.3,0.3H238c-0.2,0-0.3-0.2-0.3-0.3v-3.2c0-0.1,0.1-0.2,0.2-0.3\n",
      "\t\tc0.2-0.3,0.4-0.7,0.4-1.2v-8.7c0-0.5-0.2-0.9-0.4-1.2c-0.1-0.1-0.2-0.2-0.2-0.3v-1.4c0-0.2,0.2-0.3,0.3-0.3h9.1\n",
      "\t\tc0.2,0,0.3,0.2,0.3,0.3V131.9z M228.7,131.9c0,0.1-0.1,0.2-0.2,0.3c-0.2,0.3-0.4,0.7-0.4,1.2v8.7c0,0.5,0.2,0.9,0.4,1.2\n",
      "\t\tc0.1,0.1,0.2,0.2,0.2,0.3v3.2c0,0.2-0.2,0.3-0.3,0.3h-9.1c-0.2,0-0.3-0.2-0.3-0.3v-3.2c0-0.1,0.1-0.2,0.2-0.3\n",
      "\t\tc0.2-0.3,0.4-0.7,0.4-1.2v-8.7c0-0.5-0.2-0.9-0.4-1.2c-0.1-0.1-0.2-0.2-0.2-0.3v-1.4c0-0.2,0.2-0.3,0.3-0.3h9.1\n",
      "\t\tc0.2,0,0.3,0.2,0.3,0.3V131.9z M124.4,128.3h-10.5c-0.2,0-0.3-0.1-0.3-0.2c0-0.2,0.1-0.3,0.2-0.4l5.2-2.2c0.1,0,0.1,0,0.2,0\n",
      "\t\tc0.1,0,0.1,0,0.2,0l5.2,2.2c0.2,0.1,0.2,0.2,0.2,0.4C124.7,128.2,124.6,128.3,124.4,128.3z M124,131.9c0,0.1-0.1,0.2-0.2,0.3\n",
      "\t\tc-0.2,0.3-0.4,0.7-0.4,1.2v8.7c0,0.5,0.2,0.9,0.4,1.2c0.1,0.1,0.2,0.2,0.2,0.3v3.2c0,0.2-0.2,0.3-0.3,0.3h-9.1\n",
      "\t\tc-0.2,0-0.3-0.2-0.3-0.3v-3.2c0-0.1,0.1-0.2,0.2-0.3c0.2-0.3,0.4-0.7,0.4-1.2v-8.7c0-0.5-0.2-0.9-0.4-1.2c-0.1-0.1-0.2-0.2-0.2-0.3\n",
      "\t\tv-1.4c0-0.2,0.2-0.3,0.3-0.3h9.1c0.2,0,0.3,0.2,0.3,0.3V131.9z M105.8,127.9c0,0.1-0.1,0.1-0.1,0.2l-0.1,0.1\n",
      "\t\tc-0.1,0-0.1,0.1-0.2,0.1h-10c-0.1,0-0.1,0-0.2-0.1c-0.2-0.1-0.2-0.2-0.2-0.2s0-0.2,0-0.3c0,0,0-0.1,0.1-0.1c0,0,0-0.1,0.1-0.1\n",
      "\t\tc0.3-0.3,0.7-0.6,1.2-0.8c0,0,0.1,0,0.1-0.1c1.2-0.7,2.6-1.1,4-1.1c1.9,0,3.7,0.7,5.2,1.9C105.8,127.5,105.9,127.7,105.8,127.9z\n",
      "\t\t M105.3,131.9c0,0.1-0.1,0.2-0.2,0.3c-0.2,0.3-0.4,0.7-0.4,1.2v8.7c0,0.5,0.2,0.9,0.4,1.2c0.1,0.1,0.2,0.2,0.2,0.3v3.2\n",
      "\t\tc0,0.2-0.2,0.3-0.3,0.3h-9.1c-0.2,0-0.3-0.2-0.3-0.3v-3.2c0-0.1,0.1-0.2,0.2-0.3c0.2-0.3,0.4-0.7,0.4-1.2v-8.7\n",
      "\t\tc0-0.5-0.2-0.9-0.4-1.2c-0.1-0.1-0.2-0.2-0.2-0.3v-1.4c0-0.2,0.2-0.3,0.3-0.3h9.1c0.2,0,0.3,0.2,0.3,0.3V131.9z M87.1,128.2\n",
      "\t\tc-0.1,0-0.1,0.1-0.2,0.1H76.4c-0.1,0-0.1,0-0.2,0s-0.2-0.1-0.2-0.2V128c0-0.2,0.1-0.3,0.2-0.4l5.2-2.2c0,0,0,0,0.1,0h0.1\n",
      "\t\tc0.1,0,0.1,0,0.2,0l5.2,2.2c0.2,0.1,0.2,0.2,0.2,0.4C87.2,128.1,87.2,128.2,87.1,128.2z M86.6,131.9c0,0.1-0.1,0.2-0.2,0.3\n",
      "\t\tc-0.2,0.3-0.4,0.7-0.4,1.2v8.7c0,0.5,0.2,0.9,0.4,1.2c0.1,0.1,0.2,0.2,0.2,0.3v3.2c0,0.2-0.2,0.3-0.3,0.3h-9.1\n",
      "\t\tc-0.2,0-0.3-0.2-0.3-0.3v-3.2c0-0.1,0.1-0.2,0.2-0.3c0.2-0.3,0.4-0.7,0.4-1.2v-8.7c0-0.5-0.2-0.9-0.4-1.2c-0.1-0.1-0.2-0.2-0.2-0.3\n",
      "\t\tv-1.4c0-0.2,0.2-0.3,0.3-0.3h9.1c0.2,0,0.3,0.2,0.3,0.3V131.9z M68.4,127.9c0,0.1-0.1,0.2-0.2,0.2c-0.1,0-0.1,0.1-0.2,0.1H58\n",
      "\t\tc0,0,0,0-0.1,0h-0.1c-0.1-0.1-0.2-0.2-0.2-0.2c-0.1-0.2,0-0.3,0.1-0.4c0,0,0,0,0.1-0.1c0.2-0.1,0.2-0.2,0.4-0.3\n",
      "\t\tc0.1-0.1,0.2-0.1,0.2-0.2c0.2-0.1,0.2-0.2,0.4-0.2c0.1-0.1,0.2-0.2,0.4-0.2c1.2-0.6,2.4-0.9,3.7-0.9c1.9,0,3.7,0.7,5.2,1.9\n",
      "\t\tC68.4,127.5,68.4,127.7,68.4,127.9z M67.8,131.9c0,0.1-0.1,0.2-0.2,0.3c-0.2,0.3-0.4,0.7-0.4,1.2v8.7c0,0.5,0.2,0.9,0.4,1.2\n",
      "\t\tc0.1,0.1,0.2,0.2,0.2,0.3v3.2c0,0.2-0.2,0.3-0.3,0.3h-9.1c-0.2,0-0.3-0.2-0.3-0.3v-3.2c0-0.1,0.1-0.2,0.2-0.3\n",
      "\t\tc0.2-0.3,0.4-0.7,0.4-1.2v-8.7c0-0.5-0.2-0.9-0.4-1.2c-0.1-0.1-0.2-0.2-0.2-0.3v-1.4c0-0.2,0.2-0.3,0.3-0.3h9.1\n",
      "\t\tc0.2,0,0.3,0.2,0.3,0.3V131.9z M58.1,118.7c0-0.1,0.1-0.2,0.2-0.3c0.2-0.3,0.4-0.7,0.4-1.2v-7.1c0-0.5-0.2-0.9-0.4-1.2\n",
      "\t\tc-0.1-0.1-0.2-0.2-0.2-0.3v-1.5c0-0.2,0.2-0.3,0.3-0.3h9.1c0.2,0,0.3,0.2,0.3,0.3v1.4c0,0.1-0.1,0.2-0.2,0.3\n",
      "\t\tc-0.2,0.3-0.4,0.7-0.4,1.2v7.2c0,0.5,0.2,0.9,0.4,1.2c0.1,0.1,0.2,0.2,0.2,0.3v3.2c0,0.2-0.2,0.3-0.3,0.3h-9.1\n",
      "\t\tc-0.2,0-0.3-0.2-0.3-0.3L58.1,118.7L58.1,118.7z M76.8,118.7c0-0.1,0.1-0.2,0.2-0.3c0.2-0.3,0.4-0.7,0.4-1.2v-7.1\n",
      "\t\tc0-0.5-0.2-0.9-0.4-1.2c-0.1-0.1-0.2-0.2-0.2-0.3v-1.5c0-0.2,0.2-0.3,0.3-0.3h9.1c0.2,0,0.3,0.2,0.3,0.3v1.4c0,0.1-0.1,0.2-0.2,0.3\n",
      "\t\tc-0.2,0.3-0.4,0.7-0.4,1.2v7.2c0,0.5,0.2,0.9,0.4,1.2c0.1,0.1,0.2,0.2,0.2,0.3v3.2c0,0.2-0.2,0.3-0.3,0.3h-9.1\n",
      "\t\tc-0.2,0-0.3-0.2-0.3-0.3V118.7z M95.6,118.7c0-0.1,0.1-0.2,0.2-0.3c0.2-0.3,0.4-0.7,0.4-1.2v-7.1c0-0.5-0.2-0.9-0.4-1.2\n",
      "\t\tc-0.1-0.1-0.2-0.2-0.2-0.3v-1.5c0-0.2,0.2-0.3,0.3-0.3h9.1c0.2,0,0.3,0.2,0.3,0.3v1.4c0,0.1-0.1,0.2-0.2,0.3\n",
      "\t\tc-0.2,0.3-0.4,0.7-0.4,1.2v7.2c0,0.5,0.2,0.9,0.4,1.2c0.1,0.1,0.2,0.2,0.2,0.3v3.2c0,0.2-0.2,0.3-0.3,0.3h-9.1\n",
      "\t\tc-0.2,0-0.3-0.2-0.3-0.3V118.7z M114.3,118.7c0-0.1,0.1-0.2,0.2-0.3c0.2-0.3,0.4-0.7,0.4-1.2v-7.1c0-0.5-0.2-0.9-0.4-1.2\n",
      "\t\tc-0.1-0.1-0.2-0.2-0.2-0.3v-1.5c0-0.2,0.2-0.3,0.3-0.3h9.1c0.2,0,0.3,0.2,0.3,0.3v1.4c0,0.1-0.1,0.2-0.2,0.3\n",
      "\t\tc-0.2,0.3-0.4,0.7-0.4,1.2v7.2c0,0.5,0.2,0.9,0.4,1.2c0.1,0.1,0.2,0.2,0.2,0.3v3.2c0,0.2-0.2,0.3-0.3,0.3h-9.1\n",
      "\t\tc-0.2,0-0.3-0.2-0.3-0.3V118.7z M49.2,85.9h2.1c0,0,0.1,0,0.1,0.1v8.5c0,0.2,0.2,0.3,0.4,0.3h76.1c0.3,0.6,0.7,1.2,0.9,1.8\n",
      "\t\tc-4.8,0-79.5,0-79.5,0c-0.2,0-0.5,0.2-0.5,0.5v2.4c0,0.3,0.2,0.5,0.5,0.5h80.3c0,0,0,0.7,0,2.2H51.6c-0.2,0-0.2,0.1-0.2,0.2v47.7\n",
      "\t\tc0.2,0,85.2,0,85.2,0c0.4,0,0.7-0.3,0.7-0.7v-0.1c0-0.4,0.1-48.9,0.1-48.9c0-0.3,0-0.4,0-0.4c0.1-0.9,0.3-1.8,0.6-2.7\n",
      "\t\tc0.3-0.9,0.7-1.7,1.2-2.6h29.8h5.2h29.8c0.5,0.8,0.9,1.7,1.2,2.6s0.5,1.7,0.6,2.7c0,0,0,0.2,0,0.4c0,0,0.1,48.5,0.1,48.9v0.1\n",
      "\t\tc0,0.4,0.3,0.7,0.7,0.7l83.1-0.1h0.2h1.6c0.2,0,0.2-0.1,0.2-0.2v-47.4c0-0.2-0.1-0.2-0.2-0.2h-78.1c0-1.3,0-2.1,0-2.2h80.3\n",
      "\t\tc0.3,0,0.5-0.2,0.5-0.5v-2.4c0-0.2-0.2-0.5-0.5-0.5c0,0-74.7,0-79.5,0c0.2-0.6,0.6-1.2,0.9-1.8h76.2c0.2,0,0.4-0.1,0.4-0.3V86\n",
      "\t\tc0,0,0-0.1,0.1-0.1h2.1c0.3,0,0.5-0.2,0.5-0.5v-1.1c0-0.3-0.2-0.5-0.5-0.5H218c-0.3,0-0.7-0.1-1-0.2l-44.7-18.1v-2.9v-0.9\n",
      "\t\tc0.9-0.2,2.2-0.5,3.2-0.2c5.1,1.7,6.2,1.1,6.2,1c-0.9-1.2-0.6-3.9-0.6-3.9c0.3-2.4,0.2-2.9,0.2-3c-0.2,0.1-1.6,0.9-5-0.2\n",
      "\t\tc-1.8-0.6-3.2-0.7-4-0.8c0-0.5-0.4-0.8-0.9-0.8c-0.4,0.1-0.7,0.4-0.7,0.9v10.7l-44.7,18.1c-0.3,0.2-0.7,0.2-1,0.2H49.2\n",
      "\t\tc-0.3,0-0.5,0.2-0.5,0.5v1.1C48.7,85.7,48.9,85.9,49.2,85.9z\"></path>\n",
      "<polygon class=\"st3\" points=\"198.6,96.5 171.5,126.9 144.4,96.5 144.4,96.5 144,96.7 171.2,127.3 171.2,127.2 171.7,127.2\n",
      "\t\t171.8,127.3 198.9,96.8 198.9,96.7 \t\"></polygon>\n",
      "<path class=\"st3\" d=\"M172.3,125.7h-1.7c-0.4,0-0.6,0.3-0.6,0.6v4.8c0,0.4,0.3,0.6,0.6,0.6h1.7c0.4,0,0.6-0.3,0.6-0.6v-4.8\n",
      "\t\tC172.9,125.9,172.7,125.7,172.3,125.7z\"></path>\n",
      "</g>\n",
      "</svg>\n",
      "</a>\n",
      "</div>\n",
      "<div class=\"site-header__menu-wrap\">\n",
      "<nav aria-label=\"Primary Navigation\" class=\"col primary-menu over-four-items over-fourty-characters over-fifty-characters\" data-itemcount=\"5\" data-textlength=\"53\">\n",
      "<ul class=\"mobile-home-link\">\n",
      "<li class=\"navlink\">\n",
      "<a aria-current=\"page\" href=\"https://www.whitehouse.gov\">\n",
      "\t\t\t\t\t\t\t\tHome\t\t\t\t\t\t\t</a>\n",
      "</li>\n",
      "</ul>\n",
      "<ul class=\"row menu site-header__item_inner\" id=\"primary-navigation\"><li class=\"menu-item menu-item-type-post_type menu-item-object-page menu-item-61 navlink top-level-menu-item\" id=\"menu-item-61\"><a href=\"https://www.whitehouse.gov/administration/\">Administration</a></li>\n",
      "<li class=\"menu-item menu-item-type-post_type menu-item-object-page menu-item-64 navlink top-level-menu-item\" id=\"menu-item-64\"><a href=\"https://www.whitehouse.gov/priorities/\">Priorities</a></li>\n",
      "<li class=\"menu-item menu-item-type-post_type menu-item-object-page menu-item-2221 navlink top-level-menu-item\" id=\"menu-item-2221\"><a href=\"https://www.whitehouse.gov/priorities/covid-19/\">COVID-19</a></li>\n",
      "<li class=\"menu-item menu-item-type-post_type menu-item-object-page current-menu-item page_item page-item-55 current_page_item current_page_parent menu-item-2787 navlink top-level-menu-item\" id=\"menu-item-2787\"><a aria-current=\"page\" href=\"https://www.whitehouse.gov/briefing-room/\">Briefing Room</a></li>\n",
      "<li class=\"site-id-2 mlp-language-nav-item menu-item menu-item-type-mlp_language menu-item-object-mlp_language menu-item-199 navlink top-level-menu-item\" id=\"menu-item-199\"><a href=\"https://www.whitehouse.gov/es/prensa/\" lang=\"es-US\" rel=\"alternate\">Español</a></li>\n",
      "</ul> </nav>\n",
      "<div class=\"site-header__menu-wrap__footer\">\n",
      "<div class=\"site-header__menu-wrap__footer__social\">\n",
      "<nav aria-label=\"Social Navigation\" class=\"col-xs-12 col-md-6\">\n",
      "<ul class=\"social-simple\" id=\"social-navigation-footer\"><li class=\"menu-item menu-item-type-custom menu-item-object-custom menu-item-87 col-auto top-level-menu-item\" id=\"menu-item-87\"><a class=\"external-link\" href=\"https://www.instagram.com/whitehouse/\" rel=\"noopener noreferrer\" target=\"_blank\"><svg aria-hidden=\"true\" tabindex=\"-1\" viewbox=\"0 0 21 20\" xmlns=\"http://www.w3.org/2000/svg\"><path d=\"M6.928 6.27c.974-.974 2.148-1.461 3.523-1.461s2.535.487 3.48 1.46c.975.946 1.462 2.106 1.462 3.481s-.487 2.55-1.461 3.523c-.946.946-2.106 1.418-3.48 1.418-1.376 0-2.55-.472-3.524-1.418C5.982 12.3 5.51 11.125 5.51 9.75s.472-2.535 1.418-3.48zm1.246 5.757c.63.63 1.39.946 2.277.946.888 0 1.647-.315 2.277-.946.63-.63.946-1.389.946-2.277 0-.888-.315-1.647-.945-2.277a3.104 3.104 0 00-2.278-.946c-.888 0-1.647.315-2.277.946-.63.63-.945 1.389-.945 2.277 0 .888.315 1.647.945 2.277zM16.38 3.82c.229.2.344.459.344.774s-.115.587-.344.816a.981.981 0 01-.774.344c-.315 0-.587-.115-.816-.344a1.115 1.115 0 01-.344-.816.98.98 0 01.344-.774c.23-.229.501-.343.816-.343.316 0 .573.114.774.343zm3.652 1.977c.029.773.043 2.091.043 3.953 0 1.862-.014 3.18-.043 3.953-.086 1.748-.616 3.108-1.59 4.082-.945.945-2.291 1.447-4.039 1.504-.773.057-2.09.086-3.953.086-1.862 0-3.18-.029-3.953-.086-1.747-.086-3.094-.602-4.039-1.547a4.148 4.148 0 01-.902-1.203 7.057 7.057 0 01-.516-1.332 7.744 7.744 0 01-.129-1.504C.855 12.93.826 11.612.826 9.75c0-1.862.029-3.194.086-3.996.086-1.719.602-3.05 1.547-3.996C3.404.784 4.751.254 6.499.168 7.27.139 8.588.125 10.45.125s3.18.014 3.953.043c1.748.086 3.094.616 4.04 1.59.973.945 1.503 2.291 1.59 4.039zm-2.062 9.625c.086-.23.157-.516.215-.86.057-.372.1-.802.128-1.289.03-.515.043-.93.043-1.246v-1.332-.945-.945-1.332c0-.315-.014-.716-.043-1.203a12.168 12.168 0 00-.128-1.29 4.652 4.652 0 00-.215-.902c-.344-.888-.96-1.504-1.848-1.848a4.654 4.654 0 00-.902-.214c-.344-.058-.774-.1-1.29-.13a21.227 21.227 0 00-1.202-.042H8.174c-.315 0-.73.014-1.246.043-.487.028-.917.071-1.29.129a4.68 4.68 0 00-.859.214c-.888.344-1.504.96-1.847 1.848-.086.23-.158.53-.215.902-.057.344-.1.774-.13 1.29a21.23 21.23 0 00-.042 1.203v5.155c.029.43.057.803.086 1.118a11.384 11.384 0 00.3 1.676c.373.888.989 1.504 1.848 1.848.23.085.516.157.86.214.372.058.802.1 1.289.13.515.028.916.042 1.203.042h4.597c.316 0 .717-.014 1.204-.043.515-.028.945-.071 1.289-.129a4.65 4.65 0 00.902-.215c.888-.372 1.504-.988 1.848-1.847z\"></path></svg><span class=\"screen-reader-text\">Instagram<span class=\"screen-reader-text\">Opens in a new window</span></span></a></li>\n",
      "<li class=\"menu-item menu-item-type-custom menu-item-object-custom menu-item-88 col-auto top-level-menu-item\" id=\"menu-item-88\"><a class=\"external-link\" href=\"https://www.facebook.com/WhiteHouse/\" rel=\"noopener noreferrer\" target=\"_blank\"><svg aria-hidden=\"true\" tabindex=\"-1\" viewbox=\"0 0 11 19\" xmlns=\"http://www.w3.org/2000/svg\"><path d=\"M9.722 10.375H7.086v7.875H3.57v-7.875H.722v-3.27H3.57v-2.46c0-.938.176-1.735.527-2.391A3.454 3.454 0 015.574.777C6.23.426 6.98.25 7.824.25c.375 0 .773.023 1.195.07.422.024.75.059.985.106l.351.035v2.777H8.95c-.656 0-1.137.176-1.441.528-.282.328-.422.738-.422 1.23v2.11h3.129l-.493 3.269z\"></path></svg><span class=\"screen-reader-text\">Facebook<span class=\"screen-reader-text\">Opens in a new window</span></span></a></li>\n",
      "<li class=\"menu-item menu-item-type-custom menu-item-object-custom menu-item-89 col-auto top-level-menu-item\" id=\"menu-item-89\"><a class=\"external-link\" href=\"https://twitter.com/whitehouse\" rel=\"noopener noreferrer\" target=\"_blank\"><svg aria-hidden=\"true\" tabindex=\"-1\" viewbox=\"0 0 1792 1792\" xmlns=\"http://www.w3.org/2000/svg\"><path d=\"M1684 408q-67 98-162 167 1 14 1 42 0 130-38 259.5T1369.5 1125 1185 1335.5t-258 146-323 54.5q-271 0-496-145 35 4 78 4 225 0 401-138-105-2-188-64.5T285 1033q33 5 61 5 43 0 85-11-112-23-185.5-111.5T172 710v-4q68 38 146 41-66-44-105-115t-39-154q0-88 44-163 121 149 294.5 238.5T884 653q-8-38-8-74 0-134 94.5-228.5T1199 256q140 0 236 102 109-21 205-78-37 115-142 178 93-10 186-50z\"></path></svg><span class=\"screen-reader-text\">Twitter<span class=\"screen-reader-text\">Opens in a new window</span></span></a></li>\n",
      "<li class=\"menu-item menu-item-type-custom menu-item-object-custom menu-item-90 col-auto top-level-menu-item\" id=\"menu-item-90\"><a class=\"external-link\" href=\"https://www.youtube.com/user/whitehouse\" rel=\"noopener noreferrer\" target=\"_blank\"><svg aria-hidden=\"true\" fill=\"none\" tabindex=\"-1\" viewbox=\"0 0 18 12\" xmlns=\"http://www.w3.org/2000/svg\"><path d=\"M17.156 1.906a2.126 2.126 0 00-1.5-1.531C14.312 0 9 0 9 0S3.656 0 2.312.375a2.126 2.126 0 00-1.5 1.531C.438 3.22.438 6.031.438 6.031s0 2.782.376 4.125c.187.75.78 1.313 1.5 1.5C3.655 12 9 12 9 12s5.313 0 6.656-.344a2.084 2.084 0 001.5-1.5c.375-1.344.375-4.125.375-4.125s0-2.812-.375-4.125zM7.25 8.563V3.5l4.438 2.531L7.25 8.563z\"></path></svg><span class=\"screen-reader-text\">YouTube<span class=\"screen-reader-text\">Opens in a new window</span></span></a></li>\n",
      "</ul> </nav><!-- social -->\n",
      "</div>\n",
      "<nav class=\"site-header__menu-wrap__footer__menu\">\n",
      "<ul class=\"row menu\" id=\"header-secondary\"><li class=\"menu-item menu-item-type-post_type menu-item-object-page menu-item-109 small-text top-level-menu-item\" id=\"menu-item-109\"><a href=\"https://www.whitehouse.gov/contact/\">Contact Us</a></li>\n",
      "<li class=\"menu-item menu-item-type-post_type menu-item-object-page menu-item-1791 small-text top-level-menu-item\" id=\"menu-item-1791\"><a href=\"https://www.whitehouse.gov/privacy/\">Privacy Policy</a></li>\n",
      "<li class=\"menu-item menu-item-type-post_type menu-item-object-page menu-item-699 small-text top-level-menu-item\" id=\"menu-item-699\"><a href=\"https://www.whitehouse.gov/copyright/\">Copyright Policy</a></li>\n",
      "<li class=\"menu-item menu-item-type-post_type menu-item-object-page menu-item-107 small-text top-level-menu-item\" id=\"menu-item-107\"><a href=\"https://www.whitehouse.gov/accessibility/\">Accessibility Statement</a></li>\n",
      "<li class=\"menu-item menu-item-type-post_type menu-item-object-page menu-item-7953 small-text top-level-menu-item\" id=\"menu-item-7953\"><a href=\"https://www.whitehouse.gov/disclosures/financial-disclosures/\">Financial Disclosures</a></li>\n",
      "</ul> </nav>\n",
      "</div>\n",
      "</div><!-- site-header-menu-wrap -->\n",
      "<div class=\"mobile-menu-toggle\">\n",
      "<button aria-labelledby=\"mm-label\" class=\"mobile-menu-toggle__control js-mobile-menu-control js-open-main-menu\">\n",
      "<div class=\"hamburger-control__wrapper\">\n",
      "<span aria-hidden=\"true\" class=\"hamburger-control__top\">\n",
      "<span class=\"hamburger-control__top__inner\"></span>\n",
      "</span>\n",
      "<span class=\"hamburger-control__title\" id=\"mm-label\">\n",
      "<span class=\"menu-text\">Menu</span>\n",
      "<span class=\"close-text\">Close</span>\n",
      "</span>\n",
      "<span aria-hidden=\"true\" class=\"hamburger-control\">\n",
      "<span class=\"hamburger-control__inner\"></span>\n",
      "</span>\n",
      "</div>\n",
      "</button>\n",
      "</div><!-- mobile menu toggle -->\n",
      "<form action=\"https://www.whitehouse.gov/\" class=\"search-form\" data-searchform=\"\" method=\"get\" role=\"search\">\n",
      "<label for=\"search-field-id-6086b7c8cf3a8\"><span class=\"screen-reader-text\">To search this site, enter a search term</span></label>\n",
      "<button aria-hidden=\"true\" aria-label=\"Close\" class=\"search-close-icon\">\n",
      "<svg fill=\"none\" height=\"13\" viewbox=\"0 0 13 13\" width=\"13\" xmlns=\"http://www.w3.org/2000/svg\">\n",
      "<rect fill=\"black\" height=\"1\" transform=\"rotate(45 1.26074 0)\" width=\"16.2296\" x=\"1.26074\"></rect>\n",
      "<rect fill=\"black\" height=\"1\" transform=\"rotate(-45 0.737305 11.5178)\" width=\"16.2296\" x=\"0.737305\" y=\"11.5178\"></rect>\n",
      "</svg>\n",
      "</button>\n",
      "<button aria-label=\"Search\" class=\"search-icon\"><svg fill=\"none\" height=\"34\" viewbox=\"0 0 34 34\" width=\"34\" xmlns=\"http://www.w3.org/2000/svg\">\n",
      "<circle cx=\"17\" cy=\"17\" fill=\"black\" r=\"17\"></circle>\n",
      "<path d=\"M15.7545 21.3039C16.9965 21.305 18.2026 20.8872 19.1779 20.118L22.8589 23.8L23.8002 22.8584L20.1192 19.1764C20.8936 18.1878 21.3101 16.9659 21.3006 15.71C21.2911 14.4542 20.8563 13.2386 20.067 12.2619C19.2778 11.2852 18.1808 10.605 16.9552 10.3324C15.7296 10.0598 14.4479 10.2109 13.3192 10.761C12.1906 11.3112 11.2817 12.2278 10.7411 13.3613C10.2005 14.4948 10.06 15.7782 10.3427 17.0018C10.6253 18.2255 11.3144 19.3171 12.2973 20.0985C13.2802 20.8798 14.499 21.3048 15.7545 21.3039ZM15.7545 11.5325C16.5888 11.5325 17.4043 11.7799 18.098 12.2436C18.7917 12.7072 19.3324 13.3662 19.6516 14.1372C19.9709 14.9082 20.0544 15.7566 19.8917 16.5751C19.7289 17.3936 19.3272 18.1454 18.7372 18.7356C18.1473 19.3257 17.3957 19.7275 16.5774 19.8903C15.7592 20.0531 14.911 19.9696 14.1402 19.6502C13.3695 19.3309 12.7107 18.79 12.2472 18.0961C11.7837 17.4023 11.5363 16.5865 11.5363 15.7519C11.5363 14.6329 11.9807 13.5596 12.7718 12.7683C13.5628 11.977 14.6357 11.5325 15.7545 11.5325Z\" fill=\"white\"></path>\n",
      "</svg>\n",
      "</button>\n",
      "<input aria-required=\"false\" autocapitalize=\"off\" autocomplete=\"off\" autocorrect=\"off\" class=\"search-field\" id=\"search-field-id-6086b7c8cf3a8\" name=\"s\" placeholder=\"Search…\" required=\"\" spellcheck=\"false\" type=\"text\"/>\n",
      "<button aria-hidden=\"true\" class=\"search-submit\"><svg fill=\"none\" height=\"68\" viewbox=\"0 0 63 68\" width=\"63\" xmlns=\"http://www.w3.org/2000/svg\">\n",
      "<path d=\"M0.00171813 0L63 33.7444C63 33.7444 0.660551 67.4376 0.00520349 67.9931L0.00171813 68C-0.0014293 68 -0.000243773 67.9977 0.00520349 67.9931L17.0642 34L0.00171813 0Z\" fill=\"currentColor\"></path>\n",
      "</svg>\n",
      "<span class=\"screen-reader-text\">Search</span></button>\n",
      "</form>\n",
      "</div>\n",
      "</div>\n",
      "</div>\n",
      "<div aria-hidden=\"true\" aria-labelledby=\"dialog2Title\" aria-modal=\"true\" class=\"mobile-overlay mobile-nav-overlay\" role=\"dialog\">\n",
      "<div class=\"screen-reader-text\">\n",
      "<h2 id=\"dialog2Title\">Mobile Menu Overlay</h2>\n",
      "</div>\n",
      "<div class=\"overlay-header\">\n",
      "<div class=\"overlay-logo\">\n",
      "<a href=\"https://www.whitehouse.gov/\" rel=\"home\">\n",
      "<svg id=\"wh-oval-nofill-6086b7c8cf475\" style=\"enable-background:new 0 0 343 243;\" version=\"1.1\" viewbox=\"0 0 343 243\" x=\"0px\" xml:space=\"preserve\" xmlns=\"http://www.w3.org/2000/svg\" xmlns:xlink=\"http://www.w3.org/1999/xlink\" y=\"0px\">\n",
      "<style type=\"text/css\">\n",
      "\t#wh-oval-nofill-6086b7c8cf475 .st0{fill-rule:evenodd;clip-rule:evenodd;fill:#0A2458;}\n",
      "\t#wh-oval-nofill-6086b7c8cf475 .st1{opacity:0.5;fill:#0A2458;}\n",
      "\t#wh-oval-nofill-6086b7c8cf475 .st2{fill:#0A2458;}\n",
      "</style>\n",
      "<path class=\"st0\" d=\"M171.5,229.5c87.3,0,158-48.4,158-108s-70.7-108-158-108s-158,48.4-158,108S84.2,229.5,171.5,229.5z M290.8,209\n",
      "\tc-31.1,21.3-73.3,34-119.3,34s-88.2-12.7-119.3-34C21.1,187.8,0,157.1,0,121.5S21.1,55.2,52.2,34C83.3,12.7,125.5,0,171.5,0\n",
      "\ts88.2,12.7,119.3,34c31,21.2,52.2,51.9,52.2,87.5S321.8,187.8,290.8,209z\"></path>\n",
      "<g>\n",
      "<g>\n",
      "<rect class=\"st1\" height=\"8.5\" width=\"2.7\" x=\"168.3\" y=\"134.4\"></rect>\n",
      "<rect class=\"st1\" height=\"8.5\" width=\"2.7\" x=\"168.3\" y=\"143.9\"></rect>\n",
      "<rect class=\"st1\" height=\"8.5\" width=\"2.7\" x=\"172\" y=\"143.9\"></rect>\n",
      "<rect class=\"st1\" height=\"8.4\" width=\"2.7\" x=\"172\" y=\"134.4\"></rect>\n",
      "<path class=\"st1\" d=\"M212.5,92.7h-81.9c-0.6,0-1.1,0.5-1.1,1.1v66c0,0.6,0.5,1.1,1.1,1.1h81.8c0.7,0,1.2-0.5,1.2-1.2v-66\n",
      "\t\t\tC213.6,93.2,213.1,92.7,212.5,92.7z M191.8,118.7c0-0.2,0.1-0.2,0.2-0.3c0.2-0.2,0.4-0.7,0.4-1.2v-7.2c0-0.4-0.2-0.8-0.4-1.2\n",
      "\t\t\tc-0.1-0.1-0.2-0.2-0.2-0.3v-1.4c0-0.2,0.2-0.3,0.3-0.3h9.1c0.2,0,0.3,0.2,0.3,0.3v1.4c0,0.2-0.1,0.2-0.2,0.3\n",
      "\t\t\tc-0.2,0.3-0.4,0.7-0.4,1.2v7.1c0,0.4,0.2,0.8,0.4,1.2c0.1,0.1,0.2,0.2,0.2,0.3v3.2c0,0.2-0.2,0.3-0.3,0.3h-9.1\n",
      "\t\t\tc-0.2,0-0.3-0.2-0.3-0.3V118.7z M166.6,118.7c0-0.2,0.1-0.2,0.2-0.3c0.2-0.2,0.4-0.7,0.4-1.2v-7.1c0-0.4-0.2-0.8-0.4-1.2\n",
      "\t\t\tc-0.1-0.1-0.2-0.2-0.2-0.3v-1.4c0-0.2,0.2-0.3,0.3-0.3h9.1c0.2,0,0.3,0.2,0.3,0.3v1.4c0,0.2-0.1,0.2-0.2,0.3\n",
      "\t\t\tc-0.2,0.2-0.4,0.7-0.4,1.2v7.2c0,0.4,0.2,0.8,0.4,1.2c0.1,0.1,0.2,0.2,0.2,0.3v3.2c0,0.2-0.2,0.3-0.3,0.3h-9.1\n",
      "\t\t\tc-0.2,0-0.3-0.2-0.3-0.3V118.7z M141.5,118.7c0-0.2,0.1-0.2,0.2-0.3c0.2-0.2,0.4-0.7,0.4-1.2v-7.1c0-0.4-0.2-0.8-0.4-1.2\n",
      "\t\t\tc-0.1-0.1-0.2-0.2-0.2-0.3v-1.4c0-0.2,0.2-0.3,0.3-0.3h9.1c0.2,0,0.3,0.2,0.3,0.3v1.4c0,0.2-0.1,0.2-0.2,0.3\n",
      "\t\t\tc-0.2,0.2-0.4,0.7-0.4,1.2v7.2c0,0.4,0.2,0.8,0.4,1.2c0.1,0.1,0.2,0.2,0.2,0.3v3.2c0,0.2-0.2,0.3-0.3,0.3h-9.1\n",
      "\t\t\tc-0.2,0-0.3-0.2-0.3-0.3V118.7z M151.3,131.9c0,0.2-0.1,0.2-0.2,0.3c-0.2,0.2-0.4,0.7-0.4,1.2v8.7c0,0.4,0.2,0.8,0.4,1.2\n",
      "\t\t\tc0.1,0.1,0.2,0.2,0.2,0.3v3.2c0,0.2-0.2,0.3-0.3,0.3h-9.1c-0.2,0-0.3-0.2-0.3-0.3v-3.2c0-0.2,0.1-0.2,0.2-0.3\n",
      "\t\t\tc0.2-0.2,0.4-0.7,0.4-1.2v-8.7c0-0.4-0.2-0.8-0.4-1.2c-0.1-0.1-0.2-0.2-0.2-0.3v-1.4c0-0.2,0.2-0.3,0.3-0.3h9.1\n",
      "\t\t\tc0.2,0,0.3,0.2,0.3,0.3V131.9z M151.8,127.9c-0.1,0.2-0.2,0.2-0.2,0.2h-10c-0.2,0-0.3-0.1-0.4-0.2c-0.1-0.2-0.1-0.4,0.1-0.5\n",
      "\t\t\tc1.5-1.2,3.3-1.9,5.2-1.9c1.9,0,3.7,0.7,5.2,1.9C151.8,127.5,151.9,127.7,151.8,127.9z M176.3,154.1c-3.2,0-6.4,0-9.6,0\n",
      "\t\t\tc-0.2,0-0.5-0.2-0.5-0.5c0-6.9,0-13.7,0-20.7c0.1-6.9,10.4-6.9,10.5,0c0,6.9,0,13.7,0.1,20.7C176.8,153.9,176.5,154.1,176.3,154.1\n",
      "\t\t\tz M201.5,131.9c0,0.2-0.1,0.2-0.2,0.3c-0.2,0.2-0.4,0.7-0.4,1.2v8.7c0,0.4,0.2,0.8,0.4,1.2c0.1,0.1,0.2,0.2,0.2,0.3v3.2\n",
      "\t\t\tc0,0.2-0.2,0.3-0.3,0.3h-9.1c-0.2,0-0.3-0.2-0.3-0.3v-3.2c0-0.2,0.1-0.2,0.2-0.3c0.2-0.2,0.4-0.7,0.4-1.2v-8.7\n",
      "\t\t\tc0-0.4-0.2-0.8-0.4-1.2c-0.1-0.1-0.2-0.2-0.2-0.3v-1.4c0-0.2,0.2-0.3,0.3-0.3h9.1c0.2,0,0.3,0.2,0.3,0.3V131.9z M202,127.9\n",
      "\t\t\tc-0.1,0.2-0.2,0.2-0.2,0.2h-10c-0.2,0-0.3-0.1-0.4-0.2c-0.1-0.2-0.1-0.4,0.1-0.5c1.5-1.2,3.3-1.9,5.2-1.9c1.9,0,3.7,0.7,5.2,1.9\n",
      "\t\t\tC202,127.5,202.1,127.7,202,127.9z\"></path>\n",
      "</g>\n",
      "<path class=\"st2\" d=\"M192.6,72.3l2.4,1h20.3l0.8-1.1c0.2-0.2,0-0.4-0.2-0.4h-23.2C192.4,71.8,192.3,72.3,192.6,72.3z\"></path>\n",
      "<path class=\"st2\" d=\"M222.2,79.1v3.1c0,0.2,0.2,0.4,0.3,0.4h7.2c0.2,0,0.3-0.2,0.4-0.4v-3.1l1.2-1.7c0.2-0.2,0-0.6-0.2-0.6h-10\n",
      "\t\tc-0.3,0-0.5,0.3-0.2,0.6L222.2,79.1z\"></path>\n",
      "<path class=\"st2\" d=\"M215.1,166.4h-40h-7.3h-39.9c-0.2,0-0.5,0.2-0.5,0.5v3.7c0,0.2,0.2,0.5,0.5,0.5h40h7.3h40\n",
      "\t\tc0.2,0,0.5-0.2,0.5-0.5v-3.7C215.6,166.6,215.4,166.4,215.1,166.4z\"></path>\n",
      "<path class=\"st2\" d=\"M197.3,74.3l17.5,6.8c0.2,0.1,0.4-0.1,0.4-0.2v-2.1c0-0.1,0-0.1-0.1-0.2l-0.3-0.5c0-0.1-0.1-0.1-0.1-0.2v-3.7\n",
      "\t\tL197.3,74.3L197.3,74.3z\"></path>\n",
      "<path class=\"st2\" d=\"M127.7,73.3H148l2.4-1c0.2-0.1,0.2-0.5-0.1-0.5h-23.2c-0.2,0-0.3,0.2-0.2,0.4L127.7,73.3z\"></path>\n",
      "<path class=\"st2\" d=\"M112.8,79.1v3.1c0,0.2,0.2,0.4,0.4,0.4h7.2c0.2,0,0.3-0.2,0.3-0.4v-3.1l1.2-1.7c0.2-0.2,0-0.6-0.2-0.6h-10\n",
      "\t\tc-0.3,0-0.5,0.3-0.2,0.6L112.8,79.1z\"></path>\n",
      "<path class=\"st2\" d=\"M293.8,153.5h-79.4c-0.2-0.7-0.5-1.3-0.7-2h-7.8c-0.2,0-0.4,0.2-0.5,0.4c-0.2,0.6-0.4,1.2-0.7,1.8\n",
      "\t\tc-0.2,0.6-0.6,1.2-1,1.7v3.2h-14.1v-3.2c-0.7-1.2-1.2-2.3-1.6-3.6c-0.1-0.2-0.2-0.4-0.5-0.4H180c-0.2,0-0.4,0.2-0.5,0.4\n",
      "\t\tc-0.3,1.2-0.8,2.4-1.6,3.6v3.2h-5h-2.7h-5v-3.2c-0.7-1.1-1.2-2.3-1.6-3.6c-0.1-0.2-0.2-0.4-0.5-0.4h-7.5c-0.2,0-0.4,0.2-0.5,0.4\n",
      "\t\tc-0.3,1.2-0.9,2.4-1.6,3.6v3.2h-14.1v-3.2c-0.3-0.6-0.7-1.2-1-1.7c-0.2-0.6-0.5-1.2-0.7-1.8c-0.1-0.2-0.2-0.4-0.5-0.4h-7.8\n",
      "\t\tc-0.2,0.7-0.4,1.3-0.7,2H49.2c-0.4,0-0.7,0.3-0.7,0.7v6.8c0,0.4,0.3,0.7,0.7,0.7h78.2v2.6c0,0.4,0.3,0.7,0.7,0.7h42.1h2.7H215\n",
      "\t\tc0.4,0,0.7-0.3,0.7-0.7v-2.6h78.2c0.4,0,0.7-0.3,0.7-0.7v-6.8C294.5,153.9,294.2,153.5,293.8,153.5z\"></path>\n",
      "<path class=\"st2\" d=\"M128.2,78.3l-0.3,0.5c0,0.1-0.1,0.1-0.1,0.2v2.1c0,0.2,0.2,0.3,0.4,0.2l17.5-6.8h-17.4L128.2,78.3\n",
      "\t\tC128.3,78.2,128.3,78.2,128.2,78.3z\"></path>\n",
      "<path class=\"st2\" d=\"M187.5,107.8c0-0.2,0-0.5,0-0.7c0-3.7,0-7.1,0-7.1c0.2-1.2,0.5-2.3,1-3.5H179c0.5,1.1,0.8,2.2,1,3.5V119v3.8\n",
      "\t\tv26.5v0.1c0,0.4,0.3,0.7,0.7,0.7h6.2c0.4,0,0.7-0.3,0.7-0.7c0,0,0-26.1,0-40.4C187.5,108.6,187.5,108.2,187.5,107.8z\"></path>\n",
      "<path class=\"st2\" d=\"M163.1,105.6c0.2-6.7,0.5-7.8,1-9h-9.6c0.5,1.1,0.8,2.2,1,3.5c0,0,0,1.1,0,3c0,14.2,0,46.4,0,46.4\n",
      "\t\tc0,0.4,0.3,0.7,0.7,0.7h6.2c0.4,0,0.7-0.3,0.7-0.7v-0.1v-27v-3.3L163.1,105.6L163.1,105.6z\"></path>\n",
      "<path class=\"st2\" d=\"M56.4,87.7c0-0.3,0.3-0.7,0.7-0.7h11.6c0.4,0,0.7,0.2,0.7,0.7v2.9c0,0.3-0.3,0.7-0.7,0.7H57.1\n",
      "\t\tc-0.4,0-0.7-0.2-0.7-0.7V87.7z M75.2,87.7c0-0.3,0.3-0.7,0.7-0.7h11.6c0.4,0,0.7,0.2,0.7,0.7v2.9c0,0.3-0.3,0.7-0.7,0.7H75.8\n",
      "\t\tc-0.4,0-0.7-0.2-0.7-0.7L75.2,87.7L75.2,87.7z M93.9,87.7c0-0.3,0.3-0.7,0.7-0.7h11.6c0.4,0,0.7,0.2,0.7,0.7v2.9\n",
      "\t\tc0,0.3-0.3,0.7-0.7,0.7H94.6c-0.4,0-0.7-0.2-0.7-0.7V87.7z M112.6,87.7c0-0.3,0.3-0.7,0.7-0.7h13.5c0.4,0,0.7,0.2,0.7,0.7v1.9h87.8\n",
      "\t\tv-1.8c0-0.3,0.3-0.7,0.7-0.7h13.5c0.4,0,0.7,0.2,0.7,0.7v2.9c0,0.3-0.3,0.7-0.7,0.7H113.3c-0.4,0-0.7-0.2-0.7-0.7V87.7z M135,83.7\n",
      "\t\tl36.5-14.7L208,83.7h-6.1l-15.2-6.1l-15.2-6.1l-15.2,6.1L141,83.7H135z M236.1,87.7c0-0.3,0.3-0.7,0.7-0.7h11.6\n",
      "\t\tc0.4,0,0.7,0.2,0.7,0.7v2.9c0,0.3-0.3,0.7-0.7,0.7h-11.6c-0.4,0-0.7-0.2-0.7-0.7V87.7z M254.8,87.7c0-0.3,0.3-0.7,0.7-0.7h11.6\n",
      "\t\tc0.4,0,0.7,0.2,0.7,0.7v2.9c0,0.3-0.3,0.7-0.7,0.7h-11.6c-0.4,0-0.7-0.2-0.7-0.7V87.7z M273.6,87.7c0-0.3,0.3-0.7,0.7-0.7h11.6\n",
      "\t\tc0.4,0,0.7,0.2,0.7,0.7v2.9c0,0.3-0.3,0.7-0.7,0.7h-11.6c-0.4,0-0.7-0.2-0.7-0.7V87.7z M218.5,127.6l5.2-2.2c0.1,0,0.1,0,0.2,0\n",
      "\t\ts0.1,0,0.2,0l5.2,2.2c0.2,0.1,0.2,0.2,0.2,0.4c0,0.2-0.2,0.2-0.3,0.2h-10.5c-0.2,0-0.3-0.1-0.3-0.2\n",
      "\t\tC218.2,127.8,218.3,127.6,218.5,127.6z M219,118.7c0-0.1,0.1-0.2,0.2-0.3c0.2-0.3,0.4-0.7,0.4-1.2v-7.2c0-0.5-0.2-0.9-0.4-1.2\n",
      "\t\tc-0.1-0.1-0.2-0.2-0.2-0.3v-1.4c0-0.2,0.2-0.3,0.3-0.3h9.1c0.2,0,0.3,0.2,0.3,0.3v1.4c0,0.1-0.1,0.2-0.2,0.3\n",
      "\t\tc-0.2,0.3-0.4,0.7-0.4,1.2v7.1c0,0.5,0.2,0.9,0.4,1.2c0.1,0.1,0.2,0.2,0.2,0.3v3.2c0,0.2-0.2,0.3-0.3,0.3h-9.1\n",
      "\t\tc-0.2,0-0.3-0.2-0.3-0.3V118.7z M237.3,127.4c0.2-0.2,0.3-0.2,0.5-0.4c1.4-1,3-1.5,4.7-1.5c1.9,0,3.7,0.7,5.2,1.9l0.1,0.1\n",
      "\t\tc0.1,0.1,0.1,0.2,0.1,0.3s-0.1,0.2-0.2,0.2c0,0,0,0-0.1,0c0,0,0,0-0.1,0h-0.1h-10c-0.1,0-0.2-0.1-0.2-0.1c-0.1-0.1-0.1-0.1-0.1-0.2\n",
      "\t\tC237.2,127.7,237.2,127.5,237.3,127.4z M237.7,118.7c0-0.1,0.1-0.2,0.2-0.3c0.2-0.3,0.4-0.7,0.4-1.2v-7.2c0-0.5-0.2-0.9-0.4-1.2\n",
      "\t\tc-0.1-0.1-0.2-0.2-0.2-0.3v-1.4c0-0.2,0.2-0.3,0.3-0.3h9.1c0.2,0,0.3,0.2,0.3,0.3v1.4c0,0.1-0.1,0.2-0.2,0.3\n",
      "\t\tc-0.2,0.3-0.4,0.7-0.4,1.2v7.1c0,0.5,0.2,0.9,0.4,1.2c0.1,0.1,0.2,0.2,0.2,0.3v3.2c0,0.2-0.2,0.3-0.3,0.3H238\n",
      "\t\tc-0.2,0-0.3-0.2-0.3-0.3V118.7z M255.9,127.6l5.3-2.2c0.1,0,0.1,0,0.2,0h0.1c0,0,0,0,0.1,0l5.2,2.2c0.1,0,0.1,0.1,0.2,0.1\n",
      "\t\tc0.1,0.1,0.1,0.2,0.1,0.2c0,0.1-0.1,0.2-0.2,0.2c-0.1,0-0.1,0.1-0.2,0.1h-10.5c-0.1,0-0.2,0-0.2-0.1c-0.1,0-0.1-0.1-0.2-0.2V128\n",
      "\t\tC255.7,127.9,255.7,127.7,255.9,127.6z M256.5,118.7c0-0.1,0.1-0.2,0.2-0.3c0.2-0.3,0.4-0.7,0.4-1.2v-7.2c0-0.5-0.2-0.9-0.4-1.2\n",
      "\t\tc-0.1-0.1-0.2-0.2-0.2-0.3v-1.4c0-0.2,0.2-0.3,0.3-0.3h9.1c0.2,0,0.3,0.2,0.3,0.3v1.4c0,0.1-0.1,0.2-0.2,0.3\n",
      "\t\tc-0.2,0.3-0.4,0.7-0.4,1.2v7.1c0,0.5,0.2,0.9,0.4,1.2c0.1,0.1,0.2,0.2,0.2,0.3v3.2c0,0.2-0.2,0.3-0.3,0.3h-9.1\n",
      "\t\tc-0.2,0-0.3-0.2-0.3-0.3V118.7z M274.8,127.4c0.2-0.2,0.3-0.2,0.5-0.4c1.4-1,3-1.5,4.7-1.5c1.9,0,3.7,0.7,5.2,1.9l0.1,0.1\n",
      "\t\tc0.1,0.1,0.1,0.2,0.1,0.3s-0.1,0.2-0.2,0.2c0,0,0,0-0.1,0c0,0,0,0-0.1,0H285h-10c-0.1,0-0.2-0.1-0.2-0.1c-0.1-0.1-0.1-0.1-0.1-0.2\n",
      "\t\tC274.6,127.7,274.7,127.5,274.8,127.4z M275.2,118.7c0-0.1,0.1-0.2,0.2-0.3c0.2-0.3,0.4-0.7,0.4-1.2v-7.2c0-0.5-0.2-0.9-0.4-1.2\n",
      "\t\tc-0.1-0.1-0.2-0.2-0.2-0.3v-1.4c0-0.2,0.2-0.3,0.3-0.3h9.1c0.2,0,0.3,0.2,0.3,0.3v1.4c0,0.1-0.1,0.2-0.2,0.3\n",
      "\t\tc-0.2,0.3-0.4,0.7-0.4,1.2v7.1c0,0.5,0.2,0.9,0.4,1.2c0.1,0.1,0.2,0.2,0.2,0.3v3.2c0,0.2-0.2,0.3-0.3,0.3h-9.1\n",
      "\t\tc-0.2,0-0.3-0.2-0.3-0.3V118.7z M284.9,131.9c0,0.1-0.1,0.2-0.2,0.3c-0.2,0.3-0.4,0.7-0.4,1.2v8.7c0,0.5,0.2,0.9,0.4,1.2\n",
      "\t\tc0.1,0.1,0.2,0.2,0.2,0.3v3.2c0,0.2-0.2,0.3-0.3,0.3h-9.1c-0.2,0-0.3-0.2-0.3-0.3v-3.2c0-0.1,0.1-0.2,0.2-0.3\n",
      "\t\tc0.2-0.3,0.4-0.7,0.4-1.2v-8.7c0-0.5-0.2-0.9-0.4-1.2c-0.1-0.1-0.2-0.2-0.2-0.3v-1.4c0-0.2,0.2-0.3,0.3-0.3h9.1\n",
      "\t\tc0.2,0,0.3,0.2,0.3,0.3V131.9z M266.2,131.9c0,0.1-0.1,0.2-0.2,0.3c-0.2,0.3-0.4,0.7-0.4,1.2v8.7c0,0.5,0.2,0.9,0.4,1.2\n",
      "\t\tc0.1,0.1,0.2,0.2,0.2,0.3v3.2c0,0.2-0.2,0.3-0.3,0.3h-9.1c-0.2,0-0.3-0.2-0.3-0.3v-3.2c0-0.1,0.1-0.2,0.2-0.3\n",
      "\t\tc0.2-0.3,0.4-0.7,0.4-1.2v-8.7c0-0.5-0.2-0.9-0.4-1.2c-0.1-0.1-0.2-0.2-0.2-0.3v-1.4c0-0.2,0.2-0.3,0.3-0.3h9.1\n",
      "\t\tc0.2,0,0.3,0.2,0.3,0.3V131.9z M247.4,131.9c0,0.1-0.1,0.2-0.2,0.3c-0.2,0.3-0.4,0.7-0.4,1.2v8.7c0,0.5,0.2,0.9,0.4,1.2\n",
      "\t\tc0.1,0.1,0.2,0.2,0.2,0.3v3.2c0,0.2-0.2,0.3-0.3,0.3H238c-0.2,0-0.3-0.2-0.3-0.3v-3.2c0-0.1,0.1-0.2,0.2-0.3\n",
      "\t\tc0.2-0.3,0.4-0.7,0.4-1.2v-8.7c0-0.5-0.2-0.9-0.4-1.2c-0.1-0.1-0.2-0.2-0.2-0.3v-1.4c0-0.2,0.2-0.3,0.3-0.3h9.1\n",
      "\t\tc0.2,0,0.3,0.2,0.3,0.3V131.9z M228.7,131.9c0,0.1-0.1,0.2-0.2,0.3c-0.2,0.3-0.4,0.7-0.4,1.2v8.7c0,0.5,0.2,0.9,0.4,1.2\n",
      "\t\tc0.1,0.1,0.2,0.2,0.2,0.3v3.2c0,0.2-0.2,0.3-0.3,0.3h-9.1c-0.2,0-0.3-0.2-0.3-0.3v-3.2c0-0.1,0.1-0.2,0.2-0.3\n",
      "\t\tc0.2-0.3,0.4-0.7,0.4-1.2v-8.7c0-0.5-0.2-0.9-0.4-1.2c-0.1-0.1-0.2-0.2-0.2-0.3v-1.4c0-0.2,0.2-0.3,0.3-0.3h9.1\n",
      "\t\tc0.2,0,0.3,0.2,0.3,0.3V131.9z M124.4,128.3h-10.5c-0.2,0-0.3-0.1-0.3-0.2c0-0.2,0.1-0.3,0.2-0.4l5.2-2.2c0.1,0,0.1,0,0.2,0\n",
      "\t\tc0.1,0,0.1,0,0.2,0l5.2,2.2c0.2,0.1,0.2,0.2,0.2,0.4C124.7,128.2,124.6,128.3,124.4,128.3z M124,131.9c0,0.1-0.1,0.2-0.2,0.3\n",
      "\t\tc-0.2,0.3-0.4,0.7-0.4,1.2v8.7c0,0.5,0.2,0.9,0.4,1.2c0.1,0.1,0.2,0.2,0.2,0.3v3.2c0,0.2-0.2,0.3-0.3,0.3h-9.1\n",
      "\t\tc-0.2,0-0.3-0.2-0.3-0.3v-3.2c0-0.1,0.1-0.2,0.2-0.3c0.2-0.3,0.4-0.7,0.4-1.2v-8.7c0-0.5-0.2-0.9-0.4-1.2c-0.1-0.1-0.2-0.2-0.2-0.3\n",
      "\t\tv-1.4c0-0.2,0.2-0.3,0.3-0.3h9.1c0.2,0,0.3,0.2,0.3,0.3V131.9z M105.8,127.9c0,0.1-0.1,0.1-0.1,0.2l-0.1,0.1\n",
      "\t\tc-0.1,0-0.1,0.1-0.2,0.1h-10c-0.1,0-0.1,0-0.2-0.1c-0.2-0.1-0.2-0.2-0.2-0.2s0-0.2,0-0.3c0,0,0-0.1,0.1-0.1c0,0,0-0.1,0.1-0.1\n",
      "\t\tc0.3-0.3,0.7-0.6,1.2-0.8c0,0,0.1,0,0.1-0.1c1.2-0.7,2.6-1.1,4-1.1c1.9,0,3.7,0.7,5.2,1.9C105.8,127.5,105.9,127.7,105.8,127.9z\n",
      "\t\t M105.3,131.9c0,0.1-0.1,0.2-0.2,0.3c-0.2,0.3-0.4,0.7-0.4,1.2v8.7c0,0.5,0.2,0.9,0.4,1.2c0.1,0.1,0.2,0.2,0.2,0.3v3.2\n",
      "\t\tc0,0.2-0.2,0.3-0.3,0.3h-9.1c-0.2,0-0.3-0.2-0.3-0.3v-3.2c0-0.1,0.1-0.2,0.2-0.3c0.2-0.3,0.4-0.7,0.4-1.2v-8.7\n",
      "\t\tc0-0.5-0.2-0.9-0.4-1.2c-0.1-0.1-0.2-0.2-0.2-0.3v-1.4c0-0.2,0.2-0.3,0.3-0.3h9.1c0.2,0,0.3,0.2,0.3,0.3V131.9z M87.1,128.2\n",
      "\t\tc-0.1,0-0.1,0.1-0.2,0.1H76.4c-0.1,0-0.1,0-0.2,0s-0.2-0.1-0.2-0.2V128c0-0.2,0.1-0.3,0.2-0.4l5.2-2.2c0,0,0,0,0.1,0h0.1\n",
      "\t\tc0.1,0,0.1,0,0.2,0l5.2,2.2c0.2,0.1,0.2,0.2,0.2,0.4C87.2,128.1,87.2,128.2,87.1,128.2z M86.6,131.9c0,0.1-0.1,0.2-0.2,0.3\n",
      "\t\tc-0.2,0.3-0.4,0.7-0.4,1.2v8.7c0,0.5,0.2,0.9,0.4,1.2c0.1,0.1,0.2,0.2,0.2,0.3v3.2c0,0.2-0.2,0.3-0.3,0.3h-9.1\n",
      "\t\tc-0.2,0-0.3-0.2-0.3-0.3v-3.2c0-0.1,0.1-0.2,0.2-0.3c0.2-0.3,0.4-0.7,0.4-1.2v-8.7c0-0.5-0.2-0.9-0.4-1.2c-0.1-0.1-0.2-0.2-0.2-0.3\n",
      "\t\tv-1.4c0-0.2,0.2-0.3,0.3-0.3h9.1c0.2,0,0.3,0.2,0.3,0.3V131.9z M68.4,127.9c0,0.1-0.1,0.2-0.2,0.2c-0.1,0-0.1,0.1-0.2,0.1H58\n",
      "\t\tc0,0,0,0-0.1,0h-0.1c-0.1-0.1-0.2-0.2-0.2-0.2c-0.1-0.2,0-0.3,0.1-0.4c0,0,0,0,0.1-0.1c0.2-0.1,0.2-0.2,0.4-0.3\n",
      "\t\tc0.1-0.1,0.2-0.1,0.2-0.2c0.2-0.1,0.2-0.2,0.4-0.2c0.1-0.1,0.2-0.2,0.4-0.2c1.2-0.6,2.4-0.9,3.7-0.9c1.9,0,3.7,0.7,5.2,1.9\n",
      "\t\tC68.4,127.5,68.4,127.7,68.4,127.9z M67.8,131.9c0,0.1-0.1,0.2-0.2,0.3c-0.2,0.3-0.4,0.7-0.4,1.2v8.7c0,0.5,0.2,0.9,0.4,1.2\n",
      "\t\tc0.1,0.1,0.2,0.2,0.2,0.3v3.2c0,0.2-0.2,0.3-0.3,0.3h-9.1c-0.2,0-0.3-0.2-0.3-0.3v-3.2c0-0.1,0.1-0.2,0.2-0.3\n",
      "\t\tc0.2-0.3,0.4-0.7,0.4-1.2v-8.7c0-0.5-0.2-0.9-0.4-1.2c-0.1-0.1-0.2-0.2-0.2-0.3v-1.4c0-0.2,0.2-0.3,0.3-0.3h9.1\n",
      "\t\tc0.2,0,0.3,0.2,0.3,0.3V131.9z M58.1,118.7c0-0.1,0.1-0.2,0.2-0.3c0.2-0.3,0.4-0.7,0.4-1.2v-7.1c0-0.5-0.2-0.9-0.4-1.2\n",
      "\t\tc-0.1-0.1-0.2-0.2-0.2-0.3v-1.5c0-0.2,0.2-0.3,0.3-0.3h9.1c0.2,0,0.3,0.2,0.3,0.3v1.4c0,0.1-0.1,0.2-0.2,0.3\n",
      "\t\tc-0.2,0.3-0.4,0.7-0.4,1.2v7.2c0,0.5,0.2,0.9,0.4,1.2c0.1,0.1,0.2,0.2,0.2,0.3v3.2c0,0.2-0.2,0.3-0.3,0.3h-9.1\n",
      "\t\tc-0.2,0-0.3-0.2-0.3-0.3L58.1,118.7L58.1,118.7z M76.8,118.7c0-0.1,0.1-0.2,0.2-0.3c0.2-0.3,0.4-0.7,0.4-1.2v-7.1\n",
      "\t\tc0-0.5-0.2-0.9-0.4-1.2c-0.1-0.1-0.2-0.2-0.2-0.3v-1.5c0-0.2,0.2-0.3,0.3-0.3h9.1c0.2,0,0.3,0.2,0.3,0.3v1.4c0,0.1-0.1,0.2-0.2,0.3\n",
      "\t\tc-0.2,0.3-0.4,0.7-0.4,1.2v7.2c0,0.5,0.2,0.9,0.4,1.2c0.1,0.1,0.2,0.2,0.2,0.3v3.2c0,0.2-0.2,0.3-0.3,0.3h-9.1\n",
      "\t\tc-0.2,0-0.3-0.2-0.3-0.3V118.7z M95.6,118.7c0-0.1,0.1-0.2,0.2-0.3c0.2-0.3,0.4-0.7,0.4-1.2v-7.1c0-0.5-0.2-0.9-0.4-1.2\n",
      "\t\tc-0.1-0.1-0.2-0.2-0.2-0.3v-1.5c0-0.2,0.2-0.3,0.3-0.3h9.1c0.2,0,0.3,0.2,0.3,0.3v1.4c0,0.1-0.1,0.2-0.2,0.3\n",
      "\t\tc-0.2,0.3-0.4,0.7-0.4,1.2v7.2c0,0.5,0.2,0.9,0.4,1.2c0.1,0.1,0.2,0.2,0.2,0.3v3.2c0,0.2-0.2,0.3-0.3,0.3h-9.1\n",
      "\t\tc-0.2,0-0.3-0.2-0.3-0.3V118.7z M114.3,118.7c0-0.1,0.1-0.2,0.2-0.3c0.2-0.3,0.4-0.7,0.4-1.2v-7.1c0-0.5-0.2-0.9-0.4-1.2\n",
      "\t\tc-0.1-0.1-0.2-0.2-0.2-0.3v-1.5c0-0.2,0.2-0.3,0.3-0.3h9.1c0.2,0,0.3,0.2,0.3,0.3v1.4c0,0.1-0.1,0.2-0.2,0.3\n",
      "\t\tc-0.2,0.3-0.4,0.7-0.4,1.2v7.2c0,0.5,0.2,0.9,0.4,1.2c0.1,0.1,0.2,0.2,0.2,0.3v3.2c0,0.2-0.2,0.3-0.3,0.3h-9.1\n",
      "\t\tc-0.2,0-0.3-0.2-0.3-0.3V118.7z M49.2,85.9h2.1c0,0,0.1,0,0.1,0.1v8.5c0,0.2,0.2,0.3,0.4,0.3h76.1c0.3,0.6,0.7,1.2,0.9,1.8\n",
      "\t\tc-4.8,0-79.5,0-79.5,0c-0.2,0-0.5,0.2-0.5,0.5v2.4c0,0.3,0.2,0.5,0.5,0.5h80.3c0,0,0,0.7,0,2.2H51.6c-0.2,0-0.2,0.1-0.2,0.2v47.7\n",
      "\t\tc0.2,0,85.2,0,85.2,0c0.4,0,0.7-0.3,0.7-0.7v-0.1c0-0.4,0.1-48.9,0.1-48.9c0-0.3,0-0.4,0-0.4c0.1-0.9,0.3-1.8,0.6-2.7\n",
      "\t\tc0.3-0.9,0.7-1.7,1.2-2.6h29.8h5.2h29.8c0.5,0.8,0.9,1.7,1.2,2.6s0.5,1.7,0.6,2.7c0,0,0,0.2,0,0.4c0,0,0.1,48.5,0.1,48.9v0.1\n",
      "\t\tc0,0.4,0.3,0.7,0.7,0.7l83.1-0.1h0.2h1.6c0.2,0,0.2-0.1,0.2-0.2v-47.4c0-0.2-0.1-0.2-0.2-0.2h-78.1c0-1.3,0-2.1,0-2.2h80.3\n",
      "\t\tc0.3,0,0.5-0.2,0.5-0.5v-2.4c0-0.2-0.2-0.5-0.5-0.5c0,0-74.7,0-79.5,0c0.2-0.6,0.6-1.2,0.9-1.8h76.2c0.2,0,0.4-0.1,0.4-0.3V86\n",
      "\t\tc0,0,0-0.1,0.1-0.1h2.1c0.3,0,0.5-0.2,0.5-0.5v-1.1c0-0.3-0.2-0.5-0.5-0.5H218c-0.3,0-0.7-0.1-1-0.2l-44.7-18.1v-2.9v-0.9\n",
      "\t\tc0.9-0.2,2.2-0.5,3.2-0.2c5.1,1.7,6.2,1.1,6.2,1c-0.9-1.2-0.6-3.9-0.6-3.9c0.3-2.4,0.2-2.9,0.2-3c-0.2,0.1-1.6,0.9-5-0.2\n",
      "\t\tc-1.8-0.6-3.2-0.7-4-0.8c0-0.5-0.4-0.8-0.9-0.8c-0.4,0.1-0.7,0.4-0.7,0.9v10.7l-44.7,18.1c-0.3,0.2-0.7,0.2-1,0.2H49.2\n",
      "\t\tc-0.3,0-0.5,0.2-0.5,0.5v1.1C48.7,85.7,48.9,85.9,49.2,85.9z\"></path>\n",
      "<polygon class=\"st2\" points=\"198.6,96.5 171.5,126.9 144.4,96.5 144.4,96.5 144,96.7 171.2,127.3 171.2,127.2 171.7,127.2\n",
      "\t\t171.8,127.3 198.9,96.8 198.9,96.7 \t\"></polygon>\n",
      "<path class=\"st2\" d=\"M172.3,125.7h-1.7c-0.4,0-0.6,0.3-0.6,0.6v4.8c0,0.4,0.3,0.6,0.6,0.6h1.7c0.4,0,0.6-0.3,0.6-0.6v-4.8\n",
      "\t\tC172.9,125.9,172.7,125.7,172.3,125.7z\"></path>\n",
      "</g>\n",
      "</svg>\n",
      "</a>\n",
      "</div>\n",
      "</div>\n",
      "<div class=\"mobile-overlay__inner\">\n",
      "<div class=\"container\">\n",
      "<div class=\"row\">\n",
      "<div class=\"mobile-nav-menus\">\n",
      "<div class=\"menu-left\">\n",
      "<nav aria-label=\"Primary Navigation\" class=\"primary-mobile-menu\" role=\"navigation\">\n",
      "<ul class=\"menu primary-menu\" id=\"menu-primary-expanded-navigation\"><li class=\"menu-item menu-item-type-post_type menu-item-object-page menu-item-has-children menu-item-69 top-level-menu-item\" id=\"menu-item-69\"><a href=\"https://www.whitehouse.gov/administration/\">Administration</a><button aria-expanded=\"false\" class=\"dropdown-trigger\">\n",
      "<svg fill=\"none\" height=\"68\" viewbox=\"0 0 63 68\" width=\"63\" xmlns=\"http://www.w3.org/2000/svg\"><path d=\"M0.00171813 0L63 33.7444C63 33.7444 0.660551 67.4376 0.00520349 67.9931L0.00171813 68C-0.0014293 68 -0.000243773 67.9977 0.00520349 67.9931L17.0642 34L0.00171813 0Z\" fill=\"black\"></path></svg>\n",
      "<span class=\"screen-reader-text\">Show submenu for “Administration””</span>\n",
      "</button>\n",
      "<ul class=\"sub-menu\">\n",
      "<li class=\"menu-item menu-item-type-post_type menu-item-object-page menu-item-802\" id=\"menu-item-802\"><a href=\"https://www.whitehouse.gov/administration/president-biden/\">President Joe Biden</a></li>\n",
      "<li class=\"menu-item menu-item-type-post_type menu-item-object-page menu-item-803\" id=\"menu-item-803\"><a href=\"https://www.whitehouse.gov/administration/vice-president-harris/\">Vice President Kamala Harris</a></li>\n",
      "<li class=\"menu-item menu-item-type-post_type menu-item-object-page menu-item-804\" id=\"menu-item-804\"><a href=\"https://www.whitehouse.gov/administration/dr-jill-biden/\">First Lady Dr. Jill Biden</a></li>\n",
      "<li class=\"menu-item menu-item-type-post_type menu-item-object-page menu-item-805\" id=\"menu-item-805\"><a href=\"https://www.whitehouse.gov/administration/douglas-emhoff/\">Second Gentleman Douglas Emhoff</a></li>\n",
      "<li class=\"menu-item menu-item-type-post_type menu-item-object-page menu-item-806\" id=\"menu-item-806\"><a href=\"https://www.whitehouse.gov/administration/cabinet/\">The Cabinet</a></li>\n",
      "</ul>\n",
      "</li>\n",
      "<li class=\"menu-item menu-item-type-post_type menu-item-object-page menu-item-has-children menu-item-68 top-level-menu-item\" id=\"menu-item-68\"><a href=\"https://www.whitehouse.gov/administration/executive-office-of-the-president/\">Executive Offices</a><button aria-expanded=\"false\" class=\"dropdown-trigger\">\n",
      "<svg fill=\"none\" height=\"68\" viewbox=\"0 0 63 68\" width=\"63\" xmlns=\"http://www.w3.org/2000/svg\"><path d=\"M0.00171813 0L63 33.7444C63 33.7444 0.660551 67.4376 0.00520349 67.9931L0.00171813 68C-0.0014293 68 -0.000243773 67.9977 0.00520349 67.9931L17.0642 34L0.00171813 0Z\" fill=\"black\"></path></svg>\n",
      "<span class=\"screen-reader-text\">Show submenu for “Executive Offices””</span>\n",
      "</button>\n",
      "<ul class=\"sub-menu\">\n",
      "<li class=\"menu-item menu-item-type-post_type menu-item-object-page menu-item-793\" id=\"menu-item-793\"><a href=\"https://www.whitehouse.gov/cea/\">Council of Economic Advisers</a></li>\n",
      "<li class=\"menu-item menu-item-type-post_type menu-item-object-page menu-item-794\" id=\"menu-item-794\"><a href=\"https://www.whitehouse.gov/ceq/\">Council on Environmental Quality</a></li>\n",
      "<li class=\"menu-item menu-item-type-post_type menu-item-object-page menu-item-795\" id=\"menu-item-795\"><a href=\"https://www.whitehouse.gov/dpc/\">Domestic Policy Council</a></li>\n",
      "<li class=\"menu-item menu-item-type-post_type menu-item-object-page menu-item-796\" id=\"menu-item-796\"><a href=\"https://www.whitehouse.gov/nec/\">National Economic Council</a></li>\n",
      "<li class=\"menu-item menu-item-type-post_type menu-item-object-page menu-item-797\" id=\"menu-item-797\"><a href=\"https://www.whitehouse.gov/nsc/\">National Security Council</a></li>\n",
      "<li class=\"menu-item menu-item-type-post_type menu-item-object-page menu-item-798\" id=\"menu-item-798\"><a href=\"https://www.whitehouse.gov/iga/\">Office of Intergovernmental Affairs</a></li>\n",
      "<li class=\"menu-item menu-item-type-post_type menu-item-object-page menu-item-799\" id=\"menu-item-799\"><a href=\"https://www.whitehouse.gov/omb/\">Office of Management and Budget</a></li>\n",
      "<li class=\"menu-item menu-item-type-post_type menu-item-object-page menu-item-119\" id=\"menu-item-119\"><a href=\"https://www.whitehouse.gov/ondcp/\">Office of National Drug Control Policy</a></li>\n",
      "<li class=\"menu-item menu-item-type-post_type menu-item-object-page menu-item-800\" id=\"menu-item-800\"><a href=\"https://www.whitehouse.gov/ope/\">Office of Public Engagement</a></li>\n",
      "<li class=\"menu-item menu-item-type-post_type menu-item-object-page menu-item-801\" id=\"menu-item-801\"><a href=\"https://www.whitehouse.gov/ostp/\">Office of Science and Technology Policy</a></li>\n",
      "</ul>\n",
      "</li>\n",
      "<li class=\"menu-item menu-item-type-post_type menu-item-object-page menu-item-65 top-level-menu-item\" id=\"menu-item-65\"><a href=\"https://www.whitehouse.gov/priorities/\">Priorities</a></li>\n",
      "</ul>\n",
      "<ul class=\"menu primary-menu\">\n",
      "<li class=\"menu-item menu-item-type-post_type menu-item-object-page current-menu-item page_item page-item-55 current_page_item current_page_parent menu-item-2783 top-level-menu-item\" id=\"menu-item-2783\"><a aria-current=\"page\" href=\"https://www.whitehouse.gov/briefing-room/\">Briefing Room</a></li>\n",
      "<li class=\"menu-item menu-item-type-post_type menu-item-object-page menu-item-has-children menu-item-42 top-level-menu-item\" id=\"menu-item-42\"><a href=\"https://www.whitehouse.gov/about-the-white-house/\">The White House</a><button aria-expanded=\"false\" class=\"dropdown-trigger\">\n",
      "<svg fill=\"none\" height=\"68\" viewbox=\"0 0 63 68\" width=\"63\" xmlns=\"http://www.w3.org/2000/svg\"><path d=\"M0.00171813 0L63 33.7444C63 33.7444 0.660551 67.4376 0.00520349 67.9931L0.00171813 68C-0.0014293 68 -0.000243773 67.9977 0.00520349 67.9931L17.0642 34L0.00171813 0Z\" fill=\"black\"></path></svg>\n",
      "<span class=\"screen-reader-text\">Show submenu for “The White House””</span>\n",
      "</button>\n",
      "<ul class=\"sub-menu\">\n",
      "<li class=\"menu-item menu-item-type-post_type menu-item-object-page menu-item-45\" id=\"menu-item-45\"><a href=\"https://www.whitehouse.gov/about-the-white-house/presidents/\">Presidents</a></li>\n",
      "<li class=\"menu-item menu-item-type-post_type menu-item-object-page menu-item-812\" id=\"menu-item-812\"><a href=\"https://www.whitehouse.gov/about-the-white-house/first-families/\">First Families</a></li>\n",
      "<li class=\"menu-item menu-item-type-post_type menu-item-object-page menu-item-44\" id=\"menu-item-44\"><a href=\"https://www.whitehouse.gov/about-the-white-house/the-grounds/\">The Grounds</a></li>\n",
      "<li class=\"menu-item menu-item-type-post_type menu-item-object-page menu-item-43\" id=\"menu-item-43\"><a href=\"https://www.whitehouse.gov/about-the-white-house/our-government/\">Our Government</a></li>\n",
      "</ul>\n",
      "</li>\n",
      "<li class=\"menu-item menu-item-type-post_type menu-item-object-page menu-item-has-children menu-item-72 top-level-menu-item\" id=\"menu-item-72\"><a href=\"https://www.whitehouse.gov/get-involved/\">Get Involved</a><button aria-expanded=\"false\" class=\"dropdown-trigger\">\n",
      "<svg fill=\"none\" height=\"68\" viewbox=\"0 0 63 68\" width=\"63\" xmlns=\"http://www.w3.org/2000/svg\"><path d=\"M0.00171813 0L63 33.7444C63 33.7444 0.660551 67.4376 0.00520349 67.9931L0.00171813 68C-0.0014293 68 -0.000243773 67.9977 0.00520349 67.9931L17.0642 34L0.00171813 0Z\" fill=\"black\"></path></svg>\n",
      "<span class=\"screen-reader-text\">Show submenu for “Get Involved””</span>\n",
      "</button>\n",
      "<ul class=\"sub-menu\">\n",
      "<li class=\"menu-item menu-item-type-post_type menu-item-object-page menu-item-86\" id=\"menu-item-86\"><a href=\"https://www.whitehouse.gov/get-involved/write-or-call/\">Write or Call The White House</a></li>\n",
      "<li class=\"menu-item menu-item-type-post_type menu-item-object-page menu-item-813\" id=\"menu-item-813\"><a href=\"https://www.whitehouse.gov/get-involved/join-us/\">Join Us</a></li>\n",
      "<li class=\"menu-item menu-item-type-post_type menu-item-object-page menu-item-814\" id=\"menu-item-814\"><a href=\"https://www.whitehouse.gov/get-involved/fellows/\">White House Fellows</a></li>\n",
      "</ul>\n",
      "</li>\n",
      "</ul>\n",
      "<ul class=\"menu primary-menu\">\n",
      "<li class=\"site-id-2 mlp-language-nav-item menu-item menu-item-type-mlp_language menu-item-object-mlp_language menu-item-1799 top-level-menu-item\" id=\"menu-item-1799\"><a href=\"https://www.whitehouse.gov/es/prensa/\" lang=\"es-US\" rel=\"alternate\">Español</a></li>\n",
      "</ul> </nav><!-- .main-mobile-menu -->\n",
      "</div>\n",
      "<div class=\"menu-right\">\n",
      "<nav aria-label=\"Secondary Navigation\" class=\"secondary-mobile-menu\" role=\"navigation\">\n",
      "<ul class=\"menu secondary-menu\" id=\"secondary-navigation-overlay\"><li class=\"menu-item menu-item-type-post_type menu-item-object-page menu-item-109 top-level-menu-item\"><a href=\"https://www.whitehouse.gov/contact/\">Contact Us</a></li>\n",
      "<li class=\"menu-item menu-item-type-post_type menu-item-object-page menu-item-1791 top-level-menu-item\"><a href=\"https://www.whitehouse.gov/privacy/\">Privacy Policy</a></li>\n",
      "<li class=\"menu-item menu-item-type-post_type menu-item-object-page menu-item-699 top-level-menu-item\"><a href=\"https://www.whitehouse.gov/copyright/\">Copyright Policy</a></li>\n",
      "<li class=\"menu-item menu-item-type-post_type menu-item-object-page menu-item-107 top-level-menu-item\"><a href=\"https://www.whitehouse.gov/accessibility/\">Accessibility Statement</a></li>\n",
      "<li class=\"menu-item menu-item-type-post_type menu-item-object-page menu-item-7953 top-level-menu-item\"><a href=\"https://www.whitehouse.gov/disclosures/financial-disclosures/\">Financial Disclosures</a></li>\n",
      "</ul> </nav><!-- .secondary -->\n",
      "<div class=\"site-header__menu-wrap__footer__social\">\n",
      "<nav aria-label=\"Social Navigation\" class=\"col-xs-12\">\n",
      "<ul class=\"social-simple\" id=\"social-navigation\"><li class=\"menu-item menu-item-type-custom menu-item-object-custom menu-item-87 col-auto top-level-menu-item\"><a class=\"external-link\" href=\"https://www.instagram.com/whitehouse/\" rel=\"noopener noreferrer\" target=\"_blank\"><svg aria-hidden=\"true\" tabindex=\"-1\" viewbox=\"0 0 21 20\" xmlns=\"http://www.w3.org/2000/svg\"><path d=\"M6.928 6.27c.974-.974 2.148-1.461 3.523-1.461s2.535.487 3.48 1.46c.975.946 1.462 2.106 1.462 3.481s-.487 2.55-1.461 3.523c-.946.946-2.106 1.418-3.48 1.418-1.376 0-2.55-.472-3.524-1.418C5.982 12.3 5.51 11.125 5.51 9.75s.472-2.535 1.418-3.48zm1.246 5.757c.63.63 1.39.946 2.277.946.888 0 1.647-.315 2.277-.946.63-.63.946-1.389.946-2.277 0-.888-.315-1.647-.945-2.277a3.104 3.104 0 00-2.278-.946c-.888 0-1.647.315-2.277.946-.63.63-.945 1.389-.945 2.277 0 .888.315 1.647.945 2.277zM16.38 3.82c.229.2.344.459.344.774s-.115.587-.344.816a.981.981 0 01-.774.344c-.315 0-.587-.115-.816-.344a1.115 1.115 0 01-.344-.816.98.98 0 01.344-.774c.23-.229.501-.343.816-.343.316 0 .573.114.774.343zm3.652 1.977c.029.773.043 2.091.043 3.953 0 1.862-.014 3.18-.043 3.953-.086 1.748-.616 3.108-1.59 4.082-.945.945-2.291 1.447-4.039 1.504-.773.057-2.09.086-3.953.086-1.862 0-3.18-.029-3.953-.086-1.747-.086-3.094-.602-4.039-1.547a4.148 4.148 0 01-.902-1.203 7.057 7.057 0 01-.516-1.332 7.744 7.744 0 01-.129-1.504C.855 12.93.826 11.612.826 9.75c0-1.862.029-3.194.086-3.996.086-1.719.602-3.05 1.547-3.996C3.404.784 4.751.254 6.499.168 7.27.139 8.588.125 10.45.125s3.18.014 3.953.043c1.748.086 3.094.616 4.04 1.59.973.945 1.503 2.291 1.59 4.039zm-2.062 9.625c.086-.23.157-.516.215-.86.057-.372.1-.802.128-1.289.03-.515.043-.93.043-1.246v-1.332-.945-.945-1.332c0-.315-.014-.716-.043-1.203a12.168 12.168 0 00-.128-1.29 4.652 4.652 0 00-.215-.902c-.344-.888-.96-1.504-1.848-1.848a4.654 4.654 0 00-.902-.214c-.344-.058-.774-.1-1.29-.13a21.227 21.227 0 00-1.202-.042H8.174c-.315 0-.73.014-1.246.043-.487.028-.917.071-1.29.129a4.68 4.68 0 00-.859.214c-.888.344-1.504.96-1.847 1.848-.086.23-.158.53-.215.902-.057.344-.1.774-.13 1.29a21.23 21.23 0 00-.042 1.203v5.155c.029.43.057.803.086 1.118a11.384 11.384 0 00.3 1.676c.373.888.989 1.504 1.848 1.848.23.085.516.157.86.214.372.058.802.1 1.289.13.515.028.916.042 1.203.042h4.597c.316 0 .717-.014 1.204-.043.515-.028.945-.071 1.289-.129a4.65 4.65 0 00.902-.215c.888-.372 1.504-.988 1.848-1.847z\"></path></svg><span class=\"screen-reader-text\">Instagram<span class=\"screen-reader-text\">Opens in a new window</span></span></a></li>\n",
      "<li class=\"menu-item menu-item-type-custom menu-item-object-custom menu-item-88 col-auto top-level-menu-item\"><a class=\"external-link\" href=\"https://www.facebook.com/WhiteHouse/\" rel=\"noopener noreferrer\" target=\"_blank\"><svg aria-hidden=\"true\" tabindex=\"-1\" viewbox=\"0 0 11 19\" xmlns=\"http://www.w3.org/2000/svg\"><path d=\"M9.722 10.375H7.086v7.875H3.57v-7.875H.722v-3.27H3.57v-2.46c0-.938.176-1.735.527-2.391A3.454 3.454 0 015.574.777C6.23.426 6.98.25 7.824.25c.375 0 .773.023 1.195.07.422.024.75.059.985.106l.351.035v2.777H8.95c-.656 0-1.137.176-1.441.528-.282.328-.422.738-.422 1.23v2.11h3.129l-.493 3.269z\"></path></svg><span class=\"screen-reader-text\">Facebook<span class=\"screen-reader-text\">Opens in a new window</span></span></a></li>\n",
      "<li class=\"menu-item menu-item-type-custom menu-item-object-custom menu-item-89 col-auto top-level-menu-item\"><a class=\"external-link\" href=\"https://twitter.com/whitehouse\" rel=\"noopener noreferrer\" target=\"_blank\"><svg aria-hidden=\"true\" tabindex=\"-1\" viewbox=\"0 0 1792 1792\" xmlns=\"http://www.w3.org/2000/svg\"><path d=\"M1684 408q-67 98-162 167 1 14 1 42 0 130-38 259.5T1369.5 1125 1185 1335.5t-258 146-323 54.5q-271 0-496-145 35 4 78 4 225 0 401-138-105-2-188-64.5T285 1033q33 5 61 5 43 0 85-11-112-23-185.5-111.5T172 710v-4q68 38 146 41-66-44-105-115t-39-154q0-88 44-163 121 149 294.5 238.5T884 653q-8-38-8-74 0-134 94.5-228.5T1199 256q140 0 236 102 109-21 205-78-37 115-142 178 93-10 186-50z\"></path></svg><span class=\"screen-reader-text\">Twitter<span class=\"screen-reader-text\">Opens in a new window</span></span></a></li>\n",
      "<li class=\"menu-item menu-item-type-custom menu-item-object-custom menu-item-90 col-auto top-level-menu-item\"><a class=\"external-link\" href=\"https://www.youtube.com/user/whitehouse\" rel=\"noopener noreferrer\" target=\"_blank\"><svg aria-hidden=\"true\" fill=\"none\" tabindex=\"-1\" viewbox=\"0 0 18 12\" xmlns=\"http://www.w3.org/2000/svg\"><path d=\"M17.156 1.906a2.126 2.126 0 00-1.5-1.531C14.312 0 9 0 9 0S3.656 0 2.312.375a2.126 2.126 0 00-1.5 1.531C.438 3.22.438 6.031.438 6.031s0 2.782.376 4.125c.187.75.78 1.313 1.5 1.5C3.655 12 9 12 9 12s5.313 0 6.656-.344a2.084 2.084 0 001.5-1.5c.375-1.344.375-4.125.375-4.125s0-2.812-.375-4.125zM7.25 8.563V3.5l4.438 2.531L7.25 8.563z\"></path></svg><span class=\"screen-reader-text\">YouTube<span class=\"screen-reader-text\">Opens in a new window</span></span></a></li>\n",
      "</ul> </nav><!-- social -->\n",
      "</div>\n",
      "<div class=\"address\">\n",
      "<p>\n",
      "<strong>The White House</strong><br/>\n",
      "\t\t\t\t\t\t\t\t1600 Pennsylvania Ave NW<br/>\n",
      "\t\t\t\t\t\t\t\tWashington, DC 20500\n",
      "\t\t\t\t\t\t\t</p>\n",
      "</div>\n",
      "</div>\n",
      "</div><!-- .mobile-nav-menus -->\n",
      "</div><!-- .row -->\n",
      "</div><!-- .container -->\n",
      "</div><!-- .main-mobile-menu-inner -->\n",
      "<img class=\"svgloader\" onload=\"var c=this;!window.fetch?window.llItems.push(c):fetch(c.currentSrc||c.src).then(function(x){return x.text();}).then(function(svgText){c.outerHTML = svgText;});\" src=\"https://www.whitehouse.gov/wp-content/themes/whitehouse/assets/img/wh-outline.svg\"/></div><!-- .menuOverlay -->\n",
      "</header>\n",
      "<main class=\"site-main\" id=\"content\">\n",
      "<section class=\"topper social-hide topper-primary topper--no-deck is-style-noimage\">\n",
      "<form action=\"https://www.whitehouse.gov/\" class=\"search-form\" data-searchform=\"\" method=\"get\" role=\"search\">\n",
      "<label for=\"search-field-id-6086b7c8db194\"><span class=\"screen-reader-text\">To search this site, enter a search term</span></label>\n",
      "<button aria-hidden=\"true\" aria-label=\"Close\" class=\"search-close-icon\">\n",
      "<svg fill=\"none\" height=\"13\" viewbox=\"0 0 13 13\" width=\"13\" xmlns=\"http://www.w3.org/2000/svg\">\n",
      "<rect fill=\"black\" height=\"1\" transform=\"rotate(45 1.26074 0)\" width=\"16.2296\" x=\"1.26074\"></rect>\n",
      "<rect fill=\"black\" height=\"1\" transform=\"rotate(-45 0.737305 11.5178)\" width=\"16.2296\" x=\"0.737305\" y=\"11.5178\"></rect>\n",
      "</svg>\n",
      "</button>\n",
      "<button aria-label=\"Search\" class=\"search-icon\"><svg fill=\"none\" height=\"34\" viewbox=\"0 0 34 34\" width=\"34\" xmlns=\"http://www.w3.org/2000/svg\">\n",
      "<circle cx=\"17\" cy=\"17\" fill=\"black\" r=\"17\"></circle>\n",
      "<path d=\"M15.7545 21.3039C16.9965 21.305 18.2026 20.8872 19.1779 20.118L22.8589 23.8L23.8002 22.8584L20.1192 19.1764C20.8936 18.1878 21.3101 16.9659 21.3006 15.71C21.2911 14.4542 20.8563 13.2386 20.067 12.2619C19.2778 11.2852 18.1808 10.605 16.9552 10.3324C15.7296 10.0598 14.4479 10.2109 13.3192 10.761C12.1906 11.3112 11.2817 12.2278 10.7411 13.3613C10.2005 14.4948 10.06 15.7782 10.3427 17.0018C10.6253 18.2255 11.3144 19.3171 12.2973 20.0985C13.2802 20.8798 14.499 21.3048 15.7545 21.3039ZM15.7545 11.5325C16.5888 11.5325 17.4043 11.7799 18.098 12.2436C18.7917 12.7072 19.3324 13.3662 19.6516 14.1372C19.9709 14.9082 20.0544 15.7566 19.8917 16.5751C19.7289 17.3936 19.3272 18.1454 18.7372 18.7356C18.1473 19.3257 17.3957 19.7275 16.5774 19.8903C15.7592 20.0531 14.911 19.9696 14.1402 19.6502C13.3695 19.3309 12.7107 18.79 12.2472 18.0961C11.7837 17.4023 11.5363 16.5865 11.5363 15.7519C11.5363 14.6329 11.9807 13.5596 12.7718 12.7683C13.5628 11.977 14.6357 11.5325 15.7545 11.5325Z\" fill=\"white\"></path>\n",
      "</svg>\n",
      "</button>\n",
      "<input aria-required=\"false\" autocapitalize=\"off\" autocomplete=\"off\" autocorrect=\"off\" class=\"search-field\" id=\"search-field-id-6086b7c8db194\" name=\"s\" placeholder=\"Search…\" required=\"\" spellcheck=\"false\" type=\"text\"/>\n",
      "<button aria-hidden=\"true\" class=\"search-submit\"><svg fill=\"none\" height=\"68\" viewbox=\"0 0 63 68\" width=\"63\" xmlns=\"http://www.w3.org/2000/svg\">\n",
      "<path d=\"M0.00171813 0L63 33.7444C63 33.7444 0.660551 67.4376 0.00520349 67.9931L0.00171813 68C-0.0014293 68 -0.000243773 67.9977 0.00520349 67.9931L17.0642 34L0.00171813 0Z\" fill=\"currentColor\"></path>\n",
      "</svg>\n",
      "<span class=\"screen-reader-text\">Search</span></button>\n",
      "</form>\n",
      "<div class=\"container\">\n",
      "<div class=\"row justify-content-center\">\n",
      "<div class=\"col-md-10 col-lg-8 col-xl-6 col\">\n",
      "<h1 class=\"page-title topper__title large\" data-beat=\"1\" data-beat-topper=\"1\">\n",
      "\t\t\t\t\t\tBriefing Room\t\t\t\t\t\t</h1>\n",
      "</div>\n",
      "</div>\n",
      "</div>\n",
      "</section>\n",
      "<section class=\"post-15443 post type-post status-publish hentry category-statements-releases\">\n",
      "<div class=\"news-index\">\n",
      "<div class=\"container\">\n",
      "<div class=\"row justify-content-center articles-and-side-nav\">\n",
      "<div class=\"side-nav col col-xs-12 offset-lg-1 col-lg-2\">\n",
      "<div class=\"mobile-select\">\n",
      "<p class=\"ui-label-base\">Navigate this Section</p>\n",
      "<div class=\"select-wrapper\">\n",
      "<svg fill=\"none\" height=\"68\" viewbox=\"0 0 63 68\" width=\"63\" xmlns=\"http://www.w3.org/2000/svg\">\n",
      "<path d=\"M0.00171813 0L63 33.7444C63 33.7444 0.660551 67.4376 0.00520349 67.9931L0.00171813 68C-0.0014293 68 -0.000243773 67.9977 0.00520349 67.9931L17.0642 34L0.00171813 0Z\" fill=\"currentColor\"></path>\n",
      "</svg>\n",
      "<select id=\"side-nav-select\" name=\"side-nav-select\">\n",
      "<option value=\"\">Select</option>\n",
      "<option value=\"https://www.whitehouse.gov/briefing-room/\">\n",
      "\t\t\t\t\t\tView All\t\t\t\t\t</option>\n",
      "<option value=\"https://www.whitehouse.gov/briefing-room/blog/\">\n",
      "\t\t\t\t\t\tBlog\t\t\t\t\t</option>\n",
      "<option value=\"https://www.whitehouse.gov/briefing-room/legislation/\">\n",
      "\t\t\t\t\t\tLegislation\t\t\t\t\t</option>\n",
      "<option value=\"https://www.whitehouse.gov/briefing-room/presidential-actions/\">\n",
      "\t\t\t\t\t\tPresidential Actions\t\t\t\t\t</option>\n",
      "<option value=\"https://www.whitehouse.gov/briefing-room/press-briefings/\">\n",
      "\t\t\t\t\t\tPress Briefings\t\t\t\t\t</option>\n",
      "<option value=\"https://www.whitehouse.gov/briefing-room/speeches-remarks/\">\n",
      "\t\t\t\t\t\tSpeeches and Remarks\t\t\t\t\t</option>\n",
      "<option value=\"https://www.whitehouse.gov/briefing-room/statements-releases/\">\n",
      "\t\t\t\t\t\tStatements and Releases\t\t\t\t\t</option>\n",
      "</select>\n",
      "</div>\n",
      "</div><!-- .mobile-select -->\n",
      "<nav aria-label=\"Side Navigation\" class=\"side-nav-menu\" role=\"navigation\">\n",
      "<ul>\n",
      "<li>\n",
      "<span class=\"h6\">Filter by:</span>\n",
      "<ul class=\"sub-menu\">\n",
      "<li>\n",
      "<span class=\"caption-text\">View All</span>\n",
      "</li>\n",
      "<li>\n",
      "<a class=\"caption-text\" href=\"https://www.whitehouse.gov/briefing-room/blog/\">\n",
      "\t\t\t\t\t\t\t\tBlog\t\t\t\t\t\t\t</a>\n",
      "</li>\n",
      "<li>\n",
      "<a class=\"caption-text\" href=\"https://www.whitehouse.gov/briefing-room/legislation/\">\n",
      "\t\t\t\t\t\t\t\tLegislation\t\t\t\t\t\t\t</a>\n",
      "</li>\n",
      "<li>\n",
      "<a class=\"caption-text\" href=\"https://www.whitehouse.gov/briefing-room/presidential-actions/\">\n",
      "\t\t\t\t\t\t\t\tPresidential Actions\t\t\t\t\t\t\t</a>\n",
      "</li>\n",
      "<li>\n",
      "<a class=\"caption-text\" href=\"https://www.whitehouse.gov/briefing-room/press-briefings/\">\n",
      "\t\t\t\t\t\t\t\tPress Briefings\t\t\t\t\t\t\t</a>\n",
      "</li>\n",
      "<li>\n",
      "<a class=\"caption-text\" href=\"https://www.whitehouse.gov/briefing-room/speeches-remarks/\">\n",
      "\t\t\t\t\t\t\t\tSpeeches and Remarks\t\t\t\t\t\t\t</a>\n",
      "</li>\n",
      "<li>\n",
      "<a class=\"caption-text\" href=\"https://www.whitehouse.gov/briefing-room/statements-releases/\">\n",
      "\t\t\t\t\t\t\t\tStatements and Releases\t\t\t\t\t\t\t</a>\n",
      "</li>\n",
      "</ul>\n",
      "</li>\n",
      "</ul>\n",
      "</nav><!-- end .side-nav-menu -->\n",
      "</div><!-- end .side-nav -->\n",
      "<div class=\"article-wrapper col col-xs-12 col-md-8 col-lg-6 offset-lg-3\" data-animate-children=\".news-item\">\n",
      "<article class=\"news-item qpost-15443\">\n",
      "<h2 class=\"news-item__title-container\">\n",
      "<a class=\"news-item__title acctext--con\" href=\"https://www.whitehouse.gov/briefing-room/statements-releases/2021/04/25/statement-by-nsc-spokesperson-emily-horne-on-national-security-advisor-jake-sullivans-call-with-national-security-advisor-ajit-doval-of-india/\">\n",
      "\t\t\t\tStatement by NSC Spokesperson Emily Horne on National Security Advisor Jake Sullivan’s Call with National Security Advisor Ajit Doval <span class=\"dewidow\">of India</span> </a>\n",
      "</h2>\n",
      "<div class=\"news-item__meta shared-meta\">\n",
      "<time class=\"posted-on entry-date published updated\">April 25, 2021</time> <span class=\"separator\">•</span>\n",
      "<span class=\"tax-links cat-links\"><a href=\"https://www.whitehouse.gov/briefing-room/statements-releases/\" rel=\"category tag\">Statements and Releases</a></span> </div>\n",
      "</article>\n",
      "<article class=\"news-item qpost-15437\">\n",
      "<h2 class=\"news-item__title-container\">\n",
      "<a class=\"news-item__title acctext--con\" href=\"https://www.whitehouse.gov/briefing-room/statements-releases/2021/04/25/statement-by-national-security-advisor-jake-sullivan-on-the-fire-at-ibn-al-khatib-hospital-in-baghdad/\">\n",
      "\t\t\t\tStatement by National Security Advisor Jake Sullivan on the Fire at Ibn al-Khatib Hospital <span class=\"dewidow\">in Baghdad</span> </a>\n",
      "</h2>\n",
      "<div class=\"news-item__meta shared-meta\">\n",
      "<time class=\"posted-on entry-date published updated\">April 25, 2021</time> <span class=\"separator\">•</span>\n",
      "<span class=\"tax-links cat-links\"><a href=\"https://www.whitehouse.gov/briefing-room/statements-releases/\" rel=\"category tag\">Statements and Releases</a></span> </div>\n",
      "</article>\n",
      "<article class=\"news-item qpost-15427\">\n",
      "<h2 class=\"news-item__title-container\">\n",
      "<a class=\"news-item__title acctext--con\" href=\"https://www.whitehouse.gov/briefing-room/statements-releases/2021/04/24/statement-by-president-joe-biden-on-armenian-remembrance-day/\">\n",
      "\t\t\t\tStatement by President Joe Biden on Armenian <span class=\"dewidow\">Remembrance Day</span> </a>\n",
      "</h2>\n",
      "<div class=\"news-item__meta shared-meta\">\n",
      "<time class=\"posted-on entry-date published updated\">April 24, 2021</time> <span class=\"separator\">•</span>\n",
      "<span class=\"tax-links cat-links\"><a href=\"https://www.whitehouse.gov/briefing-room/statements-releases/\" rel=\"category tag\">Statements and Releases</a></span> </div>\n",
      "</article>\n",
      "<article class=\"news-item qpost-15421\">\n",
      "<h2 class=\"news-item__title-container\">\n",
      "<a class=\"news-item__title acctext--con\" href=\"https://www.whitehouse.gov/briefing-room/speeches-remarks/2021/04/23/press-briefing-by-press-secretary-jen-psaki-and-secretary-of-the-interior-deb-haaland-april-23-2021/\">\n",
      "\t\t\t\tPress Briefing by Press Secretary Jen Psaki and Secretary of the Interior Deb Haaland, April <span class=\"dewidow\">23, 2021</span> </a>\n",
      "</h2>\n",
      "<div class=\"news-item__meta shared-meta\">\n",
      "<time class=\"posted-on entry-date published updated\">April 23, 2021</time> <span class=\"separator\">•</span>\n",
      "<span class=\"tax-links cat-links\"><a href=\"https://www.whitehouse.gov/briefing-room/speeches-remarks/\" rel=\"category tag\">Speeches and Remarks</a></span> </div>\n",
      "</article>\n",
      "<article class=\"news-item qpost-15415\">\n",
      "<h2 class=\"news-item__title-container\">\n",
      "<a class=\"news-item__title acctext--con\" href=\"https://www.whitehouse.gov/briefing-room/statements-releases/2021/04/23/readout-of-the-biden-harris-administrations-first-meeting-of-the-white-house-council-on-native-american-affairs/\">\n",
      "\t\t\t\tReadout of the Biden-Harris Administration’s First Meeting of the White House Council on Native <span class=\"dewidow\">American Affairs</span> </a>\n",
      "</h2>\n",
      "<div class=\"news-item__meta shared-meta\">\n",
      "<time class=\"posted-on entry-date published updated\">April 23, 2021</time> <span class=\"separator\">•</span>\n",
      "<span class=\"tax-links cat-links\"><a href=\"https://www.whitehouse.gov/briefing-room/statements-releases/\" rel=\"category tag\">Statements and Releases</a></span> </div>\n",
      "</article>\n",
      "<article class=\"news-item qpost-15409\">\n",
      "<h2 class=\"news-item__title-container\">\n",
      "<a class=\"news-item__title acctext--con\" href=\"https://www.whitehouse.gov/briefing-room/statements-releases/2021/04/23/president-joseph-r-biden-jr-approves-kentucky-disaster-declaration-2/\">\n",
      "\t\t\t\tPresident Joseph R. Biden, Jr. Approves Kentucky <span class=\"dewidow\">Disaster Declaration</span> </a>\n",
      "</h2>\n",
      "<div class=\"news-item__meta shared-meta\">\n",
      "<time class=\"posted-on entry-date published updated\">April 23, 2021</time> <span class=\"separator\">•</span>\n",
      "<span class=\"tax-links cat-links\"><a href=\"https://www.whitehouse.gov/briefing-room/statements-releases/\" rel=\"category tag\">Statements and Releases</a></span> </div>\n",
      "</article>\n",
      "<article class=\"news-item qpost-15399\">\n",
      "<h2 class=\"news-item__title-container\">\n",
      "<a class=\"news-item__title acctext--con\" href=\"https://www.whitehouse.gov/briefing-room/legislation/2021/04/23/bills-signed-s-164-s-415-s-422-s-578/\">\n",
      "\t\t\t\tBills Signed: S. 164, S. 415, S. 422, <span class=\"dewidow\">S. 578</span> </a>\n",
      "</h2>\n",
      "<div class=\"news-item__meta shared-meta\">\n",
      "<time class=\"posted-on entry-date published updated\">April 23, 2021</time> <span class=\"separator\">•</span>\n",
      "<span class=\"tax-links cat-links\"><a href=\"https://www.whitehouse.gov/briefing-room/legislation/\" rel=\"category tag\">Legislation</a></span> </div>\n",
      "</article>\n",
      "<article class=\"news-item qpost-15389\">\n",
      "<h2 class=\"news-item__title-container\">\n",
      "<a class=\"news-item__title acctext--con\" href=\"https://www.whitehouse.gov/briefing-room/presidential-actions/2021/04/23/a-proclamation-on-world-intellectual-property-day-2021/\">\n",
      "\t\t\t\tA Proclamation on World Intellectual Property <span class=\"dewidow\">Day, 2021</span> </a>\n",
      "</h2>\n",
      "<div class=\"news-item__meta shared-meta\">\n",
      "<time class=\"posted-on entry-date published updated\">April 23, 2021</time> <span class=\"separator\">•</span>\n",
      "<span class=\"tax-links cat-links\"><a href=\"https://www.whitehouse.gov/briefing-room/presidential-actions/\" rel=\"category tag\">Presidential Actions</a></span> </div>\n",
      "</article>\n",
      "<article class=\"news-item qpost-15371\">\n",
      "<h2 class=\"news-item__title-container\">\n",
      "<a class=\"news-item__title acctext--con\" href=\"https://www.whitehouse.gov/briefing-room/statements-releases/2021/04/23/president-biden-announces-key-administration-nominations-in-national-security/\">\n",
      "\t\t\t\tPresident Biden Announces Key Administration Nominations in <span class=\"dewidow\">National Security</span> </a>\n",
      "</h2>\n",
      "<div class=\"news-item__meta shared-meta\">\n",
      "<time class=\"posted-on entry-date published updated\">April 23, 2021</time> <span class=\"separator\">•</span>\n",
      "<span class=\"tax-links cat-links\"><a href=\"https://www.whitehouse.gov/briefing-room/statements-releases/\" rel=\"category tag\">Statements and Releases</a></span> </div>\n",
      "</article>\n",
      "<article class=\"news-item qpost-15375\">\n",
      "<h2 class=\"news-item__title-container\">\n",
      "<a class=\"news-item__title acctext--con\" href=\"https://www.whitehouse.gov/briefing-room/statements-releases/2021/04/23/president-biden-announces-six-key-administration-nominations/\">\n",
      "\t\t\t\tPresident Biden Announces Six Key <span class=\"dewidow\">Administration Nominations</span> </a>\n",
      "</h2>\n",
      "<div class=\"news-item__meta shared-meta\">\n",
      "<time class=\"posted-on entry-date published updated\">April 23, 2021</time> <span class=\"separator\">•</span>\n",
      "<span class=\"tax-links cat-links\"><a href=\"https://www.whitehouse.gov/briefing-room/statements-releases/\" rel=\"category tag\">Statements and Releases</a></span> </div>\n",
      "</article>\n",
      "</div>\n",
      "</div>\n",
      "<div class=\"row justify-content-center\">\n",
      "<ul class=\"page-numbers\">\n",
      "<li><span class=\"page-numbers current\"><span class=\"screen-reader-text\">Page </span>1</span></li>\n",
      "<li><a class=\"page-numbers\" href=\"https://www.whitehouse.gov/briefing-room/page/2/\"><span class=\"screen-reader-text\">Page </span>2</a></li>\n",
      "<li><a class=\"page-numbers\" href=\"https://www.whitehouse.gov/briefing-room/page/3/\"><span class=\"screen-reader-text\">Page </span>3</a></li>\n",
      "<li><a class=\"page-numbers\" href=\"https://www.whitehouse.gov/briefing-room/page/4/\"><span class=\"screen-reader-text\">Page </span>4</a></li>\n",
      "<li><span class=\"page-numbers dots\">…</span></li>\n",
      "<li><a class=\"page-numbers\" href=\"https://www.whitehouse.gov/briefing-room/page/72/\"><span class=\"screen-reader-text\">Page </span>72</a></li>\n",
      "</ul>\n",
      "</div>\n",
      "</div><!-- container -->\n",
      "</div>\n",
      "</section>\n",
      "<section class=\"bottomcta\">\n",
      "<div class=\"container\">\n",
      "<div class=\"row\">\n",
      "<div class=\"bottomcta-wrapper\">\n",
      "<div class=\"bottom-cta-logo\">\n",
      "<img class=\"svgloader\" onload=\"var c=this;!window.fetch?window.llItems.push(c):fetch(c.currentSrc||c.src).then(function(x){return x.text();}).then(function(svgText){c.outerHTML = svgText;});\" src=\"https://www.whitehouse.gov/wp-content/themes/whitehouse/assets/img/bottomcta-logo.svg\"/> </div>\n",
      "<div class=\"col-xs-2 col-md-8 bottomcta__form\">\n",
      "<div class=\"bottomcta__form__inner\">\n",
      "<div class=\"bottomcta__form__inner__wrapper\">\n",
      "<div id=\"mc_embed_signup\">\n",
      "<h2 class=\"h4alt form-headline\">Stay Connected</h2>\n",
      "<form action=\"https://forms.whitehouse.gov/newsletters/subscribe46\" id=\"mc_embed_signup_form\" method=\"POST\" name=\"mc-embed-signup-form\" target=\"_blank\">\n",
      "<fieldset>\n",
      "<div class=\"mc-field-group email\">\n",
      "<label for=\"mce-EMAIL\">Email Address<span class=\"asterisk\">*</span></label>\n",
      "<input class=\"required email\" id=\"mce-EMAIL\" name=\"EMAIL\" placeholder=\"example@website.com\" required=\"\" type=\"email\" value=\"\"/>\n",
      "</div>\n",
      "<div class=\"mc-field-group zip\">\n",
      "<label for=\"mce-ZIPCODE\">ZIP Code</label>\n",
      "<input class=\"\" id=\"mce-ZIPCODE\" name=\"ZIPCODE\" placeholder=\"ZIP Code\" required=\"\" type=\"text\" value=\"\"/>\n",
      "</div>\n",
      "<!-- real people should not fill this in and expect good things - do not remove this or risk form bot signups-->\n",
      "<div aria-hidden=\"true\" style=\"position: absolute; left: -5000px;\"><input name=\"b_4da4828d48b4efa4fc1138955_8cafb01033\" tabindex=\"-1\" type=\"text\" value=\"\"/></div>\n",
      "<div style=\"display: none\">\n",
      "<input name=\"SIGNUP\" type=\"hidden\" value=\"\"/>\n",
      "<input name=\"SIGNUP_SRC\" type=\"hidden\" value=\"\"/>\n",
      "<input name=\"LANGUAGE\" type=\"hidden\" value=\"en\"/>\n",
      "</div>\n",
      "<div class=\"clear submit-wrapper\"><input class=\"button\" id=\"mc-embedded-subscribe\" name=\"subscribe\" type=\"submit\" value=\"Sign Up\"/></div>\n",
      "</fieldset>\n",
      "<div class=\"success-message deck--md\">\n",
      "<p>We'll be in touch with the latest information on how President Biden and his administration are working for the American people, as well as ways you can get involved and help our country build back better.</p>\n",
      "</div>\n",
      "</form>\n",
      "</div>\n",
      "</div>\n",
      "</div>\n",
      "</div>\n",
      "</div>\n",
      "</div>\n",
      "</div>\n",
      "</section>\n",
      "</main><!-- .site-main -->\n",
      "<footer class=\"social-hide site-footer body-copy\" data-js-social-hide=\"\" id=\"colophon\">\n",
      "<div class=\"seal-icon-wrapper\">\n",
      "<img class=\"svgloader\" onload=\"var c=this;!window.fetch?window.llItems.push(c):fetch(c.currentSrc||c.src).then(function(x){return x.text();}).then(function(svgText){c.outerHTML = svgText;});\" src=\"https://www.whitehouse.gov/wp-content/themes/whitehouse/assets/img/footer-seal.svg\"/> </div>\n",
      "<div class=\"container\">\n",
      "<div class=\"row\">\n",
      "<div class=\"footer-wrapper\">\n",
      "<section class=\"justify-content-center footer-navigation-section primary-footer-navigation\" id=\"primary-footer-menu-section\">\n",
      "<nav aria-label=\"Primary Footer Navigation\" class=\"primary col col-xs-12 col-md-12 col-lg-10\">\n",
      "<ul class=\"menu\" id=\"primary-navigation-footer\"><li class=\"menu-item menu-item-type-custom menu-item-object-custom menu-item-home menu-item-91 col navlink top-level-menu-item\" id=\"menu-item-91\"><a href=\"https://www.whitehouse.gov/\">Home</a></li>\n",
      "<li class=\"menu-item menu-item-type-post_type menu-item-object-page menu-item-98 col navlink top-level-menu-item\" id=\"menu-item-98\"><a href=\"https://www.whitehouse.gov/administration/\">The Administration</a></li>\n",
      "<li class=\"menu-item menu-item-type-post_type menu-item-object-page menu-item-2215 col navlink top-level-menu-item\" id=\"menu-item-2215\"><a href=\"https://www.whitehouse.gov/administration/executive-office-of-the-president/\">Executive Offices</a></li>\n",
      "<li class=\"menu-item menu-item-type-post_type menu-item-object-page menu-item-93 col navlink top-level-menu-item\" id=\"menu-item-93\"><a href=\"https://www.whitehouse.gov/priorities/\">Priorities</a></li>\n",
      "<li class=\"menu-item menu-item-type-post_type menu-item-object-page current-menu-item page_item page-item-55 current_page_item current_page_parent menu-item-2785 col navlink top-level-menu-item\" id=\"menu-item-2785\"><a aria-current=\"page\" href=\"https://www.whitehouse.gov/briefing-room/\">Briefing Room</a></li>\n",
      "<li class=\"menu-item menu-item-type-post_type menu-item-object-page menu-item-92 col navlink top-level-menu-item\" id=\"menu-item-92\"><a href=\"https://www.whitehouse.gov/about-the-white-house/\">The White House</a></li>\n",
      "<li class=\"menu-item menu-item-type-post_type menu-item-object-page menu-item-96 col navlink top-level-menu-item\" id=\"menu-item-96\"><a href=\"https://www.whitehouse.gov/get-involved/\">Get Involved</a></li>\n",
      "<li class=\"site-id-2 mlp-language-nav-item menu-item menu-item-type-mlp_language menu-item-object-mlp_language menu-item-1801 col navlink top-level-menu-item\" id=\"menu-item-1801\"><a href=\"https://www.whitehouse.gov/es/prensa/\" lang=\"es-US\" rel=\"alternate\">Español</a></li>\n",
      "</ul> </nav><!-- .primary -->\n",
      "</section><!-- #primary-footer-menu-section -->\n",
      "<div class=\"footer-right\">\n",
      "<section class=\"justify-content-center footer-navigation-section secondary-footer-navigation\">\n",
      "<nav aria-label=\"Secondary Footer Navigation\" class=\"footer-secondary col-xs-12 col-md-12 col-lg-10\">\n",
      "<ul class=\"menu\" id=\"footer-secondary\"><li class=\"menu-item menu-item-type-post_type menu-item-object-page menu-item-109 col small-text top-level-menu-item\"><a href=\"https://www.whitehouse.gov/contact/\">Contact Us</a></li>\n",
      "<li class=\"menu-item menu-item-type-post_type menu-item-object-page menu-item-1791 col small-text top-level-menu-item\"><a href=\"https://www.whitehouse.gov/privacy/\">Privacy Policy</a></li>\n",
      "<li class=\"menu-item menu-item-type-post_type menu-item-object-page menu-item-699 col small-text top-level-menu-item\"><a href=\"https://www.whitehouse.gov/copyright/\">Copyright Policy</a></li>\n",
      "<li class=\"menu-item menu-item-type-post_type menu-item-object-page menu-item-107 col small-text top-level-menu-item\"><a href=\"https://www.whitehouse.gov/accessibility/\">Accessibility Statement</a></li>\n",
      "<li class=\"menu-item menu-item-type-post_type menu-item-object-page menu-item-7953 col small-text top-level-menu-item\"><a href=\"https://www.whitehouse.gov/disclosures/financial-disclosures/\">Financial Disclosures</a></li>\n",
      "</ul> </nav><!-- .footer-secondary -->\n",
      "</section>\n",
      "<div class=\"social-and-address\">\n",
      "<div class=\"footer__social\">\n",
      "<nav aria-label=\"Social Navigation\" class=\"col-xs-12\">\n",
      "<ul class=\"social-simple\" id=\"footer-social-navigation\"><li class=\"menu-item menu-item-type-custom menu-item-object-custom menu-item-87 col-auto top-level-menu-item\"><a class=\"external-link\" href=\"https://www.instagram.com/whitehouse/\" rel=\"noopener noreferrer\" target=\"_blank\"><svg aria-hidden=\"true\" tabindex=\"-1\" viewbox=\"0 0 21 20\" xmlns=\"http://www.w3.org/2000/svg\"><path d=\"M6.928 6.27c.974-.974 2.148-1.461 3.523-1.461s2.535.487 3.48 1.46c.975.946 1.462 2.106 1.462 3.481s-.487 2.55-1.461 3.523c-.946.946-2.106 1.418-3.48 1.418-1.376 0-2.55-.472-3.524-1.418C5.982 12.3 5.51 11.125 5.51 9.75s.472-2.535 1.418-3.48zm1.246 5.757c.63.63 1.39.946 2.277.946.888 0 1.647-.315 2.277-.946.63-.63.946-1.389.946-2.277 0-.888-.315-1.647-.945-2.277a3.104 3.104 0 00-2.278-.946c-.888 0-1.647.315-2.277.946-.63.63-.945 1.389-.945 2.277 0 .888.315 1.647.945 2.277zM16.38 3.82c.229.2.344.459.344.774s-.115.587-.344.816a.981.981 0 01-.774.344c-.315 0-.587-.115-.816-.344a1.115 1.115 0 01-.344-.816.98.98 0 01.344-.774c.23-.229.501-.343.816-.343.316 0 .573.114.774.343zm3.652 1.977c.029.773.043 2.091.043 3.953 0 1.862-.014 3.18-.043 3.953-.086 1.748-.616 3.108-1.59 4.082-.945.945-2.291 1.447-4.039 1.504-.773.057-2.09.086-3.953.086-1.862 0-3.18-.029-3.953-.086-1.747-.086-3.094-.602-4.039-1.547a4.148 4.148 0 01-.902-1.203 7.057 7.057 0 01-.516-1.332 7.744 7.744 0 01-.129-1.504C.855 12.93.826 11.612.826 9.75c0-1.862.029-3.194.086-3.996.086-1.719.602-3.05 1.547-3.996C3.404.784 4.751.254 6.499.168 7.27.139 8.588.125 10.45.125s3.18.014 3.953.043c1.748.086 3.094.616 4.04 1.59.973.945 1.503 2.291 1.59 4.039zm-2.062 9.625c.086-.23.157-.516.215-.86.057-.372.1-.802.128-1.289.03-.515.043-.93.043-1.246v-1.332-.945-.945-1.332c0-.315-.014-.716-.043-1.203a12.168 12.168 0 00-.128-1.29 4.652 4.652 0 00-.215-.902c-.344-.888-.96-1.504-1.848-1.848a4.654 4.654 0 00-.902-.214c-.344-.058-.774-.1-1.29-.13a21.227 21.227 0 00-1.202-.042H8.174c-.315 0-.73.014-1.246.043-.487.028-.917.071-1.29.129a4.68 4.68 0 00-.859.214c-.888.344-1.504.96-1.847 1.848-.086.23-.158.53-.215.902-.057.344-.1.774-.13 1.29a21.23 21.23 0 00-.042 1.203v5.155c.029.43.057.803.086 1.118a11.384 11.384 0 00.3 1.676c.373.888.989 1.504 1.848 1.848.23.085.516.157.86.214.372.058.802.1 1.289.13.515.028.916.042 1.203.042h4.597c.316 0 .717-.014 1.204-.043.515-.028.945-.071 1.289-.129a4.65 4.65 0 00.902-.215c.888-.372 1.504-.988 1.848-1.847z\"></path></svg><span class=\"screen-reader-text\">Instagram<span class=\"screen-reader-text\">Opens in a new window</span></span></a></li>\n",
      "<li class=\"menu-item menu-item-type-custom menu-item-object-custom menu-item-88 col-auto top-level-menu-item\"><a class=\"external-link\" href=\"https://www.facebook.com/WhiteHouse/\" rel=\"noopener noreferrer\" target=\"_blank\"><svg aria-hidden=\"true\" tabindex=\"-1\" viewbox=\"0 0 11 19\" xmlns=\"http://www.w3.org/2000/svg\"><path d=\"M9.722 10.375H7.086v7.875H3.57v-7.875H.722v-3.27H3.57v-2.46c0-.938.176-1.735.527-2.391A3.454 3.454 0 015.574.777C6.23.426 6.98.25 7.824.25c.375 0 .773.023 1.195.07.422.024.75.059.985.106l.351.035v2.777H8.95c-.656 0-1.137.176-1.441.528-.282.328-.422.738-.422 1.23v2.11h3.129l-.493 3.269z\"></path></svg><span class=\"screen-reader-text\">Facebook<span class=\"screen-reader-text\">Opens in a new window</span></span></a></li>\n",
      "<li class=\"menu-item menu-item-type-custom menu-item-object-custom menu-item-89 col-auto top-level-menu-item\"><a class=\"external-link\" href=\"https://twitter.com/whitehouse\" rel=\"noopener noreferrer\" target=\"_blank\"><svg aria-hidden=\"true\" tabindex=\"-1\" viewbox=\"0 0 1792 1792\" xmlns=\"http://www.w3.org/2000/svg\"><path d=\"M1684 408q-67 98-162 167 1 14 1 42 0 130-38 259.5T1369.5 1125 1185 1335.5t-258 146-323 54.5q-271 0-496-145 35 4 78 4 225 0 401-138-105-2-188-64.5T285 1033q33 5 61 5 43 0 85-11-112-23-185.5-111.5T172 710v-4q68 38 146 41-66-44-105-115t-39-154q0-88 44-163 121 149 294.5 238.5T884 653q-8-38-8-74 0-134 94.5-228.5T1199 256q140 0 236 102 109-21 205-78-37 115-142 178 93-10 186-50z\"></path></svg><span class=\"screen-reader-text\">Twitter<span class=\"screen-reader-text\">Opens in a new window</span></span></a></li>\n",
      "<li class=\"menu-item menu-item-type-custom menu-item-object-custom menu-item-90 col-auto top-level-menu-item\"><a class=\"external-link\" href=\"https://www.youtube.com/user/whitehouse\" rel=\"noopener noreferrer\" target=\"_blank\"><svg aria-hidden=\"true\" fill=\"none\" tabindex=\"-1\" viewbox=\"0 0 18 12\" xmlns=\"http://www.w3.org/2000/svg\"><path d=\"M17.156 1.906a2.126 2.126 0 00-1.5-1.531C14.312 0 9 0 9 0S3.656 0 2.312.375a2.126 2.126 0 00-1.5 1.531C.438 3.22.438 6.031.438 6.031s0 2.782.376 4.125c.187.75.78 1.313 1.5 1.5C3.655 12 9 12 9 12s5.313 0 6.656-.344a2.084 2.084 0 001.5-1.5c.375-1.344.375-4.125.375-4.125s0-2.812-.375-4.125zM7.25 8.563V3.5l4.438 2.531L7.25 8.563z\"></path></svg><span class=\"screen-reader-text\">YouTube<span class=\"screen-reader-text\">Opens in a new window</span></span></a></li>\n",
      "</ul> </nav><!-- social -->\n",
      "</div><!-- .footer__social -->\n",
      "<p class=\"address\">\n",
      "<strong>The White House</strong><br/>\n",
      "\t\t\t\t\t\t\t\t1600 Pennsylvania Ave NW<br/>\n",
      "\t\t\t\t\t\t\t\tWashington, DC 20500\n",
      "\t\t\t\t\t\t\t</p><!-- .address -->\n",
      "<a class=\"wh-logo-link\" href=\"https://www.whitehouse.gov/\" rel=\"home\"><span class=\"screen-reader-text\">WH.gov</span>\n",
      "<svg id=\"wh-gov-6086b7c8e8da6\" style=\"enable-background:new 0 0 1231 180;\" version=\"1.1\" viewbox=\"0 0 1231 180\" x=\"0px\" xml:space=\"preserve\" xmlns=\"http://www.w3.org/2000/svg\" xmlns:xlink=\"http://www.w3.org/1999/xlink\" y=\"0px\">\n",
      "<g>\n",
      "<g class=\"st0\">\n",
      "<path d=\"M200.9,126h1.5l30-102.8l-18.7-9V4.5h60.7v9.7l-21.7,10.5L200.9,177h-22.5l-39-113.3H138L94.5,177H72L23.2,21.8L0,14.3\n",
      "\t\t\tV4.5h86.2v9l-20.2,6l30,107.3h0.7l33.7-90l-6-15.8l-18-7.5v-9h80.2v9l-20.2,6.8L200.9,126z\"></path>\n",
      "<path d=\"M446.1,21l-22.5-6V4.5h88.5V15l-25.5,6v138.8l25.5,6v9.8h-88.5v-9.8l22.5-6V96h-72v63.8l22.5,6v9.8h-88.5v-9.8l25.5-6V21\n",
      "\t\t\tl-25.5-6V4.5h89.2V15l-22.5,6v57.8h72V21H446.1z\"></path>\n",
      "<path d=\"M577.3,180c-9.7,0-17.2-7.5-17.2-17.2c0-9,7.5-17.2,17.2-17.2c9.7,0,17.2,7.5,17.2,17.2C594.5,171.7,587,180,577.3,180z\"></path>\n",
      "<path d=\"M770.7,57.8c-16.5-31.5-32.2-45-56.2-45c-27.7,0-51.7,24.8-51.7,74.2c0,51,24.7,77.2,60.7,77.2c13.5,0,22.5-3.8,32.2-9\n",
      "\t\t\tv-43.5l-25.5-6V96h74.2v9.8l-22.5,6v66l-8.2,1.5l-13.5-13.5c-13.5,8.2-27,13.5-47.2,13.5c-46.5,0-83.2-33-83.2-86.2\n",
      "\t\t\tc0-51.8,38.2-92.2,89.2-92.2c16.5,0,30,3.8,40.5,9l8.2-9.8h9l1.5,57L770.7,57.8z\"></path>\n",
      "<path d=\"M931.9,179.3c-54,0-83.2-41.2-83.2-89.3c0-48,33-89.2,84.7-89.2c54,0,83.2,41.2,83.2,89.2\n",
      "\t\t\tC1016.6,138.8,982.9,179.3,931.9,179.3z M929.7,12c-24.7,0-49.5,18-49.5,78c0,60,28.5,78,55.5,78c24.7,0,49.5-24.8,49.5-78\n",
      "\t\t\tC985.2,36.8,956.7,12,929.7,12z\"></path>\n",
      "<path d=\"M1146.3,177h-13.5l-60.7-155.3l-24.7-6.8V4.5h81v9.7l-26.2,6l45,121.5l45-119.3l-20.2-7.5V4.5h59.2v9.7l-22.5,7.5\n",
      "\t\t\tL1146.3,177z\"></path>\n",
      "</g>\n",
      "</g>\n",
      "</svg>\n",
      "</a>\n",
      "</div>\n",
      "</div><!-- .footer-right -->\n",
      "</div><!-- .footer-wrapper -->\n",
      "</div><!-- .row -->\n",
      "</div><!-- .container -->\n",
      "</footer><!-- #colophon -->\n",
      "</div><!-- #page -->\n",
      "<div class=\"scroll-to-top\">\n",
      "<a class=\"scroll-read-more\" href=\"#content\">\n",
      "<div class=\"scroll-to-top__inner\">\n",
      "<span class=\"screen-reader-text\">Scroll to Top</span>\n",
      "<svg aria-hidden=\"true\" class=\"arrow-right-svg\" fill=\"none\" focusable=\"false\" role=\"presentation\" viewbox=\"0 0 28 12\" xmlns=\"http://www.w3.org/2000/svg\">\n",
      "<path d=\"M28 5.6L14 0L16.4606 5.00606H0V6.27879H16.4606L14 11.2849C13.9152 11.2849 28 5.6 28 5.6Z\" fill=\"currentColor\"></path>\n",
      "</svg>\n",
      "</div>\n",
      "<span class=\"small-text scroll-to-top__dirtext\">Top</span>\n",
      "</a>\n",
      "</div>\n",
      "<script defer=\"\" id=\"vendors_js_defer-js\" src=\"https://www.whitehouse.gov/wp-content/themes/whitehouse/assets/js/vendors.min.js?ver=b8e2738.1619032045\" type=\"text/javascript\"></script>\n",
      "<script id=\"theme_js_defer-js-extra\" type=\"text/javascript\">\n",
      "/* <![CDATA[ */\n",
      "var emailSignupL10n = {\"fakeOrInvalid\":\"This email address looks fake or invalid. Please enter a real email address.\",\"tooManySignups\":\"Email address has too many recent signup requests.\",\"defaultError\":\"There was an error processing your email.\"};\n",
      "/* ]]> */\n",
      "</script>\n",
      "<script defer=\"\" id=\"theme_js_defer-js\" src=\"https://www.whitehouse.gov/wp-content/themes/whitehouse/assets/js/master.min.js?ver=b8e2738.1619032045\" type=\"text/javascript\"></script>\n",
      "<script type=\"text/javascript\">window.NREUM||(NREUM={});NREUM.info={\"beacon\":\"bam-cell.nr-data.net\",\"licenseKey\":\"9360826e15\",\"applicationID\":\"825650222,484304241,484396381\",\"transactionName\":\"MVNbZhQFXEAEVBBfWQgZbEAPS1tdAVIcGEYORg==\",\"queueTime\":0,\"applicationTime\":396,\"atts\":\"HRRMEFwfTx9HVkYMTRtL\",\"errorBeacon\":\"bam-cell.nr-data.net\",\"agent\":\"\"}</script></body>\n",
      "</html>\n",
      "\n"
     ]
    }
   ],
   "source": [
    "soup = BeautifulSoup(src,'lxml') #or use lxml\n",
    "print(soup)"
   ]
  },
  {
   "cell_type": "code",
   "execution_count": 227,
   "metadata": {},
   "outputs": [
    {
     "name": "stdout",
     "output_type": "stream",
     "text": [
      "[None, <a class=\"news-item__title acctext--con\" href=\"https://www.whitehouse.gov/briefing-room/statements-releases/2021/04/25/statement-by-nsc-spokesperson-emily-horne-on-national-security-advisor-jake-sullivans-call-with-national-security-advisor-ajit-doval-of-india/\">\n",
      "\t\t\t\tStatement by NSC Spokesperson Emily Horne on National Security Advisor Jake Sullivan’s Call with National Security Advisor Ajit Doval <span class=\"dewidow\">of India</span> </a>, <a class=\"news-item__title acctext--con\" href=\"https://www.whitehouse.gov/briefing-room/statements-releases/2021/04/25/statement-by-national-security-advisor-jake-sullivan-on-the-fire-at-ibn-al-khatib-hospital-in-baghdad/\">\n",
      "\t\t\t\tStatement by National Security Advisor Jake Sullivan on the Fire at Ibn al-Khatib Hospital <span class=\"dewidow\">in Baghdad</span> </a>, <a class=\"news-item__title acctext--con\" href=\"https://www.whitehouse.gov/briefing-room/statements-releases/2021/04/24/statement-by-president-joe-biden-on-armenian-remembrance-day/\">\n",
      "\t\t\t\tStatement by President Joe Biden on Armenian <span class=\"dewidow\">Remembrance Day</span> </a>, <a class=\"news-item__title acctext--con\" href=\"https://www.whitehouse.gov/briefing-room/speeches-remarks/2021/04/23/press-briefing-by-press-secretary-jen-psaki-and-secretary-of-the-interior-deb-haaland-april-23-2021/\">\n",
      "\t\t\t\tPress Briefing by Press Secretary Jen Psaki and Secretary of the Interior Deb Haaland, April <span class=\"dewidow\">23, 2021</span> </a>, <a class=\"news-item__title acctext--con\" href=\"https://www.whitehouse.gov/briefing-room/statements-releases/2021/04/23/readout-of-the-biden-harris-administrations-first-meeting-of-the-white-house-council-on-native-american-affairs/\">\n",
      "\t\t\t\tReadout of the Biden-Harris Administration’s First Meeting of the White House Council on Native <span class=\"dewidow\">American Affairs</span> </a>, <a class=\"news-item__title acctext--con\" href=\"https://www.whitehouse.gov/briefing-room/statements-releases/2021/04/23/president-joseph-r-biden-jr-approves-kentucky-disaster-declaration-2/\">\n",
      "\t\t\t\tPresident Joseph R. Biden, Jr. Approves Kentucky <span class=\"dewidow\">Disaster Declaration</span> </a>, <a class=\"news-item__title acctext--con\" href=\"https://www.whitehouse.gov/briefing-room/legislation/2021/04/23/bills-signed-s-164-s-415-s-422-s-578/\">\n",
      "\t\t\t\tBills Signed: S. 164, S. 415, S. 422, <span class=\"dewidow\">S. 578</span> </a>, <a class=\"news-item__title acctext--con\" href=\"https://www.whitehouse.gov/briefing-room/presidential-actions/2021/04/23/a-proclamation-on-world-intellectual-property-day-2021/\">\n",
      "\t\t\t\tA Proclamation on World Intellectual Property <span class=\"dewidow\">Day, 2021</span> </a>, <a class=\"news-item__title acctext--con\" href=\"https://www.whitehouse.gov/briefing-room/statements-releases/2021/04/23/president-biden-announces-key-administration-nominations-in-national-security/\">\n",
      "\t\t\t\tPresident Biden Announces Key Administration Nominations in <span class=\"dewidow\">National Security</span> </a>, <a class=\"news-item__title acctext--con\" href=\"https://www.whitehouse.gov/briefing-room/statements-releases/2021/04/23/president-biden-announces-six-key-administration-nominations/\">\n",
      "\t\t\t\tPresident Biden Announces Six Key <span class=\"dewidow\">Administration Nominations</span> </a>, None]\n"
     ]
    }
   ],
   "source": [
    "urls = []\n",
    "\n",
    "for h2_tag in soup.find_all(\"h2\"):\n",
    "    a_tag = h2_tag.find(\"a\")\n",
    "    urls.append(a_tag)\n",
    "    \n",
    "print(urls)"
   ]
  },
  {
   "cell_type": "code",
   "execution_count": 228,
   "metadata": {},
   "outputs": [],
   "source": [
    "html_doc = \"\"\"\n",
    "<!DOCTYPE html><html><head><title>The Dormouse's story</title></head>\n",
    "<body>\n",
    "<p class=\"title\"><b>The Dormouse's story</b></p>\n",
    "<p class=\"story\">Once upon a time there were three little sisters; their names:\n",
    "<a href=\"http://example.com/elsie\" class=\"sister\" id=\"link1\">Elsie</a>,\n",
    "<a href=\"http://example.com/lacie\" class=\"sister\" id=\"link2\">Lacie</a> and\n",
    "<a href=\"http://example.com/tillie\" class=\"sister\" id=\"link3\">Tillie</a>;\n",
    "and they lived at the bottom of a well.</p>\n",
    "<p class=\"story\">...</p>\n",
    "<b class=\"boldest\">Extremely bold</b>\n",
    "<blockquote class=\"boldest\">Extremely bold</blockquote>\n",
    "<b id=\"1\">Test 1</b>\n",
    "<b another-attribute=\"1\" id=\"verybold\">Test 2</b>\n",
    "\"\"\""
   ]
  },
  {
   "cell_type": "code",
   "execution_count": 229,
   "metadata": {},
   "outputs": [
    {
     "data": {
      "text/plain": [
       "str"
      ]
     },
     "execution_count": 229,
     "metadata": {},
     "output_type": "execute_result"
    }
   ],
   "source": [
    "type(html_doc)"
   ]
  },
  {
   "cell_type": "code",
   "execution_count": 230,
   "metadata": {},
   "outputs": [],
   "source": [
    "with open (\"index.html\", 'w') as f:\n",
    "    f.write(html_doc)"
   ]
  },
  {
   "cell_type": "code",
   "execution_count": 231,
   "metadata": {},
   "outputs": [],
   "source": [
    "soup = BeautifulSoup(html_doc,'lxml') #no '' because its a variable !"
   ]
  },
  {
   "cell_type": "code",
   "execution_count": 232,
   "metadata": {},
   "outputs": [
    {
     "name": "stdout",
     "output_type": "stream",
     "text": [
      "<!DOCTYPE html>\n",
      "<html>\n",
      " <head>\n",
      "  <title>\n",
      "   The Dormouse's story\n",
      "  </title>\n",
      " </head>\n",
      " <body>\n",
      "  <p class=\"title\">\n",
      "   <b>\n",
      "    The Dormouse's story\n",
      "   </b>\n",
      "  </p>\n",
      "  <p class=\"story\">\n",
      "   Once upon a time there were three little sisters; their names:\n",
      "   <a class=\"sister\" href=\"http://example.com/elsie\" id=\"link1\">\n",
      "    Elsie\n",
      "   </a>\n",
      "   ,\n",
      "   <a class=\"sister\" href=\"http://example.com/lacie\" id=\"link2\">\n",
      "    Lacie\n",
      "   </a>\n",
      "   and\n",
      "   <a class=\"sister\" href=\"http://example.com/tillie\" id=\"link3\">\n",
      "    Tillie\n",
      "   </a>\n",
      "   ;\n",
      "and they lived at the bottom of a well.\n",
      "  </p>\n",
      "  <p class=\"story\">\n",
      "   ...\n",
      "  </p>\n",
      "  <b class=\"boldest\">\n",
      "   Extremely bold\n",
      "  </b>\n",
      "  <blockquote class=\"boldest\">\n",
      "   Extremely bold\n",
      "  </blockquote>\n",
      "  <b id=\"1\">\n",
      "   Test 1\n",
      "  </b>\n",
      "  <b another-attribute=\"1\" id=\"verybold\">\n",
      "   Test 2\n",
      "  </b>\n",
      " </body>\n",
      "</html>\n"
     ]
    }
   ],
   "source": [
    "print(soup.prettify()) #proper"
   ]
  },
  {
   "cell_type": "code",
   "execution_count": 233,
   "metadata": {},
   "outputs": [
    {
     "name": "stdout",
     "output_type": "stream",
     "text": [
      "<!DOCTYPE html>\n",
      "<html><head><title>The Dormouse's story</title></head>\n",
      "<body>\n",
      "<p class=\"title\"><b>The Dormouse's story</b></p>\n",
      "<p class=\"story\">Once upon a time there were three little sisters; their names:\n",
      "<a class=\"sister\" href=\"http://example.com/elsie\" id=\"link1\">Elsie</a>,\n",
      "<a class=\"sister\" href=\"http://example.com/lacie\" id=\"link2\">Lacie</a> and\n",
      "<a class=\"sister\" href=\"http://example.com/tillie\" id=\"link3\">Tillie</a>;\n",
      "and they lived at the bottom of a well.</p>\n",
      "<p class=\"story\">...</p>\n",
      "<b class=\"boldest\">Extremely bold</b>\n",
      "<blockquote class=\"boldest\">Extremely bold</blockquote>\n",
      "<b id=\"1\">Test 1</b>\n",
      "<b another-attribute=\"1\" id=\"verybold\">Test 2</b>\n",
      "</body></html>\n"
     ]
    }
   ],
   "source": [
    "print(soup) #less proper"
   ]
  },
  {
   "cell_type": "code",
   "execution_count": 234,
   "metadata": {},
   "outputs": [
    {
     "name": "stdout",
     "output_type": "stream",
     "text": [
      "<b>The Dormouse's story</b>\n"
     ]
    }
   ],
   "source": [
    "print(soup.b) #first occurence"
   ]
  },
  {
   "cell_type": "code",
   "execution_count": 235,
   "metadata": {},
   "outputs": [
    {
     "name": "stdout",
     "output_type": "stream",
     "text": [
      "<p class=\"title\"><b>The Dormouse's story</b></p>\n"
     ]
    }
   ],
   "source": [
    "print(soup.p) #first occurence"
   ]
  },
  {
   "cell_type": "code",
   "execution_count": 236,
   "metadata": {},
   "outputs": [
    {
     "name": "stdout",
     "output_type": "stream",
     "text": [
      "<b>The Dormouse's story</b>\n"
     ]
    }
   ],
   "source": [
    "print(soup.find('b')) #same output"
   ]
  },
  {
   "cell_type": "code",
   "execution_count": 237,
   "metadata": {},
   "outputs": [
    {
     "name": "stdout",
     "output_type": "stream",
     "text": [
      "[<b>The Dormouse's story</b>, <b class=\"boldest\">Extremely bold</b>, <b id=\"1\">Test 1</b>, <b another-attribute=\"1\" id=\"verybold\">Test 2</b>]\n"
     ]
    }
   ],
   "source": [
    "print(soup.find_all('b')) #list with each of the elements"
   ]
  },
  {
   "cell_type": "code",
   "execution_count": 238,
   "metadata": {},
   "outputs": [
    {
     "name": "stdout",
     "output_type": "stream",
     "text": [
      "b\n"
     ]
    }
   ],
   "source": [
    "print(soup.b.name)"
   ]
  },
  {
   "cell_type": "code",
   "execution_count": 239,
   "metadata": {},
   "outputs": [
    {
     "name": "stdout",
     "output_type": "stream",
     "text": [
      "The Dormouse's story\n"
     ]
    }
   ],
   "source": [
    "print(soup.b.text)"
   ]
  },
  {
   "cell_type": "code",
   "execution_count": 240,
   "metadata": {},
   "outputs": [
    {
     "name": "stdout",
     "output_type": "stream",
     "text": [
      "<b>The Dormouse's story</b>\n"
     ]
    }
   ],
   "source": [
    "tag = soup.b\n",
    "print(tag)"
   ]
  },
  {
   "cell_type": "code",
   "execution_count": 241,
   "metadata": {},
   "outputs": [
    {
     "name": "stdout",
     "output_type": "stream",
     "text": [
      "<blockquote>The Dormouse's story</blockquote>\n"
     ]
    }
   ],
   "source": [
    "tag.name = \"blockquote\"\n",
    "print(tag)"
   ]
  },
  {
   "cell_type": "code",
   "execution_count": 242,
   "metadata": {},
   "outputs": [
    {
     "data": {
      "text/plain": [
       "<b another-attribute=\"1\" id=\"verybold\">Test 2</b>"
      ]
     },
     "execution_count": 242,
     "metadata": {},
     "output_type": "execute_result"
    }
   ],
   "source": [
    "tag = soup.find_all('b')[2]\n",
    "tag"
   ]
  },
  {
   "cell_type": "code",
   "execution_count": 243,
   "metadata": {},
   "outputs": [
    {
     "name": "stdout",
     "output_type": "stream",
     "text": [
      "verybold\n"
     ]
    }
   ],
   "source": [
    "print(tag['id'])"
   ]
  },
  {
   "cell_type": "code",
   "execution_count": 244,
   "metadata": {},
   "outputs": [
    {
     "name": "stdout",
     "output_type": "stream",
     "text": [
      "1\n"
     ]
    }
   ],
   "source": [
    "print(tag['another-attribute'])"
   ]
  },
  {
   "cell_type": "code",
   "execution_count": 245,
   "metadata": {},
   "outputs": [
    {
     "name": "stdout",
     "output_type": "stream",
     "text": [
      "{'another-attribute': '1', 'id': 'verybold'}\n"
     ]
    }
   ],
   "source": [
    "print(tag.attrs)"
   ]
  },
  {
   "cell_type": "code",
   "execution_count": 246,
   "metadata": {},
   "outputs": [
    {
     "name": "stdout",
     "output_type": "stream",
     "text": [
      "<b another-attribute=\"1\" id=\"verybold\">Test 2</b>\n",
      "<b another-attribute=\"2\" id=\"verybold\">Test 2</b>\n"
     ]
    }
   ],
   "source": [
    "print(tag)\n",
    "tag['another-attribute'] = 2\n",
    "print(tag)"
   ]
  },
  {
   "cell_type": "code",
   "execution_count": 247,
   "metadata": {},
   "outputs": [
    {
     "name": "stdout",
     "output_type": "stream",
     "text": [
      "<b another-attribute=\"2\" id=\"verybold\">Test 2</b>\n",
      "<b>Test 2</b>\n"
     ]
    }
   ],
   "source": [
    "print(tag)\n",
    "del tag['id']\n",
    "del tag['another-attribute']\n",
    "print(tag)"
   ]
  },
  {
   "cell_type": "code",
   "execution_count": 248,
   "metadata": {},
   "outputs": [
    {
     "name": "stdout",
     "output_type": "stream",
     "text": [
      "<b>Test 2</b>\n",
      "Test 2\n",
      "Test 2\n"
     ]
    }
   ],
   "source": [
    "tag = soup.find_all('b')[2]\n",
    "print(tag)\n",
    "print(tag.text)\n",
    "print(tag.string)"
   ]
  },
  {
   "cell_type": "code",
   "execution_count": 249,
   "metadata": {},
   "outputs": [
    {
     "name": "stdout",
     "output_type": "stream",
     "text": [
      "<b>This is another string</b>\n"
     ]
    }
   ],
   "source": [
    "tag.string.replace_with(\"This is another string\")\n",
    "print(tag)"
   ]
  }
 ],
 "metadata": {
  "kernelspec": {
   "display_name": "Python 3",
   "language": "python",
   "name": "python3"
  },
  "language_info": {
   "codemirror_mode": {
    "name": "ipython",
    "version": 3
   },
   "file_extension": ".py",
   "mimetype": "text/x-python",
   "name": "python",
   "nbconvert_exporter": "python",
   "pygments_lexer": "ipython3",
   "version": "3.8.5"
  }
 },
 "nbformat": 4,
 "nbformat_minor": 4
}
