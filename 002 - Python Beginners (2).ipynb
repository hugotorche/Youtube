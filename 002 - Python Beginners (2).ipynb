{
 "cells": [
  {
   "cell_type": "markdown",
   "metadata": {},
   "source": [
    "<h3> Python Tutorial for Beginners 7: Loops and Iterations - For/While Loops (10min from the Corey Schafer channel)</h3>"
   ]
  },
  {
   "cell_type": "markdown",
   "metadata": {},
   "source": [
    "Final code:"
   ]
  },
  {
   "cell_type": "code",
   "execution_count": 1,
   "metadata": {},
   "outputs": [
    {
     "name": "stdout",
     "output_type": "stream",
     "text": [
      "a 1\n",
      "b 1\n",
      "a 2\n",
      "b 2\n",
      "a 3\n",
      "b 3\n",
      "a 4\n",
      "b 4\n",
      "a 5\n",
      "b 5\n",
      "------------------\n",
      "1\n",
      "2\n",
      "Found!\n",
      "------------------\n",
      "0\n",
      "1\n",
      "2\n",
      "3\n",
      "4\n",
      "------------------\n"
     ]
    }
   ],
   "source": [
    "for i in range(1, 6):\n",
    "    for letter in 'ab':\n",
    "        print(letter, i)\n",
    "        \n",
    "print('------------------')\n",
    "\n",
    "for i in range (1,6):\n",
    "    if i == 3:\n",
    "        print('Found!')\n",
    "        break\n",
    "    print(i)\n",
    "    \n",
    "print('------------------')\n",
    "\n",
    "x = 0\n",
    "\n",
    "while True:\n",
    "    if x == 5:\n",
    "        break\n",
    "    print(x)\n",
    "    x += 1\n",
    "    \n",
    "print('------------------')"
   ]
  },
  {
   "cell_type": "markdown",
   "metadata": {},
   "source": [
    "<h3> Python Tutorial for Beginners 8: Functions (20min from the Corey Schafer channel)</h3>"
   ]
  },
  {
   "cell_type": "markdown",
   "metadata": {},
   "source": [
    "Final code:"
   ]
  },
  {
   "cell_type": "code",
   "execution_count": 28,
   "metadata": {},
   "outputs": [
    {
     "name": "stdout",
     "output_type": "stream",
     "text": [
      "HI, COREY\n",
      "------------------\n",
      "('Math', 'Art')\n",
      "{'name': 'John', 'age': 22}\n",
      "------------------\n",
      "True\n",
      "28\n"
     ]
    }
   ],
   "source": [
    "def hello_func(greeting, name = 'You'):\n",
    "    return '{}, {}'.format(greeting, name)\n",
    "\n",
    "print(hello_func('Hi', name = 'Corey').upper())\n",
    "\n",
    "print('------------------')\n",
    "\n",
    "def student_info(*args, **kwargs):\n",
    "    print(args)\n",
    "    print(kwargs)\n",
    "    \n",
    "courses = ['Math', 'Art']\n",
    "info = {'name':'John', 'age':22}\n",
    "    \n",
    "student_info(*courses, **info)\n",
    "\n",
    "print('------------------')\n",
    "\n",
    "# Number of days per month. First value placeholder for indexing purposes.\n",
    "month_days = [0, 31, 28, 31, 30, 31, 30, 31, 31, 30, 31, 30, 31]\n",
    "\n",
    "\n",
    "def is_leap(year):\n",
    "    \"\"\"Return True for leap years, False for non-leap years.\"\"\"\n",
    "\n",
    "    return year % 4 == 0 and (year % 100 != 0 or year % 400 == 0)\n",
    "\n",
    "\n",
    "def days_in_month(year, month):\n",
    "    \"\"\"Return number of days in that month in that year.\"\"\"\n",
    "\n",
    "    if not 1 <= month <= 12:\n",
    "        return 'Invalid Month'\n",
    "\n",
    "    if month == 2 and is_leap(year):\n",
    "        return 29\n",
    "\n",
    "    return month_days[month]\n",
    "\n",
    "print(is_leap(2020))\n",
    "print(days_in_month(2017, 2))"
   ]
  },
  {
   "cell_type": "markdown",
   "metadata": {},
   "source": [
    "<h3> Python Tutorial for Beginners 9: Import Modules and Exploring The Standard Library (20min from the Corey Schafer channel)</h3>"
   ]
  },
  {
   "cell_type": "markdown",
   "metadata": {},
   "source": [
    "Final code:"
   ]
  },
  {
   "cell_type": "code",
   "execution_count": 44,
   "metadata": {},
   "outputs": [
    {
     "name": "stdout",
     "output_type": "stream",
     "text": [
      "1\n",
      "Test String\n",
      "['/Users/hugotorche/Code - Youtube', '/opt/anaconda3/lib/python38.zip', '/opt/anaconda3/lib/python3.8', '/opt/anaconda3/lib/python3.8/lib-dynload', '', '/opt/anaconda3/lib/python3.8/site-packages', '/opt/anaconda3/lib/python3.8/site-packages/aeosa', '/opt/anaconda3/lib/python3.8/site-packages/IPython/extensions', '/Users/hugotorche/.ipython']\n",
      "------------------\n",
      "1.5707963267948966\n",
      "------------------\n",
      "2021-06-19\n",
      "False\n",
      "------------------\n",
      "/Users/hugotorche/Code - Youtube\n",
      "/opt/anaconda3/lib/python3.8/os.py\n"
     ]
    }
   ],
   "source": [
    "import sys\n",
    "\n",
    "#sys.path.append('/Users/hugotorche/...')\n",
    "\n",
    "from my_module import find_index, test\n",
    "\n",
    "\n",
    "courses = ['History', 'Math', 'Physics', 'CompSci']\n",
    "\n",
    "index = find_index(courses, 'Math')\n",
    "\n",
    "print(index)\n",
    "print(test)\n",
    "print(sys.path)\n",
    "\n",
    "print('------------------')\n",
    "\n",
    "import math \n",
    "\n",
    "rads = math.radians(90)\n",
    "\n",
    "print(rads)\n",
    "\n",
    "print('------------------')\n",
    "\n",
    "import datetime\n",
    "import calendar\n",
    "\n",
    "today = datetime.date.today() \n",
    "\n",
    "print(today)\n",
    "print(calendar.isleap(2019))\n",
    "\n",
    "print('------------------')\n",
    "\n",
    "import os \n",
    "\n",
    "print(os.getcwd())\n",
    "print(os.__file__)"
   ]
  }
 ],
 "metadata": {
  "kernelspec": {
   "display_name": "Python 3",
   "language": "python",
   "name": "python3"
  },
  "language_info": {
   "codemirror_mode": {
    "name": "ipython",
    "version": 3
   },
   "file_extension": ".py",
   "mimetype": "text/x-python",
   "name": "python",
   "nbconvert_exporter": "python",
   "pygments_lexer": "ipython3",
   "version": "3.8.5"
  }
 },
 "nbformat": 4,
 "nbformat_minor": 4
}
