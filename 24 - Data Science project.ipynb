{
 "cells": [
  {
   "cell_type": "markdown",
   "metadata": {},
   "source": [
    "<h3> Data Science : Analysis tutorial (50min from the Corey Schafer)</h3>\n",
    "\n"
   ]
  },
  {
   "cell_type": "markdown",
   "metadata": {},
   "source": [
    "#### Python Data Science Tutorial: Analyzing the 2019 Stack Overflow Developer Survey"
   ]
  },
  {
   "cell_type": "markdown",
   "metadata": {},
   "source": [
    "##### In this Python Programming video, we will be learning how to download and analyze real-world data from the 2019 Stack Overflow Developer Survey. This is terrific practice for anyone getting into the data science field. We will learn different ways to analyze this data and also some best practices. Let's get started..."
   ]
  },
  {
   "cell_type": "code",
   "execution_count": 82,
   "metadata": {},
   "outputs": [
    {
     "name": "stdout",
     "output_type": "stream",
     "text": [
      "{'Respondent': '1', 'MainBranch': 'I am a student who is learning to code', 'Hobbyist': 'Yes', 'OpenSourcer': 'Never', 'OpenSource': 'The quality of OSS and closed source software is about the same', 'Employment': 'Not employed, and not looking for work', 'Country': 'United Kingdom', 'Student': 'No', 'EdLevel': 'Primary/elementary school', 'UndergradMajor': 'NA', 'EduOther': 'Taught yourself a new language, framework, or tool without taking a formal course', 'OrgSize': 'NA', 'DevType': 'NA', 'YearsCode': '4', 'Age1stCode': '10', 'YearsCodePro': 'NA', 'CareerSat': 'NA', 'JobSat': 'NA', 'MgrIdiot': 'NA', 'MgrMoney': 'NA', 'MgrWant': 'NA', 'JobSeek': 'NA', 'LastHireDate': 'NA', 'LastInt': 'NA', 'FizzBuzz': 'NA', 'JobFactors': 'NA', 'ResumeUpdate': 'NA', 'CurrencySymbol': 'NA', 'CurrencyDesc': 'NA', 'CompTotal': 'NA', 'CompFreq': 'NA', 'ConvertedComp': 'NA', 'WorkWeekHrs': 'NA', 'WorkPlan': 'NA', 'WorkChallenge': 'NA', 'WorkRemote': 'NA', 'WorkLoc': 'NA', 'ImpSyn': 'NA', 'CodeRev': 'NA', 'CodeRevHrs': 'NA', 'UnitTests': 'NA', 'PurchaseHow': 'NA', 'PurchaseWhat': 'NA', 'LanguageWorkedWith': 'HTML/CSS;Java;JavaScript;Python', 'LanguageDesireNextYear': 'C;C++;C#;Go;HTML/CSS;Java;JavaScript;Python;SQL', 'DatabaseWorkedWith': 'SQLite', 'DatabaseDesireNextYear': 'MySQL', 'PlatformWorkedWith': 'MacOS;Windows', 'PlatformDesireNextYear': 'Android;Arduino;Windows', 'WebFrameWorkedWith': 'Django;Flask', 'WebFrameDesireNextYear': 'Flask;jQuery', 'MiscTechWorkedWith': 'Node.js', 'MiscTechDesireNextYear': 'Node.js', 'DevEnviron': 'IntelliJ;Notepad++;PyCharm', 'OpSys': 'Windows', 'Containers': 'I do not use containers', 'BlockchainOrg': 'NA', 'BlockchainIs': 'NA', 'BetterLife': 'Yes', 'ITperson': 'Fortunately, someone else has that title', 'OffOn': 'Yes', 'SocialMedia': 'Twitter', 'Extraversion': 'Online', 'ScreenName': 'Username', 'SOVisit1st': '2017', 'SOVisitFreq': 'A few times per month or weekly', 'SOVisitTo': 'Find answers to specific questions;Learn how to do things I didn’t necessarily look for', 'SOFindAnswer': '3-5 times per week', 'SOTimeSaved': 'Stack Overflow was much faster', 'SOHowMuchTime': '31-60 minutes', 'SOAccount': 'No', 'SOPartFreq': 'NA', 'SOJobs': \"No, I didn't know that Stack Overflow had a job board\", 'EntTeams': \"No, and I don't know what those are\", 'SOComm': 'Neutral', 'WelcomeChange': 'Just as welcome now as I felt last year', 'SONewContent': \"Tech articles written by other developers;Industry news about technologies you're interested in;Courses on technologies you're interested in\", 'Age': '14', 'Gender': 'Man', 'Trans': 'No', 'Sexuality': 'Straight / Heterosexual', 'Ethnicity': 'NA', 'Dependents': 'No', 'SurveyLength': 'Appropriate in length', 'SurveyEase': 'Neither easy nor difficult'}\n"
     ]
    }
   ],
   "source": [
    "import csv\n",
    "\n",
    "with open ('data/survey_results_public.csv') as f:\n",
    "    csv_reader = csv.DictReader(f)\n",
    "    \n",
    "    for line in csv_reader:\n",
    "        print(line)\n",
    "        break"
   ]
  },
  {
   "cell_type": "code",
   "execution_count": 83,
   "metadata": {},
   "outputs": [
    {
     "name": "stdout",
     "output_type": "stream",
     "text": [
      "Yes\n"
     ]
    }
   ],
   "source": [
    "#Look at the first question \"Hobbyist\":\n",
    "\n",
    "with open ('data/survey_results_public.csv') as f:\n",
    "    csv_reader = csv.DictReader(f)\n",
    "    \n",
    "    for line in csv_reader:\n",
    "        print(line['Hobbyist'])\n",
    "        break"
   ]
  },
  {
   "cell_type": "code",
   "execution_count": 84,
   "metadata": {},
   "outputs": [
    {
     "name": "stdout",
     "output_type": "stream",
     "text": [
      "71257\n",
      "17626\n"
     ]
    }
   ],
   "source": [
    "#First Method: use variables\n",
    "#Retrieve the numbers of Yes and No: \n",
    "\n",
    "with open ('data/survey_results_public.csv') as f:\n",
    "    csv_reader = csv.DictReader(f)\n",
    "    \n",
    "    yes_count = 0\n",
    "    no_count = 0 \n",
    "    \n",
    "    for line in csv_reader:\n",
    "        if line['Hobbyist'] == 'Yes':\n",
    "            yes_count += 1\n",
    "        elif line['Hobbyist'] == 'No':\n",
    "            no_count += 1\n",
    "\n",
    "print(yes_count)\n",
    "print(no_count)"
   ]
  },
  {
   "cell_type": "code",
   "execution_count": 85,
   "metadata": {},
   "outputs": [
    {
     "name": "stdout",
     "output_type": "stream",
     "text": [
      "0.8016943622514991\n",
      "0.19830563774850085\n"
     ]
    }
   ],
   "source": [
    "#Retrieve the % of Yes and No: \n",
    "\n",
    "total = yes_count + no_count\n",
    "\n",
    "print(yes_count/total)\n",
    "print(no_count/total)\n"
   ]
  },
  {
   "cell_type": "code",
   "execution_count": 86,
   "metadata": {},
   "outputs": [
    {
     "name": "stdout",
     "output_type": "stream",
     "text": [
      "Yes: 80.17%\n",
      "No: 19.83%\n"
     ]
    }
   ],
   "source": [
    "yes_pct = (yes_count/total) * 100\n",
    "yes_pct = round(yes_pct, 2) #To have only two decimals\n",
    "\n",
    "no_pct = (no_count/total) * 100\n",
    "no_pct = round(no_pct, 2)\n",
    "\n",
    "print(f'Yes: {yes_pct}%')\n",
    "print(f'No: {no_pct}%')"
   ]
  },
  {
   "cell_type": "code",
   "execution_count": 87,
   "metadata": {},
   "outputs": [
    {
     "name": "stdout",
     "output_type": "stream",
     "text": [
      "Yes: 80.17%\n",
      "No: 19.83%\n"
     ]
    }
   ],
   "source": [
    "#Second Method: use a dict (clean a bit the code)\n",
    "#Retrieve the numbers and % of Yes and No: \n",
    "\n",
    "with open ('data/survey_results_public.csv') as f:\n",
    "    csv_reader = csv.DictReader(f)\n",
    "    \n",
    "    counts = {\n",
    "        'Yes': 0,\n",
    "        'No': 0\n",
    "    }\n",
    "    \n",
    "    for line in csv_reader:\n",
    "        counts[line['Hobbyist']] += 1\n",
    "\n",
    "total = counts['Yes'] + counts['No']\n",
    "\n",
    "yes_pct = (counts['Yes']/total) * 100\n",
    "yes_pct = round(yes_pct, 2)\n",
    "\n",
    "no_pct = (counts['No']/total) * 100\n",
    "no_pct = round(no_pct, 2)\n",
    "\n",
    "print(f'Yes: {yes_pct}%')\n",
    "print(f'No: {no_pct}%')"
   ]
  },
  {
   "cell_type": "code",
   "execution_count": 88,
   "metadata": {},
   "outputs": [
    {
     "name": "stdout",
     "output_type": "stream",
     "text": [
      "Yes: 80.17%\n",
      "No: 19.83%\n"
     ]
    }
   ],
   "source": [
    "#Third Method: use a default dict (don't need to initialyze values)\n",
    "#Retrieve the numbers and % of Yes and No: \n",
    "\n",
    "from collections import defaultdict\n",
    "\n",
    "with open ('data/survey_results_public.csv') as f:\n",
    "    csv_reader = csv.DictReader(f)\n",
    "    \n",
    "    counts = defaultdict(int)\n",
    "    \n",
    "    for line in csv_reader:\n",
    "        counts[line['Hobbyist']] += 1\n",
    "\n",
    "total = counts['Yes'] + counts['No']\n",
    "\n",
    "yes_pct = (counts['Yes']/total) * 100\n",
    "yes_pct = round(yes_pct, 2)\n",
    "\n",
    "no_pct = (counts['No']/total) * 100\n",
    "no_pct = round(no_pct, 2)\n",
    "\n",
    "print(f'Yes: {yes_pct}%')\n",
    "print(f'No: {no_pct}%')"
   ]
  },
  {
   "cell_type": "code",
   "execution_count": 89,
   "metadata": {},
   "outputs": [
    {
     "name": "stdout",
     "output_type": "stream",
     "text": [
      "Yes: 80.17%\n",
      "No: 19.83%\n"
     ]
    }
   ],
   "source": [
    "#Fourth Method: use a counter (also clean the code and no initialization + additional features)\n",
    "#Retrieve the numbers and % of Yes and No: \n",
    "\n",
    "from collections import Counter\n",
    "\n",
    "with open ('data/survey_results_public.csv') as f:\n",
    "    csv_reader = csv.DictReader(f)\n",
    "    \n",
    "    counts = Counter()\n",
    "    \n",
    "    for line in csv_reader:\n",
    "        counts[line['Hobbyist']] += 1\n",
    "\n",
    "total = counts['Yes'] + counts['No']\n",
    "\n",
    "yes_pct = (counts['Yes']/total) * 100\n",
    "yes_pct = round(yes_pct, 2)\n",
    "\n",
    "no_pct = (counts['No']/total) * 100\n",
    "no_pct = round(no_pct, 2)\n",
    "\n",
    "print(f'Yes: {yes_pct}%')\n",
    "print(f'No: {no_pct}%')"
   ]
  },
  {
   "cell_type": "code",
   "execution_count": 90,
   "metadata": {},
   "outputs": [
    {
     "name": "stdout",
     "output_type": "stream",
     "text": [
      "HTML/CSS;Java;JavaScript;Python\n"
     ]
    }
   ],
   "source": [
    "#Look at the question \"LanguageWorkedWith\":\n",
    "\n",
    "with open ('data/survey_results_public.csv') as f:\n",
    "    csv_reader = csv.DictReader(f)\n",
    "    \n",
    "    language_counter = Counter()\n",
    "    \n",
    "    for line in csv_reader:\n",
    "        print(line['LanguageWorkedWith'])\n",
    "        break"
   ]
  },
  {
   "cell_type": "code",
   "execution_count": 91,
   "metadata": {},
   "outputs": [
    {
     "name": "stdout",
     "output_type": "stream",
     "text": [
      "['HTML/CSS', 'Java', 'JavaScript', 'Python']\n"
     ]
    }
   ],
   "source": [
    "with open ('data/survey_results_public.csv') as f:\n",
    "    csv_reader = csv.DictReader(f)\n",
    "    \n",
    "    language_counter = Counter()\n",
    "    \n",
    "    for line in csv_reader:\n",
    "        languages = line['LanguageWorkedWith'].split(';')\n",
    "        print(languages)\n",
    "        break"
   ]
  },
  {
   "cell_type": "code",
   "execution_count": 92,
   "metadata": {},
   "outputs": [
    {
     "name": "stdout",
     "output_type": "stream",
     "text": [
      "Counter({'HTML/CSS': 1, 'Java': 1, 'JavaScript': 1, 'Python': 1})\n"
     ]
    }
   ],
   "source": [
    "#Count the languages\n",
    "\n",
    "with open ('data/survey_results_public.csv') as f:\n",
    "    csv_reader = csv.DictReader(f)\n",
    "    \n",
    "    language_counter = Counter()\n",
    "    \n",
    "    for line in csv_reader:\n",
    "        languages = line['LanguageWorkedWith'].split(';')\n",
    "        \n",
    "        for language in languages:\n",
    "            language_counter[language] += 1\n",
    "            \n",
    "        print(language_counter)\n",
    "        break"
   ]
  },
  {
   "cell_type": "code",
   "execution_count": 93,
   "metadata": {},
   "outputs": [
    {
     "name": "stdout",
     "output_type": "stream",
     "text": [
      "Counter({'HTML/CSS': 1, 'Java': 1, 'JavaScript': 1, 'Python': 1})\n"
     ]
    }
   ],
   "source": [
    "#Count the languages: use the update method\n",
    "\n",
    "with open ('data/survey_results_public.csv') as f:\n",
    "    csv_reader = csv.DictReader(f)\n",
    "    \n",
    "    language_counter = Counter()\n",
    "    \n",
    "    for line in csv_reader:\n",
    "        languages = line['LanguageWorkedWith'].split(';')\n",
    "\n",
    "        language_counter.update(languages)\n",
    "            \n",
    "        print(language_counter)\n",
    "        break"
   ]
  },
  {
   "cell_type": "code",
   "execution_count": 94,
   "metadata": {},
   "outputs": [
    {
     "name": "stdout",
     "output_type": "stream",
     "text": [
      "[('JavaScript', 59219), ('HTML/CSS', 55466), ('SQL', 47544), ('Python', 36443), ('Java', 35917)]\n"
     ]
    }
   ],
   "source": [
    "#Retrieve the five most common languages used\n",
    "\n",
    "with open ('data/survey_results_public.csv') as f:\n",
    "    csv_reader = csv.DictReader(f)\n",
    "    \n",
    "    language_counter = Counter()\n",
    "    \n",
    "    for line in csv_reader:\n",
    "        languages = line['LanguageWorkedWith'].split(';')\n",
    "\n",
    "        language_counter.update(languages)\n",
    "            \n",
    "print(language_counter.most_common(5))"
   ]
  },
  {
   "cell_type": "code",
   "execution_count": 95,
   "metadata": {},
   "outputs": [
    {
     "name": "stdout",
     "output_type": "stream",
     "text": [
      "JavaScript: 66.63%\n",
      "HTML/CSS: 62.4%\n",
      "SQL: 53.49%\n",
      "Python: 41.0%\n",
      "Java: 40.41%\n"
     ]
    }
   ],
   "source": [
    "#Retrieve the % of most common languages used\n",
    "\n",
    "with open ('data/survey_results_public.csv') as f:\n",
    "    csv_reader = csv.DictReader(f)\n",
    "    total = 0\n",
    "    \n",
    "    language_counter = Counter()\n",
    "    \n",
    "    for line in csv_reader:\n",
    "        languages = line['LanguageWorkedWith'].split(';')\n",
    "\n",
    "        language_counter.update(languages)\n",
    "        \n",
    "        total += 1\n",
    "            \n",
    "for language, value in language_counter.most_common(5):\n",
    "    language_pct = (value / total) * 100\n",
    "    language_pct = round(language_pct, 2)\n",
    "    \n",
    "    print(f'{language}: {language_pct}%')"
   ]
  },
  {
   "cell_type": "code",
   "execution_count": 96,
   "metadata": {},
   "outputs": [
    {
     "name": "stdout",
     "output_type": "stream",
     "text": [
      "NA\n",
      "Developer, desktop or enterprise applications\n",
      "Developer, front-end\n",
      "Designer\n",
      "Developer, back-end\n",
      "Developer, full-stack\n",
      "Academic researcher\n",
      "Developer, mobile\n",
      "Data or business analyst\n",
      "Data scientist or machine learning specialist\n",
      "Database administrator\n",
      "Engineer, data\n",
      "Engineer, site reliability\n",
      "Developer, QA or test\n",
      "DevOps specialist\n",
      "Developer, game or graphics\n",
      "Educator\n",
      "Student\n",
      "Engineering manager\n",
      "Senior executive/VP\n",
      "System administrator\n",
      "Developer, embedded applications or devices\n",
      "Product manager\n",
      "Scientist\n",
      "Marketing or sales professional\n"
     ]
    }
   ],
   "source": [
    "#Retrieve the developper types: \n",
    "\n",
    "with open ('data/survey_results_public.csv') as f:\n",
    "    csv_reader = csv.DictReader(f)\n",
    "    \n",
    "    dev_type_info = {}\n",
    "    \n",
    "    for line in csv_reader:\n",
    "        dev_types = line['DevType'].split(';')\n",
    "        \n",
    "        for dev_type in dev_types:\n",
    "            dev_type_info[dev_type] = {}\n",
    "            \n",
    "for key in dev_type_info:\n",
    "    print(key)"
   ]
  },
  {
   "cell_type": "code",
   "execution_count": 97,
   "metadata": {},
   "outputs": [
    {
     "name": "stdout",
     "output_type": "stream",
     "text": [
      "NA\n",
      "HTML/CSS: 4.66%\n",
      "Python: 4.34%\n",
      "JavaScript: 4.3%\n",
      "Java: 3.63%\n",
      "C++: 2.97%\n",
      "Developer, desktop or enterprise applications\n",
      "JavaScript: 13.22%\n",
      "HTML/CSS: 12.58%\n",
      "SQL: 12.38%\n",
      "C#: 10.46%\n",
      "Java: 8.71%\n",
      "Developer, front-end\n",
      "JavaScript: 26.3%\n",
      "HTML/CSS: 25.07%\n",
      "SQL: 17.58%\n",
      "Java: 11.27%\n",
      "PHP: 10.78%\n",
      "Designer\n",
      "HTML/CSS: 8.15%\n",
      "JavaScript: 8.09%\n",
      "SQL: 6.22%\n",
      "PHP: 4.16%\n",
      "Java: 4.07%\n",
      "Developer, back-end\n",
      "JavaScript: 33.05%\n",
      "HTML/CSS: 29.93%\n",
      "SQL: 29.29%\n",
      "Java: 20.14%\n",
      "Python: 18.61%\n",
      "Developer, full-stack\n",
      "JavaScript: 40.93%\n",
      "HTML/CSS: 37.5%\n",
      "SQL: 31.14%\n",
      "Java: 19.35%\n",
      "Bash/Shell/PowerShell: 18.01%\n",
      "Academic researcher\n",
      "Python: 4.07%\n",
      "HTML/CSS: 3.73%\n",
      "JavaScript: 3.62%\n",
      "SQL: 3.17%\n",
      "Java: 2.82%\n",
      "Developer, mobile\n",
      "JavaScript: 11.2%\n",
      "HTML/CSS: 10.33%\n",
      "Java: 9.46%\n",
      "SQL: 8.48%\n",
      "C#: 5.68%\n",
      "Data or business analyst\n",
      "SQL: 5.23%\n",
      "HTML/CSS: 4.4%\n",
      "JavaScript: 4.34%\n",
      "Python: 3.67%\n",
      "Bash/Shell/PowerShell: 2.72%\n",
      "Data scientist or machine learning specialist\n",
      "Python: 5.77%\n",
      "SQL: 4.25%\n",
      "JavaScript: 3.73%\n",
      "HTML/CSS: 3.67%\n",
      "Bash/Shell/PowerShell: 3.23%\n",
      "Database administrator\n",
      "SQL: 8.75%\n",
      "JavaScript: 8.37%\n",
      "HTML/CSS: 8.16%\n",
      "Bash/Shell/PowerShell: 4.84%\n",
      "PHP: 4.73%\n",
      "Engineer, data\n",
      "SQL: 4.37%\n",
      "Python: 4.21%\n",
      "JavaScript: 3.94%\n",
      "HTML/CSS: 3.7%\n",
      "Bash/Shell/PowerShell: 3.18%\n",
      "Engineer, site reliability\n",
      "JavaScript: 2.31%\n",
      "Bash/Shell/PowerShell: 2.13%\n",
      "HTML/CSS: 2.08%\n",
      "SQL: 2.04%\n",
      "Python: 1.97%\n",
      "Developer, QA or test\n",
      "JavaScript: 5.25%\n",
      "HTML/CSS: 5.03%\n",
      "SQL: 4.64%\n",
      "Bash/Shell/PowerShell: 3.27%\n",
      "Java: 3.24%\n",
      "DevOps specialist\n",
      "JavaScript: 7.35%\n",
      "HTML/CSS: 6.65%\n",
      "SQL: 6.44%\n",
      "Bash/Shell/PowerShell: 6.38%\n",
      "Python: 5.23%\n",
      "Developer, game or graphics\n",
      "JavaScript: 3.45%\n",
      "HTML/CSS: 3.31%\n",
      "C#: 2.71%\n",
      "SQL: 2.44%\n",
      "C++: 2.39%\n",
      "Educator\n",
      "JavaScript: 3.55%\n",
      "HTML/CSS: 3.55%\n",
      "SQL: 2.88%\n",
      "Python: 2.38%\n",
      "Java: 2.24%\n",
      "Student\n",
      "HTML/CSS: 9.14%\n",
      "JavaScript: 8.52%\n",
      "Java: 7.29%\n",
      "Python: 7.29%\n",
      "SQL: 6.95%\n",
      "Engineering manager\n",
      "JavaScript: 3.42%\n",
      "HTML/CSS: 3.07%\n",
      "SQL: 2.86%\n",
      "Bash/Shell/PowerShell: 2.32%\n",
      "Python: 2.22%\n",
      "Senior executive/VP\n",
      "JavaScript: 1.8%\n",
      "HTML/CSS: 1.7%\n",
      "SQL: 1.52%\n",
      "Bash/Shell/PowerShell: 1.11%\n",
      "Python: 1.1%\n",
      "System administrator\n",
      "JavaScript: 7.38%\n",
      "HTML/CSS: 7.29%\n",
      "SQL: 6.82%\n",
      "Bash/Shell/PowerShell: 5.87%\n",
      "Python: 5.16%\n",
      "Developer, embedded applications or devices\n",
      "JavaScript: 4.96%\n",
      "HTML/CSS: 4.71%\n",
      "C++: 4.17%\n",
      "SQL: 4.16%\n",
      "Python: 4.15%\n",
      "Product manager\n",
      "JavaScript: 3.4%\n",
      "HTML/CSS: 3.26%\n",
      "SQL: 2.88%\n",
      "Python: 1.8%\n",
      "Bash/Shell/PowerShell: 1.77%\n",
      "Scientist\n",
      "Python: 2.83%\n",
      "HTML/CSS: 2.08%\n",
      "JavaScript: 1.98%\n",
      "Bash/Shell/PowerShell: 1.95%\n",
      "SQL: 1.8%\n",
      "Marketing or sales professional\n",
      "HTML/CSS: 0.84%\n",
      "JavaScript: 0.79%\n",
      "SQL: 0.65%\n",
      "PHP: 0.48%\n",
      "Python: 0.42%\n"
     ]
    }
   ],
   "source": [
    "#Retrieve the most common languages based on each developer type: \n",
    "\n",
    "with open ('data/survey_results_public.csv') as f:\n",
    "    csv_reader = csv.DictReader(f)\n",
    "    \n",
    "    dev_type_info = {}\n",
    "    \n",
    "    for line in csv_reader:\n",
    "        dev_types = line['DevType'].split(';')\n",
    "        \n",
    "        for dev_type in dev_types:\n",
    "            dev_type_info.setdefault(dev_type, {\n",
    "                'total':0,\n",
    "                'language_counter': Counter()\n",
    "            })\n",
    "            \n",
    "            languages = line['LanguageWorkedWith'].split(';')\n",
    "            dev_type_info[dev_type]['language_counter'].update(languages)\n",
    "            dev_type_info[dev_type]['total'] += 1\n",
    "            \n",
    "for dev_type, info in dev_type_info.items():\n",
    "    print(dev_type)\n",
    "\n",
    "    for language, value in info['language_counter'].most_common(5):\n",
    "        language_pct = (value / total) * 100\n",
    "        language_pct = round(language_pct, 2)\n",
    "        \n",
    "        print(f'{language}: {language_pct}%')"
   ]
  }
 ],
 "metadata": {
  "kernelspec": {
   "display_name": "Python 3",
   "language": "python",
   "name": "python3"
  },
  "language_info": {
   "codemirror_mode": {
    "name": "ipython",
    "version": 3
   },
   "file_extension": ".py",
   "mimetype": "text/x-python",
   "name": "python",
   "nbconvert_exporter": "python",
   "pygments_lexer": "ipython3",
   "version": "3.8.5"
  }
 },
 "nbformat": 4,
 "nbformat_minor": 4
}
