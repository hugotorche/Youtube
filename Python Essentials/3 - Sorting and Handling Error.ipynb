{
 "cells": [
  {
   "cell_type": "markdown",
   "metadata": {},
   "source": [
    "<h3> Python Tutorial: Sorting Lists, Tuples, and Objects (15min from the Corey Schafer channel)</h3>"
   ]
  },
  {
   "cell_type": "markdown",
   "metadata": {},
   "source": [
    "Final code:"
   ]
  },
  {
   "cell_type": "code",
   "execution_count": 1,
   "metadata": {},
   "outputs": [
    {
     "name": "stdout",
     "output_type": "stream",
     "text": [
      "Sorted Variable:\t [9, 8, 7, 6, 5, 4, 3, 2, 1]\n",
      "Original Variable:\t [9, 1, 8, 2, 7, 3, 6, 4, 5]\n",
      "Sorted Variable:\t [9, 8, 7, 6, 5, 4, 3, 2, 1]\n",
      "Tuple:\t [1, 2, 3, 4, 5, 6, 7, 8, 9]\n",
      "Dict:\t ['age', 'job', 'name', 'os']\n",
      "Sorted Variable:\t [1, 2, 3, -4, -5, -6]\n",
      "[(John,43,$90000), (Sarah,29,$80000), (Carl,37,$70000)]\n"
     ]
    }
   ],
   "source": [
    "# Lists\n",
    "li = [9, 1, 8, 2, 7, 3, 6, 4, 5]\n",
    "\n",
    "s_li = sorted(li, reverse=True)\n",
    "print('Sorted Variable:\\t', s_li)\n",
    "print('Original Variable:\\t', li)\n",
    "\n",
    "li.sort(reverse=True)  # only works for lists\n",
    "print('Sorted Variable:\\t', li)\n",
    "\n",
    "# Tuples\n",
    "tup = (9, 1, 8, 2, 7, 3, 6, 4, 5)\n",
    "s_tup = sorted(tup)\n",
    "print('Tuple:\\t', s_tup)\n",
    "\n",
    "# Dictionnaries\n",
    "di = {'name': 'Corey', 'job': 'programming', 'age': None, 'os': 'Mac'}\n",
    "s_di = sorted(di)\n",
    "print('Dict:\\t', s_di)\n",
    "\n",
    "# Negative values\n",
    "li = [-6, -5, -4, 1, 2, 3]\n",
    "s_li = sorted(li, key=abs)\n",
    "print('Sorted Variable:\\t', s_li)\n",
    "\n",
    "# Class\n",
    "\n",
    "\n",
    "class Employee():\n",
    "    def __init__(self, name, age, salary):\n",
    "        self.name = name\n",
    "        self.age = age\n",
    "        self.salary = salary\n",
    "\n",
    "    def __repr__(self):\n",
    "        return'({},{},${})'.format(self.name, self.age, self.salary)\n",
    "\n",
    "\n",
    "e1 = Employee('Carl', 37, 70000)\n",
    "e2 = Employee('Sarah', 29, 80000)\n",
    "e3 = Employee('John', 43, 90000)\n",
    "\n",
    "employees = [e1, e2, e3]\n",
    "\n",
    "\n",
    "# def e_sort(emp):\n",
    "#     return emp.salary\n",
    "\n",
    "\n",
    "s_employees = sorted(employees, key=lambda e: e.salary, reverse=True)\n",
    "\n",
    "print(s_employees)"
   ]
  },
  {
   "cell_type": "markdown",
   "metadata": {},
   "source": [
    "<h3> Python Tutorial: Using Try/Except Blocks for Error Handling (10min from the Corey Schafer channel)</h3>"
   ]
  },
  {
   "cell_type": "markdown",
   "metadata": {},
   "source": [
    "Final code:"
   ]
  },
  {
   "cell_type": "code",
   "execution_count": 5,
   "metadata": {},
   "outputs": [
    {
     "name": "stdout",
     "output_type": "stream",
     "text": [
      "Error!\n",
      "Executing Finally...\n"
     ]
    }
   ],
   "source": [
    "try:\n",
    "    f = open('test1.txt')\n",
    "    if f.name == 'test1.txt':\n",
    "        raise Exception\n",
    "except FileNotFoundError as f:\n",
    "    print(f)\n",
    "# put the general exception at the bottom\n",
    "except Exception as e:\n",
    "    print(\"Error!\")\n",
    "else:\n",
    "    print(f.read())\n",
    "    f.close()\n",
    "finally:\n",
    "    print(\"Executing Finally...\")"
   ]
  }
 ],
 "metadata": {
  "kernelspec": {
   "display_name": "Python 3",
   "language": "python",
   "name": "python3"
  },
  "language_info": {
   "codemirror_mode": {
    "name": "ipython",
    "version": 3
   },
   "file_extension": ".py",
   "mimetype": "text/x-python",
   "name": "python",
   "nbconvert_exporter": "python",
   "pygments_lexer": "ipython3",
   "version": "3.8.5"
  }
 },
 "nbformat": 4,
 "nbformat_minor": 4
}
